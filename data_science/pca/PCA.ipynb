{
  "nbformat": 4,
  "nbformat_minor": 0,
  "metadata": {
    "kernelspec": {
      "display_name": "Python 3",
      "language": "python",
      "name": "python3"
    },
    "language_info": {
      "codemirror_mode": {
        "name": "ipython",
        "version": 3
      },
      "file_extension": ".py",
      "mimetype": "text/x-python",
      "name": "python",
      "nbconvert_exporter": "python",
      "pygments_lexer": "ipython3",
      "version": "3.6.3"
    },
    "colab": {
      "name": "PCA.ipynb",
      "provenance": []
    }
  },
  "cells": [
    {
      "cell_type": "code",
      "metadata": {
        "collapsed": true,
        "id": "knIxYQGZEDCC"
      },
      "source": [
        "import pandas as pd"
      ],
      "execution_count": 82,
      "outputs": []
    },
    {
      "cell_type": "markdown",
      "metadata": {
        "id": "4wuj13f1EDCF"
      },
      "source": [
        "# 1. Data Example"
      ]
    },
    {
      "cell_type": "code",
      "metadata": {
        "collapsed": true,
        "id": "2yHS8RdDEDCJ"
      },
      "source": [
        "df = data = pd.read_csv(\"/content/EEG_HMC.csv\")"
      ],
      "execution_count": 87,
      "outputs": []
    },
    {
      "cell_type": "code",
      "metadata": {
        "colab": {
          "base_uri": "https://localhost:8080/"
        },
        "id": "6XGgT4pMEDCM",
        "outputId": "9141b564-afee-4116-dd7a-1b4968702dd7"
      },
      "source": [
        "df.head(10)\n",
        "df.shape"
      ],
      "execution_count": 88,
      "outputs": [
        {
          "output_type": "execute_result",
          "data": {
            "text/plain": [
              "(43191, 76)"
            ]
          },
          "metadata": {},
          "execution_count": 88
        }
      ]
    },
    {
      "cell_type": "markdown",
      "metadata": {
        "id": "kOYXmr10EDCO"
      },
      "source": [
        "# 2. Split feature vectors and labels"
      ]
    },
    {
      "cell_type": "code",
      "metadata": {
        "id": "NRLv1TX3EDCP"
      },
      "source": [
        "# X is feature vectors\n",
        "X = df.iloc[:,1:76]"
      ],
      "execution_count": 89,
      "outputs": []
    },
    {
      "cell_type": "code",
      "metadata": {
        "colab": {
          "base_uri": "https://localhost:8080/",
          "height": 361
        },
        "id": "8sWd-HZPEDCQ",
        "outputId": "c768dfc6-73d0-4d19-f1cd-8b027c60df9a"
      },
      "source": [
        "X.head(9)"
      ],
      "execution_count": 90,
      "outputs": [
        {
          "output_type": "execute_result",
          "data": {
            "text/html": [
              "<div>\n",
              "<style scoped>\n",
              "    .dataframe tbody tr th:only-of-type {\n",
              "        vertical-align: middle;\n",
              "    }\n",
              "\n",
              "    .dataframe tbody tr th {\n",
              "        vertical-align: top;\n",
              "    }\n",
              "\n",
              "    .dataframe thead th {\n",
              "        text-align: right;\n",
              "    }\n",
              "</style>\n",
              "<table border=\"1\" class=\"dataframe\">\n",
              "  <thead>\n",
              "    <tr style=\"text-align: right;\">\n",
              "      <th></th>\n",
              "      <th>MeanP_Alpha_F4</th>\n",
              "      <th>MedianF_Alpha_F4</th>\n",
              "      <th>MeanF_Alpha_F4</th>\n",
              "      <th>Spectral Edge_Alpha_F4</th>\n",
              "      <th>PeakF_Alpha_F4</th>\n",
              "      <th>MeanP_Beta_F4</th>\n",
              "      <th>MedianF_Beta_F4</th>\n",
              "      <th>MeanF_Beta_F4</th>\n",
              "      <th>Spectral Edge_Beta_F4</th>\n",
              "      <th>PeakF_Beta_F4</th>\n",
              "      <th>MeanP_Theta_F4</th>\n",
              "      <th>MedianF_Theta_F4</th>\n",
              "      <th>MeanF_Theta_F4</th>\n",
              "      <th>Spectral Edge_Theta_F4</th>\n",
              "      <th>PeakF_Theta_F4</th>\n",
              "      <th>MeanP_Delta_F4</th>\n",
              "      <th>MedianF_Delta_F4</th>\n",
              "      <th>MeanF_Delta_F4</th>\n",
              "      <th>Spectral Edge_Delta_F4</th>\n",
              "      <th>PeakF_Delta_F4</th>\n",
              "      <th>MeanP_Gamma_F4</th>\n",
              "      <th>MedianF_Gamma_F4</th>\n",
              "      <th>MeanF_Gamma_F4</th>\n",
              "      <th>Spectral Edge_Gamma_F4</th>\n",
              "      <th>PeakF_Gamma_F4</th>\n",
              "      <th>MeanP_Alpha_C4</th>\n",
              "      <th>MedianF_Alpha_C4</th>\n",
              "      <th>MeanF_Alpha_C4</th>\n",
              "      <th>Spectral Edge_Alpha_C4</th>\n",
              "      <th>PeakF_Alpha_C4</th>\n",
              "      <th>MeanP_Beta_C4</th>\n",
              "      <th>MedianF_Beta_C4</th>\n",
              "      <th>MeanF_Beta_C4</th>\n",
              "      <th>Spectral Edge_Beta_C4</th>\n",
              "      <th>PeakF_Beta_C4</th>\n",
              "      <th>MeanP_Theta_C4</th>\n",
              "      <th>MedianF_Theta_C4</th>\n",
              "      <th>MeanF_Theta_C4</th>\n",
              "      <th>Spectral Edge_Theta_C4</th>\n",
              "      <th>PeakF_Theta_C4</th>\n",
              "      <th>MeanP_Delta_C4</th>\n",
              "      <th>MedianF_Delta_C4</th>\n",
              "      <th>MeanF_Delta_C4</th>\n",
              "      <th>Spectral Edge_Delta_C4</th>\n",
              "      <th>PeakF_Delta_C4</th>\n",
              "      <th>MeanP_Gamma_C4</th>\n",
              "      <th>MedianF_Gamma_C4</th>\n",
              "      <th>MeanF_Gamma_C4</th>\n",
              "      <th>Spectral Edge_Gamma_C4</th>\n",
              "      <th>PeakF_Gamma_C4</th>\n",
              "      <th>MeanP_Alpha_O2</th>\n",
              "      <th>MedianF_Alpha_O2</th>\n",
              "      <th>MeanF_Alpha_O2</th>\n",
              "      <th>Spectral Edge_Alpha_O2</th>\n",
              "      <th>PeakF_Alpha_O2</th>\n",
              "      <th>MeanP_Beta_O2</th>\n",
              "      <th>MedianF_Beta_O2</th>\n",
              "      <th>MeanF_Beta_O2</th>\n",
              "      <th>Spectral Edge_Beta_O2</th>\n",
              "      <th>PeakF_Beta_O2</th>\n",
              "      <th>MeanP_Theta_O2</th>\n",
              "      <th>MedianF_Theta_O2</th>\n",
              "      <th>MeanF_Theta_O2</th>\n",
              "      <th>Spectral Edge_Theta_O2</th>\n",
              "      <th>PeakF_Theta_O2</th>\n",
              "      <th>MeanP_Delta_O2</th>\n",
              "      <th>MedianF_Delta_O2</th>\n",
              "      <th>MeanF_Delta_O2</th>\n",
              "      <th>Spectral Edge_Delta_O2</th>\n",
              "      <th>PeakF_Delta_O2</th>\n",
              "      <th>MeanP_Gamma_O2</th>\n",
              "      <th>MedianF_Gamma_O2</th>\n",
              "      <th>MeanF_Gamma_O2</th>\n",
              "      <th>Spectral Edge_Gamma_O2</th>\n",
              "      <th>PeakF_Gamma_O2</th>\n",
              "    </tr>\n",
              "  </thead>\n",
              "  <tbody>\n",
              "    <tr>\n",
              "      <th>0</th>\n",
              "      <td>0</td>\n",
              "      <td>9</td>\n",
              "      <td>18</td>\n",
              "      <td>17</td>\n",
              "      <td>8</td>\n",
              "      <td>0</td>\n",
              "      <td>20</td>\n",
              "      <td>30</td>\n",
              "      <td>34</td>\n",
              "      <td>16</td>\n",
              "      <td>0</td>\n",
              "      <td>4</td>\n",
              "      <td>10</td>\n",
              "      <td>8</td>\n",
              "      <td>3</td>\n",
              "      <td>0</td>\n",
              "      <td>1</td>\n",
              "      <td>5</td>\n",
              "      <td>3</td>\n",
              "      <td>1</td>\n",
              "      <td>0</td>\n",
              "      <td>36</td>\n",
              "      <td>43</td>\n",
              "      <td>50</td>\n",
              "      <td>50</td>\n",
              "      <td>0</td>\n",
              "      <td>10</td>\n",
              "      <td>19</td>\n",
              "      <td>18</td>\n",
              "      <td>10</td>\n",
              "      <td>0</td>\n",
              "      <td>20</td>\n",
              "      <td>29</td>\n",
              "      <td>33</td>\n",
              "      <td>17</td>\n",
              "      <td>0</td>\n",
              "      <td>5</td>\n",
              "      <td>12</td>\n",
              "      <td>10</td>\n",
              "      <td>4</td>\n",
              "      <td>0</td>\n",
              "      <td>1</td>\n",
              "      <td>5</td>\n",
              "      <td>3</td>\n",
              "      <td>1</td>\n",
              "      <td>0</td>\n",
              "      <td>35</td>\n",
              "      <td>42</td>\n",
              "      <td>50</td>\n",
              "      <td>50</td>\n",
              "      <td>0</td>\n",
              "      <td>11</td>\n",
              "      <td>21</td>\n",
              "      <td>20</td>\n",
              "      <td>10</td>\n",
              "      <td>0</td>\n",
              "      <td>21</td>\n",
              "      <td>30</td>\n",
              "      <td>34</td>\n",
              "      <td>21</td>\n",
              "      <td>0</td>\n",
              "      <td>4</td>\n",
              "      <td>13</td>\n",
              "      <td>11</td>\n",
              "      <td>2</td>\n",
              "      <td>0</td>\n",
              "      <td>1</td>\n",
              "      <td>4</td>\n",
              "      <td>2</td>\n",
              "      <td>1</td>\n",
              "      <td>0</td>\n",
              "      <td>35</td>\n",
              "      <td>42</td>\n",
              "      <td>50</td>\n",
              "      <td>50</td>\n",
              "    </tr>\n",
              "    <tr>\n",
              "      <th>1</th>\n",
              "      <td>0</td>\n",
              "      <td>10</td>\n",
              "      <td>17</td>\n",
              "      <td>17</td>\n",
              "      <td>11</td>\n",
              "      <td>0</td>\n",
              "      <td>17</td>\n",
              "      <td>26</td>\n",
              "      <td>29</td>\n",
              "      <td>20</td>\n",
              "      <td>0</td>\n",
              "      <td>4</td>\n",
              "      <td>12</td>\n",
              "      <td>10</td>\n",
              "      <td>3</td>\n",
              "      <td>0</td>\n",
              "      <td>1</td>\n",
              "      <td>4</td>\n",
              "      <td>3</td>\n",
              "      <td>1</td>\n",
              "      <td>0</td>\n",
              "      <td>35</td>\n",
              "      <td>47</td>\n",
              "      <td>50</td>\n",
              "      <td>50</td>\n",
              "      <td>0</td>\n",
              "      <td>10</td>\n",
              "      <td>18</td>\n",
              "      <td>17</td>\n",
              "      <td>10</td>\n",
              "      <td>0</td>\n",
              "      <td>17</td>\n",
              "      <td>26</td>\n",
              "      <td>28</td>\n",
              "      <td>17</td>\n",
              "      <td>0</td>\n",
              "      <td>6</td>\n",
              "      <td>13</td>\n",
              "      <td>11</td>\n",
              "      <td>4</td>\n",
              "      <td>0</td>\n",
              "      <td>1</td>\n",
              "      <td>6</td>\n",
              "      <td>3</td>\n",
              "      <td>1</td>\n",
              "      <td>0</td>\n",
              "      <td>31</td>\n",
              "      <td>41</td>\n",
              "      <td>50</td>\n",
              "      <td>50</td>\n",
              "      <td>0</td>\n",
              "      <td>11</td>\n",
              "      <td>18</td>\n",
              "      <td>18</td>\n",
              "      <td>11</td>\n",
              "      <td>0</td>\n",
              "      <td>18</td>\n",
              "      <td>27</td>\n",
              "      <td>31</td>\n",
              "      <td>19</td>\n",
              "      <td>0</td>\n",
              "      <td>6</td>\n",
              "      <td>14</td>\n",
              "      <td>11</td>\n",
              "      <td>3</td>\n",
              "      <td>0</td>\n",
              "      <td>0</td>\n",
              "      <td>4</td>\n",
              "      <td>1</td>\n",
              "      <td>0</td>\n",
              "      <td>0</td>\n",
              "      <td>34</td>\n",
              "      <td>43</td>\n",
              "      <td>50</td>\n",
              "      <td>50</td>\n",
              "    </tr>\n",
              "    <tr>\n",
              "      <th>2</th>\n",
              "      <td>0</td>\n",
              "      <td>10</td>\n",
              "      <td>18</td>\n",
              "      <td>17</td>\n",
              "      <td>9</td>\n",
              "      <td>0</td>\n",
              "      <td>18</td>\n",
              "      <td>25</td>\n",
              "      <td>28</td>\n",
              "      <td>19</td>\n",
              "      <td>0</td>\n",
              "      <td>5</td>\n",
              "      <td>12</td>\n",
              "      <td>9</td>\n",
              "      <td>3</td>\n",
              "      <td>0</td>\n",
              "      <td>1</td>\n",
              "      <td>4</td>\n",
              "      <td>2</td>\n",
              "      <td>1</td>\n",
              "      <td>0</td>\n",
              "      <td>34</td>\n",
              "      <td>49</td>\n",
              "      <td>50</td>\n",
              "      <td>50</td>\n",
              "      <td>0</td>\n",
              "      <td>10</td>\n",
              "      <td>18</td>\n",
              "      <td>18</td>\n",
              "      <td>9</td>\n",
              "      <td>0</td>\n",
              "      <td>18</td>\n",
              "      <td>25</td>\n",
              "      <td>27</td>\n",
              "      <td>14</td>\n",
              "      <td>0</td>\n",
              "      <td>6</td>\n",
              "      <td>13</td>\n",
              "      <td>10</td>\n",
              "      <td>3</td>\n",
              "      <td>0</td>\n",
              "      <td>1</td>\n",
              "      <td>6</td>\n",
              "      <td>3</td>\n",
              "      <td>0</td>\n",
              "      <td>0</td>\n",
              "      <td>30</td>\n",
              "      <td>41</td>\n",
              "      <td>50</td>\n",
              "      <td>50</td>\n",
              "      <td>0</td>\n",
              "      <td>11</td>\n",
              "      <td>18</td>\n",
              "      <td>18</td>\n",
              "      <td>11</td>\n",
              "      <td>0</td>\n",
              "      <td>18</td>\n",
              "      <td>25</td>\n",
              "      <td>28</td>\n",
              "      <td>21</td>\n",
              "      <td>0</td>\n",
              "      <td>6</td>\n",
              "      <td>13</td>\n",
              "      <td>11</td>\n",
              "      <td>5</td>\n",
              "      <td>0</td>\n",
              "      <td>1</td>\n",
              "      <td>5</td>\n",
              "      <td>2</td>\n",
              "      <td>1</td>\n",
              "      <td>0</td>\n",
              "      <td>35</td>\n",
              "      <td>46</td>\n",
              "      <td>50</td>\n",
              "      <td>50</td>\n",
              "    </tr>\n",
              "    <tr>\n",
              "      <th>3</th>\n",
              "      <td>0</td>\n",
              "      <td>10</td>\n",
              "      <td>18</td>\n",
              "      <td>17</td>\n",
              "      <td>10</td>\n",
              "      <td>0</td>\n",
              "      <td>17</td>\n",
              "      <td>26</td>\n",
              "      <td>29</td>\n",
              "      <td>16</td>\n",
              "      <td>0</td>\n",
              "      <td>6</td>\n",
              "      <td>13</td>\n",
              "      <td>10</td>\n",
              "      <td>2</td>\n",
              "      <td>0</td>\n",
              "      <td>1</td>\n",
              "      <td>6</td>\n",
              "      <td>3</td>\n",
              "      <td>1</td>\n",
              "      <td>0</td>\n",
              "      <td>33</td>\n",
              "      <td>46</td>\n",
              "      <td>50</td>\n",
              "      <td>50</td>\n",
              "      <td>0</td>\n",
              "      <td>10</td>\n",
              "      <td>18</td>\n",
              "      <td>18</td>\n",
              "      <td>10</td>\n",
              "      <td>0</td>\n",
              "      <td>19</td>\n",
              "      <td>26</td>\n",
              "      <td>28</td>\n",
              "      <td>16</td>\n",
              "      <td>0</td>\n",
              "      <td>6</td>\n",
              "      <td>13</td>\n",
              "      <td>10</td>\n",
              "      <td>6</td>\n",
              "      <td>0</td>\n",
              "      <td>1</td>\n",
              "      <td>6</td>\n",
              "      <td>3</td>\n",
              "      <td>1</td>\n",
              "      <td>0</td>\n",
              "      <td>28</td>\n",
              "      <td>39</td>\n",
              "      <td>50</td>\n",
              "      <td>50</td>\n",
              "      <td>0</td>\n",
              "      <td>10</td>\n",
              "      <td>18</td>\n",
              "      <td>18</td>\n",
              "      <td>10</td>\n",
              "      <td>0</td>\n",
              "      <td>18</td>\n",
              "      <td>27</td>\n",
              "      <td>29</td>\n",
              "      <td>16</td>\n",
              "      <td>0</td>\n",
              "      <td>6</td>\n",
              "      <td>13</td>\n",
              "      <td>11</td>\n",
              "      <td>4</td>\n",
              "      <td>0</td>\n",
              "      <td>1</td>\n",
              "      <td>7</td>\n",
              "      <td>3</td>\n",
              "      <td>1</td>\n",
              "      <td>0</td>\n",
              "      <td>32</td>\n",
              "      <td>44</td>\n",
              "      <td>50</td>\n",
              "      <td>50</td>\n",
              "    </tr>\n",
              "    <tr>\n",
              "      <th>4</th>\n",
              "      <td>0</td>\n",
              "      <td>10</td>\n",
              "      <td>18</td>\n",
              "      <td>17</td>\n",
              "      <td>8</td>\n",
              "      <td>0</td>\n",
              "      <td>17</td>\n",
              "      <td>26</td>\n",
              "      <td>28</td>\n",
              "      <td>18</td>\n",
              "      <td>0</td>\n",
              "      <td>5</td>\n",
              "      <td>12</td>\n",
              "      <td>9</td>\n",
              "      <td>3</td>\n",
              "      <td>0</td>\n",
              "      <td>1</td>\n",
              "      <td>5</td>\n",
              "      <td>3</td>\n",
              "      <td>0</td>\n",
              "      <td>0</td>\n",
              "      <td>34</td>\n",
              "      <td>50</td>\n",
              "      <td>50</td>\n",
              "      <td>50</td>\n",
              "      <td>0</td>\n",
              "      <td>10</td>\n",
              "      <td>18</td>\n",
              "      <td>17</td>\n",
              "      <td>10</td>\n",
              "      <td>0</td>\n",
              "      <td>17</td>\n",
              "      <td>26</td>\n",
              "      <td>28</td>\n",
              "      <td>18</td>\n",
              "      <td>0</td>\n",
              "      <td>6</td>\n",
              "      <td>13</td>\n",
              "      <td>10</td>\n",
              "      <td>6</td>\n",
              "      <td>0</td>\n",
              "      <td>1</td>\n",
              "      <td>6</td>\n",
              "      <td>3</td>\n",
              "      <td>1</td>\n",
              "      <td>0</td>\n",
              "      <td>30</td>\n",
              "      <td>40</td>\n",
              "      <td>50</td>\n",
              "      <td>50</td>\n",
              "      <td>0</td>\n",
              "      <td>10</td>\n",
              "      <td>18</td>\n",
              "      <td>18</td>\n",
              "      <td>10</td>\n",
              "      <td>0</td>\n",
              "      <td>18</td>\n",
              "      <td>26</td>\n",
              "      <td>29</td>\n",
              "      <td>20</td>\n",
              "      <td>0</td>\n",
              "      <td>6</td>\n",
              "      <td>13</td>\n",
              "      <td>11</td>\n",
              "      <td>3</td>\n",
              "      <td>0</td>\n",
              "      <td>0</td>\n",
              "      <td>6</td>\n",
              "      <td>2</td>\n",
              "      <td>0</td>\n",
              "      <td>0</td>\n",
              "      <td>34</td>\n",
              "      <td>45</td>\n",
              "      <td>50</td>\n",
              "      <td>50</td>\n",
              "    </tr>\n",
              "    <tr>\n",
              "      <th>5</th>\n",
              "      <td>0</td>\n",
              "      <td>10</td>\n",
              "      <td>17</td>\n",
              "      <td>16</td>\n",
              "      <td>10</td>\n",
              "      <td>0</td>\n",
              "      <td>16</td>\n",
              "      <td>25</td>\n",
              "      <td>27</td>\n",
              "      <td>14</td>\n",
              "      <td>0</td>\n",
              "      <td>6</td>\n",
              "      <td>13</td>\n",
              "      <td>11</td>\n",
              "      <td>5</td>\n",
              "      <td>0</td>\n",
              "      <td>0</td>\n",
              "      <td>7</td>\n",
              "      <td>3</td>\n",
              "      <td>0</td>\n",
              "      <td>0</td>\n",
              "      <td>33</td>\n",
              "      <td>50</td>\n",
              "      <td>50</td>\n",
              "      <td>50</td>\n",
              "      <td>0</td>\n",
              "      <td>10</td>\n",
              "      <td>17</td>\n",
              "      <td>17</td>\n",
              "      <td>10</td>\n",
              "      <td>0</td>\n",
              "      <td>17</td>\n",
              "      <td>26</td>\n",
              "      <td>27</td>\n",
              "      <td>14</td>\n",
              "      <td>0</td>\n",
              "      <td>6</td>\n",
              "      <td>13</td>\n",
              "      <td>11</td>\n",
              "      <td>6</td>\n",
              "      <td>0</td>\n",
              "      <td>1</td>\n",
              "      <td>7</td>\n",
              "      <td>4</td>\n",
              "      <td>1</td>\n",
              "      <td>0</td>\n",
              "      <td>28</td>\n",
              "      <td>39</td>\n",
              "      <td>50</td>\n",
              "      <td>50</td>\n",
              "      <td>0</td>\n",
              "      <td>10</td>\n",
              "      <td>17</td>\n",
              "      <td>17</td>\n",
              "      <td>10</td>\n",
              "      <td>0</td>\n",
              "      <td>17</td>\n",
              "      <td>25</td>\n",
              "      <td>27</td>\n",
              "      <td>21</td>\n",
              "      <td>0</td>\n",
              "      <td>7</td>\n",
              "      <td>13</td>\n",
              "      <td>11</td>\n",
              "      <td>5</td>\n",
              "      <td>0</td>\n",
              "      <td>1</td>\n",
              "      <td>8</td>\n",
              "      <td>3</td>\n",
              "      <td>1</td>\n",
              "      <td>0</td>\n",
              "      <td>33</td>\n",
              "      <td>46</td>\n",
              "      <td>50</td>\n",
              "      <td>50</td>\n",
              "    </tr>\n",
              "    <tr>\n",
              "      <th>6</th>\n",
              "      <td>0</td>\n",
              "      <td>10</td>\n",
              "      <td>18</td>\n",
              "      <td>17</td>\n",
              "      <td>10</td>\n",
              "      <td>0</td>\n",
              "      <td>18</td>\n",
              "      <td>25</td>\n",
              "      <td>27</td>\n",
              "      <td>14</td>\n",
              "      <td>0</td>\n",
              "      <td>6</td>\n",
              "      <td>13</td>\n",
              "      <td>11</td>\n",
              "      <td>6</td>\n",
              "      <td>0</td>\n",
              "      <td>1</td>\n",
              "      <td>7</td>\n",
              "      <td>3</td>\n",
              "      <td>1</td>\n",
              "      <td>0</td>\n",
              "      <td>33</td>\n",
              "      <td>48</td>\n",
              "      <td>50</td>\n",
              "      <td>50</td>\n",
              "      <td>0</td>\n",
              "      <td>10</td>\n",
              "      <td>18</td>\n",
              "      <td>18</td>\n",
              "      <td>6</td>\n",
              "      <td>0</td>\n",
              "      <td>19</td>\n",
              "      <td>26</td>\n",
              "      <td>27</td>\n",
              "      <td>23</td>\n",
              "      <td>0</td>\n",
              "      <td>6</td>\n",
              "      <td>12</td>\n",
              "      <td>10</td>\n",
              "      <td>6</td>\n",
              "      <td>0</td>\n",
              "      <td>1</td>\n",
              "      <td>7</td>\n",
              "      <td>3</td>\n",
              "      <td>1</td>\n",
              "      <td>0</td>\n",
              "      <td>27</td>\n",
              "      <td>37</td>\n",
              "      <td>50</td>\n",
              "      <td>50</td>\n",
              "      <td>0</td>\n",
              "      <td>11</td>\n",
              "      <td>18</td>\n",
              "      <td>18</td>\n",
              "      <td>11</td>\n",
              "      <td>0</td>\n",
              "      <td>18</td>\n",
              "      <td>26</td>\n",
              "      <td>28</td>\n",
              "      <td>18</td>\n",
              "      <td>0</td>\n",
              "      <td>6</td>\n",
              "      <td>13</td>\n",
              "      <td>11</td>\n",
              "      <td>6</td>\n",
              "      <td>0</td>\n",
              "      <td>1</td>\n",
              "      <td>6</td>\n",
              "      <td>3</td>\n",
              "      <td>1</td>\n",
              "      <td>0</td>\n",
              "      <td>33</td>\n",
              "      <td>44</td>\n",
              "      <td>50</td>\n",
              "      <td>50</td>\n",
              "    </tr>\n",
              "    <tr>\n",
              "      <th>7</th>\n",
              "      <td>0</td>\n",
              "      <td>11</td>\n",
              "      <td>18</td>\n",
              "      <td>17</td>\n",
              "      <td>9</td>\n",
              "      <td>0</td>\n",
              "      <td>17</td>\n",
              "      <td>25</td>\n",
              "      <td>27</td>\n",
              "      <td>17</td>\n",
              "      <td>0</td>\n",
              "      <td>6</td>\n",
              "      <td>13</td>\n",
              "      <td>11</td>\n",
              "      <td>4</td>\n",
              "      <td>0</td>\n",
              "      <td>1</td>\n",
              "      <td>7</td>\n",
              "      <td>3</td>\n",
              "      <td>1</td>\n",
              "      <td>0</td>\n",
              "      <td>32</td>\n",
              "      <td>47</td>\n",
              "      <td>50</td>\n",
              "      <td>50</td>\n",
              "      <td>0</td>\n",
              "      <td>10</td>\n",
              "      <td>20</td>\n",
              "      <td>19</td>\n",
              "      <td>6</td>\n",
              "      <td>0</td>\n",
              "      <td>19</td>\n",
              "      <td>26</td>\n",
              "      <td>27</td>\n",
              "      <td>20</td>\n",
              "      <td>0</td>\n",
              "      <td>6</td>\n",
              "      <td>13</td>\n",
              "      <td>10</td>\n",
              "      <td>5</td>\n",
              "      <td>0</td>\n",
              "      <td>1</td>\n",
              "      <td>7</td>\n",
              "      <td>4</td>\n",
              "      <td>1</td>\n",
              "      <td>0</td>\n",
              "      <td>27</td>\n",
              "      <td>35</td>\n",
              "      <td>48</td>\n",
              "      <td>50</td>\n",
              "      <td>0</td>\n",
              "      <td>10</td>\n",
              "      <td>18</td>\n",
              "      <td>17</td>\n",
              "      <td>10</td>\n",
              "      <td>0</td>\n",
              "      <td>18</td>\n",
              "      <td>26</td>\n",
              "      <td>29</td>\n",
              "      <td>13</td>\n",
              "      <td>0</td>\n",
              "      <td>6</td>\n",
              "      <td>13</td>\n",
              "      <td>11</td>\n",
              "      <td>6</td>\n",
              "      <td>0</td>\n",
              "      <td>1</td>\n",
              "      <td>7</td>\n",
              "      <td>4</td>\n",
              "      <td>1</td>\n",
              "      <td>0</td>\n",
              "      <td>32</td>\n",
              "      <td>44</td>\n",
              "      <td>50</td>\n",
              "      <td>50</td>\n",
              "    </tr>\n",
              "    <tr>\n",
              "      <th>8</th>\n",
              "      <td>0</td>\n",
              "      <td>9</td>\n",
              "      <td>18</td>\n",
              "      <td>17</td>\n",
              "      <td>9</td>\n",
              "      <td>0</td>\n",
              "      <td>17</td>\n",
              "      <td>26</td>\n",
              "      <td>28</td>\n",
              "      <td>15</td>\n",
              "      <td>0</td>\n",
              "      <td>5</td>\n",
              "      <td>11</td>\n",
              "      <td>10</td>\n",
              "      <td>5</td>\n",
              "      <td>0</td>\n",
              "      <td>1</td>\n",
              "      <td>7</td>\n",
              "      <td>4</td>\n",
              "      <td>0</td>\n",
              "      <td>0</td>\n",
              "      <td>33</td>\n",
              "      <td>48</td>\n",
              "      <td>50</td>\n",
              "      <td>50</td>\n",
              "      <td>0</td>\n",
              "      <td>9</td>\n",
              "      <td>17</td>\n",
              "      <td>17</td>\n",
              "      <td>6</td>\n",
              "      <td>0</td>\n",
              "      <td>17</td>\n",
              "      <td>26</td>\n",
              "      <td>28</td>\n",
              "      <td>15</td>\n",
              "      <td>0</td>\n",
              "      <td>5</td>\n",
              "      <td>11</td>\n",
              "      <td>9</td>\n",
              "      <td>6</td>\n",
              "      <td>0</td>\n",
              "      <td>2</td>\n",
              "      <td>6</td>\n",
              "      <td>4</td>\n",
              "      <td>1</td>\n",
              "      <td>0</td>\n",
              "      <td>29</td>\n",
              "      <td>39</td>\n",
              "      <td>50</td>\n",
              "      <td>50</td>\n",
              "      <td>0</td>\n",
              "      <td>10</td>\n",
              "      <td>17</td>\n",
              "      <td>17</td>\n",
              "      <td>10</td>\n",
              "      <td>0</td>\n",
              "      <td>17</td>\n",
              "      <td>26</td>\n",
              "      <td>29</td>\n",
              "      <td>17</td>\n",
              "      <td>0</td>\n",
              "      <td>5</td>\n",
              "      <td>12</td>\n",
              "      <td>10</td>\n",
              "      <td>6</td>\n",
              "      <td>0</td>\n",
              "      <td>1</td>\n",
              "      <td>6</td>\n",
              "      <td>4</td>\n",
              "      <td>1</td>\n",
              "      <td>0</td>\n",
              "      <td>33</td>\n",
              "      <td>44</td>\n",
              "      <td>50</td>\n",
              "      <td>50</td>\n",
              "    </tr>\n",
              "  </tbody>\n",
              "</table>\n",
              "</div>"
            ],
            "text/plain": [
              "   MeanP_Alpha_F4  MedianF_Alpha_F4  ...  Spectral Edge_Gamma_O2  PeakF_Gamma_O2\n",
              "0               0                 9  ...                      50              50\n",
              "1               0                10  ...                      50              50\n",
              "2               0                10  ...                      50              50\n",
              "3               0                10  ...                      50              50\n",
              "4               0                10  ...                      50              50\n",
              "5               0                10  ...                      50              50\n",
              "6               0                10  ...                      50              50\n",
              "7               0                11  ...                      50              50\n",
              "8               0                 9  ...                      50              50\n",
              "\n",
              "[9 rows x 75 columns]"
            ]
          },
          "metadata": {},
          "execution_count": 90
        }
      ]
    },
    {
      "cell_type": "code",
      "metadata": {
        "id": "lsDr12pHEDCS"
      },
      "source": [
        "Y = df[['Sleep_Stage']]"
      ],
      "execution_count": 64,
      "outputs": []
    },
    {
      "cell_type": "code",
      "metadata": {
        "colab": {
          "base_uri": "https://localhost:8080/",
          "height": 355
        },
        "id": "Hi6XuhFBEDCT",
        "outputId": "778d8353-c220-4ebf-9225-274f31688fa9"
      },
      "source": [
        "Y.head(10)"
      ],
      "execution_count": 65,
      "outputs": [
        {
          "output_type": "execute_result",
          "data": {
            "text/html": [
              "<div>\n",
              "<style scoped>\n",
              "    .dataframe tbody tr th:only-of-type {\n",
              "        vertical-align: middle;\n",
              "    }\n",
              "\n",
              "    .dataframe tbody tr th {\n",
              "        vertical-align: top;\n",
              "    }\n",
              "\n",
              "    .dataframe thead th {\n",
              "        text-align: right;\n",
              "    }\n",
              "</style>\n",
              "<table border=\"1\" class=\"dataframe\">\n",
              "  <thead>\n",
              "    <tr style=\"text-align: right;\">\n",
              "      <th></th>\n",
              "      <th>Sleep_Stage</th>\n",
              "    </tr>\n",
              "  </thead>\n",
              "  <tbody>\n",
              "    <tr>\n",
              "      <th>0</th>\n",
              "      <td>W</td>\n",
              "    </tr>\n",
              "    <tr>\n",
              "      <th>1</th>\n",
              "      <td>W</td>\n",
              "    </tr>\n",
              "    <tr>\n",
              "      <th>2</th>\n",
              "      <td>W</td>\n",
              "    </tr>\n",
              "    <tr>\n",
              "      <th>3</th>\n",
              "      <td>W</td>\n",
              "    </tr>\n",
              "    <tr>\n",
              "      <th>4</th>\n",
              "      <td>W</td>\n",
              "    </tr>\n",
              "    <tr>\n",
              "      <th>5</th>\n",
              "      <td>W</td>\n",
              "    </tr>\n",
              "    <tr>\n",
              "      <th>6</th>\n",
              "      <td>N1</td>\n",
              "    </tr>\n",
              "    <tr>\n",
              "      <th>7</th>\n",
              "      <td>N1</td>\n",
              "    </tr>\n",
              "    <tr>\n",
              "      <th>8</th>\n",
              "      <td>N1</td>\n",
              "    </tr>\n",
              "    <tr>\n",
              "      <th>9</th>\n",
              "      <td>N2</td>\n",
              "    </tr>\n",
              "  </tbody>\n",
              "</table>\n",
              "</div>"
            ],
            "text/plain": [
              "  Sleep_Stage\n",
              "0           W\n",
              "1           W\n",
              "2           W\n",
              "3           W\n",
              "4           W\n",
              "5           W\n",
              "6          N1\n",
              "7          N1\n",
              "8          N1\n",
              "9          N2"
            ]
          },
          "metadata": {},
          "execution_count": 65
        }
      ]
    },
    {
      "cell_type": "markdown",
      "metadata": {
        "id": "-iauxtmPEDCT"
      },
      "source": [
        "# 3. rescaling feature vectors to all have the same scale"
      ]
    },
    {
      "cell_type": "code",
      "metadata": {
        "id": "wKA63vC3EDCU"
      },
      "source": [
        "from sklearn.preprocessing import StandardScaler\n",
        "x_std = StandardScaler().fit_transform(X)"
      ],
      "execution_count": 66,
      "outputs": []
    },
    {
      "cell_type": "code",
      "metadata": {
        "colab": {
          "base_uri": "https://localhost:8080/"
        },
        "id": "8QTSOXxLEDCV",
        "outputId": "8905c803-ec96-445a-f690-6ba15de9cb65"
      },
      "source": [
        "x_std"
      ],
      "execution_count": 67,
      "outputs": [
        {
          "output_type": "execute_result",
          "data": {
            "text/plain": [
              "array([[-0.02205559,  0.01652366,  0.53637523, ..., -0.2743898 ,\n",
              "        -0.06933917,  0.40624889],\n",
              "       [-0.02205559,  0.42387152,  0.31715249, ..., -0.19137574,\n",
              "        -0.06933917,  0.40624889],\n",
              "       [-0.02205559,  0.42387152,  0.53637523, ...,  0.05766643,\n",
              "        -0.06933917,  0.40624889],\n",
              "       ...,\n",
              "       [-0.02205559, -0.3908242 , -0.77896123, ..., -0.93850225,\n",
              "        -1.20647172, -1.79839814],\n",
              "       [-0.02205559, -0.3908242 , -0.77896123, ..., -0.85548819,\n",
              "        -0.92218859, -2.10459912],\n",
              "       [-0.02205559, -0.3908242 , -0.77896123, ..., -0.77247413,\n",
              "        -0.82742754, -1.79839814]])"
            ]
          },
          "metadata": {},
          "execution_count": 67
        }
      ]
    },
    {
      "cell_type": "markdown",
      "metadata": {
        "id": "N3kRchR2EDCW"
      },
      "source": [
        "# 4. Covariance Matrix of features"
      ]
    },
    {
      "cell_type": "code",
      "metadata": {
        "collapsed": true,
        "id": "4zBXn8CXEDCW"
      },
      "source": [
        "import numpy as np"
      ],
      "execution_count": 68,
      "outputs": []
    },
    {
      "cell_type": "code",
      "metadata": {
        "colab": {
          "base_uri": "https://localhost:8080/"
        },
        "id": "V_tiNb8kEDCX",
        "outputId": "31a7ec8d-8dcd-44e3-d631-0b4a3a268512"
      },
      "source": [
        "# features are columns from x_std\n",
        "features = x_std.T \n",
        "covariance_matrix = np.cov(features)\n",
        "print(covariance_matrix)"
      ],
      "execution_count": 69,
      "outputs": [
        {
          "output_type": "stream",
          "name": "stdout",
          "text": [
            "[[ 1.00002315 -0.00904789 -0.00612896 ... -0.01032422 -0.00690379\n",
            "  -0.00711973]\n",
            " [-0.00904789  1.00002315  0.64191599 ... -0.4030281  -0.42214109\n",
            "  -0.30166729]\n",
            " [-0.00612896  0.64191599  1.00002315 ... -0.31431813 -0.36003618\n",
            "  -0.20625686]\n",
            " ...\n",
            " [-0.01032422 -0.4030281  -0.31431813 ...  1.00002315  0.92819022\n",
            "   0.79899824]\n",
            " [-0.00690379 -0.42214109 -0.36003618 ...  0.92819022  1.00002315\n",
            "   0.72180487]\n",
            " [-0.00711973 -0.30166729 -0.20625686 ...  0.79899824  0.72180487\n",
            "   1.00002315]]\n"
          ]
        }
      ]
    },
    {
      "cell_type": "markdown",
      "metadata": {
        "id": "hMAW-m5REDCY"
      },
      "source": [
        "# 5. Eigen Vectors and Eigen Values from Covariance Matrix"
      ]
    },
    {
      "cell_type": "code",
      "metadata": {
        "id": "5UrDiimLEDCY"
      },
      "source": [
        "eig_vals, eig_vecs = np.linalg.eig(covariance_matrix)"
      ],
      "execution_count": 70,
      "outputs": []
    },
    {
      "cell_type": "code",
      "metadata": {
        "colab": {
          "base_uri": "https://localhost:8080/"
        },
        "id": "U7GBRp-EEDCZ",
        "outputId": "96ed3a3f-bb92-4cc3-ca41-fa1ef0424581"
      },
      "source": [
        "print('Eigenvectors \\n%s' %eig_vecs)"
      ],
      "execution_count": 71,
      "outputs": [
        {
          "output_type": "stream",
          "name": "stdout",
          "text": [
            "Eigenvectors \n",
            "[[-1.29237326e-03 -8.44253704e-02  2.99390540e-01 ... -1.35127273e-03\n",
            "   2.75979758e-17 -2.71636713e-16]\n",
            " [-6.90305662e-02  1.85140538e-01  4.22000481e-02 ...  2.44813010e-03\n",
            "   7.37336268e-17 -9.26046048e-16]\n",
            " [-5.36245993e-02  2.68347686e-01  7.98378765e-02 ...  8.34272471e-02\n",
            "   2.71453136e-16  1.17057643e-15]\n",
            " ...\n",
            " [ 1.49343650e-01  9.81710468e-03  4.75156542e-03 ... -5.32139696e-02\n",
            "  -1.79262650e-16  1.24662770e-15]\n",
            " [ 1.52915940e-01 -2.82978738e-02 -7.67674301e-03 ...  8.49657881e-02\n",
            "  -2.22419058e-17 -3.21612329e-16]\n",
            " [ 1.16743342e-01  2.82079456e-02  1.67042567e-02 ... -1.24621474e-02\n",
            "  -8.65234527e-17  9.97601453e-17]]\n"
          ]
        }
      ]
    },
    {
      "cell_type": "code",
      "metadata": {
        "colab": {
          "base_uri": "https://localhost:8080/"
        },
        "id": "9PuvR8doEDCZ",
        "outputId": "855761bb-ba13-4897-9799-cd9ba3e36ed9"
      },
      "source": [
        "print('\\nEigenvalues \\n%s' %eig_vals)"
      ],
      "execution_count": 72,
      "outputs": [
        {
          "output_type": "stream",
          "name": "stdout",
          "text": [
            "\n",
            "Eigenvalues \n",
            "[ 3.94291963e+01  7.51477403e+00  6.84930011e+00  2.61214329e+00\n",
            "  2.42416319e+00  2.02101194e+00  1.85995456e+00  1.73107722e+00\n",
            "  1.27146469e+00  1.12207204e+00  9.20085138e-01  7.77208044e-01\n",
            "  7.46209807e-01  6.53031978e-01  5.00609906e-01  4.19589030e-01\n",
            "  4.12981871e-01  3.61960092e-01  3.25856432e-01  3.11452491e-01\n",
            "  2.94541042e-01  2.38488004e-01  2.14333562e-01  1.98728166e-01\n",
            "  1.75294555e-01  1.27338600e-01  1.11024483e-01  9.68298717e-02\n",
            "  9.03002185e-02  8.22641673e-02  7.40372628e-02  6.86347389e-02\n",
            "  6.33863382e-02  6.16635605e-02  5.51057778e-02  5.16162649e-02\n",
            "  4.97363796e-02  4.65924199e-02  4.18722725e-02  3.92152587e-02\n",
            "  3.74796831e-02  3.52042949e-02  3.45947455e-02  3.22918464e-02\n",
            "  2.93377813e-02  2.54047559e-02  2.50422936e-02  2.33052470e-02\n",
            "  3.29799891e-03  3.60358703e-03  4.39650816e-03  2.17707495e-02\n",
            "  2.08354495e-02  1.98363733e-02  1.94706917e-02  1.75241952e-02\n",
            "  7.58370546e-03  8.30739693e-03  8.47315906e-03  9.30799312e-03\n",
            "  1.61168722e-02  1.56479953e-02  1.52488682e-02  1.46581065e-02\n",
            "  1.42486428e-02  1.02224060e-02  1.05541316e-02  1.06877530e-02\n",
            "  1.13360188e-02  1.18035439e-02  1.33163125e-02  1.27426613e-02\n",
            "  1.29396233e-02 -3.12750329e-18 -6.77443480e-17]\n"
          ]
        }
      ]
    },
    {
      "cell_type": "code",
      "metadata": {
        "colab": {
          "base_uri": "https://localhost:8080/"
        },
        "id": "76Xp7DtpEDCa",
        "outputId": "05e9fc65-ae5e-4cb4-adcd-7e01d3fda3d7"
      },
      "source": [
        "# We reduce dimension to 1 dimension, since 1 eigenvector has 73% (enough) variances\n",
        "eig_vals[0] / sum(eig_vals)"
      ],
      "execution_count": 73,
      "outputs": [
        {
          "output_type": "execute_result",
          "data": {
            "text/plain": [
              "0.5257104454891712"
            ]
          },
          "metadata": {},
          "execution_count": 73
        }
      ]
    },
    {
      "cell_type": "markdown",
      "metadata": {
        "id": "fbEI3UY0EDCa"
      },
      "source": [
        "# 6. Project data point onto selected Eigen Vector"
      ]
    },
    {
      "cell_type": "code",
      "metadata": {
        "id": "iy9LgCoHEDCa"
      },
      "source": [
        "projected_X = x_std.dot(eig_vecs.T[0])"
      ],
      "execution_count": 74,
      "outputs": []
    },
    {
      "cell_type": "code",
      "metadata": {
        "colab": {
          "base_uri": "https://localhost:8080/"
        },
        "id": "UqzHU0TtEDCb",
        "outputId": "8f016400-c4a3-4c86-811c-3753a6d8986c"
      },
      "source": [
        "projected_X"
      ],
      "execution_count": 75,
      "outputs": [
        {
          "output_type": "execute_result",
          "data": {
            "text/plain": [
              "array([-0.87402512, -1.05363089, -1.02102954, ..., -3.45118269,\n",
              "       -3.32798864, -2.69649168])"
            ]
          },
          "metadata": {},
          "execution_count": 75
        }
      ]
    },
    {
      "cell_type": "code",
      "metadata": {
        "id": "1mnIlpSDEDCb"
      },
      "source": [
        "result = pd.DataFrame(projected_X, columns=['PC1'])\n",
        "result['y-axis'] = 0.0\n",
        "result['label'] = Y"
      ],
      "execution_count": 76,
      "outputs": []
    },
    {
      "cell_type": "code",
      "metadata": {
        "colab": {
          "base_uri": "https://localhost:8080/",
          "height": 355
        },
        "id": "iq4IYuDbEDCc",
        "outputId": "1cd6cdd1-10d0-47f9-a786-4bb8e65c4d91"
      },
      "source": [
        "result.head(10)"
      ],
      "execution_count": 77,
      "outputs": [
        {
          "output_type": "execute_result",
          "data": {
            "text/html": [
              "<div>\n",
              "<style scoped>\n",
              "    .dataframe tbody tr th:only-of-type {\n",
              "        vertical-align: middle;\n",
              "    }\n",
              "\n",
              "    .dataframe tbody tr th {\n",
              "        vertical-align: top;\n",
              "    }\n",
              "\n",
              "    .dataframe thead th {\n",
              "        text-align: right;\n",
              "    }\n",
              "</style>\n",
              "<table border=\"1\" class=\"dataframe\">\n",
              "  <thead>\n",
              "    <tr style=\"text-align: right;\">\n",
              "      <th></th>\n",
              "      <th>PC1</th>\n",
              "      <th>y-axis</th>\n",
              "      <th>label</th>\n",
              "    </tr>\n",
              "  </thead>\n",
              "  <tbody>\n",
              "    <tr>\n",
              "      <th>0</th>\n",
              "      <td>-0.874025</td>\n",
              "      <td>0.0</td>\n",
              "      <td>W</td>\n",
              "    </tr>\n",
              "    <tr>\n",
              "      <th>1</th>\n",
              "      <td>-1.053631</td>\n",
              "      <td>0.0</td>\n",
              "      <td>W</td>\n",
              "    </tr>\n",
              "    <tr>\n",
              "      <th>2</th>\n",
              "      <td>-1.021030</td>\n",
              "      <td>0.0</td>\n",
              "      <td>W</td>\n",
              "    </tr>\n",
              "    <tr>\n",
              "      <th>3</th>\n",
              "      <td>-0.780941</td>\n",
              "      <td>0.0</td>\n",
              "      <td>W</td>\n",
              "    </tr>\n",
              "    <tr>\n",
              "      <th>4</th>\n",
              "      <td>-0.931614</td>\n",
              "      <td>0.0</td>\n",
              "      <td>W</td>\n",
              "    </tr>\n",
              "    <tr>\n",
              "      <th>5</th>\n",
              "      <td>-0.554101</td>\n",
              "      <td>0.0</td>\n",
              "      <td>W</td>\n",
              "    </tr>\n",
              "    <tr>\n",
              "      <th>6</th>\n",
              "      <td>-0.650535</td>\n",
              "      <td>0.0</td>\n",
              "      <td>N1</td>\n",
              "    </tr>\n",
              "    <tr>\n",
              "      <th>7</th>\n",
              "      <td>-0.696979</td>\n",
              "      <td>0.0</td>\n",
              "      <td>N1</td>\n",
              "    </tr>\n",
              "    <tr>\n",
              "      <th>8</th>\n",
              "      <td>-0.708931</td>\n",
              "      <td>0.0</td>\n",
              "      <td>N1</td>\n",
              "    </tr>\n",
              "    <tr>\n",
              "      <th>9</th>\n",
              "      <td>-1.055504</td>\n",
              "      <td>0.0</td>\n",
              "      <td>N2</td>\n",
              "    </tr>\n",
              "  </tbody>\n",
              "</table>\n",
              "</div>"
            ],
            "text/plain": [
              "        PC1  y-axis label\n",
              "0 -0.874025     0.0     W\n",
              "1 -1.053631     0.0     W\n",
              "2 -1.021030     0.0     W\n",
              "3 -0.780941     0.0     W\n",
              "4 -0.931614     0.0     W\n",
              "5 -0.554101     0.0     W\n",
              "6 -0.650535     0.0    N1\n",
              "7 -0.696979     0.0    N1\n",
              "8 -0.708931     0.0    N1\n",
              "9 -1.055504     0.0    N2"
            ]
          },
          "metadata": {},
          "execution_count": 77
        }
      ]
    },
    {
      "cell_type": "code",
      "metadata": {
        "collapsed": true,
        "id": "G0Vnt112EDCc"
      },
      "source": [
        "import matplotlib.pyplot as plt\n",
        "import seaborn as sns\n",
        "%matplotlib inline"
      ],
      "execution_count": 78,
      "outputs": []
    },
    {
      "cell_type": "code",
      "metadata": {
        "colab": {
          "base_uri": "https://localhost:8080/",
          "height": 457
        },
        "id": "1tTcfpXnEDCc",
        "outputId": "e42e46ed-7e32-4bd4-e170-673cf49af54b"
      },
      "source": [
        "sns.lmplot('PC1', 'y-axis', data=result, fit_reg=False,  # x-axis, y-axis, data, no line\n",
        "           scatter_kws={\"s\": 50}, # marker size\n",
        "           hue=\"label\") # color\n",
        "           \n",
        "plt.title('PCA result')"
      ],
      "execution_count": 79,
      "outputs": [
        {
          "output_type": "stream",
          "name": "stderr",
          "text": [
            "/usr/local/lib/python3.7/dist-packages/seaborn/_decorators.py:43: FutureWarning: Pass the following variables as keyword args: x, y. From version 0.12, the only valid positional argument will be `data`, and passing other arguments without an explicit keyword will result in an error or misinterpretation.\n",
            "  FutureWarning\n"
          ]
        },
        {
          "output_type": "execute_result",
          "data": {
            "text/plain": [
              "Text(0.5, 1.0, 'PCA result')"
            ]
          },
          "metadata": {},
          "execution_count": 79
        },
        {
          "output_type": "display_data",
          "data": {
            "image/png": "[encoded data removed]",
            "text/plain": [
              "<Figure size 409.875x360 with 1 Axes>"
            ]
          },
          "metadata": {
            "needs_background": "light"
          }
        }
      ]
    },
    {
      "cell_type": "markdown",
      "metadata": {
        "id": "YUpSKaoiEDCd"
      },
      "source": [
        "# bonus - scikit-learn PCA"
      ]
    },
    {
      "cell_type": "code",
      "metadata": {
        "id": "kDb0MggnEDCd"
      },
      "source": [
        "from sklearn import decomposition\n",
        "pca = decomposition.PCA(n_components=1)\n",
        "sklearn_pca_x = pca.fit_transform(x_std)"
      ],
      "execution_count": 80,
      "outputs": []
    },
    {
      "cell_type": "code",
      "metadata": {
        "colab": {
          "base_uri": "https://localhost:8080/",
          "height": 442
        },
        "id": "736r3baVEDCd",
        "outputId": "e8a7c09c-3a0f-4faa-e719-577907bd66ea"
      },
      "source": [
        "sklearn_result = pd.DataFrame(sklearn_pca_x, columns=['PC1'])\n",
        "sklearn_result['y-axis'] = 0.0\n",
        "sklearn_result['label'] = Y\n",
        "\n",
        "sns.lmplot('PC1', 'y-axis', data=sklearn_result, fit_reg=False,  # x-axis, y-axis, data, no line\n",
        "           scatter_kws={\"s\": 50}, # marker size\n",
        "           hue=\"label\") # color"
      ],
      "execution_count": 81,
      "outputs": [
        {
          "output_type": "stream",
          "name": "stderr",
          "text": [
            "/usr/local/lib/python3.7/dist-packages/seaborn/_decorators.py:43: FutureWarning: Pass the following variables as keyword args: x, y. From version 0.12, the only valid positional argument will be `data`, and passing other arguments without an explicit keyword will result in an error or misinterpretation.\n",
            "  FutureWarning\n"
          ]
        },
        {
          "output_type": "execute_result",
          "data": {
            "text/plain": [
              "<seaborn.axisgrid.FacetGrid at 0x7f0ecef9e250>"
            ]
          },
          "metadata": {},
          "execution_count": 81
        },
        {
          "output_type": "display_data",
          "data": {
            "image/png": "[encoded data removed]",
            "text/plain": [
              "<Figure size 409.875x360 with 1 Axes>"
            ]
          },
          "metadata": {
            "needs_background": "light"
          }
        }
      ]
    },
    {
      "cell_type": "code",
      "metadata": {
        "collapsed": true,
        "id": "EqGpqrg2EDCe"
      },
      "source": [
        ""
      ],
      "execution_count": null,
      "outputs": []
    }
  ]
}