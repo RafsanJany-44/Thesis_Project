{
  "nbformat": 4,
  "nbformat_minor": 0,
  "metadata": {
    "colab": {
      "name": "Linear_Regression.ipynb",
      "provenance": [],
      "authorship_tag": "ABX9TyPDpeMTe4ZfRPUQXlViz+EY",
      "include_colab_link": true
    },
    "kernelspec": {
      "name": "python3",
      "display_name": "Python 3"
    },
    "language_info": {
      "name": "python"
    }
  },
  "cells": [
    {
      "cell_type": "markdown",
      "metadata": {
        "id": "view-in-github",
        "colab_type": "text"
      },
      "source": [
        "<a href=\"https://colab.research.google.com/github/RafsanJany-44/Thesis_Project/blob/main/Linear_Regression_S_W.ipynb\" target=\"_parent\"><img src=\"https://colab.research.google.com/assets/colab-badge.svg\" alt=\"Open In Colab\"/></a>"
      ]
    },
    {
      "cell_type": "code",
      "execution_count": 25,
      "metadata": {
        "id": "kgTBQIr7DOlc"
      },
      "outputs": [],
      "source": [
        "import numpy as np\n",
        "import pandas as pd\n",
        "import matplotlib.pyplot as plt\n"
      ]
    },
    {
      "cell_type": "code",
      "source": [
        "\n",
        "\n",
        "ds2=pd.read_csv(\"/content/S_W.csv\")\n",
        "print(ds2)"
      ],
      "metadata": {
        "colab": {
          "base_uri": "https://localhost:8080/"
        },
        "id": "wOs_Fc06DpPJ",
        "outputId": "4067758b-3ae0-4a25-dcc6-e1f9f7b83d90"
      },
      "execution_count": 26,
      "outputs": [
        {
          "output_type": "stream",
          "name": "stdout",
          "text": [
            "       Sleep_Stage  MeanP_Alpha_F4  ...  Spectral Edge_Gamma_O2  PeakF_Gamma_O2\n",
            "0                W         0.00051  ...                49.95122        49.95122\n",
            "1                W         0.00040  ...                49.95122        49.95122\n",
            "2                W         0.00036  ...                49.95122        49.95122\n",
            "3                W         0.00035  ...                49.95122        49.95122\n",
            "4                W         0.00033  ...                49.95122        49.95122\n",
            "...            ...             ...  ...                     ...             ...\n",
            "108446           S         0.00031  ...                45.20585        24.22634\n",
            "108447           S         0.00042  ...                47.57854        24.97561\n",
            "108448           S         0.00040  ...                43.08293        21.10439\n",
            "108449           W         0.00051  ...                50.70049        38.21268\n",
            "108450           W         0.00128  ...                52.32390        38.08780\n",
            "\n",
            "[108451 rows x 76 columns]\n"
          ]
        }
      ]
    },
    {
      "cell_type": "code",
      "source": [
        "x=ds2.iloc[:,:-1].values\n",
        "y=ds2.iloc[:,1:].values"
      ],
      "metadata": {
        "id": "M4wYiYBZDpKj"
      },
      "execution_count": 27,
      "outputs": []
    },
    {
      "cell_type": "code",
      "source": [
        "print(x[:,0])"
      ],
      "metadata": {
        "colab": {
          "base_uri": "https://localhost:8080/"
        },
        "id": "YR4OIou1F2vp",
        "outputId": "4b992e19-a3ba-4285-9320-948358d1b686"
      },
      "execution_count": 28,
      "outputs": [
        {
          "output_type": "stream",
          "name": "stdout",
          "text": [
            "['W' 'W' 'W' ... 'S' 'W' 'W']\n"
          ]
        }
      ]
    },
    {
      "cell_type": "code",
      "source": [
        "from sklearn.preprocessing import LabelEncoder\n",
        "labelencoder_X=LabelEncoder()\n",
        "x[:,0]=labelencoder_X.fit_transform(x[:,0])"
      ],
      "metadata": {
        "id": "-1ClIEwdDpEC"
      },
      "execution_count": 29,
      "outputs": []
    },
    {
      "cell_type": "code",
      "source": [
        "print(x)"
      ],
      "metadata": {
        "colab": {
          "base_uri": "https://localhost:8080/"
        },
        "id": "2hHuezVxGVNM",
        "outputId": "22909257-c083-48a7-c1b2-b3f785bda1d5"
      },
      "execution_count": 30,
      "outputs": [
        {
          "output_type": "stream",
          "name": "stdout",
          "text": [
            "[[1 0.0005099999999999999 8.74146 ... 35.21561 42.20878 49.95122]\n",
            " [1 0.0004 10.24 ... 34.34146 43.332679999999996 49.95122]\n",
            " [1 0.00036 9.74049 ... 34.59122 45.95512 49.95122]\n",
            " ...\n",
            " [0 0.0004 9.86537 ... 27.098540000000003 36.58927 43.08293]\n",
            " [1 0.0005099999999999999 10.11512 ... 35.71512 41.83415 50.70049]\n",
            " [1 0.00128 10.61463 ... 37.96293 43.332679999999996 52.3239]]\n"
          ]
        }
      ]
    },
    {
      "cell_type": "code",
      "source": [
        "from sklearn.model_selection import train_test_split\n",
        "x_train,x_test,y_train,y_test=train_test_split(x,y,test_size=0.3,random_state=0)"
      ],
      "metadata": {
        "id": "cWix8LpMDpCS"
      },
      "execution_count": 31,
      "outputs": []
    },
    {
      "cell_type": "code",
      "source": [
        "from sklearn.linear_model import LinearRegression\n",
        "regressor=LinearRegression()\n",
        "regressor.fit(x_train,y_train)"
      ],
      "metadata": {
        "colab": {
          "base_uri": "https://localhost:8080/"
        },
        "id": "yPcjw62ZDo8s",
        "outputId": "4d4286a6-3c2a-4547-d7fe-e0932659ffb8"
      },
      "execution_count": 32,
      "outputs": [
        {
          "output_type": "execute_result",
          "data": {
            "text/plain": [
              "LinearRegression()"
            ]
          },
          "metadata": {},
          "execution_count": 32
        }
      ]
    },
    {
      "cell_type": "code",
      "source": [
        "y_pred=regressor.predict(x_test)"
      ],
      "metadata": {
        "id": "-snUqtYyDo48"
      },
      "execution_count": 33,
      "outputs": []
    },
    {
      "cell_type": "code",
      "source": [
        "print(y_pred)\n",
        "print(y_test)"
      ],
      "metadata": {
        "colab": {
          "base_uri": "https://localhost:8080/"
        },
        "id": "l8jOzOuYDoj7",
        "outputId": "739f95f7-924f-4b15-e96b-5e31ee9c5c08"
      },
      "execution_count": 34,
      "outputs": [
        {
          "output_type": "stream",
          "name": "stdout",
          "text": [
            "[[4.50000000e-04 8.99122000e+00 1.38614600e+01 ... 3.87122000e+01\n",
            "  4.98263400e+01 4.01404430e+01]\n",
            " [4.30000000e-04 8.24195000e+00 1.44858500e+01 ... 3.68390200e+01\n",
            "  4.43317100e+01 4.00484714e+01]\n",
            " [1.42000000e-03 1.12390200e+01 1.77326800e+01 ... 4.98263400e+01\n",
            "  4.99512200e+01 5.03804037e+01]\n",
            " ...\n",
            " [6.20000000e-04 9.49073000e+00 1.72331700e+01 ... 4.98263400e+01\n",
            "  4.99512200e+01 5.31045333e+01]\n",
            " [2.20400000e-02 7.24293000e+00 1.63590200e+01 ... 4.98263400e+01\n",
            "  5.00761000e+01 5.02657406e+01]\n",
            " [1.13000000e-03 1.02400000e+01 1.44858500e+01 ... 4.68292700e+01\n",
            "  4.99512200e+01 4.60811368e+01]]\n",
            "[[4.500000e-04 8.991220e+00 1.386146e+01 ... 3.871220e+01 4.982634e+01\n",
            "  4.995122e+01]\n",
            " [4.300000e-04 8.241950e+00 1.448585e+01 ... 3.683902e+01 4.433171e+01\n",
            "  3.521561e+01]\n",
            " [1.420000e-03 1.123902e+01 1.773268e+01 ... 4.982634e+01 4.995122e+01\n",
            "  4.995122e+01]\n",
            " ...\n",
            " [6.200000e-04 9.490730e+00 1.723317e+01 ... 4.982634e+01 4.995122e+01\n",
            "  4.995122e+01]\n",
            " [2.204000e-02 7.242930e+00 1.635902e+01 ... 4.982634e+01 5.007610e+01\n",
            "  4.995122e+01]\n",
            " [1.130000e-03 1.024000e+01 1.448585e+01 ... 4.682927e+01 4.995122e+01\n",
            "  4.995122e+01]]\n"
          ]
        }
      ]
    },
    {
      "cell_type": "code",
      "source": [
        ""
      ],
      "metadata": {
        "id": "T2pexcL8Dogi"
      },
      "execution_count": 34,
      "outputs": []
    },
    {
      "cell_type": "code",
      "source": [
        "plt.scatter(y_pred,y_test)\n",
        "plt.title(\"Predict Vs Actual\")\n",
        "plt.xlabel(\"Actual\")\n",
        "plt.ylabel(\"Predict\")\n",
        "plt.show()"
      ],
      "metadata": {
        "colab": {
          "base_uri": "https://localhost:8080/",
          "height": 294
        },
        "id": "LoyvnvGhDoWs",
        "outputId": "ebe35083-9aa7-4c11-8301-35de8d3ff6d1"
      },
      "execution_count": 35,
      "outputs": [
        {
          "output_type": "display_data",
          "data": {
            "image/png": "[encoded data removed]",
            "text/plain": [
              "<Figure size 432x288 with 1 Axes>"
            ]
          },
          "metadata": {
            "needs_background": "light"
          }
        }
      ]
    },
    {
      "cell_type": "code",
      "source": [
        "from sklearn.metrics import r2_score\n",
        "score=r2_score(y_test,y_pred)\n",
        "print('r2 socre is' ,score)"
      ],
      "metadata": {
        "colab": {
          "base_uri": "https://localhost:8080/"
        },
        "id": "yOjoFWHLDoQ0",
        "outputId": "716444e2-546b-47b9-9ac8-9c1b962cb01f"
      },
      "execution_count": 36,
      "outputs": [
        {
          "output_type": "stream",
          "name": "stdout",
          "text": [
            "r2 socre is 0.9962930217911128\n"
          ]
        }
      ]
    },
    {
      "cell_type": "code",
      "source": [
        ""
      ],
      "metadata": {
        "id": "lDp00qZEvsgI"
      },
      "execution_count": 36,
      "outputs": []
    },
    {
      "cell_type": "code",
      "source": [
        ""
      ],
      "metadata": {
        "id": "FptCjC1PDoOt"
      },
      "execution_count": 36,
      "outputs": []
    },
    {
      "cell_type": "code",
      "source": [
        ""
      ],
      "metadata": {
        "id": "HIzLp145DoIE"
      },
      "execution_count": 36,
      "outputs": []
    },
    {
      "cell_type": "code",
      "source": [
        ""
      ],
      "metadata": {
        "id": "H20NB1uIDoFW"
      },
      "execution_count": 36,
      "outputs": []
    },
    {
      "cell_type": "code",
      "source": [
        ""
      ],
      "metadata": {
        "id": "u5q7wZApDoBv"
      },
      "execution_count": 36,
      "outputs": []
    },
    {
      "cell_type": "code",
      "source": [
        ""
      ],
      "metadata": {
        "id": "vGHuQj7PDn2R"
      },
      "execution_count": 36,
      "outputs": []
    },
    {
      "cell_type": "code",
      "source": [
        ""
      ],
      "metadata": {
        "id": "7be7xEGSDnqn"
      },
      "execution_count": 36,
      "outputs": []
    }
  ]
}