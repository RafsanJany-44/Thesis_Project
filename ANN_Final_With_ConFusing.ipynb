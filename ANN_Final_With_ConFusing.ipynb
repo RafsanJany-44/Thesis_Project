{
  "cells": [
    {
      "cell_type": "markdown",
      "metadata": {
        "id": "view-in-github",
        "colab_type": "text"
      },
      "source": [
        "<a href=\"https://colab.research.google.com/github/RafsanJany-44/Thesis_Project/blob/main/ANN_Final_With_ConFusing.ipynb\" target=\"_parent\"><img src=\"https://colab.research.google.com/assets/colab-badge.svg\" alt=\"Open In Colab\"/></a>"
      ]
    },
    {
      "cell_type": "code",
      "execution_count": null,
      "metadata": {
        "id": "KPnkjM0D7riO"
      },
      "outputs": [],
      "source": [
        "import tensorflow as tf\n",
        "from tensorflow import keras\n",
        "import matplotlib.pyplot as plt\n",
        "%matplotlib inline\n",
        "import numpy as np\n",
        "import pandas as pd"
      ]
    },
    {
      "cell_type": "code",
      "source": [
        "#Loading Dataset\n",
        "data = pd.read_csv(\"https://raw.githubusercontent.com/RafsanJany-44/Thesis_Project/main/All_DATA/without_sn_and_Epoch/EEG_HMC.csv\")"
      ],
      "metadata": {
        "id": "dBa0SHNFndqo"
      },
      "execution_count": null,
      "outputs": []
    },
    {
      "cell_type": "code",
      "source": [
        "X = data.iloc[:, 1:].values\n",
        "Y = data.iloc[:, 0].values"
      ],
      "metadata": {
        "id": "6q5hpx-3nHIs"
      },
      "execution_count": null,
      "outputs": []
    },
    {
      "cell_type": "code",
      "source": [
        "#Encoding Categorical the sleep_stage\n",
        "from sklearn.preprocessing import LabelEncoder\n",
        "LE1 = LabelEncoder()\n",
        "Y = np.array(LE1.fit_transform(Y))"
      ],
      "metadata": {
        "id": "-IUhl3tRnMCu"
      },
      "execution_count": null,
      "outputs": []
    },
    {
      "cell_type": "code",
      "source": [
        "#Encoding Categorical variable Geography\n",
        "from sklearn.compose import ColumnTransformer\n",
        "from sklearn.preprocessing import OneHotEncoder\n",
        "ct =ColumnTransformer(transformers=[('encoder',OneHotEncoder(),[1])],remainder=\"passthrough\")\n",
        "X = np.array(ct.fit_transform(X))"
      ],
      "metadata": {
        "id": "exC-gMyanMfH"
      },
      "execution_count": null,
      "outputs": []
    },
    {
      "cell_type": "code",
      "source": [
        "#Splitting dataset into training and testing dataset\n",
        "from sklearn.model_selection import train_test_split\n",
        "X_train,X_test,y_train,y_test = train_test_split(X,Y,test_size=0.2,random_state=0)"
      ],
      "metadata": {
        "id": "X3Gotf3InPYz"
      },
      "execution_count": null,
      "outputs": []
    },
    {
      "cell_type": "code",
      "source": [
        "#Performing Feature Scaling\n",
        "from sklearn.preprocessing import StandardScaler\n",
        "sc = StandardScaler()\n",
        "X_train = sc.fit_transform(X_train)\n",
        "X_test = sc.transform(X_test)"
      ],
      "metadata": {
        "id": "G-Mxsm15h9qE"
      },
      "execution_count": null,
      "outputs": []
    },
    {
      "cell_type": "code",
      "execution_count": null,
      "metadata": {
        "colab": {
          "base_uri": "https://localhost:8080/"
        },
        "id": "tCYh6eOu7rif",
        "outputId": "f7505a75-3876-4c73-bc5e-218652e34c56"
      },
      "outputs": [
        {
          "output_type": "execute_result",
          "data": {
            "text/plain": [
              "86760"
            ]
          },
          "metadata": {},
          "execution_count": 41
        }
      ],
      "source": [
        "len(X_train)"
      ]
    },
    {
      "cell_type": "code",
      "execution_count": null,
      "metadata": {
        "colab": {
          "base_uri": "https://localhost:8080/"
        },
        "id": "hwal07Pi7rik",
        "outputId": "6be35756-845c-494f-955d-04330a517fb7"
      },
      "outputs": [
        {
          "output_type": "execute_result",
          "data": {
            "text/plain": [
              "21691"
            ]
          },
          "metadata": {},
          "execution_count": 42
        }
      ],
      "source": [
        "len(X_test)"
      ]
    },
    {
      "cell_type": "code",
      "execution_count": null,
      "metadata": {
        "colab": {
          "base_uri": "https://localhost:8080/"
        },
        "id": "Mdsvw9Bc7rim",
        "outputId": "20c34fe2-6a52-43c0-f00f-5dd3e63c0cc5"
      },
      "outputs": [
        {
          "output_type": "execute_result",
          "data": {
            "text/plain": [
              "(86760, 215)"
            ]
          },
          "metadata": {},
          "execution_count": 43
        }
      ],
      "source": [
        "X_train.shape\n"
      ]
    },
    {
      "cell_type": "code",
      "source": [
        "model = keras.Sequential([\n",
        "    keras.layers.Dense(500, input_shape=(215,), activation='relu'), # input layer\n",
        "    keras.layers.Dense(350, activation='sigmoid'),\n",
        "    keras.layers.Dense(250, activation='sigmoid'),\n",
        "    keras.layers.Dense(150, activation='sigmoid'),\n",
        "    keras.layers.Dense(75, activation='softmax')                    # output layer\n",
        "])\n",
        "\n",
        "model.compile(optimizer='adam',\n",
        "              loss='sparse_categorical_crossentropy',\n",
        "              metrics=['accuracy'])\n",
        "\n",
        "model.fit(X_train, y_train, epochs=20)"
      ],
      "metadata": {
        "colab": {
          "base_uri": "https://localhost:8080/"
        },
        "id": "7m1Ujz34ZvPh",
        "outputId": "d7e1253a-9ba4-4589-f09b-d683f53e8b43"
      },
      "execution_count": null,
      "outputs": [
        {
          "output_type": "stream",
          "name": "stdout",
          "text": [
            "Epoch 1/20\n",
            "2712/2712 [==============================] - 15s 5ms/step - loss: 0.9302 - accuracy: 0.6314\n",
            "Epoch 2/20\n",
            "2712/2712 [==============================] - 14s 5ms/step - loss: 0.7673 - accuracy: 0.6954\n",
            "Epoch 3/20\n",
            "2712/2712 [==============================] - 14s 5ms/step - loss: 0.7120 - accuracy: 0.7180\n",
            "Epoch 4/20\n",
            "2712/2712 [==============================] - 16s 6ms/step - loss: 0.6722 - accuracy: 0.7344\n",
            "Epoch 5/20\n",
            "2712/2712 [==============================] - 14s 5ms/step - loss: 0.6426 - accuracy: 0.7478\n",
            "Epoch 6/20\n",
            "2712/2712 [==============================] - 15s 6ms/step - loss: 0.6159 - accuracy: 0.7561\n",
            "Epoch 7/20\n",
            "2712/2712 [==============================] - 14s 5ms/step - loss: 0.5916 - accuracy: 0.7663\n",
            "Epoch 8/20\n",
            "2712/2712 [==============================] - 14s 5ms/step - loss: 0.5711 - accuracy: 0.7735\n",
            "Epoch 9/20\n",
            "2712/2712 [==============================] - 14s 5ms/step - loss: 0.5516 - accuracy: 0.7818\n",
            "Epoch 10/20\n",
            "2712/2712 [==============================] - 14s 5ms/step - loss: 0.5323 - accuracy: 0.7882\n",
            "Epoch 11/20\n",
            "2712/2712 [==============================] - 14s 5ms/step - loss: 0.5126 - accuracy: 0.7976\n",
            "Epoch 12/20\n",
            "2712/2712 [==============================] - 14s 5ms/step - loss: 0.4925 - accuracy: 0.8028\n",
            "Epoch 13/20\n",
            "2712/2712 [==============================] - 14s 5ms/step - loss: 0.4788 - accuracy: 0.8105\n",
            "Epoch 14/20\n",
            "2712/2712 [==============================] - 14s 5ms/step - loss: 0.4574 - accuracy: 0.8187\n",
            "Epoch 15/20\n",
            "2712/2712 [==============================] - 14s 5ms/step - loss: 0.4403 - accuracy: 0.8248\n",
            "Epoch 16/20\n",
            "2712/2712 [==============================] - 14s 5ms/step - loss: 0.4210 - accuracy: 0.8328\n",
            "Epoch 17/20\n",
            "2712/2712 [==============================] - 14s 5ms/step - loss: 0.4012 - accuracy: 0.8402\n",
            "Epoch 18/20\n",
            "2712/2712 [==============================] - 14s 5ms/step - loss: 0.3843 - accuracy: 0.8479\n",
            "Epoch 19/20\n",
            "2712/2712 [==============================] - 14s 5ms/step - loss: 0.3677 - accuracy: 0.8535\n",
            "Epoch 20/20\n",
            "2712/2712 [==============================] - 14s 5ms/step - loss: 0.3515 - accuracy: 0.8602\n"
          ]
        },
        {
          "output_type": "execute_result",
          "data": {
            "text/plain": [
              "<keras.callbacks.History at 0x7f7d9582b190>"
            ]
          },
          "metadata": {},
          "execution_count": 44
        }
      ]
    },
    {
      "cell_type": "code",
      "execution_count": null,
      "metadata": {
        "id": "3itZB-Rc7ri7",
        "outputId": "d49debff-56ec-48d4-9772-4ee79d4bb001",
        "colab": {
          "base_uri": "https://localhost:8080/"
        }
      },
      "outputs": [
        {
          "output_type": "stream",
          "name": "stdout",
          "text": [
            "678/678 [==============================] - 2s 2ms/step - loss: 0.7451 - accuracy: 0.7525\n"
          ]
        },
        {
          "output_type": "execute_result",
          "data": {
            "text/plain": [
              "[0.7450600266456604, 0.7525240778923035]"
            ]
          },
          "metadata": {},
          "execution_count": 49
        }
      ],
      "source": [
        "model.evaluate(X_test, y_test)"
      ]
    },
    {
      "cell_type": "markdown",
      "metadata": {
        "id": "3AmyEXFp7rjx"
      },
      "source": [
        "<h2>Improve NN with scaling the features</h2>"
      ]
    },
    {
      "cell_type": "markdown",
      "metadata": {
        "id": "LrJUlUpM7rkS"
      },
      "source": [
        "<h3>Now we try to draw the Confusion matrix</h3>\n",
        "<p>Here, the NN will predict the test data considering each of the neurons. So, we need to find out the best neuron which is giving us the highest prediction.\n",
        "    <br> In this case we have to use the argmax() function for those neurons. </p>"
      ]
    },
    {
      "cell_type": "code",
      "execution_count": null,
      "metadata": {
        "id": "zW7SM71J7rkT"
      },
      "outputs": [],
      "source": [
        "y_predicted = model.predict(X_test)\n",
        "y_predicted_labels = [np.argmax(i) for i in y_predicted]"
      ]
    },
    {
      "cell_type": "code",
      "source": [
        "from sklearn.metrics import classification_report, confusion_matrix, accuracy_score\n",
        "print(confusion_matrix(y_test, y_predicted_labels))\n",
        "print(classification_report(y_test,y_predicted_labels))\n",
        "print(\"Accurecy: \",accuracy_score(y_test, y_predicted_labels))"
      ],
      "metadata": {
        "id": "hPbDM_U8sVLw",
        "outputId": "57216d41-4a19-4d18-f824-ed2afca5b064",
        "colab": {
          "base_uri": "https://localhost:8080/"
        }
      },
      "execution_count": null,
      "outputs": [
        {
          "output_type": "stream",
          "name": "stdout",
          "text": [
            "[[ 857  617   17  343  534]\n",
            " [ 337 6487  557  332  178]\n",
            " [  14  942 3262   13   23]\n",
            " [ 237  536   25 2501   75]\n",
            " [ 345  156   23   64 3216]]\n",
            "              precision    recall  f1-score   support\n",
            "\n",
            "           0       0.48      0.36      0.41      2368\n",
            "           1       0.74      0.82      0.78      7891\n",
            "           2       0.84      0.77      0.80      4254\n",
            "           3       0.77      0.74      0.75      3374\n",
            "           4       0.80      0.85      0.82      3804\n",
            "\n",
            "    accuracy                           0.75     21691\n",
            "   macro avg       0.73      0.71      0.71     21691\n",
            "weighted avg       0.75      0.75      0.75     21691\n",
            "\n",
            "Accurecy:  0.752524088331566\n"
          ]
        }
      ]
    },
    {
      "cell_type": "markdown",
      "metadata": {
        "id": "rfQIjY8f7rkT"
      },
      "source": [
        "**Now we need to draw the confusion matrix to show where our model is doing mistakes**\n",
        "<br>\n",
        "<br>\n",
        "***Tensorflow has its own confusion matrix function where \"labels\" is the truth data and \"predictions\" is the predicted data***"
      ]
    },
    {
      "cell_type": "code",
      "execution_count": null,
      "metadata": {
        "id": "DUneWC5k7rkT",
        "outputId": "1f90b22f-bef9-4b01-b765-77abc90002d1",
        "colab": {
          "base_uri": "https://localhost:8080/"
        }
      },
      "outputs": [
        {
          "output_type": "execute_result",
          "data": {
            "text/plain": [
              "<tf.Tensor: shape=(5, 5), dtype=int32, numpy=\n",
              "array([[ 857,  617,   17,  343,  534],\n",
              "       [ 337, 6487,  557,  332,  178],\n",
              "       [  14,  942, 3262,   13,   23],\n",
              "       [ 237,  536,   25, 2501,   75],\n",
              "       [ 345,  156,   23,   64, 3216]], dtype=int32)>"
            ]
          },
          "metadata": {},
          "execution_count": 51
        }
      ],
      "source": [
        "cm = tf.math.confusion_matrix(labels=y_test,predictions=y_predicted_labels)\n",
        "cm"
      ]
    },
    {
      "cell_type": "code",
      "execution_count": null,
      "metadata": {
        "id": "5GbjX6za7rkU",
        "outputId": "dfce6a08-b52b-43ec-be68-89c91300d9ca",
        "colab": {
          "base_uri": "https://localhost:8080/",
          "height": 459
        }
      },
      "outputs": [
        {
          "output_type": "execute_result",
          "data": {
            "text/plain": [
              "Text(69.0, 0.5, 'Truth')"
            ]
          },
          "metadata": {},
          "execution_count": 52
        },
        {
          "output_type": "display_data",
          "data": {
            "text/plain": [
              "<Figure size 720x504 with 2 Axes>"
            ],
            "image/png": "[encoded data removed]"
          },
          "metadata": {
            "needs_background": "light"
          }
        }
      ],
      "source": [
        "import seaborn as sn\n",
        "plt.figure(figsize = (10,7))\n",
        "sn.heatmap(cm, annot=True, fmt='d') # here, cm is called to be visualized\n",
        "plt.xlabel('Predicted')\n",
        "plt.ylabel('Truth')"
      ]
    }
  ],
  "metadata": {
    "kernelspec": {
      "display_name": "Python 3",
      "language": "python",
      "name": "python3"
    },
    "language_info": {
      "codemirror_mode": {
        "name": "ipython",
        "version": 3
      },
      "file_extension": ".py",
      "mimetype": "text/x-python",
      "name": "python",
      "nbconvert_exporter": "python",
      "pygments_lexer": "ipython3",
      "version": "3.8.3"
    },
    "colab": {
      "name": "ANN_Final_With_ConFusing.ipynb",
      "provenance": [],
      "include_colab_link": true
    }
  },
  "nbformat": 4,
  "nbformat_minor": 0
}