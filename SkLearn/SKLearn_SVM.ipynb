{
  "nbformat": 4,
  "nbformat_minor": 0,
  "metadata": {
    "colab": {
      "name": "SVM.ipynb",
      "provenance": [],
      "collapsed_sections": []
    },
    "kernelspec": {
      "name": "python3",
      "display_name": "Python 3"
    },
    "language_info": {
      "name": "python"
    }
  },
  "cells": [
    {
      "cell_type": "markdown",
      "source": [
        "**Load, Split dataset and Scaling** "
      ],
      "metadata": {
        "id": "zpCz2RfH2SX0"
      }
    },
    {
      "cell_type": "code",
      "source": [
        "import numpy as np\n",
        "import matplotlib.pyplot as plt\n",
        "import pandas as pd\n",
        "\n",
        "# load dataset\n",
        "dataset = pd.read_csv('https://raw.githubusercontent.com/RafsanJany-44/Thesis_Project/main/All_DATA/without_sn_and_Epoch/EEG_HMC.csv')\n",
        "\n",
        "# Split Dataset into X and Y\n",
        "X = dataset.iloc[:, 1:].values\n",
        "y = dataset.iloc[:, 0].values\n",
        "\n",
        "# Split the X and Y Dataset into the Training set and Test set\n",
        "from sklearn.model_selection import train_test_split\n",
        "X_train, X_test, y_train, y_test = train_test_split(X, y, test_size = 0.25, random_state = 0)\n",
        "\n",
        "# Perform Feature Scaling\n",
        "from sklearn.preprocessing import StandardScaler\n",
        "sc = StandardScaler()\n",
        "X_train = sc.fit_transform(X_train)\n",
        "X_test = sc.transform(X_test)"
      ],
      "metadata": {
        "id": "G0F-e5N8mJI0"
      },
      "execution_count": 1,
      "outputs": []
    },
    {
      "cell_type": "markdown",
      "source": [
        "**Fit SVM to the Training set**"
      ],
      "metadata": {
        "id": "CcJUbr821hGl"
      }
    },
    {
      "cell_type": "code",
      "source": [
        "from sklearn.svm import SVC\n",
        "classifier = SVC(kernel = 'rbf', random_state = 0)\n",
        "classifier.fit(X_train, y_train)"
      ],
      "metadata": {
        "colab": {
          "base_uri": "https://localhost:8080/"
        },
        "id": "uEZAlBBp1eg-",
        "outputId": "3bd80864-7937-4f2e-bf5d-a2949989813d"
      },
      "execution_count": 2,
      "outputs": [
        {
          "output_type": "execute_result",
          "data": {
            "text/plain": [
              "SVC(random_state=0)"
            ]
          },
          "metadata": {},
          "execution_count": 2
        }
      ]
    },
    {
      "cell_type": "code",
      "source": [
        "#Predict the Test Set Results\n",
        "y_pred = classifier.predict(X_test)"
      ],
      "metadata": {
        "id": "6QbTzp-d1nsT"
      },
      "execution_count": 3,
      "outputs": []
    },
    {
      "cell_type": "markdown",
      "source": [
        "**Make the Confusion Matrix**"
      ],
      "metadata": {
        "id": "pw8tUn5s2mjG"
      }
    },
    {
      "cell_type": "code",
      "source": [
        "from sklearn.metrics import classification_report, confusion_matrix, accuracy_score\n",
        "print(confusion_matrix(y_test, y_pred))\n",
        "print(classification_report(y_test,y_pred))\n",
        "print(\"Accurecy: \",accuracy_score(y_test, y_pred))"
      ],
      "metadata": {
        "colab": {
          "base_uri": "https://localhost:8080/"
        },
        "id": "UTRui6gR2n8v",
        "outputId": "02eb089c-a548-47b0-c3ab-fd7f2ac5e8dc"
      },
      "execution_count": 8,
      "outputs": [
        {
          "output_type": "stream",
          "name": "stdout",
          "text": [
            "[[ 594  895   37  600  843]\n",
            " [ 182 7906  885  559  283]\n",
            " [  10 1507 3725   18   32]\n",
            " [ 149 1004   58 2882  128]\n",
            " [ 285  273   36  115 4107]]\n",
            "              precision    recall  f1-score   support\n",
            "\n",
            "          N1       0.49      0.20      0.28      2969\n",
            "          N2       0.68      0.81      0.74      9815\n",
            "          N3       0.79      0.70      0.74      5292\n",
            "           R       0.69      0.68      0.69      4221\n",
            "           W       0.76      0.85      0.80      4816\n",
            "\n",
            "    accuracy                           0.71     27113\n",
            "   macro avg       0.68      0.65      0.65     27113\n",
            "weighted avg       0.70      0.71      0.69     27113\n",
            "\n",
            "Accurecy:  0.7086637406410209\n"
          ]
        }
      ]
    },
    {
      "cell_type": "code",
      "source": [
        "cm =confusion_matrix(y_test,y_pred)\n",
        "import seaborn as sn\n",
        "plt.figure(figsize = (10,7))\n",
        "sn.heatmap(cm, annot=True, fmt='d') # here, cm is called to be visualized\n",
        "plt.xlabel('Predicted')\n",
        "plt.ylabel('Truth')"
      ],
      "metadata": {
        "colab": {
          "base_uri": "https://localhost:8080/",
          "height": 459
        },
        "id": "uiVr_-4m5QcL",
        "outputId": "629fe661-d9ce-4405-f015-f30c1020d9f7"
      },
      "execution_count": 10,
      "outputs": [
        {
          "output_type": "execute_result",
          "data": {
            "text/plain": [
              "Text(69.0, 0.5, 'Truth')"
            ]
          },
          "metadata": {},
          "execution_count": 10
        },
        {
          "output_type": "display_data",
          "data": {
            "text/plain": [
              "<Figure size 720x504 with 2 Axes>"
            ],
            "image/png": "[encoded data removed]"
          },
          "metadata": {
            "needs_background": "light"
          }
        }
      ]
    }
  ]
}