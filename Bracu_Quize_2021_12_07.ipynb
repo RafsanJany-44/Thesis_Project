{
  "nbformat": 4,
  "nbformat_minor": 0,
  "metadata": {
    "colab": {
      "name": "Bracu_Quize_2021/12/07.ipynb",
      "provenance": [],
      "authorship_tag": "ABX9TyPBYHhSDVuHApAvnLL4JzxG",
      "include_colab_link": true
    },
    "kernelspec": {
      "name": "python3",
      "display_name": "Python 3"
    },
    "language_info": {
      "name": "python"
    }
  },
  "cells": [
    {
      "cell_type": "markdown",
      "metadata": {
        "id": "view-in-github",
        "colab_type": "text"
      },
      "source": [
        "<a href=\"https://colab.research.google.com/github/RafsanJany-44/Thesis_Project/blob/main/Bracu_Quize_2021_12_07.ipynb\" target=\"_parent\"><img src=\"https://colab.research.google.com/assets/colab-badge.svg\" alt=\"Open In Colab\"/></a>"
      ]
    },
    {
      "cell_type": "markdown",
      "metadata": {
        "id": "2JFJUKAmkYUY"
      },
      "source": [
        "Take two numbers (separated by a space) as user input in a single line  \n",
        "which will be used as a range (both numbers inclusive) later. Your task is  \n",
        "to create and print a Python dictionary where the keys will be numbers from  \n",
        "that range and the corresponding values will be the odd factors (divisors)  \n",
        "of that number in a tuple.\n",
        "\n",
        "Sample Input 1:\n",
        "10 15\n",
        "\n",
        "Sample Output 1:\n",
        "{10: (1, 5), 11: (1, 11), 12: (1, 3), 13: (1, 13), 14: (1, 7), 15: (1, 3,  \n",
        "5, 15)}\n",
        "\n",
        "Explanation 1:\n",
        "In this dictionary, the keys contain numbers from the range 10 to 15 and  \n",
        "the value corresponding to a number is a tuple which consists of the odd  \n",
        "factors of that number.\n",
        "-----------------------------------------------------------------\n",
        "Sample Input 2:\n",
        "20 23\n",
        "\n",
        "Sample Output 2:\n",
        "{20: (1, 5), 21: (1, 3, 7, 21), 22: (1, 11), 23: (1, 23)}\n",
        "\n",
        "Explanation 2:\n",
        "In the dictionary, the keys contain numbers from the range 20 to 23 and the  \n",
        "value corresponding to a number is a tuple which consists of the odd  \n",
        "factors of that number.\n",
        "Write to Arifin Nirob\n",
        "Aa\n",
        "\n"
      ]
    },
    {
      "cell_type": "markdown",
      "metadata": {
        "id": "Tye_YMO8niB2"
      },
      "source": [
        ""
      ]
    },
    {
      "cell_type": "code",
      "metadata": {
        "colab": {
          "base_uri": "https://localhost:8080/"
        },
        "id": "YWwcLfNaisYA",
        "outputId": "a990f43a-f952-4ec8-ecdc-9e7d968472f0"
      },
      "source": [
        "n,m=map(int,input().split())\n",
        "d={}\n",
        "for i in range(n,m+1):\n",
        "  t=[]\n",
        "  for j in range(1,i+1):\n",
        "    if (i%j==0 and j%2!=0):\n",
        "      t.append(j)\n",
        "  tu=tuple(t)\n",
        "  d[i]=tu\n",
        "\n",
        "print(d)"
      ],
      "execution_count": 12,
      "outputs": [
        {
          "output_type": "stream",
          "name": "stdout",
          "text": [
            "10 15\n",
            "{10: (1, 5), 11: (1, 11), 12: (1, 3), 13: (1, 13), 14: (1, 7), 15: (1, 3, 5, 15)}\n"
          ]
        }
      ]
    },
    {
      "cell_type": "markdown",
      "metadata": {
        "id": "x2P2XkEjok-k"
      },
      "source": [
        "Write a Python program that will take a string consisting of only A, B and \n",
        "C's uppercase and lowercase mixed sequence from the user. Your program \n",
        "should generate a dictionary having \"A\", \"B\", \"C\" as the keys and the \n",
        "frequency of \"uppercase of key\" in the string as the first indexed value, \n",
        "the frequency of \"lowercase of key\" in the string as the second indexed \n",
        "value and the summation of both the frequency as the third indexed value in \n",
        "a list as the values. Last of all, your program should check if there are \n",
        "any pairs that are the best match, by comparing the total frequency.\n",
        "\n",
        "Sample Input 1\n",
        "AaBbbbCcCc\n",
        "\n",
        "Sample Output 1\n",
        "{\n",
        "     \"A\": [1, 1, 2]\n",
        "     \"B\": [1, 3, 4]\n",
        "     \"C\": [2, 2, 4]\n",
        "}\n",
        "B and C are the best match.\n",
        "\n",
        "Explanation\n",
        "Here, \"A\", \"a\" has occurred for 1 time and 1 time respectively, so a total \n",
        "of 2 times. \"B\", \"b\" has occurred for 1 time and 3 times respectively, so a \n",
        "total of 4 times. \"C\", \"c\" has occurred 2 times and 2 times respectively, \n",
        "so a total of 4 times. As both \"B\" and \"C\" occured for total 4 times, so \n",
        "they are the best match.\n",
        "\n",
        "Sample Input 2\n",
        "AaaaaBbCCc\n",
        "\n",
        "Sample Output 2\n",
        "{\n",
        "     \"A\": [1, 4, 5]\n",
        "     \"B\": [1, 1, 2]\n",
        "     \"C\": [2, 1, 3]\n",
        "}\n",
        "No best match found."
      ]
    },
    {
      "cell_type": "code",
      "metadata": {
        "colab": {
          "base_uri": "https://localhost:8080/"
        },
        "id": "GBye6haXkrqz",
        "outputId": "abce0687-b3f8-405f-8843-2c7c1199df30"
      },
      "source": [
        "st=input()\n",
        "\n",
        "count_A=0\n",
        "count_a=0\n",
        "count_B=0\n",
        "count_b=0\n",
        "count_C=0\n",
        "count_c=0\n",
        "\n",
        "\n",
        "for i in st:\n",
        "  if i==\"A\":\n",
        "    count_A+=1\n",
        "  elif i==\"a\":\n",
        "    count_a+=1\n",
        "  elif i==\"B\":\n",
        "    count_B+=1\n",
        "  elif i==\"b\":\n",
        "    count_b+=1\n",
        "  elif i==\"C\":\n",
        "    count_C+=1\n",
        "  elif i==\"c\":\n",
        "    count_c+=1\n",
        "\n",
        "A=count_A+count_a\n",
        "B=count_B+count_b\n",
        "C=count_C+count_c\n",
        "\n",
        "dic={\n",
        "    \"A\":[count_A,count_a,A],\n",
        "    \"B\":[count_B,count_b,B],\n",
        "    \"C\":[count_C,count_c,C],\n",
        "}\n",
        "\n",
        "if A==B:\n",
        "  print(dic,\" A and B best match.\")\n",
        "elif B==C:\n",
        "  print(dic,\" B and C best match.\")\n",
        "elif C==A:\n",
        "  print(dic,\" C and A best match.\")\n",
        "elif A==B and B==C:\n",
        "  print(dic,\" A,B and C best match.\")\n",
        "else:\n",
        "  print(dic,\" NO best match found.\")"
      ],
      "execution_count": 19,
      "outputs": [
        {
          "output_type": "stream",
          "name": "stdout",
          "text": [
            "AaaaaBbCCc\n",
            "{'A': [1, 4, 5], 'B': [1, 1, 2], 'C': [2, 1, 3]}  NO best match found.\n"
          ]
        }
      ]
    }
  ]
}