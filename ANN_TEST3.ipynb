{
  "cells": [
    {
      "cell_type": "markdown",
      "metadata": {
        "id": "view-in-github",
        "colab_type": "text"
      },
      "source": [
        "<a href=\"https://colab.research.google.com/github/RafsanJany-44/Thesis_Project/blob/main/ANN_TEST3.ipynb\" target=\"_parent\"><img src=\"https://colab.research.google.com/assets/colab-badge.svg\" alt=\"Open In Colab\"/></a>"
      ]
    },
    {
      "cell_type": "code",
      "execution_count": 2,
      "metadata": {
        "id": "KPnkjM0D7riO"
      },
      "outputs": [],
      "source": [
        "import tensorflow as tf\n",
        "from tensorflow import keras\n",
        "import matplotlib.pyplot as plt\n",
        "%matplotlib inline\n",
        "import numpy as np\n",
        "import pandas as pd"
      ]
    },
    {
      "cell_type": "code",
      "source": [
        "import numpy as np\n",
        "import pandas as pd\n",
        "import tensorflow as tf"
      ],
      "metadata": {
        "id": "moNA8yASm8pH"
      },
      "execution_count": null,
      "outputs": []
    },
    {
      "cell_type": "code",
      "source": [
        "from google.colab import drive\n",
        "drive.mount('/content/drive')"
      ],
      "metadata": {
        "colab": {
          "base_uri": "https://localhost:8080/"
        },
        "id": "A0-PI1t5nCB4",
        "outputId": "ed7a07ac-3d2b-4ffb-9fb1-edb938739170"
      },
      "execution_count": 3,
      "outputs": [
        {
          "output_type": "stream",
          "name": "stdout",
          "text": [
            "Mounted at /content/drive\n"
          ]
        }
      ]
    },
    {
      "cell_type": "code",
      "source": [
        "#Loading Dataset\n",
        "data = pd.read_csv(\"/content/drive/MyDrive/Thesis_Data/EEG_HMC_underscore.csv\")"
      ],
      "metadata": {
        "id": "dBa0SHNFndqo"
      },
      "execution_count": 4,
      "outputs": []
    },
    {
      "cell_type": "code",
      "source": [
        "X = data.iloc[:, 1:76].values\n",
        "Y = data.iloc[:, 0].values"
      ],
      "metadata": {
        "id": "6q5hpx-3nHIs"
      },
      "execution_count": 5,
      "outputs": []
    },
    {
      "cell_type": "code",
      "source": [
        "#Encoding Categorical the sleep_stage\n",
        "from sklearn.preprocessing import LabelEncoder\n",
        "LE1 = LabelEncoder()\n",
        "Y = np.array(LE1.fit_transform(Y))"
      ],
      "metadata": {
        "id": "-IUhl3tRnMCu"
      },
      "execution_count": 6,
      "outputs": []
    },
    {
      "cell_type": "code",
      "source": [
        "#Encoding Categorical variable Geography\n",
        "from sklearn.compose import ColumnTransformer\n",
        "from sklearn.preprocessing import OneHotEncoder\n",
        "ct =ColumnTransformer(transformers=[('encoder',OneHotEncoder(),[1])],remainder=\"passthrough\")\n",
        "X = np.array(ct.fit_transform(X))"
      ],
      "metadata": {
        "id": "exC-gMyanMfH"
      },
      "execution_count": 7,
      "outputs": []
    },
    {
      "cell_type": "code",
      "source": [
        "#Splitting dataset into training and testing dataset\n",
        "from sklearn.model_selection import train_test_split\n",
        "X_train,X_test,y_train,y_test = train_test_split(X,Y,test_size=0.2,random_state=0)"
      ],
      "metadata": {
        "id": "X3Gotf3InPYz"
      },
      "execution_count": 8,
      "outputs": []
    },
    {
      "cell_type": "code",
      "execution_count": 9,
      "metadata": {
        "colab": {
          "base_uri": "https://localhost:8080/"
        },
        "id": "tCYh6eOu7rif",
        "outputId": "0aefee04-d0f4-4679-ae95-4f97a2941c47"
      },
      "outputs": [
        {
          "output_type": "execute_result",
          "data": {
            "text/plain": [
              "86760"
            ]
          },
          "metadata": {},
          "execution_count": 9
        }
      ],
      "source": [
        "len(X_train)"
      ]
    },
    {
      "cell_type": "code",
      "execution_count": 10,
      "metadata": {
        "colab": {
          "base_uri": "https://localhost:8080/"
        },
        "id": "hwal07Pi7rik",
        "outputId": "ff2e01fc-aae0-4911-ee37-d30bbfde4e11"
      },
      "outputs": [
        {
          "output_type": "execute_result",
          "data": {
            "text/plain": [
              "21691"
            ]
          },
          "metadata": {},
          "execution_count": 10
        }
      ],
      "source": [
        "len(X_test)"
      ]
    },
    {
      "cell_type": "code",
      "execution_count": 12,
      "metadata": {
        "colab": {
          "base_uri": "https://localhost:8080/"
        },
        "id": "Mdsvw9Bc7rim",
        "outputId": "f605cb6c-719b-496a-cd76-0c0b798730b4"
      },
      "outputs": [
        {
          "output_type": "execute_result",
          "data": {
            "text/plain": [
              "(86760, 215)"
            ]
          },
          "metadata": {},
          "execution_count": 12
        }
      ],
      "source": [
        "X_train.shape\n"
      ]
    },
    {
      "cell_type": "code",
      "execution_count": 17,
      "metadata": {
        "colab": {
          "base_uri": "https://localhost:8080/"
        },
        "id": "Kp0lSCWv7ri2",
        "outputId": "e80f42d8-0c4e-4e68-d641-02e21e001858"
      },
      "outputs": [
        {
          "output_type": "stream",
          "name": "stdout",
          "text": [
            "Epoch 1/100\n",
            "2712/2712 [==============================] - 13s 4ms/step - loss: 1.6858 - accuracy: 0.4180\n",
            "Epoch 2/100\n",
            "2712/2712 [==============================] - 5s 2ms/step - loss: 1.2276 - accuracy: 0.5211\n",
            "Epoch 3/100\n",
            "2712/2712 [==============================] - 4s 2ms/step - loss: 1.1826 - accuracy: 0.5393\n",
            "Epoch 4/100\n",
            "2712/2712 [==============================] - 5s 2ms/step - loss: 1.1568 - accuracy: 0.5505\n",
            "Epoch 5/100\n",
            "2712/2712 [==============================] - 4s 2ms/step - loss: 1.1462 - accuracy: 0.5560\n",
            "Epoch 6/100\n",
            "2712/2712 [==============================] - 4s 2ms/step - loss: 1.1257 - accuracy: 0.5645\n",
            "Epoch 7/100\n",
            "2712/2712 [==============================] - 5s 2ms/step - loss: 1.1268 - accuracy: 0.5647\n",
            "Epoch 8/100\n",
            "2712/2712 [==============================] - 5s 2ms/step - loss: 1.1133 - accuracy: 0.5721\n",
            "Epoch 9/100\n",
            "2712/2712 [==============================] - 5s 2ms/step - loss: 1.1060 - accuracy: 0.5749\n",
            "Epoch 10/100\n",
            "2712/2712 [==============================] - 5s 2ms/step - loss: 1.1061 - accuracy: 0.5734\n",
            "Epoch 11/100\n",
            "2712/2712 [==============================] - 6s 2ms/step - loss: 1.0998 - accuracy: 0.5768\n",
            "Epoch 12/100\n",
            "2712/2712 [==============================] - 5s 2ms/step - loss: 1.1002 - accuracy: 0.5765\n",
            "Epoch 13/100\n",
            "2712/2712 [==============================] - 5s 2ms/step - loss: 1.0931 - accuracy: 0.5803\n",
            "Epoch 14/100\n",
            "2712/2712 [==============================] - 8s 3ms/step - loss: 1.0931 - accuracy: 0.5793\n",
            "Epoch 15/100\n",
            "2712/2712 [==============================] - 11s 4ms/step - loss: 1.0883 - accuracy: 0.5806\n",
            "Epoch 16/100\n",
            "2712/2712 [==============================] - 9s 3ms/step - loss: 1.0938 - accuracy: 0.5799\n",
            "Epoch 17/100\n",
            "2712/2712 [==============================] - 5s 2ms/step - loss: 1.0872 - accuracy: 0.5813\n",
            "Epoch 18/100\n",
            "2712/2712 [==============================] - 5s 2ms/step - loss: 1.0828 - accuracy: 0.5818\n",
            "Epoch 19/100\n",
            "2712/2712 [==============================] - 5s 2ms/step - loss: 1.0873 - accuracy: 0.5831\n",
            "Epoch 20/100\n",
            "2712/2712 [==============================] - 5s 2ms/step - loss: 1.0854 - accuracy: 0.5838\n",
            "Epoch 21/100\n",
            "2712/2712 [==============================] - 5s 2ms/step - loss: 1.0782 - accuracy: 0.5864\n",
            "Epoch 22/100\n",
            "2712/2712 [==============================] - 5s 2ms/step - loss: 1.0829 - accuracy: 0.5848\n",
            "Epoch 23/100\n",
            "2712/2712 [==============================] - 5s 2ms/step - loss: 1.0758 - accuracy: 0.5875\n",
            "Epoch 24/100\n",
            "2712/2712 [==============================] - 5s 2ms/step - loss: 1.0738 - accuracy: 0.5903\n",
            "Epoch 25/100\n",
            "2712/2712 [==============================] - 5s 2ms/step - loss: 1.0796 - accuracy: 0.5858\n",
            "Epoch 26/100\n",
            "2712/2712 [==============================] - 5s 2ms/step - loss: 1.0752 - accuracy: 0.5877\n",
            "Epoch 27/100\n",
            "2712/2712 [==============================] - 5s 2ms/step - loss: 1.0804 - accuracy: 0.5853\n",
            "Epoch 28/100\n",
            "2712/2712 [==============================] - 4s 2ms/step - loss: 1.0683 - accuracy: 0.5892\n",
            "Epoch 29/100\n",
            "2712/2712 [==============================] - 5s 2ms/step - loss: 1.0752 - accuracy: 0.5888\n",
            "Epoch 30/100\n",
            "2712/2712 [==============================] - 5s 2ms/step - loss: 1.0747 - accuracy: 0.5874\n",
            "Epoch 31/100\n",
            "2712/2712 [==============================] - 5s 2ms/step - loss: 1.0699 - accuracy: 0.5906\n",
            "Epoch 32/100\n",
            "2712/2712 [==============================] - 5s 2ms/step - loss: 1.0737 - accuracy: 0.5891\n",
            "Epoch 33/100\n",
            "2712/2712 [==============================] - 5s 2ms/step - loss: 1.0655 - accuracy: 0.5911\n",
            "Epoch 34/100\n",
            "2712/2712 [==============================] - 5s 2ms/step - loss: 1.0768 - accuracy: 0.5890\n",
            "Epoch 35/100\n",
            "2712/2712 [==============================] - 5s 2ms/step - loss: 1.0690 - accuracy: 0.5914\n",
            "Epoch 36/100\n",
            "2712/2712 [==============================] - 5s 2ms/step - loss: 1.0667 - accuracy: 0.5926\n",
            "Epoch 37/100\n",
            "2712/2712 [==============================] - 6s 2ms/step - loss: 1.0710 - accuracy: 0.5914\n",
            "Epoch 38/100\n",
            "2712/2712 [==============================] - 5s 2ms/step - loss: 1.0673 - accuracy: 0.5912\n",
            "Epoch 39/100\n",
            "2712/2712 [==============================] - 4s 2ms/step - loss: 1.0676 - accuracy: 0.5905\n",
            "Epoch 40/100\n",
            "2712/2712 [==============================] - 4s 2ms/step - loss: 1.0613 - accuracy: 0.5960\n",
            "Epoch 41/100\n",
            "2712/2712 [==============================] - 5s 2ms/step - loss: 1.0701 - accuracy: 0.5913\n",
            "Epoch 42/100\n",
            "2712/2712 [==============================] - 5s 2ms/step - loss: 1.0665 - accuracy: 0.5935\n",
            "Epoch 43/100\n",
            "2712/2712 [==============================] - 5s 2ms/step - loss: 1.0714 - accuracy: 0.5913\n",
            "Epoch 44/100\n",
            "2712/2712 [==============================] - 5s 2ms/step - loss: 1.0657 - accuracy: 0.5931\n",
            "Epoch 45/100\n",
            "2712/2712 [==============================] - 5s 2ms/step - loss: 1.0624 - accuracy: 0.5944\n",
            "Epoch 46/100\n",
            "2712/2712 [==============================] - 5s 2ms/step - loss: 1.0641 - accuracy: 0.5955\n",
            "Epoch 47/100\n",
            "2712/2712 [==============================] - 5s 2ms/step - loss: 1.0648 - accuracy: 0.5915\n",
            "Epoch 48/100\n",
            "2712/2712 [==============================] - 5s 2ms/step - loss: 1.0676 - accuracy: 0.5940\n",
            "Epoch 49/100\n",
            "2712/2712 [==============================] - 4s 2ms/step - loss: 1.0654 - accuracy: 0.5945\n",
            "Epoch 50/100\n",
            "2712/2712 [==============================] - 5s 2ms/step - loss: 1.0659 - accuracy: 0.5931\n",
            "Epoch 51/100\n",
            "2712/2712 [==============================] - 5s 2ms/step - loss: 1.0587 - accuracy: 0.5966\n",
            "Epoch 52/100\n",
            "2712/2712 [==============================] - 5s 2ms/step - loss: 1.0623 - accuracy: 0.5938\n",
            "Epoch 53/100\n",
            "2712/2712 [==============================] - 5s 2ms/step - loss: 1.0590 - accuracy: 0.5943\n",
            "Epoch 54/100\n",
            "2712/2712 [==============================] - 5s 2ms/step - loss: 1.0602 - accuracy: 0.5961\n",
            "Epoch 55/100\n",
            "2712/2712 [==============================] - 5s 2ms/step - loss: 1.0581 - accuracy: 0.5958\n",
            "Epoch 56/100\n",
            "2712/2712 [==============================] - 5s 2ms/step - loss: 1.0594 - accuracy: 0.5964\n",
            "Epoch 57/100\n",
            "2712/2712 [==============================] - 5s 2ms/step - loss: 1.0554 - accuracy: 0.5991\n",
            "Epoch 58/100\n",
            "2712/2712 [==============================] - 5s 2ms/step - loss: 1.0541 - accuracy: 0.5971\n",
            "Epoch 59/100\n",
            "2712/2712 [==============================] - 6s 2ms/step - loss: 1.0617 - accuracy: 0.5954\n",
            "Epoch 60/100\n",
            "2712/2712 [==============================] - 5s 2ms/step - loss: 1.0636 - accuracy: 0.5970\n",
            "Epoch 61/100\n",
            "2712/2712 [==============================] - 5s 2ms/step - loss: 1.0539 - accuracy: 0.5963\n",
            "Epoch 62/100\n",
            "2712/2712 [==============================] - 5s 2ms/step - loss: 1.0570 - accuracy: 0.5958\n",
            "Epoch 63/100\n",
            "2712/2712 [==============================] - 5s 2ms/step - loss: 1.0619 - accuracy: 0.5985\n",
            "Epoch 64/100\n",
            "2712/2712 [==============================] - 5s 2ms/step - loss: 1.0590 - accuracy: 0.5953\n",
            "Epoch 65/100\n",
            "2712/2712 [==============================] - 5s 2ms/step - loss: 1.0537 - accuracy: 0.5995\n",
            "Epoch 66/100\n",
            "2712/2712 [==============================] - 5s 2ms/step - loss: 1.0558 - accuracy: 0.5971\n",
            "Epoch 67/100\n",
            "2712/2712 [==============================] - 5s 2ms/step - loss: 1.0580 - accuracy: 0.5973\n",
            "Epoch 68/100\n",
            "2712/2712 [==============================] - 5s 2ms/step - loss: 1.0533 - accuracy: 0.5983\n",
            "Epoch 69/100\n",
            "2712/2712 [==============================] - 5s 2ms/step - loss: 1.0573 - accuracy: 0.5966\n",
            "Epoch 70/100\n",
            "2712/2712 [==============================] - 4s 2ms/step - loss: 1.0561 - accuracy: 0.5987\n",
            "Epoch 71/100\n",
            "2712/2712 [==============================] - 5s 2ms/step - loss: 1.0578 - accuracy: 0.5960\n",
            "Epoch 72/100\n",
            "2712/2712 [==============================] - 4s 2ms/step - loss: 1.0537 - accuracy: 0.6005\n",
            "Epoch 73/100\n",
            "2712/2712 [==============================] - 4s 2ms/step - loss: 1.0512 - accuracy: 0.6003\n",
            "Epoch 74/100\n",
            "2712/2712 [==============================] - 4s 2ms/step - loss: 1.0596 - accuracy: 0.5977\n",
            "Epoch 75/100\n",
            "2712/2712 [==============================] - 5s 2ms/step - loss: 1.0493 - accuracy: 0.6016\n",
            "Epoch 76/100\n",
            "2712/2712 [==============================] - 5s 2ms/step - loss: 1.0573 - accuracy: 0.5977\n",
            "Epoch 77/100\n",
            "2712/2712 [==============================] - 4s 2ms/step - loss: 1.0556 - accuracy: 0.5982\n",
            "Epoch 78/100\n",
            "2712/2712 [==============================] - 5s 2ms/step - loss: 1.0520 - accuracy: 0.6017\n",
            "Epoch 79/100\n",
            "2712/2712 [==============================] - 5s 2ms/step - loss: 1.0549 - accuracy: 0.5992\n",
            "Epoch 80/100\n",
            "2712/2712 [==============================] - 5s 2ms/step - loss: 1.0515 - accuracy: 0.5999\n",
            "Epoch 81/100\n",
            "2712/2712 [==============================] - 5s 2ms/step - loss: 1.0524 - accuracy: 0.6011\n",
            "Epoch 82/100\n",
            "2712/2712 [==============================] - 6s 2ms/step - loss: 1.0523 - accuracy: 0.6001\n",
            "Epoch 83/100\n",
            "2712/2712 [==============================] - 5s 2ms/step - loss: 1.0522 - accuracy: 0.6009\n",
            "Epoch 84/100\n",
            "2712/2712 [==============================] - 5s 2ms/step - loss: 1.0531 - accuracy: 0.5990\n",
            "Epoch 85/100\n",
            "2712/2712 [==============================] - 5s 2ms/step - loss: 1.0464 - accuracy: 0.6018\n",
            "Epoch 86/100\n",
            "2712/2712 [==============================] - 5s 2ms/step - loss: 1.0536 - accuracy: 0.5995\n",
            "Epoch 87/100\n",
            "2712/2712 [==============================] - 5s 2ms/step - loss: 1.0578 - accuracy: 0.5973\n",
            "Epoch 88/100\n",
            "2712/2712 [==============================] - 5s 2ms/step - loss: 1.0518 - accuracy: 0.5989\n",
            "Epoch 89/100\n",
            "2712/2712 [==============================] - 5s 2ms/step - loss: 1.0576 - accuracy: 0.5973\n",
            "Epoch 90/100\n",
            "2712/2712 [==============================] - 5s 2ms/step - loss: 1.0489 - accuracy: 0.5999\n",
            "Epoch 91/100\n",
            "2712/2712 [==============================] - 5s 2ms/step - loss: 1.0469 - accuracy: 0.6018\n",
            "Epoch 92/100\n",
            "2712/2712 [==============================] - 4s 2ms/step - loss: 1.0502 - accuracy: 0.6020\n",
            "Epoch 93/100\n",
            "2712/2712 [==============================] - 5s 2ms/step - loss: 1.0484 - accuracy: 0.6028\n",
            "Epoch 94/100\n",
            "2712/2712 [==============================] - 5s 2ms/step - loss: 1.0501 - accuracy: 0.6022\n",
            "Epoch 95/100\n",
            "2712/2712 [==============================] - 5s 2ms/step - loss: 1.0522 - accuracy: 0.5986\n",
            "Epoch 96/100\n",
            "2712/2712 [==============================] - 9s 3ms/step - loss: 1.0487 - accuracy: 0.6003\n",
            "Epoch 97/100\n",
            "2712/2712 [==============================] - 9s 3ms/step - loss: 1.0525 - accuracy: 0.6018\n",
            "Epoch 98/100\n",
            "2712/2712 [==============================] - 7s 3ms/step - loss: 1.0545 - accuracy: 0.6006\n",
            "Epoch 99/100\n",
            "2712/2712 [==============================] - 5s 2ms/step - loss: 1.0481 - accuracy: 0.6015\n",
            "Epoch 100/100\n",
            "2712/2712 [==============================] - 5s 2ms/step - loss: 1.0481 - accuracy: 0.6016\n"
          ]
        },
        {
          "output_type": "execute_result",
          "data": {
            "text/plain": [
              "<keras.callbacks.History at 0x7fa394460390>"
            ]
          },
          "metadata": {},
          "execution_count": 17
        }
      ],
      "source": [
        "model = keras.Sequential([\n",
        "    keras.layers.Dense(10, input_shape=(215,), activation='sigmoid')\n",
        "])\n",
        "\n",
        "model.compile(optimizer='adam',\n",
        "              loss='sparse_categorical_crossentropy',\n",
        "              metrics=['accuracy'])\n",
        "\n",
        "model.fit(X_train, y_train, epochs=100)"
      ]
    },
    {
      "cell_type": "code",
      "execution_count": null,
      "metadata": {
        "id": "3itZB-Rc7ri7",
        "outputId": "72abdfe6-ad0e-4457-d5c5-2c64f5dcf3f1"
      },
      "outputs": [
        {
          "name": "stdout",
          "output_type": "stream",
          "text": [
            "313/313 [==============================] - 0s 603us/step - loss: 7.0543 - accuracy: 0.8796\n"
          ]
        },
        {
          "data": {
            "text/plain": [
              "[7.054320335388184, 0.8795999884605408]"
            ]
          },
          "execution_count": 12,
          "metadata": {},
          "output_type": "execute_result"
        }
      ],
      "source": [
        "model.evaluate(X_test, y_test)"
      ]
    },
    {
      "cell_type": "markdown",
      "metadata": {
        "id": "1vlUVwQF7ri8"
      },
      "source": [
        "<h4 style = \"color:blue\">Comparing Accuracy with RF and SVM (with different kernels):</h4>"
      ]
    },
    {
      "cell_type": "code",
      "execution_count": null,
      "metadata": {
        "id": "mcgkCUG17ri8",
        "outputId": "4b579002-dfa4-424d-9e82-860d60b4f3ab"
      },
      "outputs": [
        {
          "data": {
            "text/plain": [
              "RandomForestClassifier(n_estimators=30)"
            ]
          },
          "execution_count": 13,
          "metadata": {},
          "output_type": "execute_result"
        }
      ],
      "source": [
        "from sklearn.ensemble import RandomForestClassifier #ensemble is used if we have to use multiple algorithms \n",
        "model_rf = RandomForestClassifier(n_estimators=30) # n_estimators = number of random dicision trees \n",
        "model_rf.fit(X_train, y_train)"
      ]
    },
    {
      "cell_type": "code",
      "execution_count": null,
      "metadata": {
        "id": "BEXjcF6v7rjs",
        "outputId": "4d67c4a9-2d93-44d1-9b79-4fd2cfd26eb3"
      },
      "outputs": [
        {
          "data": {
            "text/plain": [
              "0.963"
            ]
          },
          "execution_count": 14,
          "metadata": {},
          "output_type": "execute_result"
        }
      ],
      "source": [
        "model_rf.score(X_test, y_test)"
      ]
    },
    {
      "cell_type": "code",
      "execution_count": null,
      "metadata": {
        "id": "Mu9CLGO77rjt"
      },
      "outputs": [],
      "source": [
        "from sklearn.svm import SVC\n",
        "model_svm = SVC()"
      ]
    },
    {
      "cell_type": "code",
      "execution_count": null,
      "metadata": {
        "id": "SO7yf8ri7rju",
        "outputId": "06d2d7af-55d8-4368-de03-32a3cee26135"
      },
      "outputs": [
        {
          "data": {
            "text/plain": [
              "0.9792"
            ]
          },
          "execution_count": 16,
          "metadata": {},
          "output_type": "execute_result"
        }
      ],
      "source": [
        "model_svm.fit(X_train, y_train)\n",
        "model_svm.score(X_test, y_test)"
      ]
    },
    {
      "cell_type": "code",
      "execution_count": null,
      "metadata": {
        "id": "r2LXA1aB7rju",
        "outputId": "d465b08f-e05b-4944-9a9b-1f6e87fa8beb"
      },
      "outputs": [
        {
          "ename": "KeyboardInterrupt",
          "evalue": "",
          "output_type": "error",
          "traceback": [
            "\u001b[1;31m---------------------------------------------------------------------------\u001b[0m",
            "\u001b[1;31mKeyboardInterrupt\u001b[0m                         Traceback (most recent call last)",
            "\u001b[1;32m<ipython-input-17-94c31cba0e6e>\u001b[0m in \u001b[0;36m<module>\u001b[1;34m\u001b[0m\n\u001b[0;32m      1\u001b[0m \u001b[0mmodel_svm_poly\u001b[0m \u001b[1;33m=\u001b[0m \u001b[0mSVC\u001b[0m\u001b[1;33m(\u001b[0m\u001b[0mkernel\u001b[0m\u001b[1;33m=\u001b[0m\u001b[1;34m'poly'\u001b[0m\u001b[1;33m)\u001b[0m\u001b[1;33m\u001b[0m\u001b[1;33m\u001b[0m\u001b[0m\n\u001b[1;32m----> 2\u001b[1;33m \u001b[0mmodel_svm_poly\u001b[0m\u001b[1;33m.\u001b[0m\u001b[0mfit\u001b[0m\u001b[1;33m(\u001b[0m\u001b[0mX_train_flattened\u001b[0m\u001b[1;33m,\u001b[0m \u001b[0my_train\u001b[0m\u001b[1;33m)\u001b[0m\u001b[1;33m\u001b[0m\u001b[1;33m\u001b[0m\u001b[0m\n\u001b[0m\u001b[0;32m      3\u001b[0m \u001b[0mmodel_svm_poly\u001b[0m\u001b[1;33m.\u001b[0m\u001b[0mscore\u001b[0m\u001b[1;33m(\u001b[0m\u001b[0mX_test_flattened\u001b[0m\u001b[1;33m,\u001b[0m \u001b[0my_test\u001b[0m\u001b[1;33m)\u001b[0m\u001b[1;33m\u001b[0m\u001b[1;33m\u001b[0m\u001b[0m\n",
            "\u001b[1;32m~\\anaconda3\\lib\\site-packages\\sklearn\\svm\\_base.py\u001b[0m in \u001b[0;36mfit\u001b[1;34m(self, X, y, sample_weight)\u001b[0m\n\u001b[0;32m    215\u001b[0m \u001b[1;33m\u001b[0m\u001b[0m\n\u001b[0;32m    216\u001b[0m         \u001b[0mseed\u001b[0m \u001b[1;33m=\u001b[0m \u001b[0mrnd\u001b[0m\u001b[1;33m.\u001b[0m\u001b[0mrandint\u001b[0m\u001b[1;33m(\u001b[0m\u001b[0mnp\u001b[0m\u001b[1;33m.\u001b[0m\u001b[0miinfo\u001b[0m\u001b[1;33m(\u001b[0m\u001b[1;34m'i'\u001b[0m\u001b[1;33m)\u001b[0m\u001b[1;33m.\u001b[0m\u001b[0mmax\u001b[0m\u001b[1;33m)\u001b[0m\u001b[1;33m\u001b[0m\u001b[1;33m\u001b[0m\u001b[0m\n\u001b[1;32m--> 217\u001b[1;33m         \u001b[0mfit\u001b[0m\u001b[1;33m(\u001b[0m\u001b[0mX\u001b[0m\u001b[1;33m,\u001b[0m \u001b[0my\u001b[0m\u001b[1;33m,\u001b[0m \u001b[0msample_weight\u001b[0m\u001b[1;33m,\u001b[0m \u001b[0msolver_type\u001b[0m\u001b[1;33m,\u001b[0m \u001b[0mkernel\u001b[0m\u001b[1;33m,\u001b[0m \u001b[0mrandom_seed\u001b[0m\u001b[1;33m=\u001b[0m\u001b[0mseed\u001b[0m\u001b[1;33m)\u001b[0m\u001b[1;33m\u001b[0m\u001b[1;33m\u001b[0m\u001b[0m\n\u001b[0m\u001b[0;32m    218\u001b[0m         \u001b[1;31m# see comment on the other call to np.iinfo in this file\u001b[0m\u001b[1;33m\u001b[0m\u001b[1;33m\u001b[0m\u001b[1;33m\u001b[0m\u001b[0m\n\u001b[0;32m    219\u001b[0m \u001b[1;33m\u001b[0m\u001b[0m\n",
            "\u001b[1;32m~\\anaconda3\\lib\\site-packages\\sklearn\\svm\\_base.py\u001b[0m in \u001b[0;36m_dense_fit\u001b[1;34m(self, X, y, sample_weight, solver_type, kernel, random_seed)\u001b[0m\n\u001b[0;32m    266\u001b[0m         \u001b[0mself\u001b[0m\u001b[1;33m.\u001b[0m\u001b[0msupport_\u001b[0m\u001b[1;33m,\u001b[0m \u001b[0mself\u001b[0m\u001b[1;33m.\u001b[0m\u001b[0msupport_vectors_\u001b[0m\u001b[1;33m,\u001b[0m \u001b[0mself\u001b[0m\u001b[1;33m.\u001b[0m\u001b[0m_n_support\u001b[0m\u001b[1;33m,\u001b[0m\u001b[0;31m \u001b[0m\u001b[0;31m\\\u001b[0m\u001b[1;33m\u001b[0m\u001b[1;33m\u001b[0m\u001b[0m\n\u001b[0;32m    267\u001b[0m             \u001b[0mself\u001b[0m\u001b[1;33m.\u001b[0m\u001b[0mdual_coef_\u001b[0m\u001b[1;33m,\u001b[0m \u001b[0mself\u001b[0m\u001b[1;33m.\u001b[0m\u001b[0mintercept_\u001b[0m\u001b[1;33m,\u001b[0m \u001b[0mself\u001b[0m\u001b[1;33m.\u001b[0m\u001b[0m_probA\u001b[0m\u001b[1;33m,\u001b[0m\u001b[0;31m \u001b[0m\u001b[0;31m\\\u001b[0m\u001b[1;33m\u001b[0m\u001b[1;33m\u001b[0m\u001b[0m\n\u001b[1;32m--> 268\u001b[1;33m             self._probB, self.fit_status_ = libsvm.fit(\n\u001b[0m\u001b[0;32m    269\u001b[0m                 \u001b[0mX\u001b[0m\u001b[1;33m,\u001b[0m \u001b[0my\u001b[0m\u001b[1;33m,\u001b[0m\u001b[1;33m\u001b[0m\u001b[1;33m\u001b[0m\u001b[0m\n\u001b[0;32m    270\u001b[0m                 \u001b[0msvm_type\u001b[0m\u001b[1;33m=\u001b[0m\u001b[0msolver_type\u001b[0m\u001b[1;33m,\u001b[0m \u001b[0msample_weight\u001b[0m\u001b[1;33m=\u001b[0m\u001b[0msample_weight\u001b[0m\u001b[1;33m,\u001b[0m\u001b[1;33m\u001b[0m\u001b[1;33m\u001b[0m\u001b[0m\n",
            "\u001b[1;31mKeyboardInterrupt\u001b[0m: "
          ]
        }
      ],
      "source": [
        "model_svm_poly = SVC(kernel='poly')\n",
        "model_svm_poly.fit(X_train, y_train)\n",
        "model_svm_poly.score(X_test, y_test)"
      ]
    },
    {
      "cell_type": "code",
      "execution_count": null,
      "metadata": {
        "id": "P8UyD0ut7rjx"
      },
      "outputs": [],
      "source": [
        "model_svm_rbf = SVC(kernel='rbf')\n",
        "model_svm_rbf.fit(X_train, y_train)\n",
        "model_svm_rbf.score(X_test, y_test)"
      ]
    },
    {
      "cell_type": "markdown",
      "metadata": {
        "id": "3AmyEXFp7rjx"
      },
      "source": [
        "<h2>Improve NN with scaling the features</h2>"
      ]
    },
    {
      "cell_type": "code",
      "execution_count": null,
      "metadata": {
        "id": "TcdzWLez7rjy",
        "outputId": "1531269a-f58b-48e7-adb1-324a03ae26fc"
      },
      "outputs": [
        {
          "data": {
            "text/plain": [
              "array([[0.        , 0.        , 0.        , 0.        , 0.        ,\n",
              "        0.        , 0.        , 0.        , 0.        , 0.        ,\n",
              "        0.        , 0.        , 0.        , 0.        , 0.        ,\n",
              "        0.        , 0.        , 0.        , 0.        , 0.        ,\n",
              "        0.        , 0.        , 0.        , 0.        , 0.        ,\n",
              "        0.        , 0.        , 0.        ],\n",
              "       [0.        , 0.        , 0.        , 0.        , 0.        ,\n",
              "        0.        , 0.        , 0.        , 0.        , 0.        ,\n",
              "        0.        , 0.        , 0.        , 0.        , 0.        ,\n",
              "        0.        , 0.        , 0.        , 0.        , 0.        ,\n",
              "        0.        , 0.        , 0.        , 0.        , 0.        ,\n",
              "        0.        , 0.        , 0.        ],\n",
              "       [0.        , 0.        , 0.        , 0.        , 0.        ,\n",
              "        0.        , 0.        , 0.        , 0.        , 0.        ,\n",
              "        0.        , 0.        , 0.        , 0.        , 0.        ,\n",
              "        0.        , 0.        , 0.        , 0.        , 0.        ,\n",
              "        0.        , 0.        , 0.        , 0.        , 0.        ,\n",
              "        0.        , 0.        , 0.        ],\n",
              "       [0.        , 0.        , 0.        , 0.        , 0.        ,\n",
              "        0.        , 0.        , 0.        , 0.        , 0.        ,\n",
              "        0.        , 0.        , 0.        , 0.        , 0.        ,\n",
              "        0.        , 0.        , 0.        , 0.        , 0.        ,\n",
              "        0.        , 0.        , 0.        , 0.        , 0.        ,\n",
              "        0.        , 0.        , 0.        ],\n",
              "       [0.        , 0.        , 0.        , 0.        , 0.        ,\n",
              "        0.        , 0.        , 0.        , 0.        , 0.        ,\n",
              "        0.        , 0.        , 0.        , 0.        , 0.        ,\n",
              "        0.        , 0.        , 0.        , 0.        , 0.        ,\n",
              "        0.        , 0.        , 0.        , 0.        , 0.        ,\n",
              "        0.        , 0.        , 0.        ],\n",
              "       [0.        , 0.        , 0.        , 0.        , 0.        ,\n",
              "        0.        , 0.        , 0.        , 0.        , 0.        ,\n",
              "        0.        , 0.        , 0.01176471, 0.07058824, 0.07058824,\n",
              "        0.07058824, 0.49411765, 0.53333333, 0.68627451, 0.10196078,\n",
              "        0.65098039, 1.        , 0.96862745, 0.49803922, 0.        ,\n",
              "        0.        , 0.        , 0.        ],\n",
              "       [0.        , 0.        , 0.        , 0.        , 0.        ,\n",
              "        0.        , 0.        , 0.        , 0.11764706, 0.14117647,\n",
              "        0.36862745, 0.60392157, 0.66666667, 0.99215686, 0.99215686,\n",
              "        0.99215686, 0.99215686, 0.99215686, 0.88235294, 0.6745098 ,\n",
              "        0.99215686, 0.94901961, 0.76470588, 0.25098039, 0.        ,\n",
              "        0.        , 0.        , 0.        ],\n",
              "       [0.        , 0.        , 0.        , 0.        , 0.        ,\n",
              "        0.        , 0.        , 0.19215686, 0.93333333, 0.99215686,\n",
              "        0.99215686, 0.99215686, 0.99215686, 0.99215686, 0.99215686,\n",
              "        0.99215686, 0.99215686, 0.98431373, 0.36470588, 0.32156863,\n",
              "        0.32156863, 0.21960784, 0.15294118, 0.        , 0.        ,\n",
              "        0.        , 0.        , 0.        ],\n",
              "       [0.        , 0.        , 0.        , 0.        , 0.        ,\n",
              "        0.        , 0.        , 0.07058824, 0.85882353, 0.99215686,\n",
              "        0.99215686, 0.99215686, 0.99215686, 0.99215686, 0.77647059,\n",
              "        0.71372549, 0.96862745, 0.94509804, 0.        , 0.        ,\n",
              "        0.        , 0.        , 0.        , 0.        , 0.        ,\n",
              "        0.        , 0.        , 0.        ],\n",
              "       [0.        , 0.        , 0.        , 0.        , 0.        ,\n",
              "        0.        , 0.        , 0.        , 0.31372549, 0.61176471,\n",
              "        0.41960784, 0.99215686, 0.99215686, 0.80392157, 0.04313725,\n",
              "        0.        , 0.16862745, 0.60392157, 0.        , 0.        ,\n",
              "        0.        , 0.        , 0.        , 0.        , 0.        ,\n",
              "        0.        , 0.        , 0.        ],\n",
              "       [0.        , 0.        , 0.        , 0.        , 0.        ,\n",
              "        0.        , 0.        , 0.        , 0.        , 0.05490196,\n",
              "        0.00392157, 0.60392157, 0.99215686, 0.35294118, 0.        ,\n",
              "        0.        , 0.        , 0.        , 0.        , 0.        ,\n",
              "        0.        , 0.        , 0.        , 0.        , 0.        ,\n",
              "        0.        , 0.        , 0.        ],\n",
              "       [0.        , 0.        , 0.        , 0.        , 0.        ,\n",
              "        0.        , 0.        , 0.        , 0.        , 0.        ,\n",
              "        0.        , 0.54509804, 0.99215686, 0.74509804, 0.00784314,\n",
              "        0.        , 0.        , 0.        , 0.        , 0.        ,\n",
              "        0.        , 0.        , 0.        , 0.        , 0.        ,\n",
              "        0.        , 0.        , 0.        ],\n",
              "       [0.        , 0.        , 0.        , 0.        , 0.        ,\n",
              "        0.        , 0.        , 0.        , 0.        , 0.        ,\n",
              "        0.        , 0.04313725, 0.74509804, 0.99215686, 0.2745098 ,\n",
              "        0.        , 0.        , 0.        , 0.        , 0.        ,\n",
              "        0.        , 0.        , 0.        , 0.        , 0.        ,\n",
              "        0.        , 0.        , 0.        ],\n",
              "       [0.        , 0.        , 0.        , 0.        , 0.        ,\n",
              "        0.        , 0.        , 0.        , 0.        , 0.        ,\n",
              "        0.        , 0.        , 0.1372549 , 0.94509804, 0.88235294,\n",
              "        0.62745098, 0.42352941, 0.00392157, 0.        , 0.        ,\n",
              "        0.        , 0.        , 0.        , 0.        , 0.        ,\n",
              "        0.        , 0.        , 0.        ],\n",
              "       [0.        , 0.        , 0.        , 0.        , 0.        ,\n",
              "        0.        , 0.        , 0.        , 0.        , 0.        ,\n",
              "        0.        , 0.        , 0.        , 0.31764706, 0.94117647,\n",
              "        0.99215686, 0.99215686, 0.46666667, 0.09803922, 0.        ,\n",
              "        0.        , 0.        , 0.        , 0.        , 0.        ,\n",
              "        0.        , 0.        , 0.        ],\n",
              "       [0.        , 0.        , 0.        , 0.        , 0.        ,\n",
              "        0.        , 0.        , 0.        , 0.        , 0.        ,\n",
              "        0.        , 0.        , 0.        , 0.        , 0.17647059,\n",
              "        0.72941176, 0.99215686, 0.99215686, 0.58823529, 0.10588235,\n",
              "        0.        , 0.        , 0.        , 0.        , 0.        ,\n",
              "        0.        , 0.        , 0.        ],\n",
              "       [0.        , 0.        , 0.        , 0.        , 0.        ,\n",
              "        0.        , 0.        , 0.        , 0.        , 0.        ,\n",
              "        0.        , 0.        , 0.        , 0.        , 0.        ,\n",
              "        0.0627451 , 0.36470588, 0.98823529, 0.99215686, 0.73333333,\n",
              "        0.        , 0.        , 0.        , 0.        , 0.        ,\n",
              "        0.        , 0.        , 0.        ],\n",
              "       [0.        , 0.        , 0.        , 0.        , 0.        ,\n",
              "        0.        , 0.        , 0.        , 0.        , 0.        ,\n",
              "        0.        , 0.        , 0.        , 0.        , 0.        ,\n",
              "        0.        , 0.        , 0.97647059, 0.99215686, 0.97647059,\n",
              "        0.25098039, 0.        , 0.        , 0.        , 0.        ,\n",
              "        0.        , 0.        , 0.        ],\n",
              "       [0.        , 0.        , 0.        , 0.        , 0.        ,\n",
              "        0.        , 0.        , 0.        , 0.        , 0.        ,\n",
              "        0.        , 0.        , 0.        , 0.        , 0.18039216,\n",
              "        0.50980392, 0.71764706, 0.99215686, 0.99215686, 0.81176471,\n",
              "        0.00784314, 0.        , 0.        , 0.        , 0.        ,\n",
              "        0.        , 0.        , 0.        ],\n",
              "       [0.        , 0.        , 0.        , 0.        , 0.        ,\n",
              "        0.        , 0.        , 0.        , 0.        , 0.        ,\n",
              "        0.        , 0.        , 0.15294118, 0.58039216, 0.89803922,\n",
              "        0.99215686, 0.99215686, 0.99215686, 0.98039216, 0.71372549,\n",
              "        0.        , 0.        , 0.        , 0.        , 0.        ,\n",
              "        0.        , 0.        , 0.        ],\n",
              "       [0.        , 0.        , 0.        , 0.        , 0.        ,\n",
              "        0.        , 0.        , 0.        , 0.        , 0.        ,\n",
              "        0.09411765, 0.44705882, 0.86666667, 0.99215686, 0.99215686,\n",
              "        0.99215686, 0.99215686, 0.78823529, 0.30588235, 0.        ,\n",
              "        0.        , 0.        , 0.        , 0.        , 0.        ,\n",
              "        0.        , 0.        , 0.        ],\n",
              "       [0.        , 0.        , 0.        , 0.        , 0.        ,\n",
              "        0.        , 0.        , 0.        , 0.09019608, 0.25882353,\n",
              "        0.83529412, 0.99215686, 0.99215686, 0.99215686, 0.99215686,\n",
              "        0.77647059, 0.31764706, 0.00784314, 0.        , 0.        ,\n",
              "        0.        , 0.        , 0.        , 0.        , 0.        ,\n",
              "        0.        , 0.        , 0.        ],\n",
              "       [0.        , 0.        , 0.        , 0.        , 0.        ,\n",
              "        0.        , 0.07058824, 0.67058824, 0.85882353, 0.99215686,\n",
              "        0.99215686, 0.99215686, 0.99215686, 0.76470588, 0.31372549,\n",
              "        0.03529412, 0.        , 0.        , 0.        , 0.        ,\n",
              "        0.        , 0.        , 0.        , 0.        , 0.        ,\n",
              "        0.        , 0.        , 0.        ],\n",
              "       [0.        , 0.        , 0.        , 0.        , 0.21568627,\n",
              "        0.6745098 , 0.88627451, 0.99215686, 0.99215686, 0.99215686,\n",
              "        0.99215686, 0.95686275, 0.52156863, 0.04313725, 0.        ,\n",
              "        0.        , 0.        , 0.        , 0.        , 0.        ,\n",
              "        0.        , 0.        , 0.        , 0.        , 0.        ,\n",
              "        0.        , 0.        , 0.        ],\n",
              "       [0.        , 0.        , 0.        , 0.        , 0.53333333,\n",
              "        0.99215686, 0.99215686, 0.99215686, 0.83137255, 0.52941176,\n",
              "        0.51764706, 0.0627451 , 0.        , 0.        , 0.        ,\n",
              "        0.        , 0.        , 0.        , 0.        , 0.        ,\n",
              "        0.        , 0.        , 0.        , 0.        , 0.        ,\n",
              "        0.        , 0.        , 0.        ],\n",
              "       [0.        , 0.        , 0.        , 0.        , 0.        ,\n",
              "        0.        , 0.        , 0.        , 0.        , 0.        ,\n",
              "        0.        , 0.        , 0.        , 0.        , 0.        ,\n",
              "        0.        , 0.        , 0.        , 0.        , 0.        ,\n",
              "        0.        , 0.        , 0.        , 0.        , 0.        ,\n",
              "        0.        , 0.        , 0.        ],\n",
              "       [0.        , 0.        , 0.        , 0.        , 0.        ,\n",
              "        0.        , 0.        , 0.        , 0.        , 0.        ,\n",
              "        0.        , 0.        , 0.        , 0.        , 0.        ,\n",
              "        0.        , 0.        , 0.        , 0.        , 0.        ,\n",
              "        0.        , 0.        , 0.        , 0.        , 0.        ,\n",
              "        0.        , 0.        , 0.        ],\n",
              "       [0.        , 0.        , 0.        , 0.        , 0.        ,\n",
              "        0.        , 0.        , 0.        , 0.        , 0.        ,\n",
              "        0.        , 0.        , 0.        , 0.        , 0.        ,\n",
              "        0.        , 0.        , 0.        , 0.        , 0.        ,\n",
              "        0.        , 0.        , 0.        , 0.        , 0.        ,\n",
              "        0.        , 0.        , 0.        ]])"
            ]
          },
          "execution_count": 18,
          "metadata": {},
          "output_type": "execute_result"
        }
      ],
      "source": [
        "X_train = X_train / 255\n",
        "X_test = X_test / 255\n",
        "X_train[0]"
      ]
    },
    {
      "cell_type": "code",
      "execution_count": null,
      "metadata": {
        "id": "ouii1LnE7rjy",
        "outputId": "74a90b86-c8ac-46a7-871f-5d9d0cf308cb"
      },
      "outputs": [
        {
          "name": "stdout",
          "output_type": "stream",
          "text": [
            "Epoch 1/5\n",
            "1875/1875 [==============================] - 2s 956us/step - loss: 1.3318 - accuracy: 0.6877\n",
            "Epoch 2/5\n",
            "1875/1875 [==============================] - 2s 912us/step - loss: 0.8537 - accuracy: 0.8729\n",
            "Epoch 3/5\n",
            "1875/1875 [==============================] - 2s 919us/step - loss: 0.5943 - accuracy: 0.8877\n",
            "Epoch 4/5\n",
            "1875/1875 [==============================] - 2s 935us/step - loss: 0.4372 - accuracy: 0.8994\n",
            "Epoch 5/5\n",
            "1875/1875 [==============================] - 2s 918us/step - loss: 0.3505 - accuracy: 0.9082\n"
          ]
        },
        {
          "data": {
            "text/plain": [
              "<keras.callbacks.History at 0x16c3596f460>"
            ]
          },
          "execution_count": 19,
          "metadata": {},
          "output_type": "execute_result"
        }
      ],
      "source": [
        "X_train_flattened_1 = X_train.reshape(len(X_train), 28*28)\n",
        "X_test_flattened_1 = X_test.reshape(len(X_test), 28*28)\n",
        "model.fit(X_train_flattened_1, y_train, epochs=5)"
      ]
    },
    {
      "cell_type": "code",
      "execution_count": null,
      "metadata": {
        "colab": {
          "base_uri": "https://localhost:8080/",
          "height": 172
        },
        "id": "muuwATTQ7rjy",
        "outputId": "b7f4cd51-3c71-4a03-d487-d2cd61e7d584"
      },
      "outputs": [
        {
          "output_type": "error",
          "ename": "NameError",
          "evalue": "ignored",
          "traceback": [
            "\u001b[0;31m---------------------------------------------------------------------------\u001b[0m",
            "\u001b[0;31mNameError\u001b[0m                                 Traceback (most recent call last)",
            "\u001b[0;32m<ipython-input-11-0c0ef8a7a329>\u001b[0m in \u001b[0;36m<module>\u001b[0;34m()\u001b[0m\n\u001b[0;32m----> 1\u001b[0;31m \u001b[0mmodel\u001b[0m\u001b[0;34m.\u001b[0m\u001b[0mfit\u001b[0m\u001b[0;34m(\u001b[0m\u001b[0mX_train_flattened_1\u001b[0m\u001b[0;34m,\u001b[0m \u001b[0my_train\u001b[0m\u001b[0;34m,\u001b[0m \u001b[0mepochs\u001b[0m\u001b[0;34m=\u001b[0m\u001b[0;36m15\u001b[0m\u001b[0;34m)\u001b[0m\u001b[0;34m\u001b[0m\u001b[0;34m\u001b[0m\u001b[0m\n\u001b[0m",
            "\u001b[0;31mNameError\u001b[0m: name 'X_train_flattened_1' is not defined"
          ]
        }
      ],
      "source": [
        "model.fit(X_train_flattened_1, y_train, epochs=15)"
      ]
    },
    {
      "cell_type": "code",
      "execution_count": null,
      "metadata": {
        "colab": {
          "base_uri": "https://localhost:8080/",
          "height": 172
        },
        "id": "AjT55XvX7rjy",
        "outputId": "11fba37b-e799-4835-f04d-74aeb4885750"
      },
      "outputs": [
        {
          "output_type": "error",
          "ename": "NameError",
          "evalue": "ignored",
          "traceback": [
            "\u001b[0;31m---------------------------------------------------------------------------\u001b[0m",
            "\u001b[0;31mNameError\u001b[0m                                 Traceback (most recent call last)",
            "\u001b[0;32m<ipython-input-12-e50a73c87811>\u001b[0m in \u001b[0;36m<module>\u001b[0;34m()\u001b[0m\n\u001b[0;32m----> 1\u001b[0;31m \u001b[0mmodel\u001b[0m\u001b[0;34m.\u001b[0m\u001b[0mevaluate\u001b[0m\u001b[0;34m(\u001b[0m\u001b[0mX_test_flattened_1\u001b[0m\u001b[0;34m,\u001b[0m \u001b[0my_test\u001b[0m\u001b[0;34m)\u001b[0m\u001b[0;34m\u001b[0m\u001b[0;34m\u001b[0m\u001b[0m\n\u001b[0m",
            "\u001b[0;31mNameError\u001b[0m: name 'X_test_flattened_1' is not defined"
          ]
        }
      ],
      "source": [
        "model.evaluate(X_test_flattened_1, y_test)"
      ]
    },
    {
      "cell_type": "markdown",
      "metadata": {
        "id": "LrJUlUpM7rkS"
      },
      "source": [
        "<h3>Now we try to draw the Confusion matrix</h3>\n",
        "<p>Here, the NN will predict the test data considering each of the neurons. So, we need to find out the best neuron which is giving us the highest prediction.\n",
        "    <br> In this case we have to use the argmax() function for those neurons. </p>"
      ]
    },
    {
      "cell_type": "code",
      "execution_count": null,
      "metadata": {
        "colab": {
          "base_uri": "https://localhost:8080/",
          "height": 190
        },
        "id": "zW7SM71J7rkT",
        "outputId": "98ce7a15-f9ee-46fb-a5f1-21ac3af53a7f"
      },
      "outputs": [
        {
          "output_type": "error",
          "ename": "NameError",
          "evalue": "ignored",
          "traceback": [
            "\u001b[0;31m---------------------------------------------------------------------------\u001b[0m",
            "\u001b[0;31mNameError\u001b[0m                                 Traceback (most recent call last)",
            "\u001b[0;32m<ipython-input-13-a793fa86a41d>\u001b[0m in \u001b[0;36m<module>\u001b[0;34m()\u001b[0m\n\u001b[0;32m----> 1\u001b[0;31m \u001b[0my_predicted\u001b[0m \u001b[0;34m=\u001b[0m \u001b[0mmodel\u001b[0m\u001b[0;34m.\u001b[0m\u001b[0mpredict\u001b[0m\u001b[0;34m(\u001b[0m\u001b[0mX_test_flattened_1\u001b[0m\u001b[0;34m)\u001b[0m\u001b[0;34m\u001b[0m\u001b[0;34m\u001b[0m\u001b[0m\n\u001b[0m\u001b[1;32m      2\u001b[0m \u001b[0my_predicted_labels\u001b[0m \u001b[0;34m=\u001b[0m \u001b[0;34m[\u001b[0m\u001b[0mnp\u001b[0m\u001b[0;34m.\u001b[0m\u001b[0margmax\u001b[0m\u001b[0;34m(\u001b[0m\u001b[0mi\u001b[0m\u001b[0;34m)\u001b[0m \u001b[0;32mfor\u001b[0m \u001b[0mi\u001b[0m \u001b[0;32min\u001b[0m \u001b[0my_predicted\u001b[0m\u001b[0;34m]\u001b[0m\u001b[0;34m\u001b[0m\u001b[0;34m\u001b[0m\u001b[0m\n",
            "\u001b[0;31mNameError\u001b[0m: name 'X_test_flattened_1' is not defined"
          ]
        }
      ],
      "source": [
        "y_predicted = model.predict(X_test_flattened_1)\n",
        "y_predicted_labels = [np.argmax(i) for i in y_predicted]"
      ]
    },
    {
      "cell_type": "markdown",
      "metadata": {
        "id": "rfQIjY8f7rkT"
      },
      "source": [
        "**Now we need to draw the confusion matrix to show where our model is doing mistakes**\n",
        "<br>\n",
        "<br>\n",
        "***Tensorflow has its own confusion matrix function where \"labels\" is the truth data and \"predictions\" is the predicted data***"
      ]
    },
    {
      "cell_type": "code",
      "execution_count": null,
      "metadata": {
        "id": "DUneWC5k7rkT",
        "outputId": "8eb53fdd-f3c8-46ed-869d-a54ba0415c05"
      },
      "outputs": [
        {
          "data": {
            "text/plain": [
              "<tf.Tensor: shape=(10, 10), dtype=int32, numpy=\n",
              "array([[  27,    0,    0,    0,    0,    0,    0,    0,  953,    0],\n",
              "       [   0,    0,    0,    0,    0,    0,    0,    0, 1135,    0],\n",
              "       [   1,    0,    0,    0,    0,    0,    0,    0, 1031,    0],\n",
              "       [   0,    0,    0,    0,    0,    0,    0,    0, 1010,    0],\n",
              "       [   0,    0,    0,    0,    0,    0,    0,    0,  982,    0],\n",
              "       [   0,    0,    0,    0,    0,    0,    0,    0,  892,    0],\n",
              "       [   0,    0,    0,    0,    0,    0,    0,    0,  958,    0],\n",
              "       [   5,    0,    0,    0,    0,    0,    0,    0, 1023,    0],\n",
              "       [   0,    0,    0,    0,    0,    0,    0,    0,  974,    0],\n",
              "       [   0,    0,    0,    0,    0,    0,    0,    0, 1009,    0]])>"
            ]
          },
          "execution_count": 40,
          "metadata": {},
          "output_type": "execute_result"
        }
      ],
      "source": [
        "cm = tf.math.confusion_matrix(labels=y_test,predictions=y_predicted_labels)\n",
        "cm"
      ]
    },
    {
      "cell_type": "code",
      "execution_count": null,
      "metadata": {
        "id": "5GbjX6za7rkU",
        "outputId": "6e6c73dd-d10b-45bb-e0f1-085f6f1c2ef9"
      },
      "outputs": [
        {
          "data": {
            "text/plain": [
              "Text(69.0, 0.5, 'Truth')"
            ]
          },
          "execution_count": 41,
          "metadata": {},
          "output_type": "execute_result"
        },
        {
          "data": {
            "image/png": "[encoded data removed]",
            "text/plain": [
              "<Figure size 720x504 with 2 Axes>"
            ]
          },
          "metadata": {
            "needs_background": "light"
          },
          "output_type": "display_data"
        }
      ],
      "source": [
        "import seaborn as sn\n",
        "plt.figure(figsize = (10,7))\n",
        "sn.heatmap(cm, annot=True, fmt='d') # here, cm is called to be visualized\n",
        "plt.xlabel('Predicted')\n",
        "plt.ylabel('Truth')"
      ]
    },
    {
      "cell_type": "markdown",
      "metadata": {
        "id": "WvYkDLFM7rkU"
      },
      "source": [
        "<h3>Add hidden layers in the NN to improve the accuracy</h3>\n",
        "<p>What we will do here: <br>\n",
        "    1. The first layer includes the input layer and hidden layer. The number of neurons in the hidden layer is fixed based on some trail and error <br>\n",
        "    2. The last layer includes the output layer<br>\n",
        "    3. layers are comma (,) separated\n",
        "    \n",
        "<b>Note: When the NN adds hidden layer, it will take more time to be trained</b>\n",
        "\n",
        "</p>"
      ]
    },
    {
      "cell_type": "code",
      "execution_count": null,
      "metadata": {
        "id": "BqT6dFTF7rkU",
        "outputId": "f885601f-191e-4118-fd7f-4e64e4ce8193"
      },
      "outputs": [
        {
          "name": "stdout",
          "output_type": "stream",
          "text": [
            "Epoch 1/5\n",
            "1875/1875 [==============================] - 2s 717us/step - loss: 2.3340 - accuracy: 0.8416\n",
            "Epoch 2/5\n",
            "1875/1875 [==============================] - 1s 718us/step - loss: 0.3981 - accuracy: 0.9038\n",
            "Epoch 3/5\n",
            "1875/1875 [==============================] - 1s 713us/step - loss: 0.2918 - accuracy: 0.9255\n",
            "Epoch 4/5\n",
            "1875/1875 [==============================] - 1s 715us/step - loss: 0.2495 - accuracy: 0.9352\n",
            "Epoch 5/5\n",
            "1875/1875 [==============================] - 1s 726us/step - loss: 0.2309 - accuracy: 0.9398\n"
          ]
        },
        {
          "data": {
            "text/plain": [
              "<keras.callbacks.History at 0x16c367c2fa0>"
            ]
          },
          "execution_count": 45,
          "metadata": {},
          "output_type": "execute_result"
        }
      ],
      "source": [
        "model = keras.Sequential([\n",
        "    keras.layers.Dense(100, input_shape=(784,), activation='relu'), # input layer\n",
        "    keras.layers.Dense(10, activation='sigmoid') # output layer\n",
        "])\n",
        "\n",
        "model.compile(optimizer='adam',\n",
        "              loss='sparse_categorical_crossentropy',\n",
        "              metrics=['accuracy'])\n",
        "\n",
        "model.fit(X_train_flattened, y_train, epochs=5)"
      ]
    },
    {
      "cell_type": "code",
      "execution_count": null,
      "metadata": {
        "id": "3HxUrZsG7rkV",
        "outputId": "6e27b786-6e5f-46ba-a51a-b24f17bf4fb7"
      },
      "outputs": [
        {
          "name": "stdout",
          "output_type": "stream",
          "text": [
            "Epoch 1/15\n",
            "1875/1875 [==============================] - 1s 769us/step - loss: 0.2146 - accuracy: 0.9454\n",
            "Epoch 2/15\n",
            "1875/1875 [==============================] - 1s 762us/step - loss: 0.2051 - accuracy: 0.9477\n",
            "Epoch 3/15\n",
            "1875/1875 [==============================] - 1s 733us/step - loss: 0.1938 - accuracy: 0.9510\n",
            "Epoch 4/15\n",
            "1875/1875 [==============================] - 1s 760us/step - loss: 0.1848 - accuracy: 0.9530\n",
            "Epoch 5/15\n",
            "1875/1875 [==============================] - 1s 765us/step - loss: 0.1775 - accuracy: 0.9554\n",
            "Epoch 6/15\n",
            "1875/1875 [==============================] - 1s 766us/step - loss: 0.1715 - accuracy: 0.9560\n",
            "Epoch 7/15\n",
            "1875/1875 [==============================] - 1s 764us/step - loss: 0.1739 - accuracy: 0.9578\n",
            "Epoch 8/15\n",
            "1875/1875 [==============================] - 2s 822us/step - loss: 0.1716 - accuracy: 0.9578\n",
            "Epoch 9/15\n",
            "1875/1875 [==============================] - 1s 786us/step - loss: 0.1685 - accuracy: 0.9586\n",
            "Epoch 10/15\n",
            "1875/1875 [==============================] - 1s 724us/step - loss: 0.1582 - accuracy: 0.9611\n",
            "Epoch 11/15\n",
            "1875/1875 [==============================] - 1s 789us/step - loss: 0.1573 - accuracy: 0.9613\n",
            "Epoch 12/15\n",
            "1875/1875 [==============================] - 1s 787us/step - loss: 0.1574 - accuracy: 0.9611\n",
            "Epoch 13/15\n",
            "1875/1875 [==============================] - 1s 787us/step - loss: 0.1641 - accuracy: 0.9604\n",
            "Epoch 14/15\n",
            "1875/1875 [==============================] - 1s 785us/step - loss: 0.1534 - accuracy: 0.9616\n",
            "Epoch 15/15\n",
            "1875/1875 [==============================] - 1s 790us/step - loss: 0.1535 - accuracy: 0.9623\n"
          ]
        },
        {
          "data": {
            "text/plain": [
              "<keras.callbacks.History at 0x16c3650cfa0>"
            ]
          },
          "execution_count": 31,
          "metadata": {},
          "output_type": "execute_result"
        }
      ],
      "source": [
        "model.fit(X_train_flattened, y_train, epochs=15)"
      ]
    },
    {
      "cell_type": "code",
      "execution_count": null,
      "metadata": {
        "id": "RJ5a7j1l7rka",
        "outputId": "d29b0761-a9f7-4c07-fbbc-b3b32fbe66ad"
      },
      "outputs": [
        {
          "name": "stdout",
          "output_type": "stream",
          "text": [
            "313/313 [==============================] - 0s 606us/step - loss: 0.2725 - accuracy: 0.9375\n"
          ]
        },
        {
          "data": {
            "text/plain": [
              "[0.272487610578537, 0.9375]"
            ]
          },
          "execution_count": 43,
          "metadata": {},
          "output_type": "execute_result"
        }
      ],
      "source": [
        "model.evaluate(X_test_flattened, y_test)"
      ]
    },
    {
      "cell_type": "code",
      "execution_count": null,
      "metadata": {
        "id": "xF69s0v17rka",
        "outputId": "ed5a87d1-806c-4148-c64c-65ed9510ca5c"
      },
      "outputs": [
        {
          "data": {
            "text/plain": [
              "Text(69.0, 0.5, 'Truth')"
            ]
          },
          "execution_count": 36,
          "metadata": {},
          "output_type": "execute_result"
        },
        {
          "data": {
            "image/png": "[encoded data removed]",
            "text/plain": [
              "<Figure size 720x504 with 2 Axes>"
            ]
          },
          "metadata": {
            "needs_background": "light"
          },
          "output_type": "display_data"
        }
      ],
      "source": [
        "y_predicted = model.predict(X_test_flattened)\n",
        "y_predicted_labels = [np.argmax(i) for i in y_predicted]\n",
        "cm = tf.math.confusion_matrix(labels=y_test,predictions=y_predicted_labels)\n",
        "\n",
        "plt.figure(figsize = (10,7))\n",
        "sn.heatmap(cm, annot=True, fmt='d')\n",
        "plt.xlabel('Predicted')\n",
        "plt.ylabel('Truth')"
      ]
    },
    {
      "cell_type": "markdown",
      "metadata": {
        "id": "WQ66xrYE7rkb"
      },
      "source": [
        "<h3>Using Flatten layer so that we don't have to call .reshape function on input dataset</h3>"
      ]
    },
    {
      "cell_type": "code",
      "execution_count": null,
      "metadata": {
        "id": "PTflNSFY7rkb",
        "outputId": "a17942db-2669-41ff-8c24-3d77f6baa6f4"
      },
      "outputs": [
        {
          "name": "stdout",
          "output_type": "stream",
          "text": [
            "Epoch 1/5\n",
            "1875/1875 [==============================] - 2s 733us/step - loss: 0.2730 - accuracy: 0.9233\n",
            "Epoch 2/5\n",
            "1875/1875 [==============================] - 1s 727us/step - loss: 0.1240 - accuracy: 0.9633\n",
            "Epoch 3/5\n",
            "1875/1875 [==============================] - 1s 727us/step - loss: 0.0858 - accuracy: 0.9740\n",
            "Epoch 4/5\n",
            "1875/1875 [==============================] - 1s 726us/step - loss: 0.0655 - accuracy: 0.9794\n",
            "Epoch 5/5\n",
            "1875/1875 [==============================] - 1s 777us/step - loss: 0.0517 - accuracy: 0.9837\n"
          ]
        },
        {
          "data": {
            "text/plain": [
              "<keras.callbacks.History at 0x16c36c24ac0>"
            ]
          },
          "execution_count": 47,
          "metadata": {},
          "output_type": "execute_result"
        }
      ],
      "source": [
        "model = keras.Sequential([\n",
        "    keras.layers.Flatten(input_shape=(28, 28)), # input layer is reshaped and flattened\n",
        "    keras.layers.Dense(100, activation='relu'), # input layer\n",
        "    keras.layers.Dense(10, activation='sigmoid') # output layer\n",
        "])\n",
        "\n",
        "model.compile(optimizer='adam',\n",
        "              loss='sparse_categorical_crossentropy',\n",
        "              metrics=['accuracy'])\n",
        "\n",
        "model.fit(X_train, y_train, epochs=5)"
      ]
    },
    {
      "cell_type": "code",
      "execution_count": null,
      "metadata": {
        "id": "J1WclpdP7rkb",
        "outputId": "d35cbf4a-26ea-4e28-c85a-7a81329fb8f2"
      },
      "outputs": [
        {
          "data": {
            "text/plain": [
              "Text(69.0, 0.5, 'Truth')"
            ]
          },
          "execution_count": 48,
          "metadata": {},
          "output_type": "execute_result"
        },
        {
          "data": {
            "image/png": "[encoded data removed]",
            "text/plain": [
              "<Figure size 720x504 with 2 Axes>"
            ]
          },
          "metadata": {
            "needs_background": "light"
          },
          "output_type": "display_data"
        }
      ],
      "source": [
        "y_predicted = model.predict(X_test)\n",
        "y_predicted_labels = [np.argmax(i) for i in y_predicted]\n",
        "cm = tf.math.confusion_matrix(labels=y_test,predictions=y_predicted_labels)\n",
        "\n",
        "plt.figure(figsize = (10,7))\n",
        "sn.heatmap(cm, annot=True, fmt='d')\n",
        "plt.xlabel('Predicted')\n",
        "plt.ylabel('Truth')"
      ]
    },
    {
      "cell_type": "code",
      "execution_count": null,
      "metadata": {
        "id": "WU_ix7vZ7rkc",
        "outputId": "818bd55a-7e52-4ecc-faa7-26ece8b6c926"
      },
      "outputs": [
        {
          "name": "stdout",
          "output_type": "stream",
          "text": [
            "313/313 [==============================] - 0s 626us/step - loss: 0.0776 - accuracy: 0.9763\n"
          ]
        },
        {
          "data": {
            "text/plain": [
              "[0.07760973274707794, 0.9763000011444092]"
            ]
          },
          "execution_count": 49,
          "metadata": {},
          "output_type": "execute_result"
        }
      ],
      "source": [
        "model.evaluate(X_test, y_test)"
      ]
    },
    {
      "cell_type": "code",
      "execution_count": null,
      "metadata": {
        "id": "AboWdW_87rkc"
      },
      "outputs": [],
      "source": [
        ""
      ]
    }
  ],
  "metadata": {
    "kernelspec": {
      "display_name": "Python 3",
      "language": "python",
      "name": "python3"
    },
    "language_info": {
      "codemirror_mode": {
        "name": "ipython",
        "version": 3
      },
      "file_extension": ".py",
      "mimetype": "text/x-python",
      "name": "python",
      "nbconvert_exporter": "python",
      "pygments_lexer": "ipython3",
      "version": "3.8.3"
    },
    "colab": {
      "name": "ANN_TEST3.ipynb",
      "provenance": [],
      "include_colab_link": true
    }
  },
  "nbformat": 4,
  "nbformat_minor": 0
}