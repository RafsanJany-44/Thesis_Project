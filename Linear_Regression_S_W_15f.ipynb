{
  "nbformat": 4,
  "nbformat_minor": 0,
  "metadata": {
    "colab": {
      "name": "Linear_Regression.ipynb",
      "provenance": [],
      "authorship_tag": "ABX9TyNCTxi0afblFJi9P2x2RoQ0",
      "include_colab_link": true
    },
    "kernelspec": {
      "name": "python3",
      "display_name": "Python 3"
    },
    "language_info": {
      "name": "python"
    }
  },
  "cells": [
    {
      "cell_type": "markdown",
      "metadata": {
        "id": "view-in-github",
        "colab_type": "text"
      },
      "source": [
        "<a href=\"https://colab.research.google.com/github/RafsanJany-44/Thesis_Project/blob/main/Linear_Regression_S_W_15f.ipynb\" target=\"_parent\"><img src=\"https://colab.research.google.com/assets/colab-badge.svg\" alt=\"Open In Colab\"/></a>"
      ]
    },
    {
      "cell_type": "code",
      "execution_count": 38,
      "metadata": {
        "id": "kgTBQIr7DOlc"
      },
      "outputs": [],
      "source": [
        "import numpy as np\n",
        "import pandas as pd\n",
        "import matplotlib.pyplot as plt\n"
      ]
    },
    {
      "cell_type": "code",
      "source": [
        "ds2=pd.read_csv(\"/content/S_W_15f.csv\")\n",
        "print(ds2)"
      ],
      "metadata": {
        "colab": {
          "base_uri": "https://localhost:8080/"
        },
        "id": "wOs_Fc06DpPJ",
        "outputId": "e4d3f7a5-d3ff-4120-faaf-116a294bc620"
      },
      "execution_count": 39,
      "outputs": [
        {
          "output_type": "stream",
          "name": "stdout",
          "text": [
            "       Sleep_Stage  Spectral Edge_Beta_F4  ...  MedianF_Theta_C4  MedianF_Theta_O2\n",
            "0                W               33.84195  ...           5.24488           4.49561\n",
            "1                W               29.34634  ...           5.74439           5.86927\n",
            "2                W               28.22244  ...           5.61951           5.74439\n",
            "3                W               28.72195  ...           5.99415           6.11902\n",
            "4                W               28.09756  ...           5.74439           5.86927\n",
            "...            ...                    ...  ...               ...               ...\n",
            "108446           S               26.97366  ...           5.99415           5.86927\n",
            "108447           S               26.47415  ...           5.74439           5.74439\n",
            "108448           S               24.10146  ...           5.99415           6.11902\n",
            "108449           W               32.96780  ...           6.49366           5.86927\n",
            "108450           W               38.08780  ...           6.86829           4.62049\n",
            "\n",
            "[108451 rows x 16 columns]\n"
          ]
        }
      ]
    },
    {
      "cell_type": "code",
      "source": [
        "x=ds2.iloc[:,:-1].values\n",
        "y=ds2.iloc[:,1:].values"
      ],
      "metadata": {
        "id": "M4wYiYBZDpKj"
      },
      "execution_count": 40,
      "outputs": []
    },
    {
      "cell_type": "code",
      "source": [
        "print(x[:,0])"
      ],
      "metadata": {
        "colab": {
          "base_uri": "https://localhost:8080/"
        },
        "id": "YR4OIou1F2vp",
        "outputId": "0124a9d6-32d3-460b-ce37-7f87c2f90109"
      },
      "execution_count": 41,
      "outputs": [
        {
          "output_type": "stream",
          "name": "stdout",
          "text": [
            "['W' 'W' 'W' ... 'S' 'W' 'W']\n"
          ]
        }
      ]
    },
    {
      "cell_type": "code",
      "source": [
        "from sklearn.preprocessing import LabelEncoder\n",
        "labelencoder_X=LabelEncoder()\n",
        "x[:,0]=labelencoder_X.fit_transform(x[:,0])"
      ],
      "metadata": {
        "id": "-1ClIEwdDpEC"
      },
      "execution_count": 42,
      "outputs": []
    },
    {
      "cell_type": "code",
      "source": [
        "print(x)"
      ],
      "metadata": {
        "colab": {
          "base_uri": "https://localhost:8080/"
        },
        "id": "2hHuezVxGVNM",
        "outputId": "65465e38-aaaf-4199-b3f9-9505492d0940"
      },
      "execution_count": 43,
      "outputs": [
        {
          "output_type": "stream",
          "name": "stdout",
          "text": [
            "[[1 33.84195 19.730729999999998 ... 28.971709999999998 2.2478 5.24488]\n",
            " [1 29.34634 17.23317 ... 26.34927 2.99707 5.74439]\n",
            " [1 28.222440000000002 17.6078 ... 24.85073 5.12 5.61951]\n",
            " ...\n",
            " [0 24.10146 14.48585 ... 22.85268 5.49463 5.99415]\n",
            " [1 32.9678 19.730729999999998 ... 26.7239 4.745369999999999 6.49366]\n",
            " [1 38.0878 23.227320000000002 ... 33.46732 2.8722 6.868289999999999]]\n"
          ]
        }
      ]
    },
    {
      "cell_type": "code",
      "source": [
        "from sklearn.model_selection import train_test_split\n",
        "x_train,x_test,y_train,y_test=train_test_split(x,y,test_size=0.3,random_state=0)"
      ],
      "metadata": {
        "id": "cWix8LpMDpCS"
      },
      "execution_count": 44,
      "outputs": []
    },
    {
      "cell_type": "code",
      "source": [
        "from sklearn.linear_model import LinearRegression\n",
        "regressor=LinearRegression()\n",
        "regressor.fit(x_train,y_train)"
      ],
      "metadata": {
        "colab": {
          "base_uri": "https://localhost:8080/"
        },
        "id": "yPcjw62ZDo8s",
        "outputId": "a669a1d6-f8de-4b9e-c824-8694a58e3330"
      },
      "execution_count": 45,
      "outputs": [
        {
          "output_type": "execute_result",
          "data": {
            "text/plain": [
              "LinearRegression()"
            ]
          },
          "metadata": {},
          "execution_count": 45
        }
      ]
    },
    {
      "cell_type": "code",
      "source": [
        "y_pred=regressor.predict(x_test)"
      ],
      "metadata": {
        "id": "-snUqtYyDo48"
      },
      "execution_count": 46,
      "outputs": []
    },
    {
      "cell_type": "code",
      "source": [
        "print(y_pred)\n",
        "print(y_test)"
      ],
      "metadata": {
        "colab": {
          "base_uri": "https://localhost:8080/"
        },
        "id": "l8jOzOuYDoj7",
        "outputId": "e75bbf31-75e4-4204-f3ca-c73ba92f5f55"
      },
      "execution_count": 47,
      "outputs": [
        {
          "output_type": "stream",
          "name": "stdout",
          "text": [
            "[[25.10049    12.98732    24.35122    ...  4.99512     5.36976\n",
            "   5.64722802]\n",
            " [24.35122    13.48683    23.22732    ...  4.99512     5.74439\n",
            "   5.80924846]\n",
            " [49.95122    49.82634    49.95122    ...  5.12        5.99415\n",
            "   8.2103188 ]\n",
            " ...\n",
            " [31.21951    17.98244    31.21951    ...  2.62244     4.12098\n",
            "   4.90364064]\n",
            " [33.5922     17.23317    32.59317    ...  5.86927     5.61951\n",
            "   6.08775105]\n",
            " [21.6039     12.36293    21.47902    ...  5.99415     5.99415\n",
            "   5.9773863 ]]\n",
            "[[25.10049 12.98732 24.35122 ...  4.99512  5.36976  5.12   ]\n",
            " [24.35122 13.48683 23.22732 ...  4.99512  5.74439  5.86927]\n",
            " [49.95122 49.82634 49.95122 ...  5.12     5.99415  5.86927]\n",
            " ...\n",
            " [31.21951 17.98244 31.21951 ...  2.62244  4.12098  3.74634]\n",
            " [33.5922  17.23317 32.59317 ...  5.86927  5.61951  5.24488]\n",
            " [21.6039  12.36293 21.47902 ...  5.99415  5.99415  5.99415]]\n"
          ]
        }
      ]
    },
    {
      "cell_type": "code",
      "source": [
        ""
      ],
      "metadata": {
        "id": "T2pexcL8Dogi"
      },
      "execution_count": 47,
      "outputs": []
    },
    {
      "cell_type": "code",
      "source": [
        "plt.scatter(y_pred,y_test)\n",
        "plt.title(\"Predict Vs Actual\")\n",
        "plt.xlabel(\"Actual\")\n",
        "plt.ylabel(\"Predict\")\n",
        "plt.show()"
      ],
      "metadata": {
        "colab": {
          "base_uri": "https://localhost:8080/",
          "height": 294
        },
        "id": "LoyvnvGhDoWs",
        "outputId": "3c2e9778-8701-4e2d-c1dc-a6feeda713d3"
      },
      "execution_count": 48,
      "outputs": [
        {
          "output_type": "display_data",
          "data": {
            "image/png": "[encoded data removed]",
            "text/plain": [
              "<Figure size 432x288 with 1 Axes>"
            ]
          },
          "metadata": {
            "needs_background": "light"
          }
        }
      ]
    },
    {
      "cell_type": "code",
      "source": [
        "from sklearn.metrics import r2_score\n",
        "score=r2_score(y_test,y_pred)\n",
        "print('r2 socre is' ,score)"
      ],
      "metadata": {
        "colab": {
          "base_uri": "https://localhost:8080/"
        },
        "id": "yOjoFWHLDoQ0",
        "outputId": "ee8a9032-f232-4152-b7dd-bd635fb911cc"
      },
      "execution_count": 49,
      "outputs": [
        {
          "output_type": "stream",
          "name": "stdout",
          "text": [
            "r2 socre is 0.9984836624729517\n"
          ]
        }
      ]
    },
    {
      "cell_type": "code",
      "source": [
        ""
      ],
      "metadata": {
        "id": "FptCjC1PDoOt"
      },
      "execution_count": 49,
      "outputs": []
    },
    {
      "cell_type": "code",
      "source": [
        ""
      ],
      "metadata": {
        "id": "HIzLp145DoIE"
      },
      "execution_count": 49,
      "outputs": []
    },
    {
      "cell_type": "code",
      "source": [
        ""
      ],
      "metadata": {
        "id": "H20NB1uIDoFW"
      },
      "execution_count": 49,
      "outputs": []
    },
    {
      "cell_type": "code",
      "source": [
        ""
      ],
      "metadata": {
        "id": "u5q7wZApDoBv"
      },
      "execution_count": 49,
      "outputs": []
    },
    {
      "cell_type": "code",
      "source": [
        ""
      ],
      "metadata": {
        "id": "vGHuQj7PDn2R"
      },
      "execution_count": 49,
      "outputs": []
    },
    {
      "cell_type": "code",
      "source": [
        ""
      ],
      "metadata": {
        "id": "7be7xEGSDnqn"
      },
      "execution_count": 49,
      "outputs": []
    }
  ]
}