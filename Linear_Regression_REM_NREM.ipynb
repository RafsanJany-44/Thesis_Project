{
  "nbformat": 4,
  "nbformat_minor": 0,
  "metadata": {
    "colab": {
      "name": "Linear_Regression.ipynb",
      "provenance": [],
      "authorship_tag": "ABX9TyP4lspnKS8M+QtM9CgR5qy2",
      "include_colab_link": true
    },
    "kernelspec": {
      "name": "python3",
      "display_name": "Python 3"
    },
    "language_info": {
      "name": "python"
    }
  },
  "cells": [
    {
      "cell_type": "markdown",
      "metadata": {
        "id": "view-in-github",
        "colab_type": "text"
      },
      "source": [
        "<a href=\"https://colab.research.google.com/github/RafsanJany-44/Thesis_Project/blob/main/Linear_Regression_REM_NREM.ipynb\" target=\"_parent\"><img src=\"https://colab.research.google.com/assets/colab-badge.svg\" alt=\"Open In Colab\"/></a>"
      ]
    },
    {
      "cell_type": "code",
      "execution_count": 13,
      "metadata": {
        "id": "kgTBQIr7DOlc"
      },
      "outputs": [],
      "source": [
        "import numpy as np\n",
        "import pandas as pd\n",
        "import matplotlib.pyplot as plt\n"
      ]
    },
    {
      "cell_type": "code",
      "source": [
        "\n",
        "\n",
        "ds2=pd.read_csv(\"/content/REM_NREM.csv\")\n",
        "print(ds2)"
      ],
      "metadata": {
        "colab": {
          "base_uri": "https://localhost:8080/"
        },
        "id": "wOs_Fc06DpPJ",
        "outputId": "71678a72-a6ab-4a6b-e1fb-73ebdf950fd8"
      },
      "execution_count": 14,
      "outputs": [
        {
          "output_type": "stream",
          "name": "stdout",
          "text": [
            "      Sleep_Stage  MeanP_Alpha_F4  ...  Spectral Edge_Gamma_O2  PeakF_Gamma_O2\n",
            "0            NREM         0.00034  ...                49.95122        49.95122\n",
            "1            NREM         0.00035  ...                49.95122        49.95122\n",
            "2            NREM         0.00035  ...                49.95122        49.95122\n",
            "3            NREM         0.00050  ...                49.95122        49.95122\n",
            "4            NREM         0.00072  ...                49.95122        49.95122\n",
            "...           ...             ...  ...                     ...             ...\n",
            "89091        NREM         0.00055  ...                48.45268        36.21463\n",
            "89092        NREM         0.00052  ...                50.95024        36.46439\n",
            "89093        NREM         0.00031  ...                45.20585        24.22634\n",
            "89094        NREM         0.00042  ...                47.57854        24.97561\n",
            "89095        NREM         0.00040  ...                43.08293        21.10439\n",
            "\n",
            "[89096 rows x 76 columns]\n"
          ]
        }
      ]
    },
    {
      "cell_type": "code",
      "source": [
        "x=ds2.iloc[:,:-1].values\n",
        "y=ds2.iloc[:,1:].values"
      ],
      "metadata": {
        "id": "M4wYiYBZDpKj"
      },
      "execution_count": 15,
      "outputs": []
    },
    {
      "cell_type": "code",
      "source": [
        "print(x[:,0])"
      ],
      "metadata": {
        "colab": {
          "base_uri": "https://localhost:8080/"
        },
        "id": "YR4OIou1F2vp",
        "outputId": "df862077-b3e1-478a-9efd-0288b246a6f5"
      },
      "execution_count": 16,
      "outputs": [
        {
          "output_type": "stream",
          "name": "stdout",
          "text": [
            "['NREM' 'NREM' 'NREM' ... 'NREM' 'NREM' 'NREM']\n"
          ]
        }
      ]
    },
    {
      "cell_type": "code",
      "source": [
        "from sklearn.preprocessing import LabelEncoder\n",
        "labelencoder_X=LabelEncoder()\n",
        "x[:,0]=labelencoder_X.fit_transform(x[:,0])"
      ],
      "metadata": {
        "id": "-1ClIEwdDpEC"
      },
      "execution_count": 17,
      "outputs": []
    },
    {
      "cell_type": "code",
      "source": [
        "print(x)"
      ],
      "metadata": {
        "colab": {
          "base_uri": "https://localhost:8080/"
        },
        "id": "2hHuezVxGVNM",
        "outputId": "9d8a5feb-a2cb-4160-920f-7219832d4b2d"
      },
      "execution_count": 18,
      "outputs": [
        {
          "output_type": "stream",
          "name": "stdout",
          "text": [
            "[[0 0.00033999999999999997 10.11512 ... 32.71805 43.8322 49.95122]\n",
            " [0 0.00035 10.739510000000001 ... 32.09366 44.33171 49.95122]\n",
            " [0 0.00035 9.36585 ... 33.09268 43.95707 49.95122]\n",
            " ...\n",
            " [0 0.00031 10.11512 ... 29.096590000000003 37.58829 45.20585]\n",
            " [0 0.00042 9.99024 ... 29.5961 39.08683 47.578540000000004]\n",
            " [0 0.0004 9.86537 ... 27.098540000000003 36.58927 43.08293]]\n"
          ]
        }
      ]
    },
    {
      "cell_type": "code",
      "source": [
        "from sklearn.model_selection import train_test_split\n",
        "x_train,x_test,y_train,y_test=train_test_split(x,y,test_size=0.3,random_state=0)"
      ],
      "metadata": {
        "id": "cWix8LpMDpCS"
      },
      "execution_count": 19,
      "outputs": []
    },
    {
      "cell_type": "code",
      "source": [
        "from sklearn.linear_model import LinearRegression\n",
        "regressor=LinearRegression()\n",
        "regressor.fit(x_train,y_train)"
      ],
      "metadata": {
        "colab": {
          "base_uri": "https://localhost:8080/"
        },
        "id": "yPcjw62ZDo8s",
        "outputId": "903753bc-c377-4600-c21d-830e4ea36fe4"
      },
      "execution_count": 20,
      "outputs": [
        {
          "output_type": "execute_result",
          "data": {
            "text/plain": [
              "LinearRegression()"
            ]
          },
          "metadata": {},
          "execution_count": 20
        }
      ]
    },
    {
      "cell_type": "code",
      "source": [
        "y_pred=regressor.predict(x_test)"
      ],
      "metadata": {
        "id": "-snUqtYyDo48"
      },
      "execution_count": 21,
      "outputs": []
    },
    {
      "cell_type": "code",
      "source": [
        "print(y_pred)\n",
        "print(y_test)"
      ],
      "metadata": {
        "colab": {
          "base_uri": "https://localhost:8080/"
        },
        "id": "l8jOzOuYDoj7",
        "outputId": "0e2c03b6-899d-4a97-ccbc-c01258b66328"
      },
      "execution_count": 22,
      "outputs": [
        {
          "output_type": "stream",
          "name": "stdout",
          "text": [
            "[[8.70000000e-04 8.74146000e+00 1.44858500e+01 ... 4.18341500e+01\n",
            "  5.00761000e+01 4.15372542e+01]\n",
            " [7.00000000e-04 8.24195000e+00 1.34868300e+01 ... 3.89619500e+01\n",
            "  4.64546300e+01 2.78224927e+01]\n",
            " [7.50000000e-04 8.49171000e+00 1.32370700e+01 ... 4.00858500e+01\n",
            "  4.98263400e+01 4.21367849e+01]\n",
            " ...\n",
            " [9.80000000e-04 1.06146300e+01 1.38614600e+01 ... 3.60897600e+01\n",
            "  4.40819500e+01 2.96181557e+01]\n",
            " [1.30000000e-04 7.99220000e+00 1.92312200e+01 ... 4.98263400e+01\n",
            "  4.99512200e+01 4.95009820e+01]\n",
            " [4.00000000e-04 9.61561000e+00 1.57346300e+01 ... 3.57151200e+01\n",
            "  4.47063400e+01 2.62339677e+01]]\n",
            "[[8.700000e-04 8.741460e+00 1.448585e+01 ... 4.183415e+01 5.007610e+01\n",
            "  3.971122e+01]\n",
            " [7.000000e-04 8.241950e+00 1.348683e+01 ... 3.896195e+01 4.645463e+01\n",
            "  2.597463e+01]\n",
            " [7.500000e-04 8.491710e+00 1.323707e+01 ... 4.008585e+01 4.982634e+01\n",
            "  4.995122e+01]\n",
            " ...\n",
            " [9.800000e-04 1.061463e+01 1.386146e+01 ... 3.608976e+01 4.408195e+01\n",
            "  1.348683e+01]\n",
            " [1.300000e-04 7.992200e+00 1.923122e+01 ... 4.982634e+01 4.995122e+01\n",
            "  4.995122e+01]\n",
            " [4.000000e-04 9.615610e+00 1.573463e+01 ... 3.571512e+01 4.470634e+01\n",
            "  1.898146e+01]]\n"
          ]
        }
      ]
    },
    {
      "cell_type": "code",
      "source": [
        ""
      ],
      "metadata": {
        "id": "T2pexcL8Dogi"
      },
      "execution_count": 22,
      "outputs": []
    },
    {
      "cell_type": "code",
      "source": [
        "plt.scatter(y_pred,y_test)\n",
        "plt.title(\"Predict Vs Actual\")\n",
        "plt.xlabel(\"Actual\")\n",
        "plt.ylabel(\"Predict\")\n",
        "plt.show()"
      ],
      "metadata": {
        "colab": {
          "base_uri": "https://localhost:8080/",
          "height": 294
        },
        "id": "LoyvnvGhDoWs",
        "outputId": "57c47663-8718-48a4-9619-0bbfb0798845"
      },
      "execution_count": 23,
      "outputs": [
        {
          "output_type": "display_data",
          "data": {
            "image/png": "[encoded data removed]",
            "text/plain": [
              "<Figure size 432x288 with 1 Axes>"
            ]
          },
          "metadata": {
            "needs_background": "light"
          }
        }
      ]
    },
    {
      "cell_type": "code",
      "source": [
        "from sklearn.metrics import r2_score\n",
        "score=r2_score(y_test,y_pred)\n",
        "print('r2 socre is' ,score)"
      ],
      "metadata": {
        "colab": {
          "base_uri": "https://localhost:8080/"
        },
        "id": "yOjoFWHLDoQ0",
        "outputId": "24e95186-777a-4ee0-d293-b506a9c2c94f"
      },
      "execution_count": 24,
      "outputs": [
        {
          "output_type": "stream",
          "name": "stdout",
          "text": [
            "r2 socre is 0.9964562673969969\n"
          ]
        }
      ]
    },
    {
      "cell_type": "code",
      "source": [
        ""
      ],
      "metadata": {
        "id": "lDp00qZEvsgI"
      },
      "execution_count": 24,
      "outputs": []
    },
    {
      "cell_type": "code",
      "source": [
        ""
      ],
      "metadata": {
        "id": "FptCjC1PDoOt"
      },
      "execution_count": 24,
      "outputs": []
    },
    {
      "cell_type": "code",
      "source": [
        ""
      ],
      "metadata": {
        "id": "HIzLp145DoIE"
      },
      "execution_count": 24,
      "outputs": []
    },
    {
      "cell_type": "code",
      "source": [
        ""
      ],
      "metadata": {
        "id": "H20NB1uIDoFW"
      },
      "execution_count": 24,
      "outputs": []
    },
    {
      "cell_type": "code",
      "source": [
        ""
      ],
      "metadata": {
        "id": "u5q7wZApDoBv"
      },
      "execution_count": 24,
      "outputs": []
    },
    {
      "cell_type": "code",
      "source": [
        ""
      ],
      "metadata": {
        "id": "vGHuQj7PDn2R"
      },
      "execution_count": 24,
      "outputs": []
    },
    {
      "cell_type": "code",
      "source": [
        ""
      ],
      "metadata": {
        "id": "7be7xEGSDnqn"
      },
      "execution_count": 24,
      "outputs": []
    }
  ]
}