{
  "nbformat": 4,
  "nbformat_minor": 0,
  "metadata": {
    "colab": {
      "name": "Model_Evalution.ipynb",
      "provenance": [],
      "authorship_tag": "ABX9TyNa0xskeanSPDGuV0o90LNt",
      "include_colab_link": true
    },
    "kernelspec": {
      "name": "python3",
      "display_name": "Python 3"
    },
    "language_info": {
      "name": "python"
    }
  },
  "cells": [
    {
      "cell_type": "markdown",
      "metadata": {
        "id": "view-in-github",
        "colab_type": "text"
      },
      "source": [
        "<a href=\"https://colab.research.google.com/github/RafsanJany-44/Thesis_Project/blob/main/Model_Evalution.ipynb\" target=\"_parent\"><img src=\"https://colab.research.google.com/assets/colab-badge.svg\" alt=\"Open In Colab\"/></a>"
      ]
    },
    {
      "cell_type": "markdown",
      "source": [
        "writing csv\n"
      ],
      "metadata": {
        "id": "OqVJxpBxyF4s"
      }
    },
    {
      "cell_type": "code",
      "source": [
        "x=list(input().replace(\"-\",\"\").split(\" \"))\n",
        "epoch_det=[]\n",
        "i=1\n",
        "j=0\n",
        "while(i<=len(x)/13):\n",
        "  epoch_det.append(x[j:j+13])\n",
        "  i+=1\n",
        "  j+=13\n",
        "\n",
        "refined_data=[]\n",
        "for i in epoch_det:\n",
        "    refined_data.append([int(i[1][:-5]),int(i[5][:-1]),float(i[9]),float(i[-1])])\n",
        "\n",
        "\n",
        "import csv\n",
        "\n",
        "header = ['Epoch Number', 'Executing Time(s)', 'Loss', 'Accuracy']\n",
        "\n",
        "\n",
        "with open('epoch_details.csv', 'w', encoding='UTF8', newline='') as f:\n",
        "    writer = csv.writer(f)\n",
        "\n",
        "    # write the header\n",
        "    writer.writerow(header)\n",
        "\n",
        "    # write the data\n",
        "    for i in refined_data:\n",
        "      writer.writerow(i)"
      ],
      "metadata": {
        "id": "JJpx-Tq_yIIA"
      },
      "execution_count": null,
      "outputs": []
    },
    {
      "cell_type": "code",
      "source": [
        "class myList:\n",
        "    def __init__(self,*args): \n",
        "        self.lst = args\n",
        "    def sum(self):  # to sum all number\n",
        "        print(\"Sum:\",sum(self.lst))\n",
        "    def merge(self,*args):# to marge the lists\n",
        "        self.lst += args\n",
        "    def average(self): #find the average\n",
        "        if len(self.lst)>=1:\n",
        "            average = sum(self.lst)/len(self.lst)\n",
        "        else:\n",
        "            average = 0\n",
        "        print(\"Average:\",average)\n",
        "        \n",
        "l1 =  myList(2,3,4,5,6) \n",
        "l1.sum()\n",
        "l1.merge(4,5,9)\n",
        "l1.sum()\n",
        "l1.average()\n",
        "print(\"\")\n",
        "l2 =  myList()\n",
        "l2.average()\n",
        "l2.merge(1,2,4,8)\n",
        "l2.sum()"
      ],
      "metadata": {
        "id": "jr2Ss7_0GGib",
        "outputId": "c73423eb-c8d1-4b71-8e74-2dcd78ecd1c5",
        "colab": {
          "base_uri": "https://localhost:8080/"
        }
      },
      "execution_count": 1,
      "outputs": [
        {
          "output_type": "stream",
          "name": "stdout",
          "text": [
            "Sum: 20\n",
            "Sum: 38\n",
            "Average: 4.75\n",
            "\n",
            "Average: 0\n",
            "Sum: 15\n"
          ]
        }
      ]
    },
    {
      "cell_type": "code",
      "source": [
        "class Bird():\n",
        "  def __init__(self,name,canFly=False):\n",
        "    self.name=name\n",
        "    self.canFly=canFly\n",
        "    self.type=\"\"\n",
        "\n",
        "  def fly(self):\n",
        "    if(self.canFly==True):\n",
        "      print(self.name+\" can fly.\")\n",
        "\n",
        "    else:\n",
        "      print(self.name+\" can not fly.\")\n",
        "      self.type=\"flightless Bird\"\n",
        "  \n",
        "  def setType(self,type):\n",
        "    self.type=type\n",
        "\n",
        "  def printDetail(self):\n",
        "    print(\"Name: \"+self.name)\n",
        "    print(\"Type: \"+self.type)\n",
        "\n",
        "\n",
        "ostrich = Bird('Ostrich')\n",
        "duck = Bird(\"Duck\", True)\n",
        "owl = Bird('Owl', True)\n",
        "print(\"###########################\")\n",
        "ostrich.fly()\n",
        "duck.fly()\n",
        "owl.fly()\n",
        "duck.setType('Water Birds')\n",
        "owl.setType('Birds of Prey')\n",
        "print('=========================')\n",
        "ostrich.printDetail()\n",
        "print('=========================')\n",
        "duck.printDetail()\n",
        "print('=========================')\n",
        "owl.printDetail()"
      ],
      "metadata": {
        "id": "ojbN1PD6I1f2",
        "outputId": "65fd2425-3965-4be0-f41b-e07e3f894bf9",
        "colab": {
          "base_uri": "https://localhost:8080/"
        }
      },
      "execution_count": 7,
      "outputs": [
        {
          "output_type": "stream",
          "name": "stdout",
          "text": [
            "###########################\n",
            "Ostrich can not fly.\n",
            "Duck can fly.\n",
            "Owl can fly.\n",
            "=========================\n",
            "Name: Ostrich\n",
            "Type: flightless Bird\n",
            "=========================\n",
            "Name: Duck\n",
            "Type: Water Birds\n",
            "=========================\n",
            "Name: Owl\n",
            "Type: Birds of Prey\n"
          ]
        }
      ]
    }
  ]
}