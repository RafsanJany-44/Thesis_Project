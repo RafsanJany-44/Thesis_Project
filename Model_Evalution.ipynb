{
  "nbformat": 4,
  "nbformat_minor": 0,
  "metadata": {
    "colab": {
      "name": "Model_Evalution.ipynb",
      "provenance": [],
      "authorship_tag": "ABX9TyNH0wRO65ze0Oq/Uop1TtwG",
      "include_colab_link": true
    },
    "kernelspec": {
      "name": "python3",
      "display_name": "Python 3"
    },
    "language_info": {
      "name": "python"
    }
  },
  "cells": [
    {
      "cell_type": "markdown",
      "metadata": {
        "id": "view-in-github",
        "colab_type": "text"
      },
      "source": [
        "<a href=\"https://colab.research.google.com/github/RafsanJany-44/Thesis_Project/blob/main/Model_Evalution.ipynb\" target=\"_parent\"><img src=\"https://colab.research.google.com/assets/colab-badge.svg\" alt=\"Open In Colab\"/></a>"
      ]
    },
    {
      "cell_type": "markdown",
      "source": [
        "writing csv\n"
      ],
      "metadata": {
        "id": "OqVJxpBxyF4s"
      }
    },
    {
      "cell_type": "code",
      "source": [
        "x=list(input().replace(\"-\",\"\").split(\" \"))\n",
        "epoch_det=[]\n",
        "i=1\n",
        "j=0\n",
        "while(i<=len(x)/13):\n",
        "  epoch_det.append(x[j:j+13])\n",
        "  i+=1\n",
        "  j+=13\n",
        "\n",
        "refined_data=[]\n",
        "for i in epoch_det:\n",
        "    refined_data.append([int(i[1][:-5]),int(i[5][:-1]),float(i[9]),float(i[-1])])\n",
        "\n",
        "\n",
        "import csv\n",
        "\n",
        "header = ['Epoch Number', 'Executing Time(s)', 'Loss', 'Accuracy']\n",
        "\n",
        "\n",
        "with open('epoch_details.csv', 'w', encoding='UTF8', newline='') as f:\n",
        "    writer = csv.writer(f)\n",
        "\n",
        "    # write the header\n",
        "    writer.writerow(header)\n",
        "\n",
        "    # write the data\n",
        "    for i in refined_data:\n",
        "      writer.writerow(i)"
      ],
      "metadata": {
        "id": "JJpx-Tq_yIIA"
      },
      "execution_count": null,
      "outputs": []
    },
    {
      "cell_type": "code",
      "source": [
        "class myList:\n",
        "    def __init__(self,*args): \n",
        "        self.lst = args\n",
        "    def sum(self):  # to sum all number\n",
        "        print(\"Sum:\",sum(self.lst))\n",
        "    def merge(self,*args):# to marge the lists\n",
        "        self.lst += args\n",
        "    def average(self): #find the average\n",
        "        if len(self.lst)>=1:\n",
        "            average = sum(self.lst)/len(self.lst)\n",
        "        else:\n",
        "            average = 0\n",
        "        print(\"Average:\",average)\n",
        "        \n",
        "l1 =  myList(2,3,4,5,6) \n",
        "l1.sum()\n",
        "l1.merge(4,5,9)\n",
        "l1.sum()\n",
        "l1.average()\n",
        "print(\"\")\n",
        "l2 =  myList()\n",
        "l2.average()\n",
        "l2.merge(1,2,4,8)\n",
        "l2.sum()"
      ],
      "metadata": {
        "colab": {
          "base_uri": "https://localhost:8080/"
        },
        "id": "jr2Ss7_0GGib",
        "outputId": "c73423eb-c8d1-4b71-8e74-2dcd78ecd1c5"
      },
      "execution_count": 1,
      "outputs": [
        {
          "output_type": "stream",
          "name": "stdout",
          "text": [
            "Sum: 20\n",
            "Sum: 38\n",
            "Average: 4.75\n",
            "\n",
            "Average: 0\n",
            "Sum: 15\n"
          ]
        }
      ]
    },
    {
      "cell_type": "code",
      "source": [
        "class Bird():\n",
        "  def __init__(self,name,canFly=False):\n",
        "    self.name=name\n",
        "    self.canFly=canFly\n",
        "    self.type=\"\"\n",
        "\n",
        "  def fly(self):\n",
        "    if(self.canFly==True):\n",
        "      print(self.name+\" can fly.\")\n",
        "\n",
        "    else:\n",
        "      print(self.name+\" can not fly.\")\n",
        "      self.type=\"flightless Bird\"\n",
        "  \n",
        "  def setType(self,type):\n",
        "    self.type=type\n",
        "\n",
        "  def printDetail(self):\n",
        "    print(\"Name: \"+self.name)\n",
        "    print(\"Type: \"+self.type)\n",
        "\n",
        "\n",
        "ostrich = Bird('Ostrich')\n",
        "duck = Bird(\"Duck\", True)\n",
        "owl = Bird('Owl', True)\n",
        "print(\"###########################\")\n",
        "ostrich.fly()\n",
        "duck.fly()\n",
        "owl.fly()\n",
        "duck.setType('Water Birds')\n",
        "owl.setType('Birds of Prey')\n",
        "print('=========================')\n",
        "ostrich.printDetail()\n",
        "print('=========================')\n",
        "duck.printDetail()\n",
        "print('=========================')\n",
        "owl.printDetail()"
      ],
      "metadata": {
        "colab": {
          "base_uri": "https://localhost:8080/"
        },
        "id": "ojbN1PD6I1f2",
        "outputId": "65fd2425-3965-4be0-f41b-e07e3f894bf9"
      },
      "execution_count": 7,
      "outputs": [
        {
          "output_type": "stream",
          "name": "stdout",
          "text": [
            "###########################\n",
            "Ostrich can not fly.\n",
            "Duck can fly.\n",
            "Owl can fly.\n",
            "=========================\n",
            "Name: Ostrich\n",
            "Type: flightless Bird\n",
            "=========================\n",
            "Name: Duck\n",
            "Type: Water Birds\n",
            "=========================\n",
            "Name: Owl\n",
            "Type: Birds of Prey\n"
          ]
        }
      ]
    },
    {
      "cell_type": "code",
      "source": [
        "class book:\n",
        "    def __init__(self, name):\n",
        "        self.name = name\n",
        "        self.genre='biography'\n",
        "    def review(self):\n",
        "         print('This book is just out of the world,mind-blowing!')\n",
        "\n",
        "class fiction(book):\n",
        "  def __init__(self,name,genre):\n",
        "    super().__init__(name)\n",
        "    self.type=genre\n",
        "  \n",
        "  def review(self):\n",
        "    print(\"The \" +self.name+ \" which is a \"+self.type+\" is just out of the world, mind-blowing!\")\n",
        "  \n",
        "class nonfiction(book):\n",
        "  def __init__(self,name):\n",
        "    super().__init__(name)\n",
        "  \n",
        "  def review(self):\n",
        "    print(self.name+\" which is a biography is just out of the world, mind-blowing!\") \n",
        "\n",
        "b1 = fiction('The Shining','Psychological horror')\n",
        "b2 = nonfiction('A Beautiful Mind')\n",
        "b1.review()\n",
        "print('=========================')\n",
        "b2.review()\n",
        "print('=========================')"
      ],
      "metadata": {
        "colab": {
          "base_uri": "https://localhost:8080/"
        },
        "id": "cAsOlXd5MhB2",
        "outputId": "386d04a9-990d-43a7-b5dd-a5e26bbd3af2"
      },
      "execution_count": 8,
      "outputs": [
        {
          "output_type": "stream",
          "name": "stdout",
          "text": [
            "The The Shining which is a Psychological horror is just out of the world, mind-blowing!\n",
            "=========================\n",
            "A Beautiful Mind which is a biography is just out of the world, mind-blowing!\n",
            "=========================\n"
          ]
        }
      ]
    },
    {
      "cell_type": "code",
      "source": [
        "class Account():\n",
        "\n",
        "  count=0\n",
        "\n",
        "  def __init__(self,name,age,pos,mny):\n",
        "    self.name=name\n",
        "    self.age=age\n",
        "    self.pos=pos\n",
        "    self.mny=mny\n",
        "    Account.count+=1\n",
        "\n",
        "  def addMoney(self,mny):\n",
        "    self.mny=self.mny+mny\n",
        "  \n",
        "  def withdrawMoney(self,mny):\n",
        "    self.mny=self.mny-mny\n",
        "  \n",
        "  def printDetails(self):\n",
        "    print('Name:',self.name)\n",
        "    print(\"Age:\",self.age)\n",
        "    print(\"Occupation:\",self.pos)\n",
        "    print(\"Total Amount:\",self.mny)\n",
        "  \n",
        "\n",
        "\n",
        "\n",
        "\n",
        "\n",
        "\n",
        "\n",
        "\n",
        "print('No of account holders:', Account.count)\n",
        "print(\"=========================\")\n",
        "p1 = Account(\"Abdul\", 45, \"Service Holder\", 500000)\n",
        "p1.addMoney(300000)\n",
        "p1.printDetails()\n",
        "print(\"=========================\")\n",
        "p2 = Account(\"Rahim\", 55, \"Businessman\", 700000)\n",
        "p2.withdrawMoney(700000)\n",
        "p2.printDetails()\n",
        "print(\"=========================\")\n",
        "p3 = Account(\"Ashraf\", 62, \"Govt. Officer\", 200000)\n",
        "p3.withdrawMoney(250000)\n",
        "p3.printDetails()\n",
        "print(\"=========================\") \n",
        "print('No of account holders:', Account.count)"
      ],
      "metadata": {
        "id": "sYtCpehoOvWV",
        "outputId": "8f7a6991-209d-4532-ac93-deb72d497f89",
        "colab": {
          "base_uri": "https://localhost:8080/"
        }
      },
      "execution_count": 9,
      "outputs": [
        {
          "output_type": "stream",
          "name": "stdout",
          "text": [
            "No of account holders: 0\n",
            "=========================\n",
            "Name: Abdul\n",
            "Age: 45\n",
            "Occupation: Service Holder\n",
            "Total Amount: 800000\n",
            "=========================\n",
            "Name: Rahim\n",
            "Age: 55\n",
            "Occupation: Businessman\n",
            "Total Amount: 0\n",
            "=========================\n",
            "Name: Ashraf\n",
            "Age: 62\n",
            "Occupation: Govt. Officer\n",
            "Total Amount: -50000\n",
            "=========================\n",
            "No of account holders: 3\n"
          ]
        }
      ]
    }
  ]
}