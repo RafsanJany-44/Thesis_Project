{
  "nbformat": 4,
  "nbformat_minor": 0,
  "metadata": {
    "colab": {
      "name": "Model_Evalution.ipynb",
      "provenance": [],
      "authorship_tag": "ABX9TyOXBwqajdEQYmHZzcfIwTxc",
      "include_colab_link": true
    },
    "kernelspec": {
      "name": "python3",
      "display_name": "Python 3"
    },
    "language_info": {
      "name": "python"
    }
  },
  "cells": [
    {
      "cell_type": "markdown",
      "metadata": {
        "id": "view-in-github",
        "colab_type": "text"
      },
      "source": [
        "<a href=\"https://colab.research.google.com/github/RafsanJany-44/Thesis_Project/blob/main/Model_Evalution.ipynb\" target=\"_parent\"><img src=\"https://colab.research.google.com/assets/colab-badge.svg\" alt=\"Open In Colab\"/></a>"
      ]
    },
    {
      "cell_type": "code",
      "execution_count": null,
      "metadata": {
        "id": "LUd-lY9DxBVY"
      },
      "outputs": [],
      "source": [
        "#print(input())\n",
        "x=list(input().replace(\"-\",\"\").split(\" \"))\n",
        "epoch_det=[]\n",
        "i=1\n",
        "j=0\n",
        "while(i<=len(x)/13):\n",
        "  epoch_det.append(x[j:j+13])\n",
        "  i+=1\n",
        "  j+=13\n",
        "\n",
        "print(epoch_det)"
      ]
    }
  ]
}