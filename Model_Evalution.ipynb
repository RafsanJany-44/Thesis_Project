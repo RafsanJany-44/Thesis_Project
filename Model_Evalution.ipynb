{
  "nbformat": 4,
  "nbformat_minor": 0,
  "metadata": {
    "colab": {
      "name": "Model_Evalution.ipynb",
      "provenance": [],
      "authorship_tag": "ABX9TyOZqKvZWB2X39hSTqfGvtl1",
      "include_colab_link": true
    },
    "kernelspec": {
      "name": "python3",
      "display_name": "Python 3"
    },
    "language_info": {
      "name": "python"
    }
  },
  "cells": [
    {
      "cell_type": "markdown",
      "metadata": {
        "id": "view-in-github",
        "colab_type": "text"
      },
      "source": [
        "<a href=\"https://colab.research.google.com/github/RafsanJany-44/Thesis_Project/blob/main/Model_Evalution.ipynb\" target=\"_parent\"><img src=\"https://colab.research.google.com/assets/colab-badge.svg\" alt=\"Open In Colab\"/></a>"
      ]
    },
    {
      "cell_type": "markdown",
      "source": [
        "writing csv\n"
      ],
      "metadata": {
        "id": "OqVJxpBxyF4s"
      }
    },
    {
      "cell_type": "code",
      "source": [
        "x=list(input().replace(\"-\",\"\").split(\" \"))\n",
        "epoch_det=[]\n",
        "i=1\n",
        "j=0\n",
        "while(i<=len(x)/13):\n",
        "  epoch_det.append(x[j:j+13])\n",
        "  i+=1\n",
        "  j+=13\n",
        "\n",
        "refined_data=[]\n",
        "for i in epoch_det:\n",
        "    refined_data.append([int(i[1][:-5]),int(i[5][:-1]),float(i[9]),float(i[-1])])\n",
        "\n",
        "\n",
        "import csv\n",
        "\n",
        "header = ['Epoch Number', 'Executing Time(s)', 'Loss', 'Accuracy']\n",
        "\n",
        "\n",
        "with open('epoch_details.csv', 'w', encoding='UTF8', newline='') as f:\n",
        "    writer = csv.writer(f)\n",
        "\n",
        "    # write the header\n",
        "    writer.writerow(header)\n",
        "\n",
        "    # write the data\n",
        "    for i in refined_data:\n",
        "      writer.writerow(i)"
      ],
      "metadata": {
        "id": "JJpx-Tq_yIIA"
      },
      "execution_count": 7,
      "outputs": []
    }
  ]
}