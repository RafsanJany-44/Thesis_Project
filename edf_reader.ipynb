{
  "nbformat": 4,
  "nbformat_minor": 0,
  "metadata": {
    "colab": {
      "name": "edf_reader.ipynb",
      "provenance": [],
      "authorship_tag": "ABX9TyPw09fsglTTi4ipbn7HBdBD",
      "include_colab_link": true
    },
    "kernelspec": {
      "name": "python3",
      "display_name": "Python 3"
    },
    "language_info": {
      "name": "python"
    }
  },
  "cells": [
    {
      "cell_type": "markdown",
      "metadata": {
        "id": "view-in-github",
        "colab_type": "text"
      },
      "source": [
        "<a href=\"https://colab.research.google.com/github/RafsanJany-44/Thesis_Project/blob/main/edf_reader.ipynb\" target=\"_parent\"><img src=\"https://colab.research.google.com/assets/colab-badge.svg\" alt=\"Open In Colab\"/></a>"
      ]
    },
    {
      "cell_type": "code",
      "source": [
        "!pip install mne"
      ],
      "metadata": {
        "colab": {
          "base_uri": "https://localhost:8080/"
        },
        "id": "yXaGNmmZ2zNg",
        "outputId": "8d531c09-d29d-444f-96f7-0e885178e37d"
      },
      "execution_count": 2,
      "outputs": [
        {
          "output_type": "stream",
          "name": "stdout",
          "text": [
            "Collecting mne\n",
            "  Downloading mne-1.0.2-py3-none-any.whl (7.5 MB)\n",
            "\u001b[K     |████████████████████████████████| 7.5 MB 5.4 MB/s \n",
            "\u001b[?25hRequirement already satisfied: numpy>=1.15.4 in /usr/local/lib/python3.7/dist-packages (from mne) (1.21.6)\n",
            "Requirement already satisfied: pooch>=1.5 in /usr/local/lib/python3.7/dist-packages (from mne) (1.6.0)\n",
            "Requirement already satisfied: packaging in /usr/local/lib/python3.7/dist-packages (from mne) (21.3)\n",
            "Requirement already satisfied: decorator in /usr/local/lib/python3.7/dist-packages (from mne) (4.4.2)\n",
            "Requirement already satisfied: matplotlib in /usr/local/lib/python3.7/dist-packages (from mne) (3.2.2)\n",
            "Requirement already satisfied: scipy>=1.1.0 in /usr/local/lib/python3.7/dist-packages (from mne) (1.4.1)\n",
            "Requirement already satisfied: tqdm in /usr/local/lib/python3.7/dist-packages (from mne) (4.64.0)\n",
            "Requirement already satisfied: jinja2 in /usr/local/lib/python3.7/dist-packages (from mne) (2.11.3)\n",
            "Requirement already satisfied: requests>=2.19.0 in /usr/local/lib/python3.7/dist-packages (from pooch>=1.5->mne) (2.23.0)\n",
            "Requirement already satisfied: appdirs>=1.3.0 in /usr/local/lib/python3.7/dist-packages (from pooch>=1.5->mne) (1.4.4)\n",
            "Requirement already satisfied: pyparsing!=3.0.5,>=2.0.2 in /usr/local/lib/python3.7/dist-packages (from packaging->mne) (3.0.8)\n",
            "Requirement already satisfied: urllib3!=1.25.0,!=1.25.1,<1.26,>=1.21.1 in /usr/local/lib/python3.7/dist-packages (from requests>=2.19.0->pooch>=1.5->mne) (1.24.3)\n",
            "Requirement already satisfied: chardet<4,>=3.0.2 in /usr/local/lib/python3.7/dist-packages (from requests>=2.19.0->pooch>=1.5->mne) (3.0.4)\n",
            "Requirement already satisfied: certifi>=2017.4.17 in /usr/local/lib/python3.7/dist-packages (from requests>=2.19.0->pooch>=1.5->mne) (2021.10.8)\n",
            "Requirement already satisfied: idna<3,>=2.5 in /usr/local/lib/python3.7/dist-packages (from requests>=2.19.0->pooch>=1.5->mne) (2.10)\n",
            "Requirement already satisfied: MarkupSafe>=0.23 in /usr/local/lib/python3.7/dist-packages (from jinja2->mne) (2.0.1)\n",
            "Requirement already satisfied: cycler>=0.10 in /usr/local/lib/python3.7/dist-packages (from matplotlib->mne) (0.11.0)\n",
            "Requirement already satisfied: python-dateutil>=2.1 in /usr/local/lib/python3.7/dist-packages (from matplotlib->mne) (2.8.2)\n",
            "Requirement already satisfied: kiwisolver>=1.0.1 in /usr/local/lib/python3.7/dist-packages (from matplotlib->mne) (1.4.2)\n",
            "Requirement already satisfied: typing-extensions in /usr/local/lib/python3.7/dist-packages (from kiwisolver>=1.0.1->matplotlib->mne) (4.2.0)\n",
            "Requirement already satisfied: six>=1.5 in /usr/local/lib/python3.7/dist-packages (from python-dateutil>=2.1->matplotlib->mne) (1.15.0)\n",
            "Installing collected packages: mne\n",
            "Successfully installed mne-1.0.2\n"
          ]
        }
      ]
    },
    {
      "cell_type": "code",
      "execution_count": 3,
      "metadata": {
        "colab": {
          "base_uri": "https://localhost:8080/",
          "height": 677
        },
        "id": "LAkM-a8p2pAU",
        "outputId": "154f1543-3d22-4be0-faad-7eedc39fa87c"
      },
      "outputs": [
        {
          "output_type": "stream",
          "name": "stdout",
          "text": [
            "Extracting EDF parameters from /content/SN001_sleepscoring.edf...\n",
            "EDF file detected\n",
            "Setting channel info structure...\n",
            "Creating raw.info structure...\n"
          ]
        },
        {
          "output_type": "stream",
          "name": "stderr",
          "text": [
            "<ipython-input-3-14e2be9d93ec>:3: RuntimeWarning: Header information is incorrect for record length. Default record length set to 1.\n",
            "It is possible that this file only contains annotations and no signals. In that case, please use mne.read_annotations() to load these annotations.\n",
            "  data = mne.io.read_raw_edf(file)\n",
            "<ipython-input-3-14e2be9d93ec>:3: RuntimeWarning: Omitted 855 annotation(s) that were outside data range.\n",
            "  data = mne.io.read_raw_edf(file)\n",
            "<ipython-input-3-14e2be9d93ec>:3: RuntimeWarning: Limited 1 annotation(s) that were expanding outside the data range.\n",
            "  data = mne.io.read_raw_edf(file)\n"
          ]
        },
        {
          "output_type": "error",
          "ename": "ValueError",
          "evalue": "ignored",
          "traceback": [
            "\u001b[0;31m---------------------------------------------------------------------------\u001b[0m",
            "\u001b[0;31mValueError\u001b[0m                                Traceback (most recent call last)",
            "\u001b[0;32m<ipython-input-3-14e2be9d93ec>\u001b[0m in \u001b[0;36m<module>\u001b[0;34m()\u001b[0m\n\u001b[1;32m      2\u001b[0m \u001b[0mfile\u001b[0m \u001b[0;34m=\u001b[0m \u001b[0;34m\"/content/SN001_sleepscoring.edf\"\u001b[0m\u001b[0;34m\u001b[0m\u001b[0;34m\u001b[0m\u001b[0m\n\u001b[1;32m      3\u001b[0m \u001b[0mdata\u001b[0m \u001b[0;34m=\u001b[0m \u001b[0mmne\u001b[0m\u001b[0;34m.\u001b[0m\u001b[0mio\u001b[0m\u001b[0;34m.\u001b[0m\u001b[0mread_raw_edf\u001b[0m\u001b[0;34m(\u001b[0m\u001b[0mfile\u001b[0m\u001b[0;34m)\u001b[0m\u001b[0;34m\u001b[0m\u001b[0;34m\u001b[0m\u001b[0m\n\u001b[0;32m----> 4\u001b[0;31m \u001b[0mraw_data\u001b[0m \u001b[0;34m=\u001b[0m \u001b[0mdata\u001b[0m\u001b[0;34m.\u001b[0m\u001b[0mget_data\u001b[0m\u001b[0;34m(\u001b[0m\u001b[0;34m)\u001b[0m\u001b[0;34m\u001b[0m\u001b[0;34m\u001b[0m\u001b[0m\n\u001b[0m\u001b[1;32m      5\u001b[0m \u001b[0;31m# you can get the metadata included in the file and a list of all channels:\u001b[0m\u001b[0;34m\u001b[0m\u001b[0;34m\u001b[0m\u001b[0;34m\u001b[0m\u001b[0m\n\u001b[1;32m      6\u001b[0m \u001b[0minfo\u001b[0m \u001b[0;34m=\u001b[0m \u001b[0mdata\u001b[0m\u001b[0;34m.\u001b[0m\u001b[0minfo\u001b[0m\u001b[0;34m\u001b[0m\u001b[0;34m\u001b[0m\u001b[0m\n",
            "\u001b[0;32m<decorator-gen-328>\u001b[0m in \u001b[0;36mget_data\u001b[0;34m(self, picks, start, stop, reject_by_annotation, return_times, units, tmin, tmax, verbose)\u001b[0m\n",
            "\u001b[0;32m/usr/local/lib/python3.7/dist-packages/mne/io/base.py\u001b[0m in \u001b[0;36mget_data\u001b[0;34m(self, picks, start, stop, reject_by_annotation, return_times, units, tmin, tmax, verbose)\u001b[0m\n\u001b[1;32m    885\u001b[0m                        type_name='int, None')\n\u001b[1;32m    886\u001b[0m \u001b[0;34m\u001b[0m\u001b[0m\n\u001b[0;32m--> 887\u001b[0;31m         \u001b[0mpicks\u001b[0m \u001b[0;34m=\u001b[0m \u001b[0m_picks_to_idx\u001b[0m\u001b[0;34m(\u001b[0m\u001b[0mself\u001b[0m\u001b[0;34m.\u001b[0m\u001b[0minfo\u001b[0m\u001b[0;34m,\u001b[0m \u001b[0mpicks\u001b[0m\u001b[0;34m,\u001b[0m \u001b[0;34m'all'\u001b[0m\u001b[0;34m,\u001b[0m \u001b[0mexclude\u001b[0m\u001b[0;34m=\u001b[0m\u001b[0;34m(\u001b[0m\u001b[0;34m)\u001b[0m\u001b[0;34m)\u001b[0m\u001b[0;34m\u001b[0m\u001b[0;34m\u001b[0m\u001b[0m\n\u001b[0m\u001b[1;32m    888\u001b[0m \u001b[0;34m\u001b[0m\u001b[0m\n\u001b[1;32m    889\u001b[0m         \u001b[0;31m# Get channel factors for conversion into specified unit\u001b[0m\u001b[0;34m\u001b[0m\u001b[0;34m\u001b[0m\u001b[0;34m\u001b[0m\u001b[0m\n",
            "\u001b[0;32m/usr/local/lib/python3.7/dist-packages/mne/io/pick.py\u001b[0m in \u001b[0;36m_picks_to_idx\u001b[0;34m(info, picks, none, exclude, allow_empty, with_ref_meg, return_kind)\u001b[0m\n\u001b[1;32m   1047\u001b[0m         picks = _picks_str_to_idx(info, picks, exclude, with_ref_meg,\n\u001b[1;32m   1048\u001b[0m                                   \u001b[0mreturn_kind\u001b[0m\u001b[0;34m,\u001b[0m \u001b[0mextra_repr\u001b[0m\u001b[0;34m,\u001b[0m \u001b[0mallow_empty\u001b[0m\u001b[0;34m,\u001b[0m\u001b[0;34m\u001b[0m\u001b[0;34m\u001b[0m\u001b[0m\n\u001b[0;32m-> 1049\u001b[0;31m                                   orig_picks)\n\u001b[0m\u001b[1;32m   1050\u001b[0m         \u001b[0;32mif\u001b[0m \u001b[0mreturn_kind\u001b[0m\u001b[0;34m:\u001b[0m\u001b[0;34m\u001b[0m\u001b[0;34m\u001b[0m\u001b[0m\n\u001b[1;32m   1051\u001b[0m             \u001b[0mpicked_ch_type_or_generic\u001b[0m \u001b[0;34m=\u001b[0m \u001b[0mpicks\u001b[0m\u001b[0;34m[\u001b[0m\u001b[0;36m1\u001b[0m\u001b[0;34m]\u001b[0m\u001b[0;34m\u001b[0m\u001b[0;34m\u001b[0m\u001b[0m\n",
            "\u001b[0;32m/usr/local/lib/python3.7/dist-packages/mne/io/pick.py\u001b[0m in \u001b[0;36m_picks_str_to_idx\u001b[0;34m(info, picks, exclude, with_ref_meg, return_kind, extra_repr, allow_empty, orig_picks)\u001b[0m\n\u001b[1;32m   1103\u001b[0m                 raise ValueError('picks (%s) yielded no channels, consider '\n\u001b[1;32m   1104\u001b[0m                                  \u001b[0;34m'passing picks explicitly'\u001b[0m\u001b[0;34m\u001b[0m\u001b[0;34m\u001b[0m\u001b[0m\n\u001b[0;32m-> 1105\u001b[0;31m                                  % (repr(orig_picks) + extra_repr,))\n\u001b[0m\u001b[1;32m   1106\u001b[0m \u001b[0;34m\u001b[0m\u001b[0m\n\u001b[1;32m   1107\u001b[0m     \u001b[0;31m#\u001b[0m\u001b[0;34m\u001b[0m\u001b[0;34m\u001b[0m\u001b[0;34m\u001b[0m\u001b[0m\n",
            "\u001b[0;31mValueError\u001b[0m: picks (NoneNone, treated as \"all\") yielded no channels, consider passing picks explicitly"
          ]
        }
      ],
      "source": [
        "import mne\n",
        "file = \"/content/SN001_sleepscoring.edf\"\n",
        "data = mne.io.read_raw_edf(file)\n",
        "raw_data = data.get_data()\n",
        "# you can get the metadata included in the file and a list of all channels:\n",
        "info = data.info\n",
        "channels = data.ch_names"
      ]
    },
    {
      "cell_type": "markdown",
      "source": [
        ""
      ],
      "metadata": {
        "id": "8sIUWYcw3Yay"
      }
    },
    {
      "cell_type": "code",
      "source": [
        "!!pip install pyedflib"
      ],
      "metadata": {
        "colab": {
          "base_uri": "https://localhost:8080/"
        },
        "id": "XCHWJA4W3Z68",
        "outputId": "281706d2-9ef9-4535-8c0f-cb593a1da76f"
      },
      "execution_count": 4,
      "outputs": [
        {
          "output_type": "execute_result",
          "data": {
            "text/plain": [
              "['Collecting pyedflib',\n",
              " '  Downloading pyEDFlib-0.1.28-cp37-cp37m-manylinux_2_17_x86_64.manylinux2014_x86_64.whl (2.4 MB)',\n",
              " '\\x1b[?25l',\n",
              " '\\x1b[K     |▏                               | 10 kB 22.2 MB/s eta 0:00:01',\n",
              " '\\x1b[K     |▎                               | 20 kB 19.4 MB/s eta 0:00:01',\n",
              " '\\x1b[K     |▍                               | 30 kB 12.0 MB/s eta 0:00:01',\n",
              " '\\x1b[K     |▌                               | 40 kB 9.9 MB/s eta 0:00:01',\n",
              " '\\x1b[K     |▊                               | 51 kB 4.5 MB/s eta 0:00:01',\n",
              " '\\x1b[K     |▉                               | 61 kB 5.3 MB/s eta 0:00:01',\n",
              " '\\x1b[K     |█                               | 71 kB 5.6 MB/s eta 0:00:01',\n",
              " '\\x1b[K     |█                               | 81 kB 5.8 MB/s eta 0:00:01',\n",
              " '\\x1b[K     |█▎                              | 92 kB 6.4 MB/s eta 0:00:01',\n",
              " '\\x1b[K     |█▍                              | 102 kB 5.1 MB/s eta 0:00:01',\n",
              " '\\x1b[K     |█▌                              | 112 kB 5.1 MB/s eta 0:00:01',\n",
              " '\\x1b[K     |█▋                              | 122 kB 5.1 MB/s eta 0:00:01',\n",
              " '\\x1b[K     |█▉                              | 133 kB 5.1 MB/s eta 0:00:01',\n",
              " '\\x1b[K     |██                              | 143 kB 5.1 MB/s eta 0:00:01',\n",
              " '\\x1b[K     |██                              | 153 kB 5.1 MB/s eta 0:00:01',\n",
              " '\\x1b[K     |██▏                             | 163 kB 5.1 MB/s eta 0:00:01',\n",
              " '\\x1b[K     |██▍                             | 174 kB 5.1 MB/s eta 0:00:01',\n",
              " '\\x1b[K     |██▌                             | 184 kB 5.1 MB/s eta 0:00:01',\n",
              " '\\x1b[K     |██▋                             | 194 kB 5.1 MB/s eta 0:00:01',\n",
              " '\\x1b[K     |██▊                             | 204 kB 5.1 MB/s eta 0:00:01',\n",
              " '\\x1b[K     |███                             | 215 kB 5.1 MB/s eta 0:00:01',\n",
              " '\\x1b[K     |███                             | 225 kB 5.1 MB/s eta 0:00:01',\n",
              " '\\x1b[K     |███▏                            | 235 kB 5.1 MB/s eta 0:00:01',\n",
              " '\\x1b[K     |███▎                            | 245 kB 5.1 MB/s eta 0:00:01',\n",
              " '\\x1b[K     |███▌                            | 256 kB 5.1 MB/s eta 0:00:01',\n",
              " '\\x1b[K     |███▋                            | 266 kB 5.1 MB/s eta 0:00:01',\n",
              " '\\x1b[K     |███▊                            | 276 kB 5.1 MB/s eta 0:00:01',\n",
              " '\\x1b[K     |███▉                            | 286 kB 5.1 MB/s eta 0:00:01',\n",
              " '\\x1b[K     |████                            | 296 kB 5.1 MB/s eta 0:00:01',\n",
              " '\\x1b[K     |████▏                           | 307 kB 5.1 MB/s eta 0:00:01',\n",
              " '\\x1b[K     |████▎                           | 317 kB 5.1 MB/s eta 0:00:01',\n",
              " '\\x1b[K     |████▍                           | 327 kB 5.1 MB/s eta 0:00:01',\n",
              " '\\x1b[K     |████▌                           | 337 kB 5.1 MB/s eta 0:00:01',\n",
              " '\\x1b[K     |████▊                           | 348 kB 5.1 MB/s eta 0:00:01',\n",
              " '\\x1b[K     |████▉                           | 358 kB 5.1 MB/s eta 0:00:01',\n",
              " '\\x1b[K     |█████                           | 368 kB 5.1 MB/s eta 0:00:01',\n",
              " '\\x1b[K     |█████                           | 378 kB 5.1 MB/s eta 0:00:01',\n",
              " '\\x1b[K     |█████▎                          | 389 kB 5.1 MB/s eta 0:00:01',\n",
              " '\\x1b[K     |█████▍                          | 399 kB 5.1 MB/s eta 0:00:01',\n",
              " '\\x1b[K     |█████▌                          | 409 kB 5.1 MB/s eta 0:00:01',\n",
              " '\\x1b[K     |█████▋                          | 419 kB 5.1 MB/s eta 0:00:01',\n",
              " '\\x1b[K     |█████▉                          | 430 kB 5.1 MB/s eta 0:00:01',\n",
              " '\\x1b[K     |██████                          | 440 kB 5.1 MB/s eta 0:00:01',\n",
              " '\\x1b[K     |██████                          | 450 kB 5.1 MB/s eta 0:00:01',\n",
              " '\\x1b[K     |██████▏                         | 460 kB 5.1 MB/s eta 0:00:01',\n",
              " '\\x1b[K     |██████▍                         | 471 kB 5.1 MB/s eta 0:00:01',\n",
              " '\\x1b[K     |██████▌                         | 481 kB 5.1 MB/s eta 0:00:01',\n",
              " '\\x1b[K     |██████▋                         | 491 kB 5.1 MB/s eta 0:00:01',\n",
              " '\\x1b[K     |██████▊                         | 501 kB 5.1 MB/s eta 0:00:01',\n",
              " '\\x1b[K     |███████                         | 512 kB 5.1 MB/s eta 0:00:01',\n",
              " '\\x1b[K     |███████                         | 522 kB 5.1 MB/s eta 0:00:01',\n",
              " '\\x1b[K     |███████▏                        | 532 kB 5.1 MB/s eta 0:00:01',\n",
              " '\\x1b[K     |███████▎                        | 542 kB 5.1 MB/s eta 0:00:01',\n",
              " '\\x1b[K     |███████▌                        | 552 kB 5.1 MB/s eta 0:00:01',\n",
              " '\\x1b[K     |███████▋                        | 563 kB 5.1 MB/s eta 0:00:01',\n",
              " '\\x1b[K     |███████▊                        | 573 kB 5.1 MB/s eta 0:00:01',\n",
              " '\\x1b[K     |███████▉                        | 583 kB 5.1 MB/s eta 0:00:01',\n",
              " '\\x1b[K     |████████                        | 593 kB 5.1 MB/s eta 0:00:01',\n",
              " '\\x1b[K     |████████▏                       | 604 kB 5.1 MB/s eta 0:00:01',\n",
              " '\\x1b[K     |████████▎                       | 614 kB 5.1 MB/s eta 0:00:01',\n",
              " '\\x1b[K     |████████▍                       | 624 kB 5.1 MB/s eta 0:00:01',\n",
              " '\\x1b[K     |████████▌                       | 634 kB 5.1 MB/s eta 0:00:01',\n",
              " '\\x1b[K     |████████▊                       | 645 kB 5.1 MB/s eta 0:00:01',\n",
              " '\\x1b[K     |████████▉                       | 655 kB 5.1 MB/s eta 0:00:01',\n",
              " '\\x1b[K     |█████████                       | 665 kB 5.1 MB/s eta 0:00:01',\n",
              " '\\x1b[K     |█████████                       | 675 kB 5.1 MB/s eta 0:00:01',\n",
              " '\\x1b[K     |█████████▎                      | 686 kB 5.1 MB/s eta 0:00:01',\n",
              " '\\x1b[K     |█████████▍                      | 696 kB 5.1 MB/s eta 0:00:01',\n",
              " '\\x1b[K     |█████████▌                      | 706 kB 5.1 MB/s eta 0:00:01',\n",
              " '\\x1b[K     |█████████▋                      | 716 kB 5.1 MB/s eta 0:00:01',\n",
              " '\\x1b[K     |█████████▉                      | 727 kB 5.1 MB/s eta 0:00:01',\n",
              " '\\x1b[K     |██████████                      | 737 kB 5.1 MB/s eta 0:00:01',\n",
              " '\\x1b[K     |██████████                      | 747 kB 5.1 MB/s eta 0:00:01',\n",
              " '\\x1b[K     |██████████▏                     | 757 kB 5.1 MB/s eta 0:00:01',\n",
              " '\\x1b[K     |██████████▍                     | 768 kB 5.1 MB/s eta 0:00:01',\n",
              " '\\x1b[K     |██████████▌                     | 778 kB 5.1 MB/s eta 0:00:01',\n",
              " '\\x1b[K     |██████████▋                     | 788 kB 5.1 MB/s eta 0:00:01',\n",
              " '\\x1b[K     |██████████▊                     | 798 kB 5.1 MB/s eta 0:00:01',\n",
              " '\\x1b[K     |███████████                     | 808 kB 5.1 MB/s eta 0:00:01',\n",
              " '\\x1b[K     |███████████                     | 819 kB 5.1 MB/s eta 0:00:01',\n",
              " '\\x1b[K     |███████████▏                    | 829 kB 5.1 MB/s eta 0:00:01',\n",
              " '\\x1b[K     |███████████▎                    | 839 kB 5.1 MB/s eta 0:00:01',\n",
              " '\\x1b[K     |███████████▍                    | 849 kB 5.1 MB/s eta 0:00:01',\n",
              " '\\x1b[K     |███████████▋                    | 860 kB 5.1 MB/s eta 0:00:01',\n",
              " '\\x1b[K     |███████████▊                    | 870 kB 5.1 MB/s eta 0:00:01',\n",
              " '\\x1b[K     |███████████▉                    | 880 kB 5.1 MB/s eta 0:00:01',\n",
              " '\\x1b[K     |████████████                    | 890 kB 5.1 MB/s eta 0:00:01',\n",
              " '\\x1b[K     |████████████▏                   | 901 kB 5.1 MB/s eta 0:00:01',\n",
              " '\\x1b[K     |████████████▎                   | 911 kB 5.1 MB/s eta 0:00:01',\n",
              " '\\x1b[K     |████████████▍                   | 921 kB 5.1 MB/s eta 0:00:01',\n",
              " '\\x1b[K     |████████████▌                   | 931 kB 5.1 MB/s eta 0:00:01',\n",
              " '\\x1b[K     |████████████▊                   | 942 kB 5.1 MB/s eta 0:00:01',\n",
              " '\\x1b[K     |████████████▉                   | 952 kB 5.1 MB/s eta 0:00:01',\n",
              " '\\x1b[K     |█████████████                   | 962 kB 5.1 MB/s eta 0:00:01',\n",
              " '\\x1b[K     |█████████████                   | 972 kB 5.1 MB/s eta 0:00:01',\n",
              " '\\x1b[K     |█████████████▎                  | 983 kB 5.1 MB/s eta 0:00:01',\n",
              " '\\x1b[K     |█████████████▍                  | 993 kB 5.1 MB/s eta 0:00:01',\n",
              " '\\x1b[K     |█████████████▌                  | 1.0 MB 5.1 MB/s eta 0:00:01',\n",
              " '\\x1b[K     |█████████████▋                  | 1.0 MB 5.1 MB/s eta 0:00:01',\n",
              " '\\x1b[K     |█████████████▉                  | 1.0 MB 5.1 MB/s eta 0:00:01',\n",
              " '\\x1b[K     |██████████████                  | 1.0 MB 5.1 MB/s eta 0:00:01',\n",
              " '\\x1b[K     |██████████████                  | 1.0 MB 5.1 MB/s eta 0:00:01',\n",
              " '\\x1b[K     |██████████████▏                 | 1.1 MB 5.1 MB/s eta 0:00:01',\n",
              " '\\x1b[K     |██████████████▍                 | 1.1 MB 5.1 MB/s eta 0:00:01',\n",
              " '\\x1b[K     |██████████████▌                 | 1.1 MB 5.1 MB/s eta 0:00:01',\n",
              " '\\x1b[K     |██████████████▋                 | 1.1 MB 5.1 MB/s eta 0:00:01',\n",
              " '\\x1b[K     |██████████████▊                 | 1.1 MB 5.1 MB/s eta 0:00:01',\n",
              " '\\x1b[K     |███████████████                 | 1.1 MB 5.1 MB/s eta 0:00:01',\n",
              " '\\x1b[K     |███████████████                 | 1.1 MB 5.1 MB/s eta 0:00:01',\n",
              " '\\x1b[K     |███████████████▏                | 1.1 MB 5.1 MB/s eta 0:00:01',\n",
              " '\\x1b[K     |███████████████▎                | 1.1 MB 5.1 MB/s eta 0:00:01',\n",
              " '\\x1b[K     |███████████████▍                | 1.1 MB 5.1 MB/s eta 0:00:01',\n",
              " '\\x1b[K     |███████████████▋                | 1.2 MB 5.1 MB/s eta 0:00:01',\n",
              " '\\x1b[K     |███████████████▊                | 1.2 MB 5.1 MB/s eta 0:00:01',\n",
              " '\\x1b[K     |███████████████▉                | 1.2 MB 5.1 MB/s eta 0:00:01',\n",
              " '\\x1b[K     |████████████████                | 1.2 MB 5.1 MB/s eta 0:00:01',\n",
              " '\\x1b[K     |████████████████▏               | 1.2 MB 5.1 MB/s eta 0:00:01',\n",
              " '\\x1b[K     |████████████████▎               | 1.2 MB 5.1 MB/s eta 0:00:01',\n",
              " '\\x1b[K     |████████████████▍               | 1.2 MB 5.1 MB/s eta 0:00:01',\n",
              " '\\x1b[K     |████████████████▌               | 1.2 MB 5.1 MB/s eta 0:00:01',\n",
              " '\\x1b[K     |████████████████▊               | 1.2 MB 5.1 MB/s eta 0:00:01',\n",
              " '\\x1b[K     |████████████████▉               | 1.2 MB 5.1 MB/s eta 0:00:01',\n",
              " '\\x1b[K     |█████████████████               | 1.3 MB 5.1 MB/s eta 0:00:01',\n",
              " '\\x1b[K     |█████████████████               | 1.3 MB 5.1 MB/s eta 0:00:01',\n",
              " '\\x1b[K     |█████████████████▎              | 1.3 MB 5.1 MB/s eta 0:00:01',\n",
              " '\\x1b[K     |█████████████████▍              | 1.3 MB 5.1 MB/s eta 0:00:01',\n",
              " '\\x1b[K     |█████████████████▌              | 1.3 MB 5.1 MB/s eta 0:00:01',\n",
              " '\\x1b[K     |█████████████████▋              | 1.3 MB 5.1 MB/s eta 0:00:01',\n",
              " '\\x1b[K     |█████████████████▉              | 1.3 MB 5.1 MB/s eta 0:00:01',\n",
              " '\\x1b[K     |██████████████████              | 1.3 MB 5.1 MB/s eta 0:00:01',\n",
              " '\\x1b[K     |██████████████████              | 1.3 MB 5.1 MB/s eta 0:00:01',\n",
              " '\\x1b[K     |██████████████████▏             | 1.4 MB 5.1 MB/s eta 0:00:01',\n",
              " '\\x1b[K     |██████████████████▍             | 1.4 MB 5.1 MB/s eta 0:00:01',\n",
              " '\\x1b[K     |██████████████████▌             | 1.4 MB 5.1 MB/s eta 0:00:01',\n",
              " '\\x1b[K     |██████████████████▋             | 1.4 MB 5.1 MB/s eta 0:00:01',\n",
              " '\\x1b[K     |██████████████████▊             | 1.4 MB 5.1 MB/s eta 0:00:01',\n",
              " '\\x1b[K     |██████████████████▉             | 1.4 MB 5.1 MB/s eta 0:00:01',\n",
              " '\\x1b[K     |███████████████████             | 1.4 MB 5.1 MB/s eta 0:00:01',\n",
              " '\\x1b[K     |███████████████████▏            | 1.4 MB 5.1 MB/s eta 0:00:01',\n",
              " '\\x1b[K     |███████████████████▎            | 1.4 MB 5.1 MB/s eta 0:00:01',\n",
              " '\\x1b[K     |███████████████████▍            | 1.4 MB 5.1 MB/s eta 0:00:01',\n",
              " '\\x1b[K     |███████████████████▋            | 1.5 MB 5.1 MB/s eta 0:00:01',\n",
              " '\\x1b[K     |███████████████████▊            | 1.5 MB 5.1 MB/s eta 0:00:01',\n",
              " '\\x1b[K     |███████████████████▉            | 1.5 MB 5.1 MB/s eta 0:00:01',\n",
              " '\\x1b[K     |████████████████████            | 1.5 MB 5.1 MB/s eta 0:00:01',\n",
              " '\\x1b[K     |████████████████████▏           | 1.5 MB 5.1 MB/s eta 0:00:01',\n",
              " '\\x1b[K     |████████████████████▎           | 1.5 MB 5.1 MB/s eta 0:00:01',\n",
              " '\\x1b[K     |████████████████████▍           | 1.5 MB 5.1 MB/s eta 0:00:01',\n",
              " '\\x1b[K     |████████████████████▌           | 1.5 MB 5.1 MB/s eta 0:00:01',\n",
              " '\\x1b[K     |████████████████████▊           | 1.5 MB 5.1 MB/s eta 0:00:01',\n",
              " '\\x1b[K     |████████████████████▉           | 1.5 MB 5.1 MB/s eta 0:00:01',\n",
              " '\\x1b[K     |█████████████████████           | 1.6 MB 5.1 MB/s eta 0:00:01',\n",
              " '\\x1b[K     |█████████████████████           | 1.6 MB 5.1 MB/s eta 0:00:01',\n",
              " '\\x1b[K     |█████████████████████▎          | 1.6 MB 5.1 MB/s eta 0:00:01',\n",
              " '\\x1b[K     |█████████████████████▍          | 1.6 MB 5.1 MB/s eta 0:00:01',\n",
              " '\\x1b[K     |█████████████████████▌          | 1.6 MB 5.1 MB/s eta 0:00:01',\n",
              " '\\x1b[K     |█████████████████████▋          | 1.6 MB 5.1 MB/s eta 0:00:01',\n",
              " '\\x1b[K     |█████████████████████▉          | 1.6 MB 5.1 MB/s eta 0:00:01',\n",
              " '\\x1b[K     |██████████████████████          | 1.6 MB 5.1 MB/s eta 0:00:01',\n",
              " '\\x1b[K     |██████████████████████          | 1.6 MB 5.1 MB/s eta 0:00:01',\n",
              " '\\x1b[K     |██████████████████████▏         | 1.6 MB 5.1 MB/s eta 0:00:01',\n",
              " '\\x1b[K     |██████████████████████▍         | 1.7 MB 5.1 MB/s eta 0:00:01',\n",
              " '\\x1b[K     |██████████████████████▌         | 1.7 MB 5.1 MB/s eta 0:00:01',\n",
              " '\\x1b[K     |██████████████████████▋         | 1.7 MB 5.1 MB/s eta 0:00:01',\n",
              " '\\x1b[K     |██████████████████████▊         | 1.7 MB 5.1 MB/s eta 0:00:01',\n",
              " '\\x1b[K     |██████████████████████▉         | 1.7 MB 5.1 MB/s eta 0:00:01',\n",
              " '\\x1b[K     |███████████████████████         | 1.7 MB 5.1 MB/s eta 0:00:01',\n",
              " '\\x1b[K     |███████████████████████▏        | 1.7 MB 5.1 MB/s eta 0:00:01',\n",
              " '\\x1b[K     |███████████████████████▎        | 1.7 MB 5.1 MB/s eta 0:00:01',\n",
              " '\\x1b[K     |███████████████████████▍        | 1.7 MB 5.1 MB/s eta 0:00:01',\n",
              " '\\x1b[K     |███████████████████████▋        | 1.8 MB 5.1 MB/s eta 0:00:01',\n",
              " '\\x1b[K     |███████████████████████▊        | 1.8 MB 5.1 MB/s eta 0:00:01',\n",
              " '\\x1b[K     |███████████████████████▉        | 1.8 MB 5.1 MB/s eta 0:00:01',\n",
              " '\\x1b[K     |████████████████████████        | 1.8 MB 5.1 MB/s eta 0:00:01',\n",
              " '\\x1b[K     |████████████████████████▏       | 1.8 MB 5.1 MB/s eta 0:00:01',\n",
              " '\\x1b[K     |████████████████████████▎       | 1.8 MB 5.1 MB/s eta 0:00:01',\n",
              " '\\x1b[K     |████████████████████████▍       | 1.8 MB 5.1 MB/s eta 0:00:01',\n",
              " '\\x1b[K     |████████████████████████▌       | 1.8 MB 5.1 MB/s eta 0:00:01',\n",
              " '\\x1b[K     |████████████████████████▊       | 1.8 MB 5.1 MB/s eta 0:00:01',\n",
              " '\\x1b[K     |████████████████████████▉       | 1.8 MB 5.1 MB/s eta 0:00:01',\n",
              " '\\x1b[K     |█████████████████████████       | 1.9 MB 5.1 MB/s eta 0:00:01',\n",
              " '\\x1b[K     |█████████████████████████       | 1.9 MB 5.1 MB/s eta 0:00:01',\n",
              " '\\x1b[K     |█████████████████████████▎      | 1.9 MB 5.1 MB/s eta 0:00:01',\n",
              " '\\x1b[K     |█████████████████████████▍      | 1.9 MB 5.1 MB/s eta 0:00:01',\n",
              " '\\x1b[K     |█████████████████████████▌      | 1.9 MB 5.1 MB/s eta 0:00:01',\n",
              " '\\x1b[K     |█████████████████████████▋      | 1.9 MB 5.1 MB/s eta 0:00:01',\n",
              " '\\x1b[K     |█████████████████████████▉      | 1.9 MB 5.1 MB/s eta 0:00:01',\n",
              " '\\x1b[K     |██████████████████████████      | 1.9 MB 5.1 MB/s eta 0:00:01',\n",
              " '\\x1b[K     |██████████████████████████      | 1.9 MB 5.1 MB/s eta 0:00:01',\n",
              " '\\x1b[K     |██████████████████████████▏     | 1.9 MB 5.1 MB/s eta 0:00:01',\n",
              " '\\x1b[K     |██████████████████████████▎     | 2.0 MB 5.1 MB/s eta 0:00:01',\n",
              " '\\x1b[K     |██████████████████████████▌     | 2.0 MB 5.1 MB/s eta 0:00:01',\n",
              " '\\x1b[K     |██████████████████████████▋     | 2.0 MB 5.1 MB/s eta 0:00:01',\n",
              " '\\x1b[K     |██████████████████████████▊     | 2.0 MB 5.1 MB/s eta 0:00:01',\n",
              " '\\x1b[K     |██████████████████████████▉     | 2.0 MB 5.1 MB/s eta 0:00:01',\n",
              " '\\x1b[K     |███████████████████████████     | 2.0 MB 5.1 MB/s eta 0:00:01',\n",
              " '\\x1b[K     |███████████████████████████▏    | 2.0 MB 5.1 MB/s eta 0:00:01',\n",
              " '\\x1b[K     |███████████████████████████▎    | 2.0 MB 5.1 MB/s eta 0:00:01',\n",
              " '\\x1b[K     |███████████████████████████▍    | 2.0 MB 5.1 MB/s eta 0:00:01',\n",
              " '\\x1b[K     |███████████████████████████▋    | 2.0 MB 5.1 MB/s eta 0:00:01',\n",
              " '\\x1b[K     |███████████████████████████▊    | 2.1 MB 5.1 MB/s eta 0:00:01',\n",
              " '\\x1b[K     |███████████████████████████▉    | 2.1 MB 5.1 MB/s eta 0:00:01',\n",
              " '\\x1b[K     |████████████████████████████    | 2.1 MB 5.1 MB/s eta 0:00:01',\n",
              " '\\x1b[K     |████████████████████████████▏   | 2.1 MB 5.1 MB/s eta 0:00:01',\n",
              " '\\x1b[K     |████████████████████████████▎   | 2.1 MB 5.1 MB/s eta 0:00:01',\n",
              " '\\x1b[K     |████████████████████████████▍   | 2.1 MB 5.1 MB/s eta 0:00:01',\n",
              " '\\x1b[K     |████████████████████████████▌   | 2.1 MB 5.1 MB/s eta 0:00:01',\n",
              " '\\x1b[K     |████████████████████████████▊   | 2.1 MB 5.1 MB/s eta 0:00:01',\n",
              " '\\x1b[K     |████████████████████████████▉   | 2.1 MB 5.1 MB/s eta 0:00:01',\n",
              " '\\x1b[K     |█████████████████████████████   | 2.2 MB 5.1 MB/s eta 0:00:01',\n",
              " '\\x1b[K     |█████████████████████████████   | 2.2 MB 5.1 MB/s eta 0:00:01',\n",
              " '\\x1b[K     |█████████████████████████████▎  | 2.2 MB 5.1 MB/s eta 0:00:01',\n",
              " '\\x1b[K     |█████████████████████████████▍  | 2.2 MB 5.1 MB/s eta 0:00:01',\n",
              " '\\x1b[K     |█████████████████████████████▌  | 2.2 MB 5.1 MB/s eta 0:00:01',\n",
              " '\\x1b[K     |█████████████████████████████▋  | 2.2 MB 5.1 MB/s eta 0:00:01',\n",
              " '\\x1b[K     |█████████████████████████████▉  | 2.2 MB 5.1 MB/s eta 0:00:01',\n",
              " '\\x1b[K     |██████████████████████████████  | 2.2 MB 5.1 MB/s eta 0:00:01',\n",
              " '\\x1b[K     |██████████████████████████████  | 2.2 MB 5.1 MB/s eta 0:00:01',\n",
              " '\\x1b[K     |██████████████████████████████▏ | 2.2 MB 5.1 MB/s eta 0:00:01',\n",
              " '\\x1b[K     |██████████████████████████████▎ | 2.3 MB 5.1 MB/s eta 0:00:01',\n",
              " '\\x1b[K     |██████████████████████████████▌ | 2.3 MB 5.1 MB/s eta 0:00:01',\n",
              " '\\x1b[K     |██████████████████████████████▋ | 2.3 MB 5.1 MB/s eta 0:00:01',\n",
              " '\\x1b[K     |██████████████████████████████▊ | 2.3 MB 5.1 MB/s eta 0:00:01',\n",
              " '\\x1b[K     |██████████████████████████████▉ | 2.3 MB 5.1 MB/s eta 0:00:01',\n",
              " '\\x1b[K     |███████████████████████████████ | 2.3 MB 5.1 MB/s eta 0:00:01',\n",
              " '\\x1b[K     |███████████████████████████████▏| 2.3 MB 5.1 MB/s eta 0:00:01',\n",
              " '\\x1b[K     |███████████████████████████████▎| 2.3 MB 5.1 MB/s eta 0:00:01',\n",
              " '\\x1b[K     |███████████████████████████████▍| 2.3 MB 5.1 MB/s eta 0:00:01',\n",
              " '\\x1b[K     |███████████████████████████████▋| 2.3 MB 5.1 MB/s eta 0:00:01',\n",
              " '\\x1b[K     |███████████████████████████████▊| 2.4 MB 5.1 MB/s eta 0:00:01',\n",
              " '\\x1b[K     |███████████████████████████████▉| 2.4 MB 5.1 MB/s eta 0:00:01',\n",
              " '\\x1b[K     |████████████████████████████████| 2.4 MB 5.1 MB/s eta 0:00:01',\n",
              " '\\x1b[K     |████████████████████████████████| 2.4 MB 5.1 MB/s ',\n",
              " '\\x1b[?25hRequirement already satisfied: numpy>=1.9.1 in /usr/local/lib/python3.7/dist-packages (from pyedflib) (1.21.6)',\n",
              " 'Installing collected packages: pyedflib',\n",
              " 'Successfully installed pyedflib-0.1.28']"
            ]
          },
          "metadata": {},
          "execution_count": 4
        }
      ]
    },
    {
      "cell_type": "code",
      "source": [
        "import pyedflib\n",
        "import numpy as np\n",
        "\n",
        "file_name = \"/content/SN001_sleepscoring.edf\"#pyedflib.data.get_generator_filename()\n",
        "f = pyedflib.EdfReader(file_name)\n",
        "n = f.signals_in_file\n",
        "signal_labels = f.getSignalLabels()\n",
        "sigbufs = np.zeros((n, f.getNSamples()[0]))\n",
        "for i in np.arange(n):\n",
        "        sigbufs[i, :] = f.readSignal(i)"
      ],
      "metadata": {
        "colab": {
          "base_uri": "https://localhost:8080/",
          "height": 245
        },
        "id": "LIHp6t1q3Xsn",
        "outputId": "c434b0d6-8aba-40cc-8073-64efa8c16e8d"
      },
      "execution_count": 6,
      "outputs": [
        {
          "output_type": "error",
          "ename": "IndexError",
          "evalue": "ignored",
          "traceback": [
            "\u001b[0;31m---------------------------------------------------------------------------\u001b[0m",
            "\u001b[0;31mIndexError\u001b[0m                                Traceback (most recent call last)",
            "\u001b[0;32m<ipython-input-6-94788a11ca0b>\u001b[0m in \u001b[0;36m<module>\u001b[0;34m()\u001b[0m\n\u001b[1;32m      6\u001b[0m \u001b[0mn\u001b[0m \u001b[0;34m=\u001b[0m \u001b[0mf\u001b[0m\u001b[0;34m.\u001b[0m\u001b[0msignals_in_file\u001b[0m\u001b[0;34m\u001b[0m\u001b[0;34m\u001b[0m\u001b[0m\n\u001b[1;32m      7\u001b[0m \u001b[0msignal_labels\u001b[0m \u001b[0;34m=\u001b[0m \u001b[0mf\u001b[0m\u001b[0;34m.\u001b[0m\u001b[0mgetSignalLabels\u001b[0m\u001b[0;34m(\u001b[0m\u001b[0;34m)\u001b[0m\u001b[0;34m\u001b[0m\u001b[0;34m\u001b[0m\u001b[0m\n\u001b[0;32m----> 8\u001b[0;31m \u001b[0msigbufs\u001b[0m \u001b[0;34m=\u001b[0m \u001b[0mnp\u001b[0m\u001b[0;34m.\u001b[0m\u001b[0mzeros\u001b[0m\u001b[0;34m(\u001b[0m\u001b[0;34m(\u001b[0m\u001b[0mn\u001b[0m\u001b[0;34m,\u001b[0m \u001b[0mf\u001b[0m\u001b[0;34m.\u001b[0m\u001b[0mgetNSamples\u001b[0m\u001b[0;34m(\u001b[0m\u001b[0;34m)\u001b[0m\u001b[0;34m[\u001b[0m\u001b[0;36m0\u001b[0m\u001b[0;34m]\u001b[0m\u001b[0;34m)\u001b[0m\u001b[0;34m)\u001b[0m\u001b[0;34m\u001b[0m\u001b[0;34m\u001b[0m\u001b[0m\n\u001b[0m\u001b[1;32m      9\u001b[0m \u001b[0;32mfor\u001b[0m \u001b[0mi\u001b[0m \u001b[0;32min\u001b[0m \u001b[0mnp\u001b[0m\u001b[0;34m.\u001b[0m\u001b[0marange\u001b[0m\u001b[0;34m(\u001b[0m\u001b[0mn\u001b[0m\u001b[0;34m)\u001b[0m\u001b[0;34m:\u001b[0m\u001b[0;34m\u001b[0m\u001b[0;34m\u001b[0m\u001b[0m\n\u001b[1;32m     10\u001b[0m         \u001b[0msigbufs\u001b[0m\u001b[0;34m[\u001b[0m\u001b[0mi\u001b[0m\u001b[0;34m,\u001b[0m \u001b[0;34m:\u001b[0m\u001b[0;34m]\u001b[0m \u001b[0;34m=\u001b[0m \u001b[0mf\u001b[0m\u001b[0;34m.\u001b[0m\u001b[0mreadSignal\u001b[0m\u001b[0;34m(\u001b[0m\u001b[0mi\u001b[0m\u001b[0;34m)\u001b[0m\u001b[0;34m\u001b[0m\u001b[0;34m\u001b[0m\u001b[0m\n",
            "\u001b[0;31mIndexError\u001b[0m: index 0 is out of bounds for axis 0 with size 0"
          ]
        }
      ]
    }
  ]
}