{
  "nbformat": 4,
  "nbformat_minor": 0,
  "metadata": {
    "colab": {
      "name": "SignalReading.ipynb",
      "provenance": [],
      "authorship_tag": "ABX9TyOesSKHnG7vN22Lz1yVQZeR",
      "include_colab_link": true
    },
    "kernelspec": {
      "name": "python3",
      "display_name": "Python 3"
    },
    "language_info": {
      "name": "python"
    }
  },
  "cells": [
    {
      "cell_type": "markdown",
      "metadata": {
        "id": "view-in-github",
        "colab_type": "text"
      },
      "source": [
        "<a href=\"https://colab.research.google.com/github/RafsanJany-44/Thesis_Project/blob/main/SignalReading.ipynb\" target=\"_parent\"><img src=\"https://colab.research.google.com/assets/colab-badge.svg\" alt=\"Open In Colab\"/></a>"
      ]
    },
    {
      "cell_type": "code",
      "source": [
        "!pip install mne"
      ],
      "metadata": {
        "colab": {
          "base_uri": "https://localhost:8080/"
        },
        "id": "qNfcd_dHzvPe",
        "outputId": "b7f2e298-97b9-4e9f-9c8a-5f322bf5eca2"
      },
      "execution_count": 1,
      "outputs": [
        {
          "output_type": "stream",
          "name": "stdout",
          "text": [
            "Collecting mne\n",
            "  Downloading mne-1.0.2-py3-none-any.whl (7.5 MB)\n",
            "\u001b[K     |████████████████████████████████| 7.5 MB 8.7 MB/s \n",
            "\u001b[?25hRequirement already satisfied: jinja2 in /usr/local/lib/python3.7/dist-packages (from mne) (2.11.3)\n",
            "Requirement already satisfied: numpy>=1.15.4 in /usr/local/lib/python3.7/dist-packages (from mne) (1.21.6)\n",
            "Requirement already satisfied: matplotlib in /usr/local/lib/python3.7/dist-packages (from mne) (3.2.2)\n",
            "Requirement already satisfied: tqdm in /usr/local/lib/python3.7/dist-packages (from mne) (4.64.0)\n",
            "Requirement already satisfied: pooch>=1.5 in /usr/local/lib/python3.7/dist-packages (from mne) (1.6.0)\n",
            "Requirement already satisfied: decorator in /usr/local/lib/python3.7/dist-packages (from mne) (4.4.2)\n",
            "Requirement already satisfied: packaging in /usr/local/lib/python3.7/dist-packages (from mne) (21.3)\n",
            "Requirement already satisfied: scipy>=1.1.0 in /usr/local/lib/python3.7/dist-packages (from mne) (1.4.1)\n",
            "Requirement already satisfied: appdirs>=1.3.0 in /usr/local/lib/python3.7/dist-packages (from pooch>=1.5->mne) (1.4.4)\n",
            "Requirement already satisfied: requests>=2.19.0 in /usr/local/lib/python3.7/dist-packages (from pooch>=1.5->mne) (2.23.0)\n",
            "Requirement already satisfied: pyparsing!=3.0.5,>=2.0.2 in /usr/local/lib/python3.7/dist-packages (from packaging->mne) (3.0.8)\n",
            "Requirement already satisfied: chardet<4,>=3.0.2 in /usr/local/lib/python3.7/dist-packages (from requests>=2.19.0->pooch>=1.5->mne) (3.0.4)\n",
            "Requirement already satisfied: idna<3,>=2.5 in /usr/local/lib/python3.7/dist-packages (from requests>=2.19.0->pooch>=1.5->mne) (2.10)\n",
            "Requirement already satisfied: certifi>=2017.4.17 in /usr/local/lib/python3.7/dist-packages (from requests>=2.19.0->pooch>=1.5->mne) (2021.10.8)\n",
            "Requirement already satisfied: urllib3!=1.25.0,!=1.25.1,<1.26,>=1.21.1 in /usr/local/lib/python3.7/dist-packages (from requests>=2.19.0->pooch>=1.5->mne) (1.24.3)\n",
            "Requirement already satisfied: MarkupSafe>=0.23 in /usr/local/lib/python3.7/dist-packages (from jinja2->mne) (2.0.1)\n",
            "Requirement already satisfied: cycler>=0.10 in /usr/local/lib/python3.7/dist-packages (from matplotlib->mne) (0.11.0)\n",
            "Requirement already satisfied: python-dateutil>=2.1 in /usr/local/lib/python3.7/dist-packages (from matplotlib->mne) (2.8.2)\n",
            "Requirement already satisfied: kiwisolver>=1.0.1 in /usr/local/lib/python3.7/dist-packages (from matplotlib->mne) (1.4.2)\n",
            "Requirement already satisfied: typing-extensions in /usr/local/lib/python3.7/dist-packages (from kiwisolver>=1.0.1->matplotlib->mne) (4.2.0)\n",
            "Requirement already satisfied: six>=1.5 in /usr/local/lib/python3.7/dist-packages (from python-dateutil>=2.1->matplotlib->mne) (1.15.0)\n",
            "Installing collected packages: mne\n",
            "Successfully installed mne-1.0.2\n"
          ]
        }
      ]
    },
    {
      "cell_type": "code",
      "execution_count": 4,
      "metadata": {
        "id": "W7hT7JKHxjHA"
      },
      "outputs": [],
      "source": [
        "import os\n",
        "import numpy as np\n",
        "import pandas as pd\n",
        "import matplotlib.pyplot as plt\n",
        "\n",
        "from sklearn.pipeline import Pipeline\n",
        "from sklearn.discriminant_analysis import LinearDiscriminantAnalysis\n",
        "from sklearn.model_selection import ShuffleSplit, cross_val_score\n",
        "\n",
        "from mne import Epochs, pick_types, find_events, pick_types, set_eeg_reference\n",
        "from mne.channels import read_layout\n",
        "from mne.io import concatenate_raws, read_raw_edf\n",
        "from mne.datasets import eegbci\n",
        "from mne.decoding import CSP\n",
        "from mne import viz\n",
        "\n",
        "%matplotlib inline"
      ]
    },
    {
      "cell_type": "code",
      "source": [
        "# The eeg data contains four event markers. We'll use these to explore the data.\n",
        "event_id = dict(response=4096, target=8192, NonTarget_High=16384, NonTarget_Low=32768)\n",
        "\n",
        "# This will determine the time window for the data that we care about\n",
        "tmin, tmax = -0.1, 1.\n",
        "\n",
        "# path to data (change this to whereever you saved your data)\n",
        "myPath = r'/content/SN001_sleepscoring.edf'"
      ],
      "metadata": {
        "id": "TImABPDux4BQ"
      },
      "execution_count": 5,
      "outputs": []
    },
    {
      "cell_type": "code",
      "source": [
        "# multiple subjects\n",
        "\n",
        "raw_fnames = eegbci.load_data(subject, runs)\n",
        "raw_fnames = [os.path.join(myPath,f) for f in os.listdir(myPath)]\n",
        "raw_files = [read_raw_edf(f, preload=True, stim_channel='auto', verbose=False) for f in\n",
        "              raw_fnames]\n",
        "raw = concatenate_raws(raw_files, verbose=False)"
      ],
      "metadata": {
        "id": "nCNSr9v_x4o8"
      },
      "execution_count": null,
      "outputs": []
    },
    {
      "cell_type": "markdown",
      "source": [
        "#2) Load our EEG data¶"
      ],
      "metadata": {
        "id": "0GJiMwDfx-rc"
      }
    },
    {
      "cell_type": "code",
      "source": [
        "# single subject\n",
        "data = os.listdir(myPath)\n",
        "dataPath = os.path.join(myPath, data[0])\n",
        "\n",
        "# We use mne.read_raw_edf to read in the .bdf EEG files\n",
        "raw = read_raw_edf(dataPath, preload=True, stim_channel='auto', verbose=False)\n",
        "raw"
      ],
      "metadata": {
        "colab": {
          "base_uri": "https://localhost:8080/",
          "height": 245
        },
        "id": "UYGL7UX-x8VL",
        "outputId": "3d77e519-723f-4d3a-e472-91b2be2ea1f0"
      },
      "execution_count": 6,
      "outputs": [
        {
          "output_type": "error",
          "ename": "NotADirectoryError",
          "evalue": "ignored",
          "traceback": [
            "\u001b[0;31m---------------------------------------------------------------------------\u001b[0m",
            "\u001b[0;31mNotADirectoryError\u001b[0m                        Traceback (most recent call last)",
            "\u001b[0;32m<ipython-input-6-ee4336b0b54b>\u001b[0m in \u001b[0;36m<module>\u001b[0;34m()\u001b[0m\n\u001b[1;32m      1\u001b[0m \u001b[0;31m# single subject\u001b[0m\u001b[0;34m\u001b[0m\u001b[0;34m\u001b[0m\u001b[0;34m\u001b[0m\u001b[0m\n\u001b[0;32m----> 2\u001b[0;31m \u001b[0mdata\u001b[0m \u001b[0;34m=\u001b[0m \u001b[0mos\u001b[0m\u001b[0;34m.\u001b[0m\u001b[0mlistdir\u001b[0m\u001b[0;34m(\u001b[0m\u001b[0mmyPath\u001b[0m\u001b[0;34m)\u001b[0m\u001b[0;34m\u001b[0m\u001b[0;34m\u001b[0m\u001b[0m\n\u001b[0m\u001b[1;32m      3\u001b[0m \u001b[0mdataPath\u001b[0m \u001b[0;34m=\u001b[0m \u001b[0mos\u001b[0m\u001b[0;34m.\u001b[0m\u001b[0mpath\u001b[0m\u001b[0;34m.\u001b[0m\u001b[0mjoin\u001b[0m\u001b[0;34m(\u001b[0m\u001b[0mmyPath\u001b[0m\u001b[0;34m,\u001b[0m \u001b[0mdata\u001b[0m\u001b[0;34m[\u001b[0m\u001b[0;36m0\u001b[0m\u001b[0;34m]\u001b[0m\u001b[0;34m)\u001b[0m\u001b[0;34m\u001b[0m\u001b[0;34m\u001b[0m\u001b[0m\n\u001b[1;32m      4\u001b[0m \u001b[0;34m\u001b[0m\u001b[0m\n\u001b[1;32m      5\u001b[0m \u001b[0;31m# We use mne.read_raw_edf to read in the .bdf EEG files\u001b[0m\u001b[0;34m\u001b[0m\u001b[0;34m\u001b[0m\u001b[0;34m\u001b[0m\u001b[0m\n",
            "\u001b[0;31mNotADirectoryError\u001b[0m: [Errno 20] Not a directory: '/content/SN001_sleepscoring.edf'"
          ]
        }
      ]
    },
    {
      "cell_type": "markdown",
      "source": [
        "#Let's explore our EEG data!"
      ],
      "metadata": {
        "id": "J-HLMhNmyGk-"
      }
    },
    {
      "cell_type": "code",
      "source": [
        "# what does our data look like?\n",
        "\n",
        "print('Data type: {}\\n\\n{}\\n'.format(type(raw), raw))\n",
        "# print('{} \\n'.format(raw))\n",
        "\n",
        "# Get the sample rate\n",
        "print('Sample rate:', raw.info['sfreq'], 'Hz')\n",
        "\n",
        "# Get the size of the matrix\n",
        "print('Size of the matrix: {}\\n'.format(raw.get_data().shape))\n",
        "\n",
        "# We can use the mne.info class to learn moure about the data.\n",
        "print(raw.info)"
      ],
      "metadata": {
        "id": "cwkgGIYNyEeV"
      },
      "execution_count": null,
      "outputs": []
    },
    {
      "cell_type": "code",
      "source": [
        "print('The actual data is just a matrix array!\\n\\n {}\\n'.format(raw.get_data()))"
      ],
      "metadata": {
        "id": "KYTnXanKyLM1"
      },
      "execution_count": null,
      "outputs": []
    },
    {
      "cell_type": "markdown",
      "source": [
        "#Start to visualize the data"
      ],
      "metadata": {
        "id": "W7OtB9EtyOiR"
      }
    },
    {
      "cell_type": "code",
      "source": [
        "# Extract data from the first 5 channels, from 1 s to 3 s.\n",
        "sfreq = raw.info['sfreq']\n",
        "sfreq = raw.info['sfreq']\n",
        "data, times = raw[:5, int(sfreq * 1):int(sfreq * 10)]\n",
        "\n",
        "fig = plt.subplots(figsize=(10,8))\n",
        "plt.plot(times, data.T);\n",
        "plt.xlabel('Seconds')\n",
        "plt.ylabel('$\\mu V$')\n",
        "plt.title('Channels: 1-5');\n",
        "plt.legend(raw.ch_names[:5]);"
      ],
      "metadata": {
        "id": "VEryiaXhyLwX"
      },
      "execution_count": null,
      "outputs": []
    },
    {
      "cell_type": "code",
      "source": [
        "# Apply band-pass filter\n",
        "raw.filter(7., 30., fir_design='firwin', skip_by_annotation='edge')"
      ],
      "metadata": {
        "id": "FwxHMCRQyR15"
      },
      "execution_count": null,
      "outputs": []
    },
    {
      "cell_type": "code",
      "source": [
        "data_f, times_f = raw[:5, int(sfreq * 1):int(sfreq * 10)]\n",
        "\n",
        "fig, (ax1, ax2) = plt.subplots(1,2, figsize = (15, 10))\n",
        "\n",
        "ax1.plot(times, data.T);\n",
        "ax1.set_title('Before Filter')\n",
        "ax1.set_xlabel('Seconds')\n",
        "ax1.set_ylabel('$\\mu V$')\n",
        "\n",
        "ax2.plot(times_f, data_f.T);\n",
        "ax2.set_title('After Filter')\n",
        "ax2.set_xlabel('Seconds')\n",
        "\n",
        "plt.legend(raw.ch_names[:5], loc=1);\n",
        "# plt.tight_layout()"
      ],
      "metadata": {
        "id": "tlJpwBHByZqq"
      },
      "execution_count": null,
      "outputs": []
    },
    {
      "cell_type": "code",
      "source": [
        "# %matplotlib qt\n",
        "raw.plot(duration=60, block=True)"
      ],
      "metadata": {
        "id": "K4ApUOHQycH8"
      },
      "execution_count": null,
      "outputs": []
    },
    {
      "cell_type": "code",
      "source": [
        "# %matplotlib qt\n",
        "raw.plot_psd(tmax=np.inf, fmax=250)"
      ],
      "metadata": {
        "id": "6EvmgpKNyen6"
      },
      "execution_count": null,
      "outputs": []
    },
    {
      "cell_type": "code",
      "source": [
        "raw_df = raw.to_data_frame()\n",
        "raw_df.head()"
      ],
      "metadata": {
        "id": "Opm7o2mSyi2_"
      },
      "execution_count": null,
      "outputs": []
    },
    {
      "cell_type": "markdown",
      "source": [
        "#3) Epochs:\n"
      ],
      "metadata": {
        "id": "x2HXZgX8yzyv"
      }
    },
    {
      "cell_type": "code",
      "source": [
        "%matplotlib inline\n",
        "picks = pick_types(raw.info, meg=False, eeg=True, stim=False, eog=False,\n",
        "                   exclude='bads')\n",
        "\n",
        "# events.shap|e\n",
        "events = find_events(raw, shortest_event=0, stim_channel='STI 014', verbose=False)\n",
        "\n",
        "epochs = Epochs(raw, events, event_id, tmin, tmax, proj=True, picks=picks,\n",
        "                baseline=None, preload=True, verbose=False)\n",
        "\n",
        "# remove channels that aren't eeg electrodes we care about\n",
        "epochs.drop_channels(ch_names=['Nose', 'REOG', 'LEOG', 'IEOG', 'SEOG', 'M1', 'M2','EXG8'])\n",
        "\n",
        "# Export data in tabular structure as a pandas DataFrame.\n",
        "epochs_df = epochs.to_data_frame()\n",
        "\n",
        "\n",
        "evoked = epochs['target'].average()\n",
        "evoked.plot();"
      ],
      "metadata": {
        "id": "iOz2wLEyyw8W"
      },
      "execution_count": null,
      "outputs": []
    },
    {
      "cell_type": "markdown",
      "source": [
        ""
      ],
      "metadata": {
        "id": "jIHOsIeGy88Z"
      }
    },
    {
      "cell_type": "code",
      "source": [
        ""
      ],
      "metadata": {
        "id": "lKEL3tiNy8qT"
      },
      "execution_count": null,
      "outputs": []
    },
    {
      "cell_type": "code",
      "source": [
        "evoked_no_ref = mne.Epochs(raw_no_ref, **epochs_params).average()\n",
        "evoked_no_ref.drop_channels(ch_names=['Nose', 'REOG', 'LEOG', 'IEOG', 'SEOG', 'M1', 'M2','EXG8'])\n",
        "\n",
        "# del raw_no_ref  # save memory\n",
        "\n",
        "title = 'EEG Original reference'\n",
        "evoked_no_ref.plot(titles=dict(eeg=title), time_unit='s')\n",
        "# evoked_no_ref.plot_topomap(times=[0.1], size=3., title=title, time_unit='s')"
      ],
      "metadata": {
        "id": "3Scyb7b5y3Qr"
      },
      "execution_count": null,
      "outputs": []
    },
    {
      "cell_type": "code",
      "source": [
        "picks = pick_types(raw.info, meg=False, eeg=True, stim=False, eog=False,\n",
        "                   exclude='bads')\n",
        "\n",
        "# events.shap|e\n",
        "events = find_events(raw, shortest_event=0, stim_channel='STI 014')\n",
        "\n",
        "epochs = Epochs(raw, events, event_id, tmin, tmax, proj=True, picks=picks,\n",
        "                baseline=None, preload=True)\n",
        "\n",
        "# remove channels that aren't eeg electrodes we care about\n",
        "epochs.drop_channels(ch_names=['Nose', 'REOG', 'LEOG', 'IEOG', 'SEOG', 'M1', 'M2','EXG8', 'P1', 'PO7'])\n",
        "\n",
        "# Export data in tabular structure as a pandas DataFrame.\n",
        "epochs_df = epochs.to_data_frame()\n",
        "\n",
        "\n",
        "evoked = epochs['target'].average()\n",
        "evoked.plot()"
      ],
      "metadata": {
        "id": "DaTPJOYgzAB-"
      },
      "execution_count": null,
      "outputs": []
    },
    {
      "cell_type": "code",
      "source": [
        "df=pd.DataFrame(events, columns = ['time','x','event'])\n",
        "df.index = df['time']/1024\n",
        "\n",
        "fig, ax = plt.subplots()\n",
        "\n",
        "ax.scatter(df.index, df['event'])\n",
        "\n",
        "indexA = np.array(df.index[df['event']==8192])\n",
        "for i in indexA:\n",
        "    ax.axvline(x=i, ymin=0, ymax=1, c='r', linestyle='--')"
      ],
      "metadata": {
        "id": "cG88yaLTzA29"
      },
      "execution_count": null,
      "outputs": []
    },
    {
      "cell_type": "code",
      "source": [
        "%matplotlib inline\n",
        "\n",
        "viz.plot_events(events, raw.info['sfreq'], raw.first_samp,\n",
        "                    event_id=event_id)\n",
        "\n",
        "plt.show()\n"
      ],
      "metadata": {
        "id": "yZTdqnxbzDam"
      },
      "execution_count": null,
      "outputs": []
    },
    {
      "cell_type": "code",
      "source": [
        "epochs['target'].get_data().shape\n",
        "plt.plot(epochs['target'].get_data()[:,26,:][0])"
      ],
      "metadata": {
        "id": "yLcCrrJIzFwo"
      },
      "execution_count": null,
      "outputs": []
    },
    {
      "cell_type": "code",
      "source": [
        "import mne\n",
        "picks_x = mne.pick_channels(raw.ch_names, include=['O1'])\n",
        "# p_right = mne.pick_channels(raw.ch_names, ['O2'])\n",
        "\n",
        "epochs_x = Epochs(raw, events, event_id, tmin, tmax, proj=True, picks=picks_x,\n",
        "                baseline=None, preload=True)\n",
        "\n",
        "\n",
        "evoked_x = epochs_x['target'].average()\n",
        "evoked_x.plot(time_unit='s')\n",
        "\n",
        "\n",
        "epochs_dfx = epochs_x.to_data_frame()\n",
        "\n",
        "# epochs_df.index\n",
        "x = epochs_dfx.xs(('target'), level=0)\n",
        "# x.xs((0), level=0)\n",
        "# x.groupby(['epoch', 'time']).mean()\n",
        "data_mean = x.mean(level='time')\n",
        "\n",
        "fig, ax = plt.subplots(figsize=(20,10))\n",
        "\n",
        "ax.plot(data_mean['O1'])\n",
        "print(ax.get_ylim())\n",
        "plt.vlines(0, ymin=ax.get_ylim()[0], ymax=ax.get_ylim()[1], linestyle='--')\n",
        "# x.loc[0]['O1'].plot(figsize=(15,6))\n",
        "\n",
        "plt.legend(['O1','O2'])\n",
        "\n",
        "plt.show()"
      ],
      "metadata": {
        "id": "bpxuumG8zH82"
      },
      "execution_count": null,
      "outputs": []
    },
    {
      "cell_type": "code",
      "source": [
        "%matplotlib qt\n",
        "epochs.plot(block=True)\n",
        "plt.show()"
      ],
      "metadata": {
        "id": "TQ_gjszjzKaR"
      },
      "execution_count": null,
      "outputs": []
    },
    {
      "cell_type": "code",
      "source": [
        "epochs['target'].plot_image(combine=None, cmap='interactive')"
      ],
      "metadata": {
        "id": "aXfvleCwzMrH"
      },
      "execution_count": null,
      "outputs": []
    },
    {
      "cell_type": "code",
      "source": [
        "raw.plot_psd(tmax=np.inf, average=False)"
      ],
      "metadata": {
        "id": "3thMkqD5zOVx"
      },
      "execution_count": null,
      "outputs": []
    },
    {
      "cell_type": "code",
      "source": [
        "targets = [x[0] for x in events if x[2]==8192]\n",
        "# times = np.array(times)"
      ],
      "metadata": {
        "id": "ArfKJ_dbzQO-"
      },
      "execution_count": null,
      "outputs": []
    },
    {
      "cell_type": "code",
      "source": [
        "df = pd.DataFrame(events, columns=['time','num','event'])"
      ],
      "metadata": {
        "id": "v077Q7ouzSrc"
      },
      "execution_count": null,
      "outputs": []
    },
    {
      "cell_type": "code",
      "source": [
        "event_id['target']"
      ],
      "metadata": {
        "id": "L1ZIV24RzU1b"
      },
      "execution_count": null,
      "outputs": []
    },
    {
      "cell_type": "code",
      "source": [
        "df['event'].value_counts()"
      ],
      "metadata": {
        "id": "AZAm8UV-zWme"
      },
      "execution_count": null,
      "outputs": []
    },
    {
      "cell_type": "code",
      "source": [
        "data, time = raw[:]"
      ],
      "metadata": {
        "id": "IAahPW6QzYaM"
      },
      "execution_count": null,
      "outputs": []
    },
    {
      "cell_type": "code",
      "source": [
        "# make a EEG DataFrame \n",
        "\n",
        "millis = (1/1024) * 1000\n",
        "times = np.arange(0,len(raw)-5, millis)\n",
        "times = [x + millis for x in np.arange(len(raw))]\n",
        "\n",
        "eeg = pd.DataFrame(data.transpose(), columns=raw.ch_names, index=times)\n",
        "eeg = eeg.iloc[:,:64]"
      ],
      "metadata": {
        "id": "5iDr_RvkzaSQ"
      },
      "execution_count": null,
      "outputs": []
    },
    {
      "cell_type": "code",
      "source": [
        "np.arange(len(axs))"
      ],
      "metadata": {
        "id": "wV_jYsmJzcWo"
      },
      "execution_count": null,
      "outputs": []
    },
    {
      "cell_type": "code",
      "source": [
        "np.array(time[0:97]).diff"
      ],
      "metadata": {
        "id": "dbcwoj5ZzeKJ"
      },
      "execution_count": null,
      "outputs": []
    }
  ]
}