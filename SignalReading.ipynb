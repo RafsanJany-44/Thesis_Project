{
  "nbformat": 4,
  "nbformat_minor": 0,
  "metadata": {
    "colab": {
      "name": "SignalReading.ipynb",
      "provenance": [],
      "authorship_tag": "ABX9TyN6JqKNkPrUfXCbUfd/N3nG",
      "include_colab_link": true
    },
    "kernelspec": {
      "name": "python3",
      "display_name": "Python 3"
    },
    "language_info": {
      "name": "python"
    }
  },
  "cells": [
    {
      "cell_type": "markdown",
      "metadata": {
        "id": "view-in-github",
        "colab_type": "text"
      },
      "source": [
        "<a href=\"https://colab.research.google.com/github/RafsanJany-44/Thesis_Project/blob/main/SignalReading.ipynb\" target=\"_parent\"><img src=\"https://colab.research.google.com/assets/colab-badge.svg\" alt=\"Open In Colab\"/></a>"
      ]
    },
    {
      "cell_type": "code",
      "execution_count": null,
      "metadata": {
        "id": "W7hT7JKHxjHA"
      },
      "outputs": [],
      "source": [
        "import os\n",
        "import numpy as np\n",
        "import pandas as pd\n",
        "import matplotlib.pyplot as plt\n",
        "\n",
        "from sklearn.pipeline import Pipeline\n",
        "from sklearn.discriminant_analysis import LinearDiscriminantAnalysis\n",
        "from sklearn.model_selection import ShuffleSplit, cross_val_score\n",
        "\n",
        "from mne import Epochs, pick_types, find_events, pick_types, set_eeg_reference\n",
        "from mne.channels import read_layout\n",
        "from mne.io import concatenate_raws, read_raw_edf\n",
        "from mne.datasets import eegbci\n",
        "from mne.decoding import CSP\n",
        "from mne import viz\n",
        "\n",
        "%matplotlib inline"
      ]
    },
    {
      "cell_type": "code",
      "source": [
        "# The eeg data contains four event markers. We'll use these to explore the data.\n",
        "event_id = dict(response=4096, target=8192, NonTarget_High=16384, NonTarget_Low=32768)\n",
        "\n",
        "# This will determine the time window for the data that we care about\n",
        "tmin, tmax = -0.1, 1.\n",
        "\n",
        "# path to data (change this to whereever you saved your data)\n",
        "myPath = r'C:\\Users\\seth\\Documents\\dev\\Hackathon\\brain_sample'"
      ],
      "metadata": {
        "id": "TImABPDux4BQ"
      },
      "execution_count": null,
      "outputs": []
    },
    {
      "cell_type": "code",
      "source": [
        "# multiple subjects\n",
        "\n",
        "# raw_fnames = eegbci.load_data(subject, runs)\n",
        "# raw_fnames = [os.path.join(myPath,f) for f in os.listdir(myPath)]\n",
        "# raw_files = [read_raw_edf(f, preload=True, stim_channel='auto', verbose=False) for f in\n",
        "#              raw_fnames]\n",
        "# raw = concatenate_raws(raw_files, verbose=False)"
      ],
      "metadata": {
        "id": "nCNSr9v_x4o8"
      },
      "execution_count": null,
      "outputs": []
    },
    {
      "cell_type": "markdown",
      "source": [
        "#2) Load our EEG data¶"
      ],
      "metadata": {
        "id": "0GJiMwDfx-rc"
      }
    },
    {
      "cell_type": "code",
      "source": [
        "# single subject\n",
        "data = os.listdir(myPath)\n",
        "dataPath = os.path.join(myPath, data[0])\n",
        "\n",
        "# We use mne.read_raw_edf to read in the .bdf EEG files\n",
        "raw = read_raw_edf(dataPath, preload=True, stim_channel='auto', verbose=False)\n",
        "raw"
      ],
      "metadata": {
        "id": "UYGL7UX-x8VL"
      },
      "execution_count": null,
      "outputs": []
    },
    {
      "cell_type": "markdown",
      "source": [
        "#Let's explore our EEG data!"
      ],
      "metadata": {
        "id": "J-HLMhNmyGk-"
      }
    },
    {
      "cell_type": "code",
      "source": [
        "# what does our data look like?\n",
        "\n",
        "print('Data type: {}\\n\\n{}\\n'.format(type(raw), raw))\n",
        "# print('{} \\n'.format(raw))\n",
        "\n",
        "# Get the sample rate\n",
        "print('Sample rate:', raw.info['sfreq'], 'Hz')\n",
        "\n",
        "# Get the size of the matrix\n",
        "print('Size of the matrix: {}\\n'.format(raw.get_data().shape))\n",
        "\n",
        "# We can use the mne.info class to learn moure about the data.\n",
        "print(raw.info)"
      ],
      "metadata": {
        "id": "cwkgGIYNyEeV"
      },
      "execution_count": null,
      "outputs": []
    },
    {
      "cell_type": "code",
      "source": [
        "print('The actual data is just a matrix array!\\n\\n {}\\n'.format(raw.get_data()))"
      ],
      "metadata": {
        "id": "KYTnXanKyLM1"
      },
      "execution_count": null,
      "outputs": []
    },
    {
      "cell_type": "markdown",
      "source": [
        "#Start to visualize the data"
      ],
      "metadata": {
        "id": "W7OtB9EtyOiR"
      }
    },
    {
      "cell_type": "code",
      "source": [
        "# Extract data from the first 5 channels, from 1 s to 3 s.\n",
        "sfreq = raw.info['sfreq']\n",
        "sfreq = raw.info['sfreq']\n",
        "data, times = raw[:5, int(sfreq * 1):int(sfreq * 10)]\n",
        "\n",
        "fig = plt.subplots(figsize=(10,8))\n",
        "plt.plot(times, data.T);\n",
        "plt.xlabel('Seconds')\n",
        "plt.ylabel('$\\mu V$')\n",
        "plt.title('Channels: 1-5');\n",
        "plt.legend(raw.ch_names[:5]);"
      ],
      "metadata": {
        "id": "VEryiaXhyLwX"
      },
      "execution_count": null,
      "outputs": []
    },
    {
      "cell_type": "code",
      "source": [
        ""
      ],
      "metadata": {
        "id": "FwxHMCRQyR15"
      },
      "execution_count": null,
      "outputs": []
    }
  ]
}