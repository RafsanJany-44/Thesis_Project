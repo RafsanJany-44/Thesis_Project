{
  "nbformat": 4,
  "nbformat_minor": 0,
  "metadata": {
    "colab": {
      "name": "Linear_Regression.ipynb",
      "provenance": [],
      "authorship_tag": "ABX9TyPkXTwBWnezzacuv8gt33rn",
      "include_colab_link": true
    },
    "kernelspec": {
      "name": "python3",
      "display_name": "Python 3"
    },
    "language_info": {
      "name": "python"
    }
  },
  "cells": [
    {
      "cell_type": "markdown",
      "metadata": {
        "id": "view-in-github",
        "colab_type": "text"
      },
      "source": [
        "<a href=\"https://colab.research.google.com/github/RafsanJany-44/Thesis_Project/blob/main/Linear_Regression_N1_N2_N3_20f.ipynb\" target=\"_parent\"><img src=\"https://colab.research.google.com/assets/colab-badge.svg\" alt=\"Open In Colab\"/></a>"
      ]
    },
    {
      "cell_type": "code",
      "execution_count": 50,
      "metadata": {
        "id": "kgTBQIr7DOlc"
      },
      "outputs": [],
      "source": [
        "import numpy as np\n",
        "import pandas as pd\n",
        "import matplotlib.pyplot as plt\n"
      ]
    },
    {
      "cell_type": "code",
      "source": [
        "ds2=pd.read_csv(\"/content/N1_N2_N3_20f.csv\")\n",
        "print(ds2)"
      ],
      "metadata": {
        "colab": {
          "base_uri": "https://localhost:8080/"
        },
        "id": "wOs_Fc06DpPJ",
        "outputId": "6786f54f-3a9d-4973-9498-ce9423969e1e"
      },
      "execution_count": 51,
      "outputs": [
        {
          "output_type": "stream",
          "name": "stdout",
          "text": [
            "      Sleep_Stage  MedianF_Beta_F4  ...  Spectral Edge_Beta_O2  MedianF_Theta_O2\n",
            "0              N1         17.73268  ...               28.47220           5.86927\n",
            "1              N1         16.85854  ...               28.72195           5.99415\n",
            "2              N1         17.35805  ...               28.84683           5.49463\n",
            "3              N2         15.48488  ...               28.59707           4.87024\n",
            "4              N2         15.11024  ...               25.97463           5.61951\n",
            "...           ...              ...  ...                    ...               ...\n",
            "72626          N2         21.35415  ...               34.96585           4.74537\n",
            "72627          N1         19.85561  ...               36.33951           5.12000\n",
            "72628          N1         16.73366  ...               26.97366           5.86927\n",
            "72629          N1         15.73463  ...               26.47415           5.74439\n",
            "72630          N1         14.48585  ...               24.10146           6.11902\n",
            "\n",
            "[72631 rows x 21 columns]\n"
          ]
        }
      ]
    },
    {
      "cell_type": "code",
      "source": [
        "x=ds2.iloc[:,:-1].values\n",
        "y=ds2.iloc[:,1:].values"
      ],
      "metadata": {
        "id": "M4wYiYBZDpKj"
      },
      "execution_count": 52,
      "outputs": []
    },
    {
      "cell_type": "code",
      "source": [
        "print(x[:,0])"
      ],
      "metadata": {
        "colab": {
          "base_uri": "https://localhost:8080/"
        },
        "id": "YR4OIou1F2vp",
        "outputId": "4ee17984-3037-415e-8639-cd258f182902"
      },
      "execution_count": 53,
      "outputs": [
        {
          "output_type": "stream",
          "name": "stdout",
          "text": [
            "['N1' 'N1' 'N1' ... 'N1' 'N1' 'N1']\n"
          ]
        }
      ]
    },
    {
      "cell_type": "code",
      "source": [
        "from sklearn.preprocessing import LabelEncoder\n",
        "labelencoder_X=LabelEncoder()\n",
        "x[:,0]=labelencoder_X.fit_transform(x[:,0])"
      ],
      "metadata": {
        "id": "-1ClIEwdDpEC"
      },
      "execution_count": 54,
      "outputs": []
    },
    {
      "cell_type": "code",
      "source": [
        "print(x)"
      ],
      "metadata": {
        "colab": {
          "base_uri": "https://localhost:8080/"
        },
        "id": "2hHuezVxGVNM",
        "outputId": "af34a4b6-324f-4b74-d179-f1a0ef7fae55"
      },
      "execution_count": 55,
      "outputs": [
        {
          "output_type": "stream",
          "name": "stdout",
          "text": [
            "[[0 17.73268 27.47317 ... 6.11902 10.98927 28.4722]\n",
            " [0 16.858539999999998 26.97366 ... 5.869269999999999 10.86439 28.72195]\n",
            " [0 17.35805 28.4722 ... 5.369759999999999 9.74049 28.846829999999997]\n",
            " ...\n",
            " [0 16.73366 26.97366 ... 5.869269999999999 10.61463 26.97366]\n",
            " [0 15.73463 26.47415 ... 5.74439 10.61463 26.47415]\n",
            " [0 14.48585 24.10146 ... 6.11902 10.48976 24.10146]]\n"
          ]
        }
      ]
    },
    {
      "cell_type": "code",
      "source": [
        "from sklearn.model_selection import train_test_split\n",
        "x_train,x_test,y_train,y_test=train_test_split(x,y,test_size=0.3,random_state=0)"
      ],
      "metadata": {
        "id": "cWix8LpMDpCS"
      },
      "execution_count": 56,
      "outputs": []
    },
    {
      "cell_type": "code",
      "source": [
        "from sklearn.linear_model import LinearRegression\n",
        "regressor=LinearRegression()\n",
        "regressor.fit(x_train,y_train)"
      ],
      "metadata": {
        "colab": {
          "base_uri": "https://localhost:8080/"
        },
        "id": "yPcjw62ZDo8s",
        "outputId": "8d4fdbe4-5d9c-40f0-e40c-787a8ba4881f"
      },
      "execution_count": 57,
      "outputs": [
        {
          "output_type": "execute_result",
          "data": {
            "text/plain": [
              "LinearRegression()"
            ]
          },
          "metadata": {},
          "execution_count": 57
        }
      ]
    },
    {
      "cell_type": "code",
      "source": [
        "y_pred=regressor.predict(x_test)"
      ],
      "metadata": {
        "id": "-snUqtYyDo48"
      },
      "execution_count": 58,
      "outputs": []
    },
    {
      "cell_type": "code",
      "source": [
        "print(y_pred)\n",
        "print(y_test)"
      ],
      "metadata": {
        "colab": {
          "base_uri": "https://localhost:8080/"
        },
        "id": "l8jOzOuYDoj7",
        "outputId": "4faf5b8a-39b6-49f9-c18c-50432322f2fa"
      },
      "execution_count": 59,
      "outputs": [
        {
          "output_type": "stream",
          "name": "stdout",
          "text": [
            "[[11.11415    22.10341    21.47902    ...  7.74244    22.60293\n",
            "   4.26689163]\n",
            " [16.60878    30.47024    28.59707    ...  8.24195    31.21951\n",
            "   5.40476024]\n",
            " [15.48488    26.22439    25.72488    ...  8.36683    26.22439\n",
            "   5.80771473]\n",
            " ...\n",
            " [13.48683    24.22634    23.10244    ...  7.74244    24.22634\n",
            "   4.81813109]\n",
            " [13.73659    26.47415    22.22829    ...  8.99122    24.97561\n",
            "   5.76273863]\n",
            " [18.60683    49.95122    49.95122    ... 10.36488    49.95122\n",
            "   5.67281306]]\n",
            "[[11.11415 22.10341 21.47902 ...  7.74244 22.60293  4.87024]\n",
            " [16.60878 30.47024 28.59707 ...  8.24195 31.21951  4.87024]\n",
            " [15.48488 26.22439 25.72488 ...  8.36683 26.22439  5.74439]\n",
            " ...\n",
            " [13.48683 24.22634 23.10244 ...  7.74244 24.22634  4.62049]\n",
            " [13.73659 26.47415 22.22829 ...  8.99122 24.97561  5.36976]\n",
            " [18.60683 49.95122 49.95122 ... 10.36488 49.95122  5.12   ]]\n"
          ]
        }
      ]
    },
    {
      "cell_type": "code",
      "source": [
        ""
      ],
      "metadata": {
        "id": "T2pexcL8Dogi"
      },
      "execution_count": 59,
      "outputs": []
    },
    {
      "cell_type": "code",
      "source": [
        "plt.scatter(y_pred,y_test)\n",
        "plt.title(\"Predict Vs Actual\")\n",
        "plt.xlabel(\"Actual\")\n",
        "plt.ylabel(\"Predict\")\n",
        "plt.show()"
      ],
      "metadata": {
        "colab": {
          "base_uri": "https://localhost:8080/",
          "height": 294
        },
        "id": "LoyvnvGhDoWs",
        "outputId": "1df5d265-96a8-4e25-8aec-4c4394386c15"
      },
      "execution_count": 60,
      "outputs": [
        {
          "output_type": "display_data",
          "data": {
            "image/png": "[encoded data removed]",
            "text/plain": [
              "<Figure size 432x288 with 1 Axes>"
            ]
          },
          "metadata": {
            "needs_background": "light"
          }
        }
      ]
    },
    {
      "cell_type": "code",
      "source": [
        "from sklearn.metrics import r2_score\n",
        "score=r2_score(y_test,y_pred)\n",
        "print('r2 socre is' ,score)"
      ],
      "metadata": {
        "colab": {
          "base_uri": "https://localhost:8080/"
        },
        "id": "yOjoFWHLDoQ0",
        "outputId": "b9363fd1-2fc4-4f31-cef2-4257b544a7fa"
      },
      "execution_count": 61,
      "outputs": [
        {
          "output_type": "stream",
          "name": "stdout",
          "text": [
            "r2 socre is 0.9997436007657562\n"
          ]
        }
      ]
    },
    {
      "cell_type": "code",
      "source": [
        ""
      ],
      "metadata": {
        "id": "FptCjC1PDoOt"
      },
      "execution_count": 61,
      "outputs": []
    },
    {
      "cell_type": "code",
      "source": [
        ""
      ],
      "metadata": {
        "id": "HIzLp145DoIE"
      },
      "execution_count": 61,
      "outputs": []
    },
    {
      "cell_type": "code",
      "source": [
        ""
      ],
      "metadata": {
        "id": "H20NB1uIDoFW"
      },
      "execution_count": 61,
      "outputs": []
    },
    {
      "cell_type": "code",
      "source": [
        ""
      ],
      "metadata": {
        "id": "u5q7wZApDoBv"
      },
      "execution_count": 61,
      "outputs": []
    },
    {
      "cell_type": "code",
      "source": [
        ""
      ],
      "metadata": {
        "id": "vGHuQj7PDn2R"
      },
      "execution_count": 61,
      "outputs": []
    },
    {
      "cell_type": "code",
      "source": [
        ""
      ],
      "metadata": {
        "id": "7be7xEGSDnqn"
      },
      "execution_count": 61,
      "outputs": []
    }
  ]
}