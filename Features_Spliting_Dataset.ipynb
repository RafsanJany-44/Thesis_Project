{
  "nbformat": 4,
  "nbformat_minor": 0,
  "metadata": {
    "colab": {
      "name": "Features_Spliting_Dataset.ipynb",
      "provenance": [],
      "authorship_tag": "ABX9TyPtT3eLN+yL1IIwSMl/oIbX",
      "include_colab_link": true
    },
    "kernelspec": {
      "name": "python3",
      "display_name": "Python 3"
    },
    "language_info": {
      "name": "python"
    }
  },
  "cells": [
    {
      "cell_type": "markdown",
      "metadata": {
        "id": "view-in-github",
        "colab_type": "text"
      },
      "source": [
        "<a href=\"https://colab.research.google.com/github/RafsanJany-44/Thesis_Project/blob/main/Features_Spliting_Dataset.ipynb\" target=\"_parent\"><img src=\"https://colab.research.google.com/assets/colab-badge.svg\" alt=\"Open In Colab\"/></a>"
      ]
    },
    {
      "cell_type": "markdown",
      "source": [
        "#Reading CSV"
      ],
      "metadata": {
        "id": "qkddD0NriK2w"
      }
    },
    {
      "cell_type": "code",
      "execution_count": null,
      "metadata": {
        "id": "2wC67KzbhsMU"
      },
      "outputs": [],
      "source": [
        "def read_csv(file_name):\n",
        "  import csv \n",
        "      \n",
        "  # opening the CSV file \n",
        "  with open(file_name, mode ='r')as file: \n",
        "    csvFile = csv.reader(file) \n",
        "    fIrst_line=[]\n",
        "    data=[]\n",
        "    for lines in csvFile:\n",
        "        data.append(lines)\n",
        "    return data"
      ]
    },
    {
      "cell_type": "markdown",
      "source": [
        "#Wrriting CSV"
      ],
      "metadata": {
        "id": "fEf73QvviPmY"
      }
    },
    {
      "cell_type": "code",
      "source": [
        "def write_csv(fields,data,name):\n",
        "  import csv  \n",
        "  filename = name+\".csv\"\n",
        "  with open(filename, 'w') as csvfile:  \n",
        "      csvwriter = csv.writer(csvfile) \n",
        "      csvwriter.writerow(fields) \n",
        "      csvwriter.writerows(data)"
      ],
      "metadata": {
        "id": "GulHVHETiPHy"
      },
      "execution_count": null,
      "outputs": []
    },
    {
      "cell_type": "markdown",
      "source": [
        ""
      ],
      "metadata": {
        "id": "Bq9DLajliWzP"
      }
    },
    {
      "cell_type": "code",
      "source": [
        "data=read_csv(\"/content/N1_N2_N3.csv\")"
      ],
      "metadata": {
        "id": "cnAd0Uhziva4"
      },
      "execution_count": null,
      "outputs": []
    },
    {
      "cell_type": "code",
      "source": [
        "\n",
        "def split_fet(given_features,name):\n",
        "  fields=[data[0][0]]\n",
        "  for i in given_features:\n",
        "    fields.append(i)\n",
        "\n",
        "  final=[]\n",
        "  \n",
        "  for i in range(1,len(data)):\n",
        "    temp=[data[i][0]]\n",
        "    for feature in given_features:\n",
        "      temp.append(data[i][data[0].index(feature)])\n",
        "    final.append(temp)\n",
        "\n",
        "  write_csv(fields,final,name)"
      ],
      "metadata": {
        "id": "r3Cw_6MqixDA"
      },
      "execution_count": null,
      "outputs": []
    },
    {
      "cell_type": "code",
      "source": [
        "fet=['MedianF_Beta_F4','Spectral Edge_Beta_F4','Spectral Edge_Beta_C4','MedianF_Beta_C4','PeakF_Beta_F4','PeakF_Beta_C4','MeanF_Beta_F4','MeanF_Beta_C4','MedianF_Beta_O2','Spectral Edge_Alpha_F4']\n",
        "print(len(fet))"
      ],
      "metadata": {
        "id": "O6jAdIU0i09j"
      },
      "execution_count": null,
      "outputs": []
    },
    {
      "cell_type": "code",
      "source": [
        "split_fet(fet,\"N1_N2_N3_10f\")"
      ],
      "metadata": {
        "id": "u4WzDuJgi4SE"
      },
      "execution_count": null,
      "outputs": []
    }
  ]
}