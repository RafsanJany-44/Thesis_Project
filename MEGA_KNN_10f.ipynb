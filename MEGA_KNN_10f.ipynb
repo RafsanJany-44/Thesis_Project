{
  "cells": [
    {
      "cell_type": "markdown",
      "metadata": {
        "id": "view-in-github",
        "colab_type": "text"
      },
      "source": [
        "<a href=\"https://colab.research.google.com/github/RafsanJany-44/Thesis_Project/blob/main/MEGA_KNN_10f.ipynb\" target=\"_parent\"><img src=\"https://colab.research.google.com/assets/colab-badge.svg\" alt=\"Open In Colab\"/></a>"
      ]
    },
    {
      "cell_type": "code",
      "execution_count": 1,
      "metadata": {
        "id": "O33X1rbn5O5d"
      },
      "outputs": [],
      "source": [
        "import numpy as np\n",
        "import matplotlib.pyplot as plt\n",
        "import pandas as pd"
      ]
    },
    {
      "cell_type": "code",
      "source": [
        "from google.colab import drive\n",
        "drive.mount('/content/drive')"
      ],
      "metadata": {
        "colab": {
          "base_uri": "https://localhost:8080/"
        },
        "id": "kaLtbZ-dK9QZ",
        "outputId": "a97cfb20-1936-4a65-b694-b67e7c45b65d"
      },
      "execution_count": 2,
      "outputs": [
        {
          "output_type": "stream",
          "name": "stdout",
          "text": [
            "Mounted at /content/drive\n"
          ]
        }
      ]
    },
    {
      "cell_type": "code",
      "execution_count": 12,
      "metadata": {
        "id": "8J2jb7FA52T3"
      },
      "outputs": [],
      "source": [
        "\n",
        "dataset = pd.read_csv(\"/content/drive/MyDrive/Thesis_Data/MEGA_10f.csv\")"
      ]
    },
    {
      "cell_type": "code",
      "execution_count": 13,
      "metadata": {
        "colab": {
          "base_uri": "https://localhost:8080/",
          "height": 287
        },
        "id": "yU-mIT3B6Bo7",
        "outputId": "f4aa9d76-879d-4be6-8e6a-63f253116533"
      },
      "outputs": [
        {
          "output_type": "execute_result",
          "data": {
            "text/plain": [
              "  Sleep_Stage  MedianF_Beta_F4  Spectral Edge_Beta_F4  Spectral Edge_Beta_C4  \\\n",
              "0           W         19.73073               33.84195               33.21756   \n",
              "1           W         17.23317               29.34634               28.47220   \n",
              "2           W         17.60780               28.22244               26.84878   \n",
              "3           W         17.35805               28.72195               28.09756   \n",
              "4           W         17.23317               28.09756               28.09756   \n",
              "\n",
              "   PeakF_Beta_F4  Spectral Edge_Alpha_F4  MedianF_Beta_C4  PeakF_Beta_C4  \\\n",
              "0       15.98439                17.48293         19.98049       16.85854   \n",
              "1       19.60585                16.85854         17.35805       17.35805   \n",
              "2       18.73171                17.48293         17.60780       14.23610   \n",
              "3       16.35902                17.10829         18.85659       16.35902   \n",
              "4       17.60780                17.23317         17.35805       17.60780   \n",
              "\n",
              "   MeanF_Alpha_F4  MeanF_Beta_F4  MeanF_Beta_C4  \n",
              "0        18.48195       29.84585       28.97171  \n",
              "1        17.48293       26.34927       26.34927  \n",
              "2        17.98244       25.47512       24.85073  \n",
              "3        17.60780       26.47415       26.34927  \n",
              "4        17.60780       25.84976       26.09951  "
            ],
            "text/html": [
              "\n",
              "  <div id=\"df-fed55047-5351-4b6b-b6f8-882c7e2d6281\">\n",
              "    <div class=\"colab-df-container\">\n",
              "      <div>\n",
              "<style scoped>\n",
              "    .dataframe tbody tr th:only-of-type {\n",
              "        vertical-align: middle;\n",
              "    }\n",
              "\n",
              "    .dataframe tbody tr th {\n",
              "        vertical-align: top;\n",
              "    }\n",
              "\n",
              "    .dataframe thead th {\n",
              "        text-align: right;\n",
              "    }\n",
              "</style>\n",
              "<table border=\"1\" class=\"dataframe\">\n",
              "  <thead>\n",
              "    <tr style=\"text-align: right;\">\n",
              "      <th></th>\n",
              "      <th>Sleep_Stage</th>\n",
              "      <th>MedianF_Beta_F4</th>\n",
              "      <th>Spectral Edge_Beta_F4</th>\n",
              "      <th>Spectral Edge_Beta_C4</th>\n",
              "      <th>PeakF_Beta_F4</th>\n",
              "      <th>Spectral Edge_Alpha_F4</th>\n",
              "      <th>MedianF_Beta_C4</th>\n",
              "      <th>PeakF_Beta_C4</th>\n",
              "      <th>MeanF_Alpha_F4</th>\n",
              "      <th>MeanF_Beta_F4</th>\n",
              "      <th>MeanF_Beta_C4</th>\n",
              "    </tr>\n",
              "  </thead>\n",
              "  <tbody>\n",
              "    <tr>\n",
              "      <th>0</th>\n",
              "      <td>W</td>\n",
              "      <td>19.73073</td>\n",
              "      <td>33.84195</td>\n",
              "      <td>33.21756</td>\n",
              "      <td>15.98439</td>\n",
              "      <td>17.48293</td>\n",
              "      <td>19.98049</td>\n",
              "      <td>16.85854</td>\n",
              "      <td>18.48195</td>\n",
              "      <td>29.84585</td>\n",
              "      <td>28.97171</td>\n",
              "    </tr>\n",
              "    <tr>\n",
              "      <th>1</th>\n",
              "      <td>W</td>\n",
              "      <td>17.23317</td>\n",
              "      <td>29.34634</td>\n",
              "      <td>28.47220</td>\n",
              "      <td>19.60585</td>\n",
              "      <td>16.85854</td>\n",
              "      <td>17.35805</td>\n",
              "      <td>17.35805</td>\n",
              "      <td>17.48293</td>\n",
              "      <td>26.34927</td>\n",
              "      <td>26.34927</td>\n",
              "    </tr>\n",
              "    <tr>\n",
              "      <th>2</th>\n",
              "      <td>W</td>\n",
              "      <td>17.60780</td>\n",
              "      <td>28.22244</td>\n",
              "      <td>26.84878</td>\n",
              "      <td>18.73171</td>\n",
              "      <td>17.48293</td>\n",
              "      <td>17.60780</td>\n",
              "      <td>14.23610</td>\n",
              "      <td>17.98244</td>\n",
              "      <td>25.47512</td>\n",
              "      <td>24.85073</td>\n",
              "    </tr>\n",
              "    <tr>\n",
              "      <th>3</th>\n",
              "      <td>W</td>\n",
              "      <td>17.35805</td>\n",
              "      <td>28.72195</td>\n",
              "      <td>28.09756</td>\n",
              "      <td>16.35902</td>\n",
              "      <td>17.10829</td>\n",
              "      <td>18.85659</td>\n",
              "      <td>16.35902</td>\n",
              "      <td>17.60780</td>\n",
              "      <td>26.47415</td>\n",
              "      <td>26.34927</td>\n",
              "    </tr>\n",
              "    <tr>\n",
              "      <th>4</th>\n",
              "      <td>W</td>\n",
              "      <td>17.23317</td>\n",
              "      <td>28.09756</td>\n",
              "      <td>28.09756</td>\n",
              "      <td>17.60780</td>\n",
              "      <td>17.23317</td>\n",
              "      <td>17.35805</td>\n",
              "      <td>17.60780</td>\n",
              "      <td>17.60780</td>\n",
              "      <td>25.84976</td>\n",
              "      <td>26.09951</td>\n",
              "    </tr>\n",
              "  </tbody>\n",
              "</table>\n",
              "</div>\n",
              "      <button class=\"colab-df-convert\" onclick=\"convertToInteractive('df-fed55047-5351-4b6b-b6f8-882c7e2d6281')\"\n",
              "              title=\"Convert this dataframe to an interactive table.\"\n",
              "              style=\"display:none;\">\n",
              "        \n",
              "  <svg xmlns=\"http://www.w3.org/2000/svg\" height=\"24px\"viewBox=\"0 0 24 24\"\n",
              "       width=\"24px\">\n",
              "    <path d=\"M0 0h24v24H0V0z\" fill=\"none\"/>\n",
              "    <path d=\"M18.56 5.44l.94 2.06.94-2.06 2.06-.94-2.06-.94-.94-2.06-.94 2.06-2.06.94zm-11 1L8.5 8.5l.94-2.06 2.06-.94-2.06-.94L8.5 2.5l-.94 2.06-2.06.94zm10 10l.94 2.06.94-2.06 2.06-.94-2.06-.94-.94-2.06-.94 2.06-2.06.94z\"/><path d=\"M17.41 7.96l-1.37-1.37c-.4-.4-.92-.59-1.43-.59-.52 0-1.04.2-1.43.59L10.3 9.45l-7.72 7.72c-.78.78-.78 2.05 0 2.83L4 21.41c.39.39.9.59 1.41.59.51 0 1.02-.2 1.41-.59l7.78-7.78 2.81-2.81c.8-.78.8-2.07 0-2.86zM5.41 20L4 18.59l7.72-7.72 1.47 1.35L5.41 20z\"/>\n",
              "  </svg>\n",
              "      </button>\n",
              "      \n",
              "  <style>\n",
              "    .colab-df-container {\n",
              "      display:flex;\n",
              "      flex-wrap:wrap;\n",
              "      gap: 12px;\n",
              "    }\n",
              "\n",
              "    .colab-df-convert {\n",
              "      background-color: #E8F0FE;\n",
              "      border: none;\n",
              "      border-radius: 50%;\n",
              "      cursor: pointer;\n",
              "      display: none;\n",
              "      fill: #1967D2;\n",
              "      height: 32px;\n",
              "      padding: 0 0 0 0;\n",
              "      width: 32px;\n",
              "    }\n",
              "\n",
              "    .colab-df-convert:hover {\n",
              "      background-color: #E2EBFA;\n",
              "      box-shadow: 0px 1px 2px rgba(60, 64, 67, 0.3), 0px 1px 3px 1px rgba(60, 64, 67, 0.15);\n",
              "      fill: #174EA6;\n",
              "    }\n",
              "\n",
              "    [theme=dark] .colab-df-convert {\n",
              "      background-color: #3B4455;\n",
              "      fill: #D2E3FC;\n",
              "    }\n",
              "\n",
              "    [theme=dark] .colab-df-convert:hover {\n",
              "      background-color: #434B5C;\n",
              "      box-shadow: 0px 1px 3px 1px rgba(0, 0, 0, 0.15);\n",
              "      filter: drop-shadow(0px 1px 2px rgba(0, 0, 0, 0.3));\n",
              "      fill: #FFFFFF;\n",
              "    }\n",
              "  </style>\n",
              "\n",
              "      <script>\n",
              "        const buttonEl =\n",
              "          document.querySelector('#df-fed55047-5351-4b6b-b6f8-882c7e2d6281 button.colab-df-convert');\n",
              "        buttonEl.style.display =\n",
              "          google.colab.kernel.accessAllowed ? 'block' : 'none';\n",
              "\n",
              "        async function convertToInteractive(key) {\n",
              "          const element = document.querySelector('#df-fed55047-5351-4b6b-b6f8-882c7e2d6281');\n",
              "          const dataTable =\n",
              "            await google.colab.kernel.invokeFunction('convertToInteractive',\n",
              "                                                     [key], {});\n",
              "          if (!dataTable) return;\n",
              "\n",
              "          const docLinkHtml = 'Like what you see? Visit the ' +\n",
              "            '<a target=\"_blank\" href=https://colab.research.google.com/notebooks/data_table.ipynb>data table notebook</a>'\n",
              "            + ' to learn more about interactive tables.';\n",
              "          element.innerHTML = '';\n",
              "          dataTable['output_type'] = 'display_data';\n",
              "          await google.colab.output.renderOutput(dataTable, element);\n",
              "          const docLink = document.createElement('div');\n",
              "          docLink.innerHTML = docLinkHtml;\n",
              "          element.appendChild(docLink);\n",
              "        }\n",
              "      </script>\n",
              "    </div>\n",
              "  </div>\n",
              "  "
            ]
          },
          "metadata": {},
          "execution_count": 13
        }
      ],
      "source": [
        "dataset.head()"
      ]
    },
    {
      "cell_type": "code",
      "execution_count": 14,
      "metadata": {
        "id": "GPV5CYgP6EPN"
      },
      "outputs": [],
      "source": [
        "X = dataset.iloc[:, 1:].values\n",
        "y = dataset.iloc[:, 0].values"
      ]
    },
    {
      "cell_type": "code",
      "execution_count": 15,
      "metadata": {
        "id": "qa6B_UXP6RMl"
      },
      "outputs": [],
      "source": [
        "from sklearn.model_selection import train_test_split\n",
        "X_train, X_test, y_train, y_test = train_test_split(X, y, test_size=0.20)\n"
      ]
    },
    {
      "cell_type": "code",
      "execution_count": 16,
      "metadata": {
        "id": "Ffwnx4ob6T33"
      },
      "outputs": [],
      "source": [
        "from sklearn.preprocessing import StandardScaler\n",
        "scaler = StandardScaler()\n",
        "scaler.fit(X_train)\n",
        "\n",
        "X_train = scaler.transform(X_train)\n",
        "X_test = scaler.transform(X_test)"
      ]
    },
    {
      "cell_type": "code",
      "execution_count": 17,
      "metadata": {
        "colab": {
          "base_uri": "https://localhost:8080/"
        },
        "id": "m10ee9Cu6Whq",
        "outputId": "356dd258-61b1-4395-e741-182a6ad2ee61"
      },
      "outputs": [
        {
          "output_type": "execute_result",
          "data": {
            "text/plain": [
              "KNeighborsClassifier()"
            ]
          },
          "metadata": {},
          "execution_count": 17
        }
      ],
      "source": [
        "from sklearn.neighbors import KNeighborsClassifier\n",
        "classifier = KNeighborsClassifier(n_neighbors=5)\n",
        "classifier.fit(X_train, y_train)"
      ]
    },
    {
      "cell_type": "code",
      "execution_count": 18,
      "metadata": {
        "id": "EqgPg5T56bQU"
      },
      "outputs": [],
      "source": [
        "y_pred = classifier.predict(X_test)"
      ]
    },
    {
      "cell_type": "code",
      "execution_count": 19,
      "metadata": {
        "colab": {
          "base_uri": "https://localhost:8080/"
        },
        "id": "1AUAlfEI6d6f",
        "outputId": "6788a972-466a-405c-faed-9654d66715fc"
      },
      "outputs": [
        {
          "output_type": "stream",
          "name": "stdout",
          "text": [
            "[[ 504  811  117  420  599]\n",
            " [ 492 5447 1198  499  328]\n",
            " [  53 1499 2454   74   46]\n",
            " [ 373  998  217 1486  228]\n",
            " [ 520  554  125  290 2359]]\n",
            "              precision    recall  f1-score   support\n",
            "\n",
            "          N1       0.26      0.21      0.23      2451\n",
            "          N2       0.59      0.68      0.63      7964\n",
            "          N3       0.60      0.59      0.60      4126\n",
            "           R       0.54      0.45      0.49      3302\n",
            "           W       0.66      0.61      0.64      3848\n",
            "\n",
            "    accuracy                           0.56     21691\n",
            "   macro avg       0.53      0.51      0.52     21691\n",
            "weighted avg       0.56      0.56      0.56     21691\n",
            "\n"
          ]
        }
      ],
      "source": [
        "from sklearn.metrics import classification_report, confusion_matrix\n",
        "print(confusion_matrix(y_test, y_pred))\n",
        "print(classification_report(y_test, y_pred))"
      ]
    },
    {
      "cell_type": "code",
      "execution_count": null,
      "metadata": {
        "id": "zhronaqT6gYl"
      },
      "outputs": [],
      "source": [
        "error = []\n",
        "\n",
        "# Calculating error for K values between 1 and 40\n",
        "for i in range(1, 40):\n",
        "    knn = KNeighborsClassifier(n_neighbors=i)\n",
        "    knn.fit(X_train, y_train)\n",
        "    pred_i = knn.predict(X_test)\n",
        "    error.append(np.mean(pred_i != y_test))"
      ]
    },
    {
      "cell_type": "code",
      "execution_count": null,
      "metadata": {
        "colab": {
          "background_save": true
        },
        "id": "1x0dEcNT6py1",
        "outputId": "006e3e59-5696-43d5-849a-4330e2ceb828"
      },
      "outputs": [
        {
          "data": {
            "text/plain": [
              "Text(0, 0.5, 'Mean Error')"
            ]
          },
          "execution_count": null,
          "metadata": {},
          "output_type": "execute_result"
        },
        {
          "data": {
            "image/png": "[encoded data removed]",
            "text/plain": [
              "<Figure size 864x432 with 1 Axes>"
            ]
          },
          "metadata": {},
          "output_type": "display_data"
        }
      ],
      "source": [
        "plt.figure(figsize=(12, 6))\n",
        "plt.plot(range(1, 40), error, color='red', linestyle='dashed', marker='o',\n",
        "         markerfacecolor='blue', markersize=10)\n",
        "plt.title('Error Rate K Value')\n",
        "plt.xlabel('K Value')\n",
        "plt.ylabel('Mean Error')"
      ]
    },
    {
      "cell_type": "code",
      "execution_count": null,
      "metadata": {
        "colab": {
          "background_save": true
        },
        "id": "DqptDUX86x2a"
      },
      "outputs": [],
      "source": [
        ""
      ]
    }
  ],
  "metadata": {
    "colab": {
      "name": "MEGA_KNN_10f.ipynb",
      "provenance": [],
      "include_colab_link": true
    },
    "kernelspec": {
      "display_name": "Python 3",
      "name": "python3"
    },
    "language_info": {
      "name": "python"
    }
  },
  "nbformat": 4,
  "nbformat_minor": 0
}