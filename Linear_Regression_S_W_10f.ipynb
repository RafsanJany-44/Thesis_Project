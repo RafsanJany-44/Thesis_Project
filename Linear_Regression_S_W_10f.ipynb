{
  "nbformat": 4,
  "nbformat_minor": 0,
  "metadata": {
    "colab": {
      "name": "Linear_Regression.ipynb",
      "provenance": [],
      "authorship_tag": "ABX9TyNxY8MHcOf/aN3veZWrhv1r",
      "include_colab_link": true
    },
    "kernelspec": {
      "name": "python3",
      "display_name": "Python 3"
    },
    "language_info": {
      "name": "python"
    }
  },
  "cells": [
    {
      "cell_type": "markdown",
      "metadata": {
        "id": "view-in-github",
        "colab_type": "text"
      },
      "source": [
        "<a href=\"https://colab.research.google.com/github/RafsanJany-44/Thesis_Project/blob/main/Linear_Regression_S_W_10f.ipynb\" target=\"_parent\"><img src=\"https://colab.research.google.com/assets/colab-badge.svg\" alt=\"Open In Colab\"/></a>"
      ]
    },
    {
      "cell_type": "code",
      "execution_count": 65,
      "metadata": {
        "id": "kgTBQIr7DOlc"
      },
      "outputs": [],
      "source": [
        "import numpy as np\n",
        "import pandas as pd\n",
        "import matplotlib.pyplot as plt\n"
      ]
    },
    {
      "cell_type": "code",
      "source": [
        "ds2=pd.read_csv(\"/content/S_W_10f.csv\")\n",
        "print(ds2)"
      ],
      "metadata": {
        "colab": {
          "base_uri": "https://localhost:8080/"
        },
        "id": "wOs_Fc06DpPJ",
        "outputId": "e5e3eb67-0c8a-4965-a04e-2020eac903af"
      },
      "execution_count": 66,
      "outputs": [
        {
          "output_type": "stream",
          "name": "stdout",
          "text": [
            "       Sleep_Stage  Spectral Edge_Beta_F4  ...  MedianF_Beta_C4  MeanF_Alpha_C4\n",
            "0                W               33.84195  ...         19.98049        19.35610\n",
            "1                W               29.34634  ...         17.35805        17.73268\n",
            "2                W               28.22244  ...         17.60780        18.10732\n",
            "3                W               28.72195  ...         18.85659        18.35707\n",
            "4                W               28.09756  ...         17.35805        17.73268\n",
            "...            ...                    ...  ...              ...             ...\n",
            "108446           S               26.97366  ...         16.60878        17.35805\n",
            "108447           S               26.47415  ...         15.23512        15.98439\n",
            "108448           S               24.10146  ...         14.73561        15.73463\n",
            "108449           W               32.96780  ...         17.60780        17.48293\n",
            "108450           W               38.08780  ...         24.47610        22.72780\n",
            "\n",
            "[108451 rows x 11 columns]\n"
          ]
        }
      ]
    },
    {
      "cell_type": "code",
      "source": [
        "x=ds2.iloc[:,:-1].values\n",
        "y=ds2.iloc[:,1:].values"
      ],
      "metadata": {
        "id": "M4wYiYBZDpKj"
      },
      "execution_count": 67,
      "outputs": []
    },
    {
      "cell_type": "code",
      "source": [
        "print(x[:,0])"
      ],
      "metadata": {
        "colab": {
          "base_uri": "https://localhost:8080/"
        },
        "id": "YR4OIou1F2vp",
        "outputId": "9d84c6da-2297-472c-f451-09f41cd6be6a"
      },
      "execution_count": 68,
      "outputs": [
        {
          "output_type": "stream",
          "name": "stdout",
          "text": [
            "['W' 'W' 'W' ... 'S' 'W' 'W']\n"
          ]
        }
      ]
    },
    {
      "cell_type": "code",
      "source": [
        "from sklearn.preprocessing import LabelEncoder\n",
        "labelencoder_X=LabelEncoder()\n",
        "x[:,0]=labelencoder_X.fit_transform(x[:,0])"
      ],
      "metadata": {
        "id": "-1ClIEwdDpEC"
      },
      "execution_count": 69,
      "outputs": []
    },
    {
      "cell_type": "code",
      "source": [
        "print(x)"
      ],
      "metadata": {
        "colab": {
          "base_uri": "https://localhost:8080/"
        },
        "id": "2hHuezVxGVNM",
        "outputId": "ce38c075-9b04-46ab-cf1a-e9f29ce9b30b"
      },
      "execution_count": 70,
      "outputs": [
        {
          "output_type": "stream",
          "name": "stdout",
          "text": [
            "[[1 33.84195 19.730729999999998 ... 18.48195 29.84585 19.98049]\n",
            " [1 29.34634 17.23317 ... 17.35805 26.34927 17.35805]\n",
            " [1 28.222440000000002 17.6078 ... 17.73268 25.47512 17.6078]\n",
            " ...\n",
            " [0 24.10146 14.48585 ... 15.11024 22.7278 14.735610000000001]\n",
            " [1 32.9678 19.730729999999998 ... 16.858539999999998 29.720979999999997\n",
            "  17.6078]\n",
            " [1 38.0878 23.227320000000002 ... 23.47707 33.21756 24.4761]]\n"
          ]
        }
      ]
    },
    {
      "cell_type": "code",
      "source": [
        "from sklearn.model_selection import train_test_split\n",
        "x_train,x_test,y_train,y_test=train_test_split(x,y,test_size=0.3,random_state=0)"
      ],
      "metadata": {
        "id": "cWix8LpMDpCS"
      },
      "execution_count": 71,
      "outputs": []
    },
    {
      "cell_type": "code",
      "source": [
        "from sklearn.linear_model import LinearRegression\n",
        "regressor=LinearRegression()\n",
        "regressor.fit(x_train,y_train)"
      ],
      "metadata": {
        "colab": {
          "base_uri": "https://localhost:8080/"
        },
        "id": "yPcjw62ZDo8s",
        "outputId": "1f098b65-2af7-44cc-c5a9-80d91389a5c0"
      },
      "execution_count": 72,
      "outputs": [
        {
          "output_type": "execute_result",
          "data": {
            "text/plain": [
              "LinearRegression()"
            ]
          },
          "metadata": {},
          "execution_count": 72
        }
      ]
    },
    {
      "cell_type": "code",
      "source": [
        "y_pred=regressor.predict(x_test)"
      ],
      "metadata": {
        "id": "-snUqtYyDo48"
      },
      "execution_count": 73,
      "outputs": []
    },
    {
      "cell_type": "code",
      "source": [
        "print(y_pred)\n",
        "print(y_test)"
      ],
      "metadata": {
        "colab": {
          "base_uri": "https://localhost:8080/"
        },
        "id": "l8jOzOuYDoj7",
        "outputId": "d93c4d69-dab1-4ac7-ab95-a3ca77f08a67"
      },
      "execution_count": 74,
      "outputs": [
        {
          "output_type": "stream",
          "name": "stdout",
          "text": [
            "[[25.10049    12.98732    24.35122    ... 24.35122    12.36293\n",
            "  13.98198912]\n",
            " [24.35122    13.48683    23.22732    ... 23.60195    12.4878\n",
            "  13.72627157]\n",
            " [49.95122    49.82634    49.95122    ... 49.82634    49.82634\n",
            "  46.04706623]\n",
            " ...\n",
            " [31.21951    17.98244    31.21951    ... 28.22244    17.23317\n",
            "  15.51225139]\n",
            " [33.5922     17.23317    32.59317    ... 28.97171    17.6078\n",
            "  16.13449137]\n",
            " [21.6039     12.36293    21.47902    ... 21.22927    12.4878\n",
            "  14.54137999]]\n",
            "[[25.10049 12.98732 24.35122 ... 24.35122 12.36293 13.86146]\n",
            " [24.35122 13.48683 23.22732 ... 23.60195 12.4878  13.73659]\n",
            " [49.95122 49.82634 49.95122 ... 49.82634 49.82634 20.10537]\n",
            " ...\n",
            " [31.21951 17.98244 31.21951 ... 28.22244 17.23317 16.4839 ]\n",
            " [33.5922  17.23317 32.59317 ... 28.97171 17.6078  16.23415]\n",
            " [21.6039  12.36293 21.47902 ... 21.22927 12.4878  14.48585]]\n"
          ]
        }
      ]
    },
    {
      "cell_type": "code",
      "source": [
        ""
      ],
      "metadata": {
        "id": "T2pexcL8Dogi"
      },
      "execution_count": 74,
      "outputs": []
    },
    {
      "cell_type": "code",
      "source": [
        "plt.scatter(y_pred,y_test)\n",
        "plt.title(\"Predict Vs Actual\")\n",
        "plt.xlabel(\"Actual\")\n",
        "plt.ylabel(\"Predict\")\n",
        "plt.show()"
      ],
      "metadata": {
        "colab": {
          "base_uri": "https://localhost:8080/",
          "height": 294
        },
        "id": "LoyvnvGhDoWs",
        "outputId": "ec7e62f8-1b9f-42df-dc59-74f7151e7e14"
      },
      "execution_count": 75,
      "outputs": [
        {
          "output_type": "display_data",
          "data": {
            "image/png": "[encoded data removed]",
            "text/plain": [
              "<Figure size 432x288 with 1 Axes>"
            ]
          },
          "metadata": {
            "needs_background": "light"
          }
        }
      ]
    },
    {
      "cell_type": "code",
      "source": [
        "from sklearn.metrics import r2_score\n",
        "score=r2_score(y_test,y_pred)\n",
        "print('r2 socre is' ,score)"
      ],
      "metadata": {
        "colab": {
          "base_uri": "https://localhost:8080/"
        },
        "id": "yOjoFWHLDoQ0",
        "outputId": "ab15e8ff-b155-4875-8048-65fb47bb92a4"
      },
      "execution_count": 76,
      "outputs": [
        {
          "output_type": "stream",
          "name": "stdout",
          "text": [
            "r2 socre is 0.9963821915615176\n"
          ]
        }
      ]
    },
    {
      "cell_type": "code",
      "source": [
        ""
      ],
      "metadata": {
        "id": "FptCjC1PDoOt"
      },
      "execution_count": 76,
      "outputs": []
    },
    {
      "cell_type": "code",
      "source": [
        ""
      ],
      "metadata": {
        "id": "HIzLp145DoIE"
      },
      "execution_count": 76,
      "outputs": []
    },
    {
      "cell_type": "code",
      "source": [
        ""
      ],
      "metadata": {
        "id": "H20NB1uIDoFW"
      },
      "execution_count": 76,
      "outputs": []
    },
    {
      "cell_type": "code",
      "source": [
        ""
      ],
      "metadata": {
        "id": "u5q7wZApDoBv"
      },
      "execution_count": 76,
      "outputs": []
    },
    {
      "cell_type": "code",
      "source": [
        ""
      ],
      "metadata": {
        "id": "vGHuQj7PDn2R"
      },
      "execution_count": 76,
      "outputs": []
    },
    {
      "cell_type": "code",
      "source": [
        ""
      ],
      "metadata": {
        "id": "7be7xEGSDnqn"
      },
      "execution_count": 76,
      "outputs": []
    }
  ]
}