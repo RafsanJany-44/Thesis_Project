{
  "nbformat": 4,
  "nbformat_minor": 0,
  "metadata": {
    "colab": {
      "name": "MEGA_Naive_Byaes_ALL.ipynb",
      "provenance": [],
      "include_colab_link": true
    },
    "kernelspec": {
      "name": "python3",
      "display_name": "Python 3"
    },
    "language_info": {
      "name": "python"
    }
  },
  "cells": [
    {
      "cell_type": "markdown",
      "metadata": {
        "id": "view-in-github",
        "colab_type": "text"
      },
      "source": [
        "<a href=\"https://colab.research.google.com/github/RafsanJany-44/Thesis_Project/blob/main/MEGA_Naive_Byaes_ALL.ipynb\" target=\"_parent\"><img src=\"https://colab.research.google.com/assets/colab-badge.svg\" alt=\"Open In Colab\"/></a>"
      ]
    },
    {
      "cell_type": "markdown",
      "source": [
        "#NAIVE BAYES"
      ],
      "metadata": {
        "id": "2YOSgp-juTqM"
      }
    },
    {
      "cell_type": "code",
      "execution_count": null,
      "metadata": {
        "id": "4bF5tiNJuB3c"
      },
      "outputs": [],
      "source": [
        "# On importe les librairies\n",
        "import pandas as pd\n",
        "from sklearn.model_selection import train_test_split\n",
        "from sklearn.naive_bayes import GaussianNB,MultinomialNB,CategoricalNB"
      ]
    },
    {
      "cell_type": "code",
      "source": [
        "# On importe le dataset\n",
        "f=\"/content/S_W.csv\"\n",
        "dataset = pd.read_csv(f)\n",
        "dataset.head()"
      ],
      "metadata": {
        "id": "6V3bMVAIuXZC"
      },
      "execution_count": null,
      "outputs": []
    },
    {
      "cell_type": "code",
      "source": [
        "# On sépare notre dataframe en deux les inputs et les targets ( survived )\n",
        "X = dataset.drop('Sleep_Stage',axis='columns')\n",
        "Y = dataset.Sleep_Stage"
      ],
      "metadata": {
        "id": "6KHn_S1juXTC"
      },
      "execution_count": null,
      "outputs": []
    },
    {
      "cell_type": "code",
      "source": [
        "# Identifier les colonnes ou il manque des données\n",
        "X.columns[X.isna().any()]"
      ],
      "metadata": {
        "id": "eY347Rjquc8d"
      },
      "execution_count": null,
      "outputs": []
    },
    {
      "cell_type": "code",
      "source": [
        "X.describe()"
      ],
      "metadata": {
        "id": "-r7dtW0muc5f"
      },
      "execution_count": null,
      "outputs": []
    },
    {
      "cell_type": "code",
      "source": [
        "X.fillna(X.mean(), inplace=True)\n",
        "X.describe()"
      ],
      "metadata": {
        "id": "oGi9FEciucz9"
      },
      "execution_count": null,
      "outputs": []
    },
    {
      "cell_type": "code",
      "source": [
        "X_train, X_test, y_train, y_test = train_test_split(X,Y,test_size=0.2)"
      ],
      "metadata": {
        "id": "9fS9ZEciucyL"
      },
      "execution_count": null,
      "outputs": []
    },
    {
      "cell_type": "code",
      "source": [
        "model = CategoricalNB()"
      ],
      "metadata": {
        "id": "JeqXEPnSucsf"
      },
      "execution_count": null,
      "outputs": []
    },
    {
      "cell_type": "code",
      "source": [
        "model.fit(X_train,y_train)"
      ],
      "metadata": {
        "id": "-v9afUMzucoV"
      },
      "execution_count": null,
      "outputs": []
    },
    {
      "cell_type": "code",
      "source": [
        "print(f)\n",
        "print(model.score(X_train,y_train))"
      ],
      "metadata": {
        "id": "R8rAtLmjuw8t"
      },
      "execution_count": null,
      "outputs": []
    },
    {
      "cell_type": "code",
      "source": [
        ""
      ],
      "metadata": {
        "id": "m9VPBEqQuwt0"
      },
      "execution_count": null,
      "outputs": []
    }
  ]
}