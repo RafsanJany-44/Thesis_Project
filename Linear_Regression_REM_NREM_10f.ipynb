{
  "nbformat": 4,
  "nbformat_minor": 0,
  "metadata": {
    "colab": {
      "name": "Linear_Regression.ipynb",
      "provenance": [],
      "authorship_tag": "ABX9TyNW/YSh6S/2lVael6bgGbzQ",
      "include_colab_link": true
    },
    "kernelspec": {
      "name": "python3",
      "display_name": "Python 3"
    },
    "language_info": {
      "name": "python"
    }
  },
  "cells": [
    {
      "cell_type": "markdown",
      "metadata": {
        "id": "view-in-github",
        "colab_type": "text"
      },
      "source": [
        "<a href=\"https://colab.research.google.com/github/RafsanJany-44/Thesis_Project/blob/main/Linear_Regression_REM_NREM_10f.ipynb\" target=\"_parent\"><img src=\"https://colab.research.google.com/assets/colab-badge.svg\" alt=\"Open In Colab\"/></a>"
      ]
    },
    {
      "cell_type": "code",
      "execution_count": 53,
      "metadata": {
        "id": "kgTBQIr7DOlc"
      },
      "outputs": [],
      "source": [
        "import numpy as np\n",
        "import pandas as pd\n",
        "import matplotlib.pyplot as plt\n"
      ]
    },
    {
      "cell_type": "code",
      "source": [
        "ds2=pd.read_csv(\"/content/REM_NREM_10f.csv\")\n",
        "print(ds2)"
      ],
      "metadata": {
        "colab": {
          "base_uri": "https://localhost:8080/"
        },
        "id": "wOs_Fc06DpPJ",
        "outputId": "4b195a78-bfed-40b8-b12e-c08e706120a2"
      },
      "execution_count": 54,
      "outputs": [
        {
          "output_type": "stream",
          "name": "stdout",
          "text": [
            "      Sleep_Stage  PeakF_Beta_F4  ...  Spectral Edge_Beta_C4  Spectral Edge_Gamma_F4\n",
            "0            NREM       14.36098  ...               27.22341                49.95122\n",
            "1            NREM       16.60878  ...               27.09854                49.95122\n",
            "2            NREM       14.98537  ...               27.97268                49.95122\n",
            "3            NREM       11.36390  ...               25.60000                49.95122\n",
            "4            NREM       15.98439  ...               23.72683                49.95122\n",
            "...           ...            ...  ...                    ...                     ...\n",
            "89091        NREM       17.85756  ...               35.34049                48.45268\n",
            "89092        NREM       12.73756  ...               36.33951                50.95024\n",
            "89093        NREM       16.60878  ...               26.97366                45.20585\n",
            "89094        NREM       12.11317  ...               26.47415                47.57854\n",
            "89095        NREM       11.61366  ...               24.22634                43.08293\n",
            "\n",
            "[89096 rows x 11 columns]\n"
          ]
        }
      ]
    },
    {
      "cell_type": "code",
      "source": [
        "x=ds2.iloc[:,:-1].values\n",
        "y=ds2.iloc[:,1:].values"
      ],
      "metadata": {
        "id": "M4wYiYBZDpKj"
      },
      "execution_count": 55,
      "outputs": []
    },
    {
      "cell_type": "code",
      "source": [
        "print(x[:,0])"
      ],
      "metadata": {
        "colab": {
          "base_uri": "https://localhost:8080/"
        },
        "id": "YR4OIou1F2vp",
        "outputId": "ddf215e4-6b06-4bb7-a36e-0679e791b1b3"
      },
      "execution_count": 56,
      "outputs": [
        {
          "output_type": "stream",
          "name": "stdout",
          "text": [
            "['NREM' 'NREM' 'NREM' ... 'NREM' 'NREM' 'NREM']\n"
          ]
        }
      ]
    },
    {
      "cell_type": "code",
      "source": [
        "from sklearn.preprocessing import LabelEncoder\n",
        "labelencoder_X=LabelEncoder()\n",
        "x[:,0]=labelencoder_X.fit_transform(x[:,0])"
      ],
      "metadata": {
        "id": "-1ClIEwdDpEC"
      },
      "execution_count": 57,
      "outputs": []
    },
    {
      "cell_type": "code",
      "source": [
        "print(x)"
      ],
      "metadata": {
        "colab": {
          "base_uri": "https://localhost:8080/"
        },
        "id": "2hHuezVxGVNM",
        "outputId": "dc9c2e64-ac67-477e-afd0-0fe33c215ad7"
      },
      "execution_count": 58,
      "outputs": [
        {
          "output_type": "stream",
          "name": "stdout",
          "text": [
            "[[0 14.36098 22.85268 ... 10.24 18.48195 27.223409999999998]\n",
            " [0 16.60878 20.48 ... 9.1161 19.60585 27.098540000000003]\n",
            " [0 14.985370000000001 14.985370000000001 ... 9.24098 17.35805 27.97268]\n",
            " ...\n",
            " [0 16.60878 15.98439 ... 10.11512 17.35805 26.97366]\n",
            " [0 12.11317 14.860489999999999 ... 9.86537 15.98439 26.47415]\n",
            " [0 11.613660000000001 12.86244 ... 10.36488 15.73463 24.22634]]\n"
          ]
        }
      ]
    },
    {
      "cell_type": "code",
      "source": [
        "from sklearn.model_selection import train_test_split\n",
        "x_train,x_test,y_train,y_test=train_test_split(x,y,test_size=0.3,random_state=0)"
      ],
      "metadata": {
        "id": "cWix8LpMDpCS"
      },
      "execution_count": 59,
      "outputs": []
    },
    {
      "cell_type": "code",
      "source": [
        "from sklearn.linear_model import LinearRegression\n",
        "regressor=LinearRegression()\n",
        "regressor.fit(x_train,y_train)"
      ],
      "metadata": {
        "colab": {
          "base_uri": "https://localhost:8080/"
        },
        "id": "yPcjw62ZDo8s",
        "outputId": "17336bc9-31ee-4ce6-a909-19f0f49207ea"
      },
      "execution_count": 60,
      "outputs": [
        {
          "output_type": "execute_result",
          "data": {
            "text/plain": [
              "LinearRegression()"
            ]
          },
          "metadata": {},
          "execution_count": 60
        }
      ]
    },
    {
      "cell_type": "code",
      "source": [
        "y_pred=regressor.predict(x_test)"
      ],
      "metadata": {
        "id": "-snUqtYyDo48"
      },
      "execution_count": 61,
      "outputs": []
    },
    {
      "cell_type": "code",
      "source": [
        "print(y_pred)\n",
        "print(y_test)"
      ],
      "metadata": {
        "colab": {
          "base_uri": "https://localhost:8080/"
        },
        "id": "l8jOzOuYDoj7",
        "outputId": "c8c54172-6ffb-4a1e-93e3-15ae7e5afd77"
      },
      "execution_count": 62,
      "outputs": [
        {
          "output_type": "stream",
          "name": "stdout",
          "text": [
            "[[10.11512    11.3639     13.73659    ... 14.48585    24.72585\n",
            "  48.17485506]\n",
            " [11.86341    12.86244    11.73854    ... 14.48585    21.10439\n",
            "  47.47605642]\n",
            " [10.24       10.73951    10.98927    ... 13.23707    19.60585\n",
            "  47.07296291]\n",
            " ...\n",
            " [12.86244    13.73659    12.73756    ... 14.11122    20.23024\n",
            "  47.00926768]\n",
            " [49.95122    49.95122    29.47122    ... 49.95122    49.95122\n",
            "  47.88443481]\n",
            " [13.48683    13.48683    14.36098    ... 15.23512    21.97854\n",
            "  47.34973455]]\n",
            "[[10.11512 11.3639  13.73659 ... 14.48585 24.72585 49.07707]\n",
            " [11.86341 12.86244 11.73854 ... 14.48585 21.10439 47.32878]\n",
            " [10.24    10.73951 10.98927 ... 13.23707 19.60585 49.70146]\n",
            " ...\n",
            " [12.86244 13.73659 12.73756 ... 14.11122 20.23024 44.33171]\n",
            " [49.95122 49.95122 29.47122 ... 49.95122 49.95122 49.95122]\n",
            " [13.48683 13.48683 14.36098 ... 15.23512 21.97854 44.70634]]\n"
          ]
        }
      ]
    },
    {
      "cell_type": "code",
      "source": [
        ""
      ],
      "metadata": {
        "id": "T2pexcL8Dogi"
      },
      "execution_count": 62,
      "outputs": []
    },
    {
      "cell_type": "code",
      "source": [
        "plt.scatter(y_pred,y_test)\n",
        "plt.title(\"Predict Vs Actual\")\n",
        "plt.xlabel(\"Actual\")\n",
        "plt.ylabel(\"Predict\")\n",
        "plt.show()"
      ],
      "metadata": {
        "colab": {
          "base_uri": "https://localhost:8080/",
          "height": 294
        },
        "id": "LoyvnvGhDoWs",
        "outputId": "3f78568e-34d5-41ee-f516-14b787a87fc3"
      },
      "execution_count": 63,
      "outputs": [
        {
          "output_type": "display_data",
          "data": {
            "image/png": "[encoded data removed]",
            "text/plain": [
              "<Figure size 432x288 with 1 Axes>"
            ]
          },
          "metadata": {
            "needs_background": "light"
          }
        }
      ]
    },
    {
      "cell_type": "code",
      "source": [
        "from sklearn.metrics import r2_score\n",
        "score=r2_score(y_test,y_pred)\n",
        "print('r2 socre is' ,score)"
      ],
      "metadata": {
        "colab": {
          "base_uri": "https://localhost:8080/"
        },
        "id": "yOjoFWHLDoQ0",
        "outputId": "501536df-1bce-452f-f138-415ee595db84"
      },
      "execution_count": 64,
      "outputs": [
        {
          "output_type": "stream",
          "name": "stdout",
          "text": [
            "r2 socre is 0.9824545336882519\n"
          ]
        }
      ]
    },
    {
      "cell_type": "code",
      "source": [
        ""
      ],
      "metadata": {
        "id": "FptCjC1PDoOt"
      },
      "execution_count": 64,
      "outputs": []
    },
    {
      "cell_type": "code",
      "source": [
        ""
      ],
      "metadata": {
        "id": "HIzLp145DoIE"
      },
      "execution_count": 64,
      "outputs": []
    },
    {
      "cell_type": "code",
      "source": [
        ""
      ],
      "metadata": {
        "id": "H20NB1uIDoFW"
      },
      "execution_count": 64,
      "outputs": []
    },
    {
      "cell_type": "code",
      "source": [
        ""
      ],
      "metadata": {
        "id": "u5q7wZApDoBv"
      },
      "execution_count": 64,
      "outputs": []
    },
    {
      "cell_type": "code",
      "source": [
        ""
      ],
      "metadata": {
        "id": "vGHuQj7PDn2R"
      },
      "execution_count": 64,
      "outputs": []
    },
    {
      "cell_type": "code",
      "source": [
        ""
      ],
      "metadata": {
        "id": "7be7xEGSDnqn"
      },
      "execution_count": 64,
      "outputs": []
    }
  ]
}