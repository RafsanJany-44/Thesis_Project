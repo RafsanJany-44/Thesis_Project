{
  "nbformat": 4,
  "nbformat_minor": 0,
  "metadata": {
    "colab": {
      "name": "Linear_Regression.ipynb",
      "provenance": [],
      "authorship_tag": "ABX9TyM/3O6hv5mRTdNmunj5lVT5",
      "include_colab_link": true
    },
    "kernelspec": {
      "name": "python3",
      "display_name": "Python 3"
    },
    "language_info": {
      "name": "python"
    }
  },
  "cells": [
    {
      "cell_type": "markdown",
      "metadata": {
        "id": "view-in-github",
        "colab_type": "text"
      },
      "source": [
        "<a href=\"https://colab.research.google.com/github/RafsanJany-44/Thesis_Project/blob/main/Linear_Regression_N1_N2_N3_15f.ipynb\" target=\"_parent\"><img src=\"https://colab.research.google.com/assets/colab-badge.svg\" alt=\"Open In Colab\"/></a>"
      ]
    },
    {
      "cell_type": "code",
      "execution_count": 2,
      "metadata": {
        "id": "kgTBQIr7DOlc"
      },
      "outputs": [],
      "source": [
        "import numpy as np\n",
        "import pandas as pd\n",
        "import matplotlib.pyplot as plt\n"
      ]
    },
    {
      "cell_type": "code",
      "source": [
        "ds2=pd.read_csv(\"/content/N1_N2_N3_15f.csv\")\n",
        "print(ds2)"
      ],
      "metadata": {
        "colab": {
          "base_uri": "https://localhost:8080/"
        },
        "id": "wOs_Fc06DpPJ",
        "outputId": "f83a9054-14b9-44ea-d325-47bb058c3868"
      },
      "execution_count": 3,
      "outputs": [
        {
          "output_type": "stream",
          "name": "stdout",
          "text": [
            "      Sleep_Stage  MedianF_Beta_F4  ...  PeakF_Theta_F4  MeanF_Alpha_F4\n",
            "0              N1         17.73268  ...         5.86927        17.85756\n",
            "1              N1         16.85854  ...         4.37073        17.60780\n",
            "2              N1         17.35805  ...         4.74537        17.60780\n",
            "3              N2         15.48488  ...         3.74634        16.60878\n",
            "4              N2         15.11024  ...         2.87220        15.98439\n",
            "...           ...              ...  ...             ...             ...\n",
            "72626          N2         21.35415  ...         4.49561        19.73073\n",
            "72627          N1         19.85561  ...         4.74537        18.10732\n",
            "72628          N1         16.73366  ...         4.62049        17.48293\n",
            "72629          N1         15.73463  ...         6.24390        16.35902\n",
            "72630          N1         14.48585  ...         5.49463        15.73463\n",
            "\n",
            "[72631 rows x 16 columns]\n"
          ]
        }
      ]
    },
    {
      "cell_type": "code",
      "source": [
        "x=ds2.iloc[:,:-1].values\n",
        "y=ds2.iloc[:,1:].values"
      ],
      "metadata": {
        "id": "M4wYiYBZDpKj"
      },
      "execution_count": 4,
      "outputs": []
    },
    {
      "cell_type": "code",
      "source": [
        "print(x[:,0])"
      ],
      "metadata": {
        "colab": {
          "base_uri": "https://localhost:8080/"
        },
        "id": "YR4OIou1F2vp",
        "outputId": "d9d895d9-85f1-429b-bcc2-23773b9b2752"
      },
      "execution_count": 5,
      "outputs": [
        {
          "output_type": "stream",
          "name": "stdout",
          "text": [
            "['N1' 'N1' 'N1' ... 'N1' 'N1' 'N1']\n"
          ]
        }
      ]
    },
    {
      "cell_type": "code",
      "source": [
        "from sklearn.preprocessing import LabelEncoder\n",
        "labelencoder_X=LabelEncoder()\n",
        "x[:,0]=labelencoder_X.fit_transform(x[:,0])"
      ],
      "metadata": {
        "id": "-1ClIEwdDpEC"
      },
      "execution_count": 6,
      "outputs": []
    },
    {
      "cell_type": "code",
      "source": [
        "print(x)"
      ],
      "metadata": {
        "colab": {
          "base_uri": "https://localhost:8080/"
        },
        "id": "2hHuezVxGVNM",
        "outputId": "1078a59f-ce6f-4936-eaba-663d85cbc7d8"
      },
      "execution_count": 7,
      "outputs": [
        {
          "output_type": "stream",
          "name": "stdout",
          "text": [
            "[[0 17.73268 27.47317 ... 6.743410000000001 5.61951 5.869269999999999]\n",
            " [0 16.858539999999998 26.97366 ... 6.618539999999999 5.49463 4.37073]\n",
            " [0 17.35805 28.4722 ... 6.36878 5.61951 4.745369999999999]\n",
            " ...\n",
            " [0 16.73366 26.97366 ... 6.99317 4.99512 4.62049]\n",
            " [0 15.73463 26.47415 ... 5.61951 3.74634 6.2439]\n",
            " [0 14.48585 24.10146 ... 7.11805 4.12098 5.49463]]\n"
          ]
        }
      ]
    },
    {
      "cell_type": "code",
      "source": [
        "from sklearn.model_selection import train_test_split\n",
        "x_train,x_test,y_train,y_test=train_test_split(x,y,test_size=0.3,random_state=0)"
      ],
      "metadata": {
        "id": "cWix8LpMDpCS"
      },
      "execution_count": 8,
      "outputs": []
    },
    {
      "cell_type": "code",
      "source": [
        "from sklearn.linear_model import LinearRegression\n",
        "regressor=LinearRegression()\n",
        "regressor.fit(x_train,y_train)"
      ],
      "metadata": {
        "colab": {
          "base_uri": "https://localhost:8080/"
        },
        "id": "yPcjw62ZDo8s",
        "outputId": "f52184bf-df6e-4d5f-fa4f-9d65dcecdf2d"
      },
      "execution_count": 9,
      "outputs": [
        {
          "output_type": "execute_result",
          "data": {
            "text/plain": [
              "LinearRegression()"
            ]
          },
          "metadata": {},
          "execution_count": 9
        }
      ]
    },
    {
      "cell_type": "code",
      "source": [
        "y_pred=regressor.predict(x_test)"
      ],
      "metadata": {
        "id": "-snUqtYyDo48"
      },
      "execution_count": 10,
      "outputs": []
    },
    {
      "cell_type": "code",
      "source": [
        "print(y_pred)\n",
        "print(y_test)"
      ],
      "metadata": {
        "colab": {
          "base_uri": "https://localhost:8080/"
        },
        "id": "l8jOzOuYDoj7",
        "outputId": "dc11d730-62fd-485a-c136-abccef527f7c"
      },
      "execution_count": 11,
      "outputs": [
        {
          "output_type": "stream",
          "name": "stdout",
          "text": [
            "[[11.11415    22.10341    21.47902    ...  3.74634     2.74732\n",
            "  12.76233462]\n",
            " [16.60878    30.47024    28.59707    ...  5.24488     6.49366\n",
            "  16.08892096]\n",
            " [15.48488    26.22439    25.72488    ...  4.62049     6.36878\n",
            "  15.51609261]\n",
            " ...\n",
            " [13.48683    24.22634    23.10244    ...  4.99512     4.74537\n",
            "  14.07643819]\n",
            " [13.73659    26.47415    22.22829    ...  3.87122     6.2439\n",
            "  14.69377347]\n",
            " [18.60683    49.95122    49.95122    ...  5.36976     5.36976\n",
            "  15.47294383]]\n",
            "[[11.11415 22.10341 21.47902 ...  3.74634  2.74732 13.1122 ]\n",
            " [16.60878 30.47024 28.59707 ...  5.24488  6.49366 16.4839 ]\n",
            " [15.48488 26.22439 25.72488 ...  4.62049  6.36878 15.85951]\n",
            " ...\n",
            " [13.48683 24.22634 23.10244 ...  4.99512  4.74537 14.2361 ]\n",
            " [13.73659 26.47415 22.22829 ...  3.87122  6.2439  14.98537]\n",
            " [18.60683 49.95122 49.95122 ...  5.36976  5.36976 15.23512]]\n"
          ]
        }
      ]
    },
    {
      "cell_type": "code",
      "source": [
        ""
      ],
      "metadata": {
        "id": "T2pexcL8Dogi"
      },
      "execution_count": 11,
      "outputs": []
    },
    {
      "cell_type": "code",
      "source": [
        "plt.scatter(y_pred,y_test)\n",
        "plt.title(\"Predict Vs Actual\")\n",
        "plt.xlabel(\"Actual\")\n",
        "plt.ylabel(\"Predict\")\n",
        "plt.show()"
      ],
      "metadata": {
        "colab": {
          "base_uri": "https://localhost:8080/",
          "height": 294
        },
        "id": "LoyvnvGhDoWs",
        "outputId": "d35b3d09-986d-4e73-da89-6bb9ded1e36a"
      },
      "execution_count": 12,
      "outputs": [
        {
          "output_type": "display_data",
          "data": {
            "image/png": "[encoded data removed]",
            "text/plain": [
              "<Figure size 432x288 with 1 Axes>"
            ]
          },
          "metadata": {
            "needs_background": "light"
          }
        }
      ]
    },
    {
      "cell_type": "code",
      "source": [
        "from sklearn.metrics import r2_score\n",
        "score=r2_score(y_test,y_pred)\n",
        "print('r2 socre is' ,score)"
      ],
      "metadata": {
        "colab": {
          "base_uri": "https://localhost:8080/"
        },
        "id": "yOjoFWHLDoQ0",
        "outputId": "0a099742-608b-48ef-a647-4ee54860aed0"
      },
      "execution_count": 13,
      "outputs": [
        {
          "output_type": "stream",
          "name": "stdout",
          "text": [
            "r2 socre is 0.9962755867822835\n"
          ]
        }
      ]
    },
    {
      "cell_type": "code",
      "source": [
        ""
      ],
      "metadata": {
        "id": "FptCjC1PDoOt"
      },
      "execution_count": 13,
      "outputs": []
    },
    {
      "cell_type": "code",
      "source": [
        ""
      ],
      "metadata": {
        "id": "HIzLp145DoIE"
      },
      "execution_count": 13,
      "outputs": []
    },
    {
      "cell_type": "code",
      "source": [
        ""
      ],
      "metadata": {
        "id": "H20NB1uIDoFW"
      },
      "execution_count": 13,
      "outputs": []
    },
    {
      "cell_type": "code",
      "source": [
        ""
      ],
      "metadata": {
        "id": "u5q7wZApDoBv"
      },
      "execution_count": 13,
      "outputs": []
    },
    {
      "cell_type": "code",
      "source": [
        ""
      ],
      "metadata": {
        "id": "vGHuQj7PDn2R"
      },
      "execution_count": 13,
      "outputs": []
    },
    {
      "cell_type": "code",
      "source": [
        ""
      ],
      "metadata": {
        "id": "7be7xEGSDnqn"
      },
      "execution_count": 13,
      "outputs": []
    }
  ]
}