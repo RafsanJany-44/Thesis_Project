{
  "nbformat": 4,
  "nbformat_minor": 0,
  "metadata": {
    "colab": {
      "name": "Linear_Regression.ipynb",
      "provenance": [],
      "authorship_tag": "ABX9TyO/LGRMR34JIPXhMAbS4jg+",
      "include_colab_link": true
    },
    "kernelspec": {
      "name": "python3",
      "display_name": "Python 3"
    },
    "language_info": {
      "name": "python"
    }
  },
  "cells": [
    {
      "cell_type": "markdown",
      "metadata": {
        "id": "view-in-github",
        "colab_type": "text"
      },
      "source": [
        "<a href=\"https://colab.research.google.com/github/RafsanJany-44/Thesis_Project/blob/main/Linear_Regression_N1_N2_N3.ipynb\" target=\"_parent\"><img src=\"https://colab.research.google.com/assets/colab-badge.svg\" alt=\"Open In Colab\"/></a>"
      ]
    },
    {
      "cell_type": "code",
      "execution_count": 1,
      "metadata": {
        "id": "kgTBQIr7DOlc"
      },
      "outputs": [],
      "source": [
        "import numpy as np\n",
        "import pandas as pd\n",
        "import matplotlib.pyplot as plt\n"
      ]
    },
    {
      "cell_type": "code",
      "source": [
        "\n",
        "\n",
        "ds2=pd.read_csv(\"/content/N1_N2_N3.csv\")\n",
        "print(ds2)"
      ],
      "metadata": {
        "colab": {
          "base_uri": "https://localhost:8080/"
        },
        "id": "wOs_Fc06DpPJ",
        "outputId": "d96f52c5-2a0b-41a8-8d09-b7305aeb402f"
      },
      "execution_count": 2,
      "outputs": [
        {
          "output_type": "stream",
          "name": "stdout",
          "text": [
            "      Sleep_Stage  MeanP_Alpha_F4  ...  Spectral Edge_Gamma_O2  PeakF_Gamma_O2\n",
            "0              N1         0.00034  ...                49.95122        49.95122\n",
            "1              N1         0.00035  ...                49.95122        49.95122\n",
            "2              N1         0.00035  ...                49.95122        49.95122\n",
            "3              N2         0.00050  ...                49.95122        49.95122\n",
            "4              N2         0.00072  ...                49.95122        49.95122\n",
            "...           ...             ...  ...                     ...             ...\n",
            "72626          N2         0.00055  ...                48.45268        36.21463\n",
            "72627          N1         0.00052  ...                50.95024        36.46439\n",
            "72628          N1         0.00031  ...                45.20585        24.22634\n",
            "72629          N1         0.00042  ...                47.57854        24.97561\n",
            "72630          N1         0.00040  ...                43.08293        21.10439\n",
            "\n",
            "[72631 rows x 76 columns]\n"
          ]
        }
      ]
    },
    {
      "cell_type": "code",
      "source": [
        "x=ds2.iloc[:,:-1].values\n",
        "y=ds2.iloc[:,1:].values"
      ],
      "metadata": {
        "id": "M4wYiYBZDpKj"
      },
      "execution_count": 3,
      "outputs": []
    },
    {
      "cell_type": "code",
      "source": [
        "print(x[:,0])"
      ],
      "metadata": {
        "colab": {
          "base_uri": "https://localhost:8080/"
        },
        "id": "YR4OIou1F2vp",
        "outputId": "fe3412f8-f4bd-467b-cdc3-4d6f80249809"
      },
      "execution_count": 4,
      "outputs": [
        {
          "output_type": "stream",
          "name": "stdout",
          "text": [
            "['N1' 'N1' 'N1' ... 'N1' 'N1' 'N1']\n"
          ]
        }
      ]
    },
    {
      "cell_type": "code",
      "source": [
        "from sklearn.preprocessing import LabelEncoder\n",
        "labelencoder_X=LabelEncoder()\n",
        "x[:,0]=labelencoder_X.fit_transform(x[:,0])"
      ],
      "metadata": {
        "id": "-1ClIEwdDpEC"
      },
      "execution_count": 5,
      "outputs": []
    },
    {
      "cell_type": "code",
      "source": [
        "print(x)"
      ],
      "metadata": {
        "colab": {
          "base_uri": "https://localhost:8080/"
        },
        "id": "2hHuezVxGVNM",
        "outputId": "0830ad5d-f09c-4af8-e564-dfddf4441e31"
      },
      "execution_count": 6,
      "outputs": [
        {
          "output_type": "stream",
          "name": "stdout",
          "text": [
            "[[0 0.00033999999999999997 10.11512 ... 32.71805 43.8322 49.95122]\n",
            " [0 0.00035 10.739510000000001 ... 32.09366 44.33171 49.95122]\n",
            " [0 0.00035 9.36585 ... 33.09268 43.95707 49.95122]\n",
            " ...\n",
            " [0 0.00031 10.11512 ... 29.096590000000003 37.58829 45.20585]\n",
            " [0 0.00042 9.99024 ... 29.5961 39.08683 47.578540000000004]\n",
            " [0 0.0004 9.86537 ... 27.098540000000003 36.58927 43.08293]]\n"
          ]
        }
      ]
    },
    {
      "cell_type": "code",
      "source": [
        "from sklearn.model_selection import train_test_split\n",
        "x_train,x_test,y_train,y_test=train_test_split(x,y,test_size=0.3,random_state=0)"
      ],
      "metadata": {
        "id": "cWix8LpMDpCS"
      },
      "execution_count": 7,
      "outputs": []
    },
    {
      "cell_type": "code",
      "source": [
        "from sklearn.linear_model import LinearRegression\n",
        "regressor=LinearRegression()\n",
        "regressor.fit(x_train,y_train)"
      ],
      "metadata": {
        "colab": {
          "base_uri": "https://localhost:8080/"
        },
        "id": "yPcjw62ZDo8s",
        "outputId": "9acfbe4b-88b5-47e5-9fcd-b8f00fbd125d"
      },
      "execution_count": 8,
      "outputs": [
        {
          "output_type": "execute_result",
          "data": {
            "text/plain": [
              "LinearRegression()"
            ]
          },
          "metadata": {},
          "execution_count": 8
        }
      ]
    },
    {
      "cell_type": "code",
      "source": [
        "y_pred=regressor.predict(x_test)"
      ],
      "metadata": {
        "id": "-snUqtYyDo48"
      },
      "execution_count": 9,
      "outputs": []
    },
    {
      "cell_type": "code",
      "source": [
        "print(y_pred)\n",
        "print(y_test)"
      ],
      "metadata": {
        "colab": {
          "base_uri": "https://localhost:8080/"
        },
        "id": "l8jOzOuYDoj7",
        "outputId": "4697f55f-0b51-465f-f180-ac966a42f997"
      },
      "execution_count": 10,
      "outputs": [
        {
          "output_type": "stream",
          "name": "stdout",
          "text": [
            "[[9.40000000e-04 8.24195000e+00 1.31122000e+01 ... 4.98263400e+01\n",
            "  5.00761000e+01 5.08240574e+01]\n",
            " [3.00000000e-04 8.24195000e+00 1.64839000e+01 ... 4.98263400e+01\n",
            "  5.00761000e+01 4.98814056e+01]\n",
            " [4.80000000e-04 7.99220000e+00 1.58595100e+01 ... 3.83375600e+01\n",
            "  4.63297600e+01 3.34301318e+01]\n",
            " ...\n",
            " [5.00000000e-04 7.74244000e+00 1.42361000e+01 ... 3.57151200e+01\n",
            "  4.33326800e+01 2.69485492e+01]\n",
            " [9.00000000e-04 9.24098000e+00 1.49853700e+01 ... 4.98263400e+01\n",
            "  4.99512200e+01 4.95356048e+01]\n",
            " [1.07000000e-03 1.03648800e+01 1.52351200e+01 ... 4.99512200e+01\n",
            "  4.99512200e+01 5.09823379e+01]]\n",
            "[[9.400000e-04 8.241950e+00 1.311220e+01 ... 4.982634e+01 5.007610e+01\n",
            "  4.995122e+01]\n",
            " [3.000000e-04 8.241950e+00 1.648390e+01 ... 4.982634e+01 5.007610e+01\n",
            "  4.995122e+01]\n",
            " [4.800000e-04 7.992200e+00 1.585951e+01 ... 3.833756e+01 4.632976e+01\n",
            "  3.384195e+01]\n",
            " ...\n",
            " [5.000000e-04 7.742440e+00 1.423610e+01 ... 3.571512e+01 4.333268e+01\n",
            "  2.510049e+01]\n",
            " [9.000000e-04 9.240980e+00 1.498537e+01 ... 4.982634e+01 4.995122e+01\n",
            "  4.995122e+01]\n",
            " [1.070000e-03 1.036488e+01 1.523512e+01 ... 4.995122e+01 4.995122e+01\n",
            "  4.995122e+01]]\n"
          ]
        }
      ]
    },
    {
      "cell_type": "code",
      "source": [
        ""
      ],
      "metadata": {
        "id": "T2pexcL8Dogi"
      },
      "execution_count": 10,
      "outputs": []
    },
    {
      "cell_type": "code",
      "source": [
        "plt.scatter(y_pred,y_test)\n",
        "plt.title(\"Predict Vs Actual\")\n",
        "plt.xlabel(\"Actual\")\n",
        "plt.ylabel(\"Predict\")\n",
        "plt.show()"
      ],
      "metadata": {
        "colab": {
          "base_uri": "https://localhost:8080/",
          "height": 294
        },
        "id": "LoyvnvGhDoWs",
        "outputId": "272ede16-d9d8-418c-eea9-abb5979130a2"
      },
      "execution_count": 11,
      "outputs": [
        {
          "output_type": "display_data",
          "data": {
            "image/png": "[encoded data removed]",
            "text/plain": [
              "<Figure size 432x288 with 1 Axes>"
            ]
          },
          "metadata": {
            "needs_background": "light"
          }
        }
      ]
    },
    {
      "cell_type": "code",
      "source": [
        "from sklearn.metrics import r2_score\n",
        "score=r2_score(y_test,y_pred)\n",
        "print('r2 socre is' ,score)"
      ],
      "metadata": {
        "colab": {
          "base_uri": "https://localhost:8080/"
        },
        "id": "yOjoFWHLDoQ0",
        "outputId": "efc45b6d-e158-46fe-8bb2-b13cf74a765e"
      },
      "execution_count": 12,
      "outputs": [
        {
          "output_type": "stream",
          "name": "stdout",
          "text": [
            "r2 socre is 0.9965042669145057\n"
          ]
        }
      ]
    },
    {
      "cell_type": "code",
      "source": [
        ""
      ],
      "metadata": {
        "id": "lDp00qZEvsgI"
      },
      "execution_count": 12,
      "outputs": []
    },
    {
      "cell_type": "code",
      "source": [
        ""
      ],
      "metadata": {
        "id": "FptCjC1PDoOt"
      },
      "execution_count": 12,
      "outputs": []
    },
    {
      "cell_type": "code",
      "source": [
        ""
      ],
      "metadata": {
        "id": "HIzLp145DoIE"
      },
      "execution_count": 12,
      "outputs": []
    },
    {
      "cell_type": "code",
      "source": [
        ""
      ],
      "metadata": {
        "id": "H20NB1uIDoFW"
      },
      "execution_count": 12,
      "outputs": []
    },
    {
      "cell_type": "code",
      "source": [
        ""
      ],
      "metadata": {
        "id": "u5q7wZApDoBv"
      },
      "execution_count": 12,
      "outputs": []
    },
    {
      "cell_type": "code",
      "source": [
        ""
      ],
      "metadata": {
        "id": "vGHuQj7PDn2R"
      },
      "execution_count": 12,
      "outputs": []
    },
    {
      "cell_type": "code",
      "source": [
        ""
      ],
      "metadata": {
        "id": "7be7xEGSDnqn"
      },
      "execution_count": 12,
      "outputs": []
    }
  ]
}