{
  "nbformat": 4,
  "nbformat_minor": 0,
  "metadata": {
    "colab": {
      "name": "pyCode.ipynb",
      "provenance": []
    },
    "kernelspec": {
      "name": "python3",
      "display_name": "Python 3"
    },
    "language_info": {
      "name": "python"
    }
  },
  "cells": [
    {
      "cell_type": "code",
      "metadata": {
        "id": "fprLVfaPr-O3"
      },
      "source": [
        "!unzip '/content/eeg analysis result.zip'"
      ],
      "execution_count": null,
      "outputs": []
    },
    {
      "cell_type": "code",
      "metadata": {
        "id": "vUodcjIOsSdS"
      },
      "source": [
        "!unzip '/content/sleep_scooring_xls.zip'"
      ],
      "execution_count": null,
      "outputs": []
    },
    {
      "cell_type": "code",
      "metadata": {
        "id": "6zyVUYDQsg3_"
      },
      "source": [
        "!pip install xlutils"
      ],
      "execution_count": null,
      "outputs": []
    },
    {
      "cell_type": "code",
      "metadata": {
        "id": "Vz_z74EDsiKI"
      },
      "source": [
        "def raf(subject):\n",
        "  import xlwt\n",
        "  import xlrd\n",
        "  from xlutils.copy import copy\n",
        "  \n",
        "  rb = xlrd.open_workbook('EEG_HMC_FeatureExtraction.xlsx')\n",
        "  wb2 = copy(rb)\n",
        "  w_sheet2 = wb2.get_sheet(0)\n",
        "\n",
        "  next_index = xlrd.open_workbook(\"/content/EEG_HMC_FeatureExtraction.xlsx\").sheet_by_index(0).nrows\n",
        "  sheet4 = xlrd.open_workbook(\"/content/sleep_scooring_xls/\"+subject+\"_sleepscoring.xls\").sheet_by_index(0)\n",
        "\n",
        "  wb = xlrd.open_workbook(\"/content/eeg analysis result/\"+subject+\"_CH1_F4.xls\")\n",
        "  sheet = wb.sheet_by_index(0)\n",
        "  row=sheet.nrows\n",
        "  col=sheet.ncols\n",
        "\n",
        "\n",
        "  #subject, epoc, sleeping score\n",
        "  i=next_index\n",
        "  l=1\n",
        "  for j in range(8,row):\n",
        "    if sheet.cell_value(j, 0)=='':\n",
        "        break\n",
        "    w_sheet2.write(i,0,subject)\n",
        "    w_sheet2.write(i,1,sheet4.cell_value(l, 0))\n",
        "    w_sheet2.write(i,2,sheet.cell_value(j, 0))\n",
        "    i=i+1\n",
        "    l=l+1\n",
        "\n",
        "\n",
        "  rfr=0\n",
        "  first=3\n",
        "  second=8\n",
        "  for i in range(1,16):\n",
        "    if (i==6):\n",
        "      wb = xlrd.open_workbook(\"/content/eeg analysis result/\"+subject+\"_CH2_C4.xls\")\n",
        "      sheet = wb.sheet_by_index(0)\n",
        "      row=sheet.nrows\n",
        "      col=sheet.ncols\n",
        "      rfr=0\n",
        "    elif (i==11):\n",
        "      wb = xlrd.open_workbook(\"/content/eeg analysis result/\"+subject+\"_CH3_O2.xls\")\n",
        "      sheet = wb.sheet_by_index(0)\n",
        "      row=sheet.nrows\n",
        "      col=sheet.ncols\n",
        "      rfr=0\n",
        "\n",
        "    new_rfr=rfr\n",
        "    rfc=1\n",
        "    for wfc in range(first,second):\n",
        "      wfr=next_index\n",
        "      rfr=new_rfr\n",
        "      for rfr in range(rfr+8,row):\n",
        "        if sheet.cell_value(rfr, 0)=='':\n",
        "          break\n",
        "        w_sheet2.write(wfr,wfc,sheet.cell_value(rfr, rfc))\n",
        "        wfr=wfr+1\n",
        "      rfc=rfc+1\n",
        "    first=second\n",
        "    second=second+5\n",
        "\n",
        "\n",
        "  wb2.save('EEG_HMC_FeatureExtraction.xlsx')"
      ],
      "execution_count": 10,
      "outputs": []
    },
    {
      "cell_type": "code",
      "metadata": {
        "id": "10_zbdUEsv3-"
      },
      "source": [
        "\n",
        "l=['02','03','04','05','06','07','08','09','10','13','14','15','18','19','20','21','22','23','24','25','26','27','28','29','30','31','33','34','35','36','37','38','39','40','41','43','44','45','46','49','50','51','52','53','54','55','57','59','60']\n",
        "for i in l:\n",
        "  raf(\"SN0\"+i)\n",
        "  print(\"----------------------\")\n",
        "  print(\"SN0\"+i+\" is completed!!!.........................\")\n",
        "  print(\"----------------------\")"
      ],
      "execution_count": null,
      "outputs": []
    }
  ]
}