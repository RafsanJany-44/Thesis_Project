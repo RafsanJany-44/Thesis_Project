{
  "nbformat": 4,
  "nbformat_minor": 0,
  "metadata": {
    "colab": {
      "name": "C4.5_Tree_N1_N2_N3_10f.ipynb",
      "provenance": [],
      "authorship_tag": "ABX9TyPWHbcTICWhkHEvo1ZfAJPv",
      "include_colab_link": true
    },
    "kernelspec": {
      "name": "python3",
      "display_name": "Python 3"
    },
    "language_info": {
      "name": "python"
    }
  },
  "cells": [
    {
      "cell_type": "markdown",
      "metadata": {
        "id": "view-in-github",
        "colab_type": "text"
      },
      "source": [
        "<a href=\"https://colab.research.google.com/github/RafsanJany-44/Thesis_Project/blob/main/C4_5_Tree_N1_N2_N3_20f.ipynb\" target=\"_parent\"><img src=\"https://colab.research.google.com/assets/colab-badge.svg\" alt=\"Open In Colab\"/></a>"
      ]
    },
    {
      "cell_type": "code",
      "source": [
        "!pip install chefboost"
      ],
      "metadata": {
        "colab": {
          "base_uri": "https://localhost:8080/"
        },
        "id": "rWagvwasPpwL",
        "outputId": "18956663-467a-4b2a-f7e4-6b29fa345468"
      },
      "execution_count": 20,
      "outputs": [
        {
          "output_type": "stream",
          "name": "stdout",
          "text": [
            "Requirement already satisfied: chefboost in /usr/local/lib/python3.7/dist-packages (0.0.13)\n",
            "Requirement already satisfied: numpy>=1.14.0 in /usr/local/lib/python3.7/dist-packages (from chefboost) (1.19.5)\n",
            "Requirement already satisfied: pandas>=0.22.0 in /usr/local/lib/python3.7/dist-packages (from chefboost) (1.1.5)\n",
            "Requirement already satisfied: psutil>=5.4.3 in /usr/local/lib/python3.7/dist-packages (from chefboost) (5.4.8)\n",
            "Requirement already satisfied: tqdm>=4.30.0 in /usr/local/lib/python3.7/dist-packages (from chefboost) (4.62.3)\n",
            "Requirement already satisfied: pytz>=2017.2 in /usr/local/lib/python3.7/dist-packages (from pandas>=0.22.0->chefboost) (2018.9)\n",
            "Requirement already satisfied: python-dateutil>=2.7.3 in /usr/local/lib/python3.7/dist-packages (from pandas>=0.22.0->chefboost) (2.8.2)\n",
            "Requirement already satisfied: six>=1.5 in /usr/local/lib/python3.7/dist-packages (from python-dateutil>=2.7.3->pandas>=0.22.0->chefboost) (1.15.0)\n"
          ]
        }
      ]
    },
    {
      "cell_type": "code",
      "execution_count": 21,
      "metadata": {
        "id": "hmRiavbcPBmC"
      },
      "outputs": [],
      "source": [
        "from chefboost import Chefboost as chef\n",
        "import pandas as pd"
      ]
    },
    {
      "cell_type": "code",
      "source": [
        "df= pd.read_csv(\"/content/N1_N2_N3_20f.csv\")"
      ],
      "metadata": {
        "id": "xxx-erESP1sl"
      },
      "execution_count": 22,
      "outputs": []
    },
    {
      "cell_type": "code",
      "source": [
        "df.head()"
      ],
      "metadata": {
        "colab": {
          "base_uri": "https://localhost:8080/",
          "height": 232
        },
        "id": "jzX-f7hiQO53",
        "outputId": "aed175b5-4eec-4680-f828-02978eaaf9c0"
      },
      "execution_count": 18,
      "outputs": [
        {
          "output_type": "execute_result",
          "data": {
            "text/html": [
              "\n",
              "  <div id=\"df-da7fa822-8eda-41cb-b654-a40a190152dd\">\n",
              "    <div class=\"colab-df-container\">\n",
              "      <div>\n",
              "<style scoped>\n",
              "    .dataframe tbody tr th:only-of-type {\n",
              "        vertical-align: middle;\n",
              "    }\n",
              "\n",
              "    .dataframe tbody tr th {\n",
              "        vertical-align: top;\n",
              "    }\n",
              "\n",
              "    .dataframe thead th {\n",
              "        text-align: right;\n",
              "    }\n",
              "</style>\n",
              "<table border=\"1\" class=\"dataframe\">\n",
              "  <thead>\n",
              "    <tr style=\"text-align: right;\">\n",
              "      <th></th>\n",
              "      <th>Sleep_Stage</th>\n",
              "      <th>MedianF_Beta_F4</th>\n",
              "      <th>Spectral Edge_Beta_F4</th>\n",
              "      <th>Spectral Edge_Beta_C4</th>\n",
              "      <th>MedianF_Beta_C4</th>\n",
              "      <th>PeakF_Beta_F4</th>\n",
              "      <th>PeakF_Beta_C4</th>\n",
              "      <th>MeanF_Beta_F4</th>\n",
              "      <th>MeanF_Beta_C4</th>\n",
              "      <th>MedianF_Beta_O2</th>\n",
              "      <th>Spectral Edge_Alpha_F4</th>\n",
              "      <th>MedianF_Theta_C4</th>\n",
              "      <th>MeanF_Delta_C4</th>\n",
              "      <th>PeakF_Theta_C4</th>\n",
              "      <th>PeakF_Theta_F4</th>\n",
              "      <th>MeanF_Alpha_F4</th>\n",
              "      <th>MeanF_Delta_F4</th>\n",
              "      <th>MedianF_Theta_F4</th>\n",
              "      <th>Spectral Edge_Theta_O2</th>\n",
              "      <th>Spectral Edge_Beta_O2</th>\n",
              "      <th>MedianF_Theta_O2</th>\n",
              "    </tr>\n",
              "  </thead>\n",
              "  <tbody>\n",
              "    <tr>\n",
              "      <th>0</th>\n",
              "      <td>N1</td>\n",
              "      <td>17.73268</td>\n",
              "      <td>27.47317</td>\n",
              "      <td>27.22341</td>\n",
              "      <td>18.85659</td>\n",
              "      <td>14.36098</td>\n",
              "      <td>22.85268</td>\n",
              "      <td>25.35024</td>\n",
              "      <td>25.84976</td>\n",
              "      <td>18.23220</td>\n",
              "      <td>17.48293</td>\n",
              "      <td>5.86927</td>\n",
              "      <td>6.74341</td>\n",
              "      <td>5.61951</td>\n",
              "      <td>5.86927</td>\n",
              "      <td>17.85756</td>\n",
              "      <td>6.61854</td>\n",
              "      <td>6.11902</td>\n",
              "      <td>10.98927</td>\n",
              "      <td>28.47220</td>\n",
              "      <td>5.86927</td>\n",
              "    </tr>\n",
              "    <tr>\n",
              "      <th>1</th>\n",
              "      <td>N1</td>\n",
              "      <td>16.85854</td>\n",
              "      <td>26.97366</td>\n",
              "      <td>27.09854</td>\n",
              "      <td>19.35610</td>\n",
              "      <td>16.60878</td>\n",
              "      <td>20.48000</td>\n",
              "      <td>25.22537</td>\n",
              "      <td>25.84976</td>\n",
              "      <td>18.10732</td>\n",
              "      <td>17.10829</td>\n",
              "      <td>5.61951</td>\n",
              "      <td>6.61854</td>\n",
              "      <td>5.49463</td>\n",
              "      <td>4.37073</td>\n",
              "      <td>17.60780</td>\n",
              "      <td>6.61854</td>\n",
              "      <td>5.86927</td>\n",
              "      <td>10.86439</td>\n",
              "      <td>28.72195</td>\n",
              "      <td>5.99415</td>\n",
              "    </tr>\n",
              "    <tr>\n",
              "      <th>2</th>\n",
              "      <td>N1</td>\n",
              "      <td>17.35805</td>\n",
              "      <td>28.47220</td>\n",
              "      <td>27.97268</td>\n",
              "      <td>17.35805</td>\n",
              "      <td>14.98537</td>\n",
              "      <td>14.98537</td>\n",
              "      <td>26.09951</td>\n",
              "      <td>26.34927</td>\n",
              "      <td>17.23317</td>\n",
              "      <td>16.98341</td>\n",
              "      <td>5.12000</td>\n",
              "      <td>6.36878</td>\n",
              "      <td>5.61951</td>\n",
              "      <td>4.74537</td>\n",
              "      <td>17.60780</td>\n",
              "      <td>6.61854</td>\n",
              "      <td>5.36976</td>\n",
              "      <td>9.74049</td>\n",
              "      <td>28.84683</td>\n",
              "      <td>5.49463</td>\n",
              "    </tr>\n",
              "    <tr>\n",
              "      <th>3</th>\n",
              "      <td>N2</td>\n",
              "      <td>15.48488</td>\n",
              "      <td>25.72488</td>\n",
              "      <td>25.60000</td>\n",
              "      <td>16.10927</td>\n",
              "      <td>11.36390</td>\n",
              "      <td>13.23707</td>\n",
              "      <td>24.10146</td>\n",
              "      <td>24.22634</td>\n",
              "      <td>17.73268</td>\n",
              "      <td>15.85951</td>\n",
              "      <td>4.37073</td>\n",
              "      <td>5.36976</td>\n",
              "      <td>2.99707</td>\n",
              "      <td>3.74634</td>\n",
              "      <td>16.60878</td>\n",
              "      <td>5.86927</td>\n",
              "      <td>4.99512</td>\n",
              "      <td>9.11610</td>\n",
              "      <td>28.59707</td>\n",
              "      <td>4.87024</td>\n",
              "    </tr>\n",
              "    <tr>\n",
              "      <th>4</th>\n",
              "      <td>N2</td>\n",
              "      <td>15.11024</td>\n",
              "      <td>23.22732</td>\n",
              "      <td>23.72683</td>\n",
              "      <td>14.98537</td>\n",
              "      <td>15.98439</td>\n",
              "      <td>13.98634</td>\n",
              "      <td>22.22829</td>\n",
              "      <td>22.85268</td>\n",
              "      <td>15.98439</td>\n",
              "      <td>15.48488</td>\n",
              "      <td>4.37073</td>\n",
              "      <td>5.61951</td>\n",
              "      <td>2.87220</td>\n",
              "      <td>2.87220</td>\n",
              "      <td>15.98439</td>\n",
              "      <td>5.24488</td>\n",
              "      <td>4.24585</td>\n",
              "      <td>9.49073</td>\n",
              "      <td>25.97463</td>\n",
              "      <td>5.61951</td>\n",
              "    </tr>\n",
              "  </tbody>\n",
              "</table>\n",
              "</div>\n",
              "      <button class=\"colab-df-convert\" onclick=\"convertToInteractive('df-da7fa822-8eda-41cb-b654-a40a190152dd')\"\n",
              "              title=\"Convert this dataframe to an interactive table.\"\n",
              "              style=\"display:none;\">\n",
              "        \n",
              "  <svg xmlns=\"http://www.w3.org/2000/svg\" height=\"24px\"viewBox=\"0 0 24 24\"\n",
              "       width=\"24px\">\n",
              "    <path d=\"M0 0h24v24H0V0z\" fill=\"none\"/>\n",
              "    <path d=\"M18.56 5.44l.94 2.06.94-2.06 2.06-.94-2.06-.94-.94-2.06-.94 2.06-2.06.94zm-11 1L8.5 8.5l.94-2.06 2.06-.94-2.06-.94L8.5 2.5l-.94 2.06-2.06.94zm10 10l.94 2.06.94-2.06 2.06-.94-2.06-.94-.94-2.06-.94 2.06-2.06.94z\"/><path d=\"M17.41 7.96l-1.37-1.37c-.4-.4-.92-.59-1.43-.59-.52 0-1.04.2-1.43.59L10.3 9.45l-7.72 7.72c-.78.78-.78 2.05 0 2.83L4 21.41c.39.39.9.59 1.41.59.51 0 1.02-.2 1.41-.59l7.78-7.78 2.81-2.81c.8-.78.8-2.07 0-2.86zM5.41 20L4 18.59l7.72-7.72 1.47 1.35L5.41 20z\"/>\n",
              "  </svg>\n",
              "      </button>\n",
              "      \n",
              "  <style>\n",
              "    .colab-df-container {\n",
              "      display:flex;\n",
              "      flex-wrap:wrap;\n",
              "      gap: 12px;\n",
              "    }\n",
              "\n",
              "    .colab-df-convert {\n",
              "      background-color: #E8F0FE;\n",
              "      border: none;\n",
              "      border-radius: 50%;\n",
              "      cursor: pointer;\n",
              "      display: none;\n",
              "      fill: #1967D2;\n",
              "      height: 32px;\n",
              "      padding: 0 0 0 0;\n",
              "      width: 32px;\n",
              "    }\n",
              "\n",
              "    .colab-df-convert:hover {\n",
              "      background-color: #E2EBFA;\n",
              "      box-shadow: 0px 1px 2px rgba(60, 64, 67, 0.3), 0px 1px 3px 1px rgba(60, 64, 67, 0.15);\n",
              "      fill: #174EA6;\n",
              "    }\n",
              "\n",
              "    [theme=dark] .colab-df-convert {\n",
              "      background-color: #3B4455;\n",
              "      fill: #D2E3FC;\n",
              "    }\n",
              "\n",
              "    [theme=dark] .colab-df-convert:hover {\n",
              "      background-color: #434B5C;\n",
              "      box-shadow: 0px 1px 3px 1px rgba(0, 0, 0, 0.15);\n",
              "      filter: drop-shadow(0px 1px 2px rgba(0, 0, 0, 0.3));\n",
              "      fill: #FFFFFF;\n",
              "    }\n",
              "  </style>\n",
              "\n",
              "      <script>\n",
              "        const buttonEl =\n",
              "          document.querySelector('#df-da7fa822-8eda-41cb-b654-a40a190152dd button.colab-df-convert');\n",
              "        buttonEl.style.display =\n",
              "          google.colab.kernel.accessAllowed ? 'block' : 'none';\n",
              "\n",
              "        async function convertToInteractive(key) {\n",
              "          const element = document.querySelector('#df-da7fa822-8eda-41cb-b654-a40a190152dd');\n",
              "          const dataTable =\n",
              "            await google.colab.kernel.invokeFunction('convertToInteractive',\n",
              "                                                     [key], {});\n",
              "          if (!dataTable) return;\n",
              "\n",
              "          const docLinkHtml = 'Like what you see? Visit the ' +\n",
              "            '<a target=\"_blank\" href=https://colab.research.google.com/notebooks/data_table.ipynb>data table notebook</a>'\n",
              "            + ' to learn more about interactive tables.';\n",
              "          element.innerHTML = '';\n",
              "          dataTable['output_type'] = 'display_data';\n",
              "          await google.colab.output.renderOutput(dataTable, element);\n",
              "          const docLink = document.createElement('div');\n",
              "          docLink.innerHTML = docLinkHtml;\n",
              "          element.appendChild(docLink);\n",
              "        }\n",
              "      </script>\n",
              "    </div>\n",
              "  </div>\n",
              "  "
            ],
            "text/plain": [
              "  Sleep_Stage  MedianF_Beta_F4  ...  Spectral Edge_Beta_O2  MedianF_Theta_O2\n",
              "0          N1         17.73268  ...               28.47220           5.86927\n",
              "1          N1         16.85854  ...               28.72195           5.99415\n",
              "2          N1         17.35805  ...               28.84683           5.49463\n",
              "3          N2         15.48488  ...               28.59707           4.87024\n",
              "4          N2         15.11024  ...               25.97463           5.61951\n",
              "\n",
              "[5 rows x 21 columns]"
            ]
          },
          "metadata": {},
          "execution_count": 18
        },
        {
          "output_type": "stream",
          "name": "stdout",
          "text": [
            "Warning: Total number of columns (21) exceeds max_columns (20) limiting to first (20) columns.\n"
          ]
        }
      ]
    },
    {
      "cell_type": "code",
      "source": [
        "config = {'algorithm': 'C4.5'} #Set algorithm to ID3, C4.5, CART, CHAID or Regression\n",
        "model = chef.fit(df, config = config, target_label = 'Sleep_Stage')"
      ],
      "metadata": {
        "colab": {
          "base_uri": "https://localhost:8080/"
        },
        "id": "4i7jnaQ5QXhz",
        "outputId": "05671f7b-d8d1-47a8-aa45-0e5918e16d74"
      },
      "execution_count": 19,
      "outputs": [
        {
          "output_type": "stream",
          "name": "stdout",
          "text": [
            "['MedianF_Beta_F4', 'Spectral Edge_Beta_F4', 'Spectral Edge_Beta_C4', 'MedianF_Beta_C4', 'PeakF_Beta_F4', 'PeakF_Beta_C4', 'MeanF_Beta_F4', 'MeanF_Beta_C4', 'MedianF_Beta_O2', 'Spectral Edge_Alpha_F4', 'MedianF_Theta_C4', 'MeanF_Delta_C4', 'PeakF_Theta_C4', 'PeakF_Theta_F4', 'MeanF_Alpha_F4', 'MeanF_Delta_F4', 'MedianF_Theta_F4', 'Spectral Edge_Theta_O2', 'Spectral Edge_Beta_O2', 'MedianF_Theta_O2', 'Decision']\n",
            "[INFO]:  1 CPU cores will be allocated in parallel running\n",
            "C4.5  tree is going to be built...\n",
            "-------------------------\n",
            "finished in  189.26773476600647  seconds\n",
            "-------------------------\n",
            "Evaluate  train set\n",
            "-------------------------\n",
            "Accuracy:  68.12518070796216 % on  72631  instances\n",
            "Labels:  ['N1' 'N2' 'N3']\n",
            "Confusion matrix:  [[6117, 3631, 223], [5455, 28041, 5745], [341, 7756, 15322]]\n",
            "Decision  N1  => Accuray:  86.7137 %, Precision:  61.3479 %, Recall:  51.3473 %, F1:  55.9039 %\n",
            "Decision  N2  => Accuray:  68.9017 %, Precision:  71.4584 %, Recall:  71.1195 %, F1:  71.2885 %\n",
            "Decision  N3  => Accuray:  80.635 %, Precision:  65.4255 %, Recall:  71.9681 %, F1:  68.541 %\n"
          ]
        }
      ]
    },
    {
      "cell_type": "code",
      "source": [
        ""
      ],
      "metadata": {
        "id": "mnqNf8TJeLfU"
      },
      "execution_count": null,
      "outputs": []
    }
  ]
}