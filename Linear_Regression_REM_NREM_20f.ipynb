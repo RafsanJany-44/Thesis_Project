{
  "nbformat": 4,
  "nbformat_minor": 0,
  "metadata": {
    "colab": {
      "name": "Linear_Regression.ipynb",
      "provenance": [],
      "authorship_tag": "ABX9TyPewc3jSuXOxTNIQARvxlXO",
      "include_colab_link": true
    },
    "kernelspec": {
      "name": "python3",
      "display_name": "Python 3"
    },
    "language_info": {
      "name": "python"
    }
  },
  "cells": [
    {
      "cell_type": "markdown",
      "metadata": {
        "id": "view-in-github",
        "colab_type": "text"
      },
      "source": [
        "<a href=\"https://colab.research.google.com/github/RafsanJany-44/Thesis_Project/blob/main/Linear_Regression_REM_NREM_20f.ipynb\" target=\"_parent\"><img src=\"https://colab.research.google.com/assets/colab-badge.svg\" alt=\"Open In Colab\"/></a>"
      ]
    },
    {
      "cell_type": "code",
      "execution_count": 13,
      "metadata": {
        "id": "kgTBQIr7DOlc"
      },
      "outputs": [],
      "source": [
        "import numpy as np\n",
        "import pandas as pd\n",
        "import matplotlib.pyplot as plt\n"
      ]
    },
    {
      "cell_type": "code",
      "source": [
        "\n",
        "\n",
        "ds2=pd.read_csv(\"/content/REM_NREM_20f.csv\")\n",
        "print(ds2)"
      ],
      "metadata": {
        "colab": {
          "base_uri": "https://localhost:8080/"
        },
        "id": "wOs_Fc06DpPJ",
        "outputId": "66ff37ab-797a-4d3a-8509-7b32fd19d074"
      },
      "execution_count": 14,
      "outputs": [
        {
          "output_type": "stream",
          "name": "stdout",
          "text": [
            "      Sleep_Stage  PeakF_Beta_F4  ...  Spectral Edge_Gamma_O2  MeanF_Gamma_C4\n",
            "0            NREM       14.36098  ...                49.95122        37.21366\n",
            "1            NREM       16.60878  ...                49.95122        35.21561\n",
            "2            NREM       14.98537  ...                49.95122        38.83707\n",
            "3            NREM       11.36390  ...                49.95122        35.71512\n",
            "4            NREM       15.98439  ...                49.95122        34.09171\n",
            "...           ...            ...  ...                     ...             ...\n",
            "89091        NREM       17.85756  ...                48.45268        39.71122\n",
            "89092        NREM       12.73756  ...                50.95024        42.95805\n",
            "89093        NREM       16.60878  ...                45.20585        37.46341\n",
            "89094        NREM       12.11317  ...                47.57854        38.58732\n",
            "89095        NREM       11.61366  ...                43.08293        35.84000\n",
            "\n",
            "[89096 rows x 21 columns]\n"
          ]
        }
      ]
    },
    {
      "cell_type": "code",
      "source": [
        "x=ds2.iloc[:,:-1].values\n",
        "y=ds2.iloc[:,1:].values"
      ],
      "metadata": {
        "id": "M4wYiYBZDpKj"
      },
      "execution_count": 15,
      "outputs": []
    },
    {
      "cell_type": "code",
      "source": [
        "print(x[:,0])"
      ],
      "metadata": {
        "colab": {
          "base_uri": "https://localhost:8080/"
        },
        "id": "YR4OIou1F2vp",
        "outputId": "34bf698f-84ba-4c57-ca3e-3a565908aba1"
      },
      "execution_count": 16,
      "outputs": [
        {
          "output_type": "stream",
          "name": "stdout",
          "text": [
            "['NREM' 'NREM' 'NREM' ... 'NREM' 'NREM' 'NREM']\n"
          ]
        }
      ]
    },
    {
      "cell_type": "code",
      "source": [
        "from sklearn.preprocessing import LabelEncoder\n",
        "labelencoder_X=LabelEncoder()\n",
        "x[:,0]=labelencoder_X.fit_transform(x[:,0])"
      ],
      "metadata": {
        "id": "-1ClIEwdDpEC"
      },
      "execution_count": 17,
      "outputs": []
    },
    {
      "cell_type": "code",
      "source": [
        "print(x)"
      ],
      "metadata": {
        "colab": {
          "base_uri": "https://localhost:8080/"
        },
        "id": "2hHuezVxGVNM",
        "outputId": "c69836cc-efe9-4d3a-a73d-31076d3f59d5"
      },
      "execution_count": 18,
      "outputs": [
        {
          "output_type": "stream",
          "name": "stdout",
          "text": [
            "[[0 14.36098 14.36098 ... 49.82634 49.95122 49.95122]\n",
            " [0 16.60878 16.60878 ... 48.3278 49.95122 49.95122]\n",
            " [0 14.985370000000001 14.985370000000001 ... 49.82634 49.95122 49.95122]\n",
            " ...\n",
            " [0 16.60878 16.60878 ... 44.33171 32.218540000000004 45.20585]\n",
            " [0 12.11317 12.11317 ... 46.704390000000004 32.9678 47.578540000000004]\n",
            " [0 11.613660000000001 11.613660000000001 ... 42.333659999999995 21.10439\n",
            "  43.08293]]\n"
          ]
        }
      ]
    },
    {
      "cell_type": "code",
      "source": [
        "from sklearn.model_selection import train_test_split\n",
        "x_train,x_test,y_train,y_test=train_test_split(x,y,test_size=0.3,random_state=0)"
      ],
      "metadata": {
        "id": "cWix8LpMDpCS"
      },
      "execution_count": 19,
      "outputs": []
    },
    {
      "cell_type": "code",
      "source": [
        "from sklearn.linear_model import LinearRegression\n",
        "regressor=LinearRegression()\n",
        "regressor.fit(x_train,y_train)"
      ],
      "metadata": {
        "colab": {
          "base_uri": "https://localhost:8080/"
        },
        "id": "yPcjw62ZDo8s",
        "outputId": "8caa321c-da26-4be2-b0c1-7fd13a0bf155"
      },
      "execution_count": 20,
      "outputs": [
        {
          "output_type": "execute_result",
          "data": {
            "text/plain": [
              "LinearRegression()"
            ]
          },
          "metadata": {},
          "execution_count": 20
        }
      ]
    },
    {
      "cell_type": "code",
      "source": [
        "y_pred=regressor.predict(x_test)"
      ],
      "metadata": {
        "id": "-snUqtYyDo48"
      },
      "execution_count": 21,
      "outputs": []
    },
    {
      "cell_type": "code",
      "source": [
        "print(y_pred)\n",
        "print(y_test)"
      ],
      "metadata": {
        "colab": {
          "base_uri": "https://localhost:8080/"
        },
        "id": "l8jOzOuYDoj7",
        "outputId": "4b1d2483-6afe-44ad-cba2-f7342914c759"
      },
      "execution_count": 22,
      "outputs": [
        {
          "output_type": "stream",
          "name": "stdout",
          "text": [
            "[[10.11512    10.11512    13.73659    ... 49.95122    50.0761\n",
            "  42.952082  ]\n",
            " [11.86341    11.86341    11.73854    ... 15.23512    46.45463\n",
            "  36.42470227]\n",
            " [10.24       10.24       10.98927    ... 49.95122    49.82634\n",
            "  39.68193473]\n",
            " ...\n",
            " [12.86244    12.86244    12.73756    ... 13.73659    44.08195\n",
            "  33.94602866]\n",
            " [49.95122    49.95122    29.47122    ... 49.95122    49.95122\n",
            "  49.04636503]\n",
            " [13.48683    13.48683    14.36098    ... 18.98146    44.70634\n",
            "  32.25322891]]\n",
            "[[10.11512 10.11512 13.73659 ... 49.95122 50.0761  41.83415]\n",
            " [11.86341 11.86341 11.73854 ... 15.23512 46.45463 37.46341]\n",
            " [10.24    10.24    10.98927 ... 49.95122 49.82634 37.58829]\n",
            " ...\n",
            " [12.86244 12.86244 12.73756 ... 13.73659 44.08195 33.46732]\n",
            " [49.95122 49.95122 29.47122 ... 49.95122 49.95122 49.95122]\n",
            " [13.48683 13.48683 14.36098 ... 18.98146 44.70634 32.84293]]\n"
          ]
        }
      ]
    },
    {
      "cell_type": "code",
      "source": [
        ""
      ],
      "metadata": {
        "id": "T2pexcL8Dogi"
      },
      "execution_count": 22,
      "outputs": []
    },
    {
      "cell_type": "code",
      "source": [
        "plt.scatter(y_pred,y_test)\n",
        "plt.title(\"Predict Vs Actual\")\n",
        "plt.xlabel(\"Actual\")\n",
        "plt.ylabel(\"Predict\")\n",
        "plt.show()"
      ],
      "metadata": {
        "colab": {
          "base_uri": "https://localhost:8080/",
          "height": 294
        },
        "id": "LoyvnvGhDoWs",
        "outputId": "b615a2e5-3179-457d-e3c3-17b0abe8645a"
      },
      "execution_count": 23,
      "outputs": [
        {
          "output_type": "display_data",
          "data": {
            "image/png": "[encoded data removed]",
            "text/plain": [
              "<Figure size 432x288 with 1 Axes>"
            ]
          },
          "metadata": {
            "needs_background": "light"
          }
        }
      ]
    },
    {
      "cell_type": "code",
      "source": [
        "from sklearn.metrics import r2_score\n",
        "score=r2_score(y_test,y_pred)\n",
        "print('r2 socre is' ,score)"
      ],
      "metadata": {
        "colab": {
          "base_uri": "https://localhost:8080/"
        },
        "id": "yOjoFWHLDoQ0",
        "outputId": "cc45b407-d834-4839-a8dd-ef6c3ad5886b"
      },
      "execution_count": 24,
      "outputs": [
        {
          "output_type": "stream",
          "name": "stdout",
          "text": [
            "r2 socre is 0.9970703625476567\n"
          ]
        }
      ]
    },
    {
      "cell_type": "code",
      "source": [
        ""
      ],
      "metadata": {
        "id": "lDp00qZEvsgI"
      },
      "execution_count": null,
      "outputs": []
    },
    {
      "cell_type": "code",
      "source": [
        ""
      ],
      "metadata": {
        "id": "FptCjC1PDoOt"
      },
      "execution_count": 24,
      "outputs": []
    },
    {
      "cell_type": "code",
      "source": [
        ""
      ],
      "metadata": {
        "id": "HIzLp145DoIE"
      },
      "execution_count": 24,
      "outputs": []
    },
    {
      "cell_type": "code",
      "source": [
        ""
      ],
      "metadata": {
        "id": "H20NB1uIDoFW"
      },
      "execution_count": 24,
      "outputs": []
    },
    {
      "cell_type": "code",
      "source": [
        ""
      ],
      "metadata": {
        "id": "u5q7wZApDoBv"
      },
      "execution_count": 24,
      "outputs": []
    },
    {
      "cell_type": "code",
      "source": [
        ""
      ],
      "metadata": {
        "id": "vGHuQj7PDn2R"
      },
      "execution_count": 24,
      "outputs": []
    },
    {
      "cell_type": "code",
      "source": [
        ""
      ],
      "metadata": {
        "id": "7be7xEGSDnqn"
      },
      "execution_count": 24,
      "outputs": []
    }
  ]
}