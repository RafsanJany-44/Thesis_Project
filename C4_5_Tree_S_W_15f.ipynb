{
  "nbformat": 4,
  "nbformat_minor": 0,
  "metadata": {
    "colab": {
      "name": "C4.5_Tree_N1_N2_N3_10f.ipynb",
      "provenance": [],
      "authorship_tag": "ABX9TyMrlgNxP0Y33f6G6P90acPi",
      "include_colab_link": true
    },
    "kernelspec": {
      "name": "python3",
      "display_name": "Python 3"
    },
    "language_info": {
      "name": "python"
    }
  },
  "cells": [
    {
      "cell_type": "markdown",
      "metadata": {
        "id": "view-in-github",
        "colab_type": "text"
      },
      "source": [
        "<a href=\"https://colab.research.google.com/github/RafsanJany-44/Thesis_Project/blob/main/C4_5_Tree_S_W_15f.ipynb\" target=\"_parent\"><img src=\"https://colab.research.google.com/assets/colab-badge.svg\" alt=\"Open In Colab\"/></a>"
      ]
    },
    {
      "cell_type": "code",
      "source": [
        "!pip install chefboost"
      ],
      "metadata": {
        "colab": {
          "base_uri": "https://localhost:8080/"
        },
        "id": "rWagvwasPpwL",
        "outputId": "58dbbf9f-0df3-4381-a9f9-2e9bbcade722"
      },
      "execution_count": 10,
      "outputs": [
        {
          "output_type": "stream",
          "name": "stdout",
          "text": [
            "Requirement already satisfied: chefboost in /usr/local/lib/python3.7/dist-packages (0.0.13)\n",
            "Requirement already satisfied: pandas>=0.22.0 in /usr/local/lib/python3.7/dist-packages (from chefboost) (1.1.5)\n",
            "Requirement already satisfied: tqdm>=4.30.0 in /usr/local/lib/python3.7/dist-packages (from chefboost) (4.62.3)\n",
            "Requirement already satisfied: psutil>=5.4.3 in /usr/local/lib/python3.7/dist-packages (from chefboost) (5.4.8)\n",
            "Requirement already satisfied: numpy>=1.14.0 in /usr/local/lib/python3.7/dist-packages (from chefboost) (1.19.5)\n",
            "Requirement already satisfied: pytz>=2017.2 in /usr/local/lib/python3.7/dist-packages (from pandas>=0.22.0->chefboost) (2018.9)\n",
            "Requirement already satisfied: python-dateutil>=2.7.3 in /usr/local/lib/python3.7/dist-packages (from pandas>=0.22.0->chefboost) (2.8.2)\n",
            "Requirement already satisfied: six>=1.5 in /usr/local/lib/python3.7/dist-packages (from python-dateutil>=2.7.3->pandas>=0.22.0->chefboost) (1.15.0)\n"
          ]
        }
      ]
    },
    {
      "cell_type": "code",
      "execution_count": 11,
      "metadata": {
        "id": "hmRiavbcPBmC"
      },
      "outputs": [],
      "source": [
        "from chefboost import Chefboost as chef\n",
        "import pandas as pd"
      ]
    },
    {
      "cell_type": "code",
      "source": [
        "df= pd.read_csv(\"/content/S_W_15f.csv\")"
      ],
      "metadata": {
        "id": "xxx-erESP1sl"
      },
      "execution_count": 12,
      "outputs": []
    },
    {
      "cell_type": "code",
      "source": [
        "df.head()"
      ],
      "metadata": {
        "id": "jzX-f7hiQO53"
      },
      "execution_count": null,
      "outputs": []
    },
    {
      "cell_type": "code",
      "source": [
        "config = {'algorithm': 'C4.5'} #Set algorithm to ID3, C4.5, CART, CHAID or Regression\n",
        "model = chef.fit(df, config = config, target_label = 'Sleep_Stage')"
      ],
      "metadata": {
        "colab": {
          "base_uri": "https://localhost:8080/"
        },
        "id": "4i7jnaQ5QXhz",
        "outputId": "1018bb9b-dd79-4980-b147-ee2cb8b265a7"
      },
      "execution_count": 14,
      "outputs": [
        {
          "output_type": "stream",
          "name": "stdout",
          "text": [
            "['Spectral Edge_Beta_F4', 'MedianF_Beta_F4', 'Spectral Edge_Beta_C4', 'Spectral Edge_Alpha_F4', 'PeakF_Beta_O2', 'MeanF_Alpha_F4', 'Spectral Edge_Alpha_C4', 'MeanF_Beta_F4', 'MedianF_Beta_C4', 'MeanF_Alpha_C4', 'PeakF_Theta_C4', 'MeanF_Beta_C4', 'PeakF_Theta_O2', 'MedianF_Theta_C4', 'MedianF_Theta_O2', 'Decision']\n",
            "[INFO]:  1 CPU cores will be allocated in parallel running\n",
            "C4.5  tree is going to be built...\n",
            "-------------------------\n",
            "finished in  130.89321327209473  seconds\n",
            "-------------------------\n",
            "Evaluate  train set\n",
            "-------------------------\n",
            "Accuracy:  90.39289633106195 % on  108451  instances\n",
            "Labels:  ['W' 'S']\n",
            "Confusion matrix:  [[13591, 4655], [5764, 84441]]\n",
            "Precision:  74.4876 %, Recall:  70.2196 %, F1:  72.2907 %\n"
          ]
        }
      ]
    },
    {
      "cell_type": "code",
      "source": [
        ""
      ],
      "metadata": {
        "id": "mnqNf8TJeLfU"
      },
      "execution_count": null,
      "outputs": []
    }
  ]
}