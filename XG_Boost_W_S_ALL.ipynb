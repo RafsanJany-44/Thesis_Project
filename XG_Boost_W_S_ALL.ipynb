{
  "nbformat": 4,
  "nbformat_minor": 0,
  "metadata": {
    "colab": {
      "name": "XG_Boost_W_S_ALL.ipynb",
      "provenance": [],
      "include_colab_link": true
    },
    "kernelspec": {
      "name": "python3",
      "display_name": "Python 3"
    },
    "language_info": {
      "name": "python"
    }
  },
  "cells": [
    {
      "cell_type": "markdown",
      "metadata": {
        "id": "view-in-github",
        "colab_type": "text"
      },
      "source": [
        "<a href=\"https://colab.research.google.com/github/RafsanJany-44/Thesis_Project/blob/main/XG_Boost_W_S_ALL.ipynb\" target=\"_parent\"><img src=\"https://colab.research.google.com/assets/colab-badge.svg\" alt=\"Open In Colab\"/></a>"
      ]
    },
    {
      "cell_type": "code",
      "source": [
        "!pip install xgboost"
      ],
      "metadata": {
        "colab": {
          "base_uri": "https://localhost:8080/"
        },
        "id": "cQ40cu5Ejkor",
        "outputId": "5293d185-ff6a-41de-91cb-4b427c2dc749"
      },
      "execution_count": 30,
      "outputs": [
        {
          "output_type": "stream",
          "name": "stdout",
          "text": [
            "Looking in indexes: https://pypi.org/simple, https://us-python.pkg.dev/colab-wheels/public/simple/\n",
            "Requirement already satisfied: xgboost in /usr/local/lib/python3.7/dist-packages (0.90)\n",
            "Requirement already satisfied: numpy in /usr/local/lib/python3.7/dist-packages (from xgboost) (1.21.6)\n",
            "Requirement already satisfied: scipy in /usr/local/lib/python3.7/dist-packages (from xgboost) (1.4.1)\n"
          ]
        }
      ]
    },
    {
      "cell_type": "code",
      "execution_count": 31,
      "metadata": {
        "id": "TIcHYYJdDTMe"
      },
      "outputs": [],
      "source": [
        "import pandas as pd\n",
        "import xgboost as xgb\n",
        "from sklearn.datasets import load_boston\n",
        "from sklearn.model_selection import train_test_split\n",
        "from sklearn.metrics import mean_squared_error"
      ]
    },
    {
      "cell_type": "code",
      "source": [
        "dataset = pd.read_csv('https://raw.githubusercontent.com/RafsanJany-44/Thesis_Project/main/All_DATA/without_sn_and_Epoch/3%20section/S_W.csv')\n",
        "\n",
        "print(dataset.head())\n",
        "from sklearn.preprocessing import LabelEncoder\n",
        "encoder=LabelEncoder()\n",
        "dataset[\"Sleep Stage\"]=encoder.fit_transform(dataset[\"Sleep Stage\"])\n",
        "\n"
      ],
      "metadata": {
        "id": "Z-AkQONnHOCi",
        "colab": {
          "base_uri": "https://localhost:8080/"
        },
        "outputId": "5247b56f-d237-433d-f99f-b49ac5a127aa"
      },
      "execution_count": 32,
      "outputs": [
        {
          "output_type": "stream",
          "name": "stdout",
          "text": [
            "  Sleep Stage  MeanP_Alpha_F4  MedianF_Alpha_F4  MeanF_Alpha_F4  \\\n",
            "0           W         0.00051           8.74146        18.48195   \n",
            "1           W         0.00040          10.24000        17.48293   \n",
            "2           W         0.00036           9.74049        17.98244   \n",
            "3           W         0.00035          10.11512        17.60780   \n",
            "4           W         0.00033           9.74049        17.60780   \n",
            "\n",
            "   Spectral Edge_Alpha_F4  PeakF_Alpha_F4  MeanP_Beta_F4  MedianF_Beta_F4  \\\n",
            "0                17.48293         8.24195        0.00071         19.73073   \n",
            "1                16.85854        10.61463        0.00051         17.23317   \n",
            "2                17.48293         8.74146        0.00047         17.60780   \n",
            "3                17.10829         9.61561        0.00047         17.35805   \n",
            "4                17.23317         8.11707        0.00043         17.23317   \n",
            "\n",
            "   MeanF_Beta_F4  Spectral Edge_Beta_F4  ...  MeanP_Delta_O2  \\\n",
            "0       29.84585               33.84195  ...         0.00724   \n",
            "1       26.34927               29.34634  ...         0.00723   \n",
            "2       25.47512               28.22244  ...         0.00230   \n",
            "3       26.47415               28.72195  ...         0.00091   \n",
            "4       25.84976               28.09756  ...         0.00175   \n",
            "\n",
            "   MedianF_Delta_O2  MeanF_Delta_O2  Spectral Edge_Delta_O2  PeakF_Delta_O2  \\\n",
            "0           0.74927         3.87122                 1.99805         0.87415   \n",
            "1           0.49951         3.74634                 1.24878         0.49951   \n",
            "2           0.62439         5.24488                 2.12293         0.62439   \n",
            "3           0.87415         6.61854                 3.12195         0.62439   \n",
            "4           0.49951         5.74439                 2.24780         0.49951   \n",
            "\n",
            "   MeanP_Gamma_O2  MedianF_Gamma_O2  MeanF_Gamma_O2  Spectral Edge_Gamma_O2  \\\n",
            "0        0.000210          35.21561        42.20878                49.95122   \n",
            "1        0.000095          34.34146        43.33268                49.95122   \n",
            "2        0.000074          34.59122        45.95512                49.95122   \n",
            "3        0.000082          32.46829        43.95707                49.95122   \n",
            "4        0.000077          33.59220        44.83122                49.95122   \n",
            "\n",
            "   PeakF_Gamma_O2  \n",
            "0        49.95122  \n",
            "1        49.95122  \n",
            "2        49.95122  \n",
            "3        49.95122  \n",
            "4        49.95122  \n",
            "\n",
            "[5 rows x 76 columns]\n"
          ]
        }
      ]
    },
    {
      "cell_type": "code",
      "source": [
        "print(dataset.head())"
      ],
      "metadata": {
        "id": "xDxRh5umhQ1d"
      },
      "execution_count": null,
      "outputs": []
    },
    {
      "cell_type": "code",
      "source": [
        "X= dataset.iloc[:, 1:]\n",
        "y = dataset.iloc[:, 0]"
      ],
      "metadata": {
        "id": "ZiUZEkqqHPzz"
      },
      "execution_count": 33,
      "outputs": []
    },
    {
      "cell_type": "code",
      "source": [
        "X_train, X_test, y_train, y_test = train_test_split(X, y, test_size = 0.2, random_state = 0)"
      ],
      "metadata": {
        "id": "fioo5WAgHRzV"
      },
      "execution_count": 34,
      "outputs": []
    },
    {
      "cell_type": "code",
      "source": [
        "xgb_classifier = xgb.XGBClassifier()"
      ],
      "metadata": {
        "id": "Ks79riunj349"
      },
      "execution_count": 35,
      "outputs": []
    },
    {
      "cell_type": "code",
      "source": [
        "xgb_classifier.fit(X_train,y_train)"
      ],
      "metadata": {
        "colab": {
          "base_uri": "https://localhost:8080/"
        },
        "id": "D1PDdLxDj7eE",
        "outputId": "57672afa-6554-410e-8451-77d394d9cf84"
      },
      "execution_count": 36,
      "outputs": [
        {
          "output_type": "execute_result",
          "data": {
            "text/plain": [
              "XGBClassifier()"
            ]
          },
          "metadata": {},
          "execution_count": 36
        }
      ]
    },
    {
      "cell_type": "code",
      "source": [
        "predictions = xgb_classifier.predict(X_test)"
      ],
      "metadata": {
        "id": "c0jefRFEj_Jn"
      },
      "execution_count": 37,
      "outputs": []
    },
    {
      "cell_type": "code",
      "source": [
        "predictions"
      ],
      "metadata": {
        "colab": {
          "base_uri": "https://localhost:8080/"
        },
        "id": "nr-lbG4qkFdk",
        "outputId": "fea5fd7d-6164-4b6f-aed7-ad59688ef819"
      },
      "execution_count": 38,
      "outputs": [
        {
          "output_type": "execute_result",
          "data": {
            "text/plain": [
              "array([0, 0, 0, ..., 0, 1, 0])"
            ]
          },
          "metadata": {},
          "execution_count": 38
        }
      ]
    },
    {
      "cell_type": "code",
      "source": [
        "print(\"Accuracy of Model::\",accuracy_score(y_test,predictions))"
      ],
      "metadata": {
        "colab": {
          "base_uri": "https://localhost:8080/"
        },
        "id": "nFprfE8hkHlX",
        "outputId": "54ae9462-4b38-478c-a79b-1bcff89594ab"
      },
      "execution_count": 39,
      "outputs": [
        {
          "output_type": "stream",
          "name": "stdout",
          "text": [
            "Accuracy of Model:: 0.9315384260753308\n"
          ]
        }
      ]
    },
    {
      "cell_type": "code",
      "source": [
        "from sklearn.metrics import classification_report, confusion_matrix, accuracy_score\n",
        "print(confusion_matrix(y_test, predictions))\n",
        "print(classification_report(y_test,predictions))\n",
        "print(\"Accurecy: \",accuracy_score(y_test, predictions))"
      ],
      "metadata": {
        "id": "v1pz7ukFHmd9",
        "colab": {
          "base_uri": "https://localhost:8080/"
        },
        "outputId": "f575afe3-e14c-441e-c478-69dfd2233ac8"
      },
      "execution_count": 41,
      "outputs": [
        {
          "output_type": "stream",
          "name": "stdout",
          "text": [
            "[[17193   694]\n",
            " [  791  3013]]\n",
            "              precision    recall  f1-score   support\n",
            "\n",
            "           0       0.96      0.96      0.96     17887\n",
            "           1       0.81      0.79      0.80      3804\n",
            "\n",
            "    accuracy                           0.93     21691\n",
            "   macro avg       0.88      0.88      0.88     21691\n",
            "weighted avg       0.93      0.93      0.93     21691\n",
            "\n",
            "Accurecy:  0.9315384260753308\n"
          ]
        }
      ]
    },
    {
      "cell_type": "code",
      "source": [
        ""
      ],
      "metadata": {
        "id": "JDq24RBzHWej"
      },
      "execution_count": null,
      "outputs": []
    }
  ]
}