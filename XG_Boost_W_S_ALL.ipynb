{
  "nbformat": 4,
  "nbformat_minor": 0,
  "metadata": {
    "colab": {
      "name": "XG_Boost_W_S_ALL.ipynb",
      "provenance": [],
      "include_colab_link": true
    },
    "kernelspec": {
      "name": "python3",
      "display_name": "Python 3"
    },
    "language_info": {
      "name": "python"
    }
  },
  "cells": [
    {
      "cell_type": "markdown",
      "metadata": {
        "id": "view-in-github",
        "colab_type": "text"
      },
      "source": [
        "<a href=\"https://colab.research.google.com/github/RafsanJany-44/Thesis_Project/blob/main/XG_Boost_W_S_ALL.ipynb\" target=\"_parent\"><img src=\"https://colab.research.google.com/assets/colab-badge.svg\" alt=\"Open In Colab\"/></a>"
      ]
    },
    {
      "cell_type": "code",
      "source": [
        "!pip install xgboost"
      ],
      "metadata": {
        "colab": {
          "base_uri": "https://localhost:8080/"
        },
        "id": "cQ40cu5Ejkor",
        "outputId": "5293d185-ff6a-41de-91cb-4b427c2dc749"
      },
      "execution_count": 30,
      "outputs": [
        {
          "output_type": "stream",
          "name": "stdout",
          "text": [
            "Looking in indexes: https://pypi.org/simple, https://us-python.pkg.dev/colab-wheels/public/simple/\n",
            "Requirement already satisfied: xgboost in /usr/local/lib/python3.7/dist-packages (0.90)\n",
            "Requirement already satisfied: numpy in /usr/local/lib/python3.7/dist-packages (from xgboost) (1.21.6)\n",
            "Requirement already satisfied: scipy in /usr/local/lib/python3.7/dist-packages (from xgboost) (1.4.1)\n"
          ]
        }
      ]
    },
    {
      "cell_type": "code",
      "execution_count": 31,
      "metadata": {
        "id": "TIcHYYJdDTMe"
      },
      "outputs": [],
      "source": [
        "import pandas as pd\n",
        "import xgboost as xgb\n",
        "from sklearn.datasets import load_boston\n",
        "from sklearn.model_selection import train_test_split\n",
        "from sklearn.metrics import mean_squared_error"
      ]
    },
    {
      "cell_type": "code",
      "source": [
        "dataset = pd.read_csv('https://raw.githubusercontent.com/RafsanJany-44/Thesis_Project/main/All_DATA/without_sn_and_Epoch/3%20section/S_W.csv')\n",
        "\n",
        "print(dataset.head())\n",
        "#from sklearn.preprocessing import LabelEncoder\n",
        "#encoder=LabelEncoder()\n",
        "#dataset[\"Sleep Stage\"]=encoder.fit_transform(dataset[\"Sleep Stage\"])\n",
        "\n"
      ],
      "metadata": {
        "id": "Z-AkQONnHOCi"
      },
      "execution_count": null,
      "outputs": []
    },
    {
      "cell_type": "code",
      "source": [
        "X= dataset.iloc[:, 1:]\n",
        "y = dataset.iloc[:, 0]"
      ],
      "metadata": {
        "id": "ZiUZEkqqHPzz"
      },
      "execution_count": 43,
      "outputs": []
    },
    {
      "cell_type": "code",
      "source": [
        "X_train, X_test, y_train, y_test = train_test_split(X, y, test_size = 0.2, random_state = 0)"
      ],
      "metadata": {
        "id": "fioo5WAgHRzV"
      },
      "execution_count": 44,
      "outputs": []
    },
    {
      "cell_type": "code",
      "source": [
        "xgb_classifier = xgb.XGBClassifier()"
      ],
      "metadata": {
        "id": "Ks79riunj349"
      },
      "execution_count": 45,
      "outputs": []
    },
    {
      "cell_type": "code",
      "source": [
        "xgb_classifier.fit(X_train,y_train)"
      ],
      "metadata": {
        "colab": {
          "base_uri": "https://localhost:8080/"
        },
        "id": "D1PDdLxDj7eE",
        "outputId": "a5dc5f21-80be-4d64-c128-a24e37ed913d"
      },
      "execution_count": 46,
      "outputs": [
        {
          "output_type": "execute_result",
          "data": {
            "text/plain": [
              "XGBClassifier()"
            ]
          },
          "metadata": {},
          "execution_count": 46
        }
      ]
    },
    {
      "cell_type": "code",
      "source": [
        "predictions = xgb_classifier.predict(X_test)"
      ],
      "metadata": {
        "id": "c0jefRFEj_Jn"
      },
      "execution_count": 47,
      "outputs": []
    },
    {
      "cell_type": "code",
      "source": [
        "predictions"
      ],
      "metadata": {
        "colab": {
          "base_uri": "https://localhost:8080/"
        },
        "id": "nr-lbG4qkFdk",
        "outputId": "e42cf2df-457c-47e3-fc0f-b7232c6758c8"
      },
      "execution_count": 48,
      "outputs": [
        {
          "output_type": "execute_result",
          "data": {
            "text/plain": [
              "array(['S', 'S', 'S', ..., 'S', 'W', 'S'], dtype=object)"
            ]
          },
          "metadata": {},
          "execution_count": 48
        }
      ]
    },
    {
      "cell_type": "code",
      "source": [
        "print(\"Accuracy of Model::\",accuracy_score(y_test,predictions))"
      ],
      "metadata": {
        "colab": {
          "base_uri": "https://localhost:8080/"
        },
        "id": "nFprfE8hkHlX",
        "outputId": "a1676cc1-8525-4a81-82fa-031f56975422"
      },
      "execution_count": 49,
      "outputs": [
        {
          "output_type": "stream",
          "name": "stdout",
          "text": [
            "Accuracy of Model:: 0.9315384260753308\n"
          ]
        }
      ]
    },
    {
      "cell_type": "code",
      "source": [
        "from sklearn.metrics import classification_report, confusion_matrix, accuracy_score\n",
        "print(confusion_matrix(y_test, predictions))\n",
        "print(classification_report(y_test,predictions))\n",
        "print(\"Accurecy: \",accuracy_score(y_test, predictions))"
      ],
      "metadata": {
        "id": "v1pz7ukFHmd9",
        "colab": {
          "base_uri": "https://localhost:8080/"
        },
        "outputId": "6bc1692e-9a86-4aa9-e689-13481a7a2442"
      },
      "execution_count": 50,
      "outputs": [
        {
          "output_type": "stream",
          "name": "stdout",
          "text": [
            "[[17193   694]\n",
            " [  791  3013]]\n",
            "              precision    recall  f1-score   support\n",
            "\n",
            "           S       0.96      0.96      0.96     17887\n",
            "           W       0.81      0.79      0.80      3804\n",
            "\n",
            "    accuracy                           0.93     21691\n",
            "   macro avg       0.88      0.88      0.88     21691\n",
            "weighted avg       0.93      0.93      0.93     21691\n",
            "\n",
            "Accurecy:  0.9315384260753308\n"
          ]
        }
      ]
    },
    {
      "cell_type": "code",
      "source": [
        ""
      ],
      "metadata": {
        "id": "JDq24RBzHWej"
      },
      "execution_count": null,
      "outputs": []
    }
  ]
}