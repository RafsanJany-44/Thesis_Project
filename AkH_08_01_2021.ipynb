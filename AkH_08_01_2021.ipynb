{
  "nbformat": 4,
  "nbformat_minor": 0,
  "metadata": {
    "colab": {
      "name": "AkH_08_01_2021.ipynb",
      "provenance": [],
      "authorship_tag": "ABX9TyOheqNycQ5wtBBlVRccjnTQ",
      "include_colab_link": true
    },
    "kernelspec": {
      "name": "python3",
      "display_name": "Python 3"
    },
    "language_info": {
      "name": "python"
    }
  },
  "cells": [
    {
      "cell_type": "markdown",
      "metadata": {
        "id": "view-in-github",
        "colab_type": "text"
      },
      "source": [
        "<a href=\"https://colab.research.google.com/github/RafsanJany-44/Thesis_Project/blob/main/AkH_08_01_2021.ipynb\" target=\"_parent\"><img src=\"https://colab.research.google.com/assets/colab-badge.svg\" alt=\"Open In Colab\"/></a>"
      ]
    },
    {
      "cell_type": "code",
      "execution_count": 1,
      "metadata": {
        "id": "LzdhRX88uzIg"
      },
      "outputs": [],
      "source": [
        "\n",
        "matrix=[\n",
        "    [1, 0, 0, 0, 0, 0],\n",
        "    [0, 1, 0, 1, 1, 1],\n",
        "    [0, 0, 1, 0, 1, 0],\n",
        "    [1, 1, 0, 0, 1, 0],\n",
        "    [1, 0, 1, 1, 0, 0],\n",
        "    [1, 0, 0, 0, 0, 1]\n",
        "]\n",
        "res=[\n",
        "    [1, 0, 0, 0, 0, 0],\n",
        "    [0, 0, 0, 1, 1, 1],\n",
        "    [0, 0, 0, 0, 1, 0],\n",
        "    [1, 1, 0, 0, 1, 0],\n",
        "    [1, 0, 0, 0, 0, 0],\n",
        "    [1, 0, 0, 0, 0, 1]\n",
        "]"
      ]
    },
    {
      "cell_type": "code",
      "source": [
        ""
      ],
      "metadata": {
        "id": "4d_u0EEL1OO-"
      },
      "execution_count": null,
      "outputs": []
    }
  ]
}