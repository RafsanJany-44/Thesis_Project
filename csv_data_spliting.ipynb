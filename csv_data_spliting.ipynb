{
  "nbformat": 4,
  "nbformat_minor": 0,
  "metadata": {
    "colab": {
      "name": "csv_data_spliting.ipynb",
      "provenance": [],
      "authorship_tag": "ABX9TyNPu3Rw6tzW/uZjadBdA6o/",
      "include_colab_link": true
    },
    "kernelspec": {
      "name": "python3",
      "display_name": "Python 3"
    },
    "language_info": {
      "name": "python"
    }
  },
  "cells": [
    {
      "cell_type": "markdown",
      "metadata": {
        "id": "view-in-github",
        "colab_type": "text"
      },
      "source": [
        "<a href=\"https://colab.research.google.com/github/RafsanJany-44/Thesis_Project/blob/main/csv_data_spliting.ipynb\" target=\"_parent\"><img src=\"https://colab.research.google.com/assets/colab-badge.svg\" alt=\"Open In Colab\"/></a>"
      ]
    },
    {
      "cell_type": "code",
      "metadata": {
        "id": "JYEf7TqYxzsb"
      },
      "source": [
        "import pandas as pd\n",
        "  \n",
        "# Read and store content\n",
        "# of an excel file \n",
        "read_file = pd.read_excel (\"/content/EEG_HMC_FeatureExtraction.xlsx\")\n",
        "  \n",
        "# Write the dataframe object\n",
        "# into csv file\n",
        "read_file.to_csv (\"EEG_HMC.csv\", \n",
        "                  index = None,\n",
        "                  header=True)\n",
        "    \n",
        "# read csv file and convert \n",
        "# into a dataframe object\n",
        "df = pd.DataFrame(pd.read_csv(\"EEG_HMC.csv\"))"
      ],
      "execution_count": 18,
      "outputs": []
    },
    {
      "cell_type": "markdown",
      "metadata": {
        "id": "iZ_voqjgwPVP"
      },
      "source": [
        "#Reading CSV"
      ]
    },
    {
      "cell_type": "code",
      "metadata": {
        "id": "DEUwPbUSPJsM"
      },
      "source": [
        "import csv \n",
        "    \n",
        "# opening the CSV file \n",
        "with open('/content/EEG_HMC.csv', mode ='r')as file: \n",
        "      \n",
        "  # reading the CSV file \n",
        "  csvFile = csv.reader(file) \n",
        "    \n",
        "  # displaying the contents of the CSV file\n",
        "  fIrst_line=[]\n",
        "  data=[]\n",
        "  for lines in csvFile:\n",
        "      data.append(lines)\n",
        "\n",
        "\n",
        "\n",
        "\n",
        "#print(fIrst_line)\n",
        "#print(fIrst_line[0].index('MeanF_Gamma_F4'))\n",
        "\n",
        "#print(*data,sep='\\n')\n",
        "\n"
      ],
      "execution_count": 27,
      "outputs": []
    },
    {
      "cell_type": "code",
      "metadata": {
        "colab": {
          "base_uri": "https://localhost:8080/"
        },
        "id": "G4ODSev4u2tO",
        "outputId": "a558301d-2190-455d-8a3d-ef171523816a"
      },
      "source": [
        "print(data[2][1])"
      ],
      "execution_count": 40,
      "outputs": [
        {
          "output_type": "stream",
          "name": "stdout",
          "text": [
            "0.0004\n"
          ]
        }
      ]
    },
    {
      "cell_type": "markdown",
      "metadata": {
        "id": "2cfV9nfVwShn"
      },
      "source": [
        "#Wrriting CSV"
      ]
    },
    {
      "cell_type": "code",
      "metadata": {
        "id": "3LRTXX0UVges"
      },
      "source": [
        "\n",
        "def write_csv(fields,data,name):\n",
        "  import csv  \n",
        "  filename = name+\".csv\"\n",
        "  with open(filename, 'w') as csvfile:  \n",
        "      csvwriter = csv.writer(csvfile) \n",
        "      csvwriter.writerow(fields) \n",
        "      csvwriter.writerows(data)"
      ],
      "execution_count": 103,
      "outputs": []
    },
    {
      "cell_type": "code",
      "metadata": {
        "colab": {
          "base_uri": "https://localhost:8080/"
        },
        "id": "LtP959hLyHTl",
        "outputId": "add69845-6e23-4d1f-a952-6d322fd1f04e"
      },
      "source": [
        "chanel=fields[2][-2]\n",
        "stage= fields[2][:-3]\n",
        "print(chanel,stage)"
      ],
      "execution_count": 31,
      "outputs": [
        {
          "output_type": "stream",
          "name": "stdout",
          "text": [
            "F MedianF_Alpha\n"
          ]
        }
      ]
    },
    {
      "cell_type": "markdown",
      "metadata": {
        "id": "C5cjRXb1wNA1"
      },
      "source": [
        "#Channel SPlit"
      ]
    },
    {
      "cell_type": "code",
      "metadata": {
        "id": "_iG7LgOK6vvg"
      },
      "source": [
        "\n",
        "def chnl_split(data,chanel):\n",
        "  dict={\n",
        "      \"F4\":[1,26],\n",
        "      \"C2\":[26,51],\n",
        "      \"O2\":[51,76]\n",
        "  }\n",
        "\n",
        "  refi=[]\n",
        "  fields=[data[0][0]]\n",
        "  for i in range(dict[chanel][0],dict[chanel][1]):\n",
        "    fields.append(data[0][i])\n",
        "\n",
        "  for i in range(1,len(data)):\n",
        "    t=[data[i][0]]\n",
        "    for j in range(dict[chanel][0],dict[chanel][1]):\n",
        "      t.append(data[i][j])\n",
        "    refi.append(t)\n",
        "\n",
        "  write_csv(fields,refi,chanel)"
      ],
      "execution_count": 102,
      "outputs": []
    },
    {
      "cell_type": "code",
      "metadata": {
        "colab": {
          "base_uri": "https://localhost:8080/"
        },
        "id": "5eVMxlioxD2Z",
        "outputId": "35ae788e-51a1-4cf8-a1f2-dd755ce874a6"
      },
      "source": [
        "len(refi)"
      ],
      "execution_count": 101,
      "outputs": [
        {
          "output_type": "execute_result",
          "data": {
            "text/plain": [
              "43191"
            ]
          },
          "metadata": {},
          "execution_count": 101
        }
      ]
    },
    {
      "cell_type": "code",
      "metadata": {
        "id": "u_NK0SV6YWiF"
      },
      "source": [
        "chnl_split(data,\"F4\")"
      ],
      "execution_count": 100,
      "outputs": []
    },
    {
      "cell_type": "markdown",
      "metadata": {
        "id": "pHK2jbi-wdOV"
      },
      "source": [
        "#All Channel Split"
      ]
    },
    {
      "cell_type": "code",
      "metadata": {
        "id": "hZ1-l9rmv-hY"
      },
      "source": [
        "def all_chnl_split():\n",
        "  chnl_split(data,\"F4\")\n",
        "  chnl_split(data,\"C2\")\n",
        "  chnl_split(data,\"O2\")"
      ],
      "execution_count": 104,
      "outputs": []
    },
    {
      "cell_type": "code",
      "metadata": {
        "id": "92ptGWEeyxlt"
      },
      "source": [
        "all_chnl_split()"
      ],
      "execution_count": 105,
      "outputs": []
    }
  ]
}