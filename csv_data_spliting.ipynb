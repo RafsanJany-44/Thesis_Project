{
  "nbformat": 4,
  "nbformat_minor": 0,
  "metadata": {
    "colab": {
      "name": "csv_data_spliting.ipynb",
      "provenance": [],
      "authorship_tag": "ABX9TyNqSHR+K6OAIIq+fu9V2gmh",
      "include_colab_link": true
    },
    "kernelspec": {
      "name": "python3",
      "display_name": "Python 3"
    },
    "language_info": {
      "name": "python"
    }
  },
  "cells": [
    {
      "cell_type": "markdown",
      "metadata": {
        "id": "view-in-github",
        "colab_type": "text"
      },
      "source": [
        "<a href=\"https://colab.research.google.com/github/RafsanJany-44/Thesis_Project/blob/main/csv_data_spliting.ipynb\" target=\"_parent\"><img src=\"https://colab.research.google.com/assets/colab-badge.svg\" alt=\"Open In Colab\"/></a>"
      ]
    },
    {
      "cell_type": "markdown",
      "metadata": {
        "id": "H-Vb_7ao8HtV"
      },
      "source": [
        "#combining Two CSV"
      ]
    },
    {
      "cell_type": "code",
      "metadata": {
        "id": "hbTuJbbs5N9x"
      },
      "source": [
        "file1 = open(\"/content/EEG_HMC_part1.csv\", \"a\")\n",
        "file2 = open(\"/content/EEG_HMC_part2.csv\", \"r\")\n",
        "\n",
        "for line in file2:\n",
        "   file1.write(line)\n",
        "\n",
        "file1.close()\n",
        "file2.close()"
      ],
      "execution_count": null,
      "outputs": []
    },
    {
      "cell_type": "code",
      "metadata": {
        "id": "SVHdXZGzWe1O"
      },
      "source": [
        ""
      ],
      "execution_count": null,
      "outputs": []
    },
    {
      "cell_type": "markdown",
      "metadata": {
        "id": "VGIsUwI2XiAE"
      },
      "source": [
        "#Writing XLXS TO CSV"
      ]
    },
    {
      "cell_type": "code",
      "metadata": {
        "id": "JYEf7TqYxzsb"
      },
      "source": [
        "import pandas as pd\n",
        "  \n",
        "\n",
        "read_file = pd.read_excel (\"/content/EEG_HMC_FeatureExtraction_part1.xlsx\")\n",
        "\n",
        "\n",
        "read_file.to_csv (\"EEG_HMC_part1.csv\", \n",
        "                  index = None,\n",
        "                  header=True)\n",
        "    \n"
      ],
      "execution_count": null,
      "outputs": []
    },
    {
      "cell_type": "code",
      "metadata": {
        "colab": {
          "base_uri": "https://localhost:8080/"
        },
        "id": "eXY4vKwvYCyY",
        "outputId": "91833742-eb6d-4c47-c94d-bf6df047a500"
      },
      "source": [
        "\n",
        "df = pd.DataFrame(pd.read_csv(\"EEG_HMC_part2.csv\"))\n",
        "df.shape"
      ],
      "execution_count": null,
      "outputs": [
        {
          "output_type": "execute_result",
          "data": {
            "text/plain": [
              "(43717, 78)"
            ]
          },
          "metadata": {},
          "execution_count": 11
        }
      ]
    },
    {
      "cell_type": "markdown",
      "metadata": {
        "id": "iZ_voqjgwPVP"
      },
      "source": [
        "#Reading CSV"
      ]
    },
    {
      "cell_type": "code",
      "metadata": {
        "id": "DEUwPbUSPJsM"
      },
      "source": [
        "\n",
        "def read_csv(file_name):\n",
        "  import csv \n",
        "      \n",
        "  # opening the CSV file \n",
        "  with open(file_name, mode ='r')as file: \n",
        "    csvFile = csv.reader(file) \n",
        "    fIrst_line=[]\n",
        "    data=[]\n",
        "    for lines in csvFile:\n",
        "        data.append(lines)\n",
        "    return data\n",
        "\n",
        "\n",
        "\n",
        "\n"
      ],
      "execution_count": 9,
      "outputs": []
    },
    {
      "cell_type": "markdown",
      "metadata": {
        "id": "2cfV9nfVwShn"
      },
      "source": [
        "#Wrriting CSV"
      ]
    },
    {
      "cell_type": "code",
      "metadata": {
        "id": "3LRTXX0UVges"
      },
      "source": [
        "\n",
        "def write_csv(fields,data,name):\n",
        "  import csv  \n",
        "  filename = name+\".csv\"\n",
        "  with open(filename, 'w') as csvfile:  \n",
        "      csvwriter = csv.writer(csvfile) \n",
        "      csvwriter.writerow(fields) \n",
        "      csvwriter.writerows(data)"
      ],
      "execution_count": 10,
      "outputs": []
    },
    {
      "cell_type": "markdown",
      "metadata": {
        "id": "C5cjRXb1wNA1"
      },
      "source": [
        "#Channel SPlit"
      ]
    },
    {
      "cell_type": "code",
      "metadata": {
        "id": "_iG7LgOK6vvg"
      },
      "source": [
        "\n",
        "def chnl_split(data,chanel):\n",
        "  dict={\n",
        "      \"F4\":[1,26],\n",
        "      \"C2\":[26,51],\n",
        "      \"O2\":[51,76]\n",
        "  }\n",
        "\n",
        "  refi=[]\n",
        "  fields=[data[0][0]]\n",
        "  for i in range(dict[chanel][0],dict[chanel][1]):\n",
        "    fields.append(data[0][i])\n",
        "\n",
        "  for i in range(1,len(data)):\n",
        "    t=[data[i][0]]\n",
        "    for j in range(dict[chanel][0],dict[chanel][1]):\n",
        "      t.append(data[i][j])\n",
        "    refi.append(t)\n",
        "\n",
        "  write_csv(fields,refi,chanel)"
      ],
      "execution_count": null,
      "outputs": []
    },
    {
      "cell_type": "markdown",
      "metadata": {
        "id": "pHK2jbi-wdOV"
      },
      "source": [
        "#All Channel Split"
      ]
    },
    {
      "cell_type": "code",
      "metadata": {
        "id": "hZ1-l9rmv-hY"
      },
      "source": [
        "def all_chnl_split():\n",
        "  chnl_split(data,\"F4\")\n",
        "  chnl_split(data,\"C2\")\n",
        "  chnl_split(data,\"O2\")"
      ],
      "execution_count": null,
      "outputs": []
    },
    {
      "cell_type": "code",
      "metadata": {
        "id": "92ptGWEeyxlt"
      },
      "source": [
        "all_chnl_split()"
      ],
      "execution_count": null,
      "outputs": []
    },
    {
      "cell_type": "markdown",
      "metadata": {
        "id": "ZNy2JnLSFh13"
      },
      "source": [
        "#NEW DATA CLASSIFICATION"
      ]
    },
    {
      "cell_type": "markdown",
      "metadata": {
        "id": "fO5RgxrH-78d"
      },
      "source": [
        "#SLEEP VS WEAK (S VS W)"
      ]
    },
    {
      "cell_type": "code",
      "metadata": {
        "id": "d21OwfDfFqnz"
      },
      "source": [
        "data=read_csv(\"/content/EEG_HMC.csv\")"
      ],
      "execution_count": null,
      "outputs": []
    },
    {
      "cell_type": "code",
      "metadata": {
        "id": "xBo-G2z-Iop5"
      },
      "source": [
        "new_data=[]\n",
        "count=0\n",
        "for i in data:\n",
        "  if (count !=0):\n",
        "    if i[0]!=\"W\":\n",
        "      t=i\n",
        "      t[0]=\"S\"\n",
        "      new_data.append(t)\n",
        "    else:\n",
        "      new_data.append(i)\n",
        "  count=1\n",
        "len(new_data)\n",
        "write_csv(data[0],new_data,\"S_W\")"
      ],
      "execution_count": null,
      "outputs": []
    },
    {
      "cell_type": "code",
      "metadata": {
        "id": "e-LKWzgUJeHj"
      },
      "source": [
        ""
      ],
      "execution_count": null,
      "outputs": []
    },
    {
      "cell_type": "markdown",
      "metadata": {
        "id": "bk5z387P-yLl"
      },
      "source": [
        "#REM and NREM"
      ]
    },
    {
      "cell_type": "code",
      "metadata": {
        "id": "PJoLCU8eAFXO"
      },
      "source": [
        "data=read_csv(\"/content/EEG_HMC.csv\")"
      ],
      "execution_count": null,
      "outputs": []
    },
    {
      "cell_type": "code",
      "metadata": {
        "id": "9Hd0EfVJnLGb"
      },
      "source": [
        "new_data=[]\n",
        "count=0\n",
        "for i in data:\n",
        "  if (count !=0):\n",
        "    if i[0]==\"N1\" or i[0]==\"N2\" or i[0]==\"N3\":\n",
        "      t=i\n",
        "      t[0]=\"NREM\"\n",
        "      new_data.append(t)\n",
        "    elif i[0]==\"R\":\n",
        "      t=i\n",
        "      t[0]=\"REM\"\n",
        "      new_data.append(t)\n",
        "  count=1\n",
        "write_csv(data[0],new_data,\"REM_NREM\")"
      ],
      "execution_count": null,
      "outputs": []
    },
    {
      "cell_type": "code",
      "metadata": {
        "colab": {
          "base_uri": "https://localhost:8080/"
        },
        "id": "bM-NPDB4_WZg",
        "outputId": "a37fd54a-316b-415b-f502-9688042422df"
      },
      "source": [
        "print(len(new_data))"
      ],
      "execution_count": null,
      "outputs": [
        {
          "output_type": "stream",
          "name": "stdout",
          "text": [
            "89561\n"
          ]
        }
      ]
    },
    {
      "cell_type": "markdown",
      "metadata": {
        "id": "Pz77j1SiI1xb"
      },
      "source": [
        "#N1 N2 N3"
      ]
    },
    {
      "cell_type": "code",
      "source": [
        "data=read_csv(\"/content/EEG_HMC.csv\")"
      ],
      "metadata": {
        "id": "2YkT8OsZ1-Td"
      },
      "execution_count": null,
      "outputs": []
    },
    {
      "cell_type": "code",
      "metadata": {
        "id": "sAolHw3LJZ-o"
      },
      "source": [
        "new_data=[]\n",
        "count=0\n",
        "for i in data:\n",
        "  if (count !=0):\n",
        "    if i[0]==\"N1\":\n",
        "      new_data.append(i)\n",
        "    elif i[0]==\"N2\":\n",
        "      new_data.append(i)\n",
        "    elif i[0]==\"N3\":\n",
        "      new_data.append(i)\n",
        "  count=1\n",
        "write_csv(data[0],new_data,\"N1_N2_N3\")"
      ],
      "execution_count": null,
      "outputs": []
    },
    {
      "cell_type": "markdown",
      "source": [
        "#--------------------------------"
      ],
      "metadata": {
        "id": "LN6zQLOExyhy"
      }
    },
    {
      "cell_type": "markdown",
      "source": [
        "#Testing"
      ],
      "metadata": {
        "id": "chvskw1vv9Tb"
      }
    },
    {
      "cell_type": "code",
      "source": [
        "import pandas as pd\n",
        "\n",
        "df = pd.read_excel (r'/content/EEG_HMC_FeatureExtraction_part1.xlsx') #place \"r\" before the path string to address special character, such as '\\'. Don't forget to put the file name at the end of the path + '.xlsx'\n",
        "df2=pd.read_excel (r'/content/EEG_HMC_FeatureExtraction_part2.xlsx') #place \"r\" before the path string to address special character, such as '\\'. Don't forget to put the file name at the end of the path + '.xlsx'\n"
      ],
      "metadata": {
        "id": "iLsgtH5tVaud"
      },
      "execution_count": null,
      "outputs": []
    },
    {
      "cell_type": "code",
      "source": [
        "print(list(df.iloc[0:0,:76]))"
      ],
      "metadata": {
        "colab": {
          "base_uri": "https://localhost:8080/"
        },
        "id": "aG9z__KX2ZUl",
        "outputId": "9bd101f8-518c-45c8-dd46-2e9d60861b14"
      },
      "execution_count": null,
      "outputs": [
        {
          "output_type": "stream",
          "name": "stdout",
          "text": [
            "['Sleep Stage', 'MeanP_Alpha_F4', 'MedianF_Alpha_F4', 'MeanF_Alpha_F4', 'Spectral Edge_Alpha_F4', 'PeakF_Alpha_F4', 'MeanP_Beta_F4', 'MedianF_Beta_F4', 'MeanF_Beta_F4', 'Spectral Edge_Beta_F4', 'PeakF_Beta_F4', 'MeanP_Theta_F4', 'MedianF_Theta_F4', 'MeanF_Theta_F4', 'Spectral Edge_Theta_F4', 'PeakF_Theta_F4', 'MeanP_Delta_F4', 'MedianF_Delta_F4', 'MeanF_Delta_F4', 'Spectral Edge_Delta_F4', 'PeakF_Delta_F4', 'MeanP_Gamma_F4', 'MedianF_Gamma_F4', 'MeanF_Gamma_F4', 'Spectral Edge_Gamma_F4', 'PeakF_Gamma_F4', 'MeanP_Alpha_C4', 'MedianF_Alpha_C4', 'MeanF_Alpha_C4', 'Spectral Edge_Alpha_C4', 'PeakF_Alpha_C4', 'MeanP_Beta_C4', 'MedianF_Beta_C4', 'MeanF_Beta_C4', 'Spectral Edge_Beta_C4', 'PeakF_Beta_C4', 'MeanP_Theta_C4', 'MedianF_Theta_C4', 'MeanF_Theta_C4', 'Spectral Edge_Theta_C4', 'PeakF_Theta_C4', 'MeanP_Delta_C4', 'MedianF_Delta_C4', 'MeanF_Delta_C4', 'Spectral Edge_Delta_C4', 'PeakF_Delta_C4', 'MeanP_Gamma_C4', 'MedianF_Gamma_C4', 'MeanF_Gamma_C4', 'Spectral Edge_Gamma_C4', 'PeakF_Gamma_C4', 'MeanP_Alpha_O2', 'MedianF_Alpha_O2', 'MeanF_Alpha_O2', 'Spectral Edge_Alpha_O2', 'PeakF_Alpha_O2', 'MeanP_Beta_O2', 'MedianF_Beta_O2', 'MeanF_Beta_O2', 'Spectral Edge_Beta_O2', 'PeakF_Beta_O2', 'MeanP_Theta_O2', 'MedianF_Theta_O2', 'MeanF_Theta_O2', 'Spectral Edge_Theta_O2', 'PeakF_Theta_O2', 'MeanP_Delta_O2', 'MedianF_Delta_O2', 'MeanF_Delta_O2', 'Spectral Edge_Delta_O2', 'PeakF_Delta_O2', 'MeanP_Gamma_O2', 'MedianF_Gamma_O2', 'MeanF_Gamma_O2', 'Spectral Edge_Gamma_O2', 'PeakF_Gamma_O2']\n"
          ]
        }
      ]
    },
    {
      "cell_type": "code",
      "source": [
        "df.shape\n"
      ],
      "metadata": {
        "colab": {
          "base_uri": "https://localhost:8080/"
        },
        "id": "jM1lX7g_ypvi",
        "outputId": "d8dee2b4-4f28-4e83-adf8-0966d4bd9655"
      },
      "execution_count": null,
      "outputs": [
        {
          "output_type": "execute_result",
          "data": {
            "text/plain": [
              "(65204, 76)"
            ]
          },
          "metadata": {},
          "execution_count": 60
        }
      ]
    },
    {
      "cell_type": "code",
      "source": [
        "df2.shape"
      ],
      "metadata": {
        "id": "nzCuHRlDJRv_",
        "outputId": "dbdf3caa-0af7-49f0-db89-a3f4e7adf3e2",
        "colab": {
          "base_uri": "https://localhost:8080/"
        }
      },
      "execution_count": null,
      "outputs": [
        {
          "output_type": "execute_result",
          "data": {
            "text/plain": [
              "(43801, 76)"
            ]
          },
          "metadata": {},
          "execution_count": 61
        }
      ]
    },
    {
      "cell_type": "code",
      "source": [
        "l=[]\n",
        "heading=list(df.iloc[0:0,:76])\n",
        "\n",
        "print(df.loc[65203].at[\"Sleep Stage\"])\n",
        "print(heading[])"
      ],
      "metadata": {
        "colab": {
          "base_uri": "https://localhost:8080/"
        },
        "id": "Scg7C2r-y59m",
        "outputId": "fa677114-ba98-4955-f798-c0955ea998e9"
      },
      "execution_count": null,
      "outputs": [
        {
          "output_type": "stream",
          "name": "stdout",
          "text": [
            "W\n",
            "PeakF_Beta_F4\n"
          ]
        }
      ]
    },
    {
      "cell_type": "code",
      "source": [
        "write_csv(heading,new,\"rafid\")"
      ],
      "metadata": {
        "id": "W-v0mtASE9Yh"
      },
      "execution_count": null,
      "outputs": []
    },
    {
      "cell_type": "code",
      "source": [
        "for i in range():\n",
        "  "
      ],
      "metadata": {
        "id": "BQd26biJAAVV"
      },
      "execution_count": null,
      "outputs": []
    },
    {
      "cell_type": "code",
      "source": [
        "for i in new:\n",
        "  for j in i:\n",
        "    if j==\"\":\n",
        "      print(new.index[i],i.index(j))"
      ],
      "metadata": {
        "id": "gPvI8ELDQ_nA"
      },
      "execution_count": null,
      "outputs": []
    },
    {
      "cell_type": "code",
      "source": [
        "data=read_csv(\"/content/EEG_HMC_part1.csv\")"
      ],
      "metadata": {
        "id": "2cFtkqdVFltB"
      },
      "execution_count": null,
      "outputs": []
    },
    {
      "cell_type": "code",
      "source": [
        "corupted=[]\n",
        "for i in data:\n",
        "  for j in i:\n",
        "    if j==\"MeanP_Alpha_F4\":\n",
        "      corupted.append([data.index(i),i.index(j)])"
      ],
      "metadata": {
        "id": "83QPTy_GF4Do"
      },
      "execution_count": null,
      "outputs": []
    },
    {
      "cell_type": "code",
      "source": [
        "print(corupted)"
      ],
      "metadata": {
        "colab": {
          "base_uri": "https://localhost:8080/"
        },
        "id": "xsAsW8JDF8DW",
        "outputId": "8937ed3d-46ac-40e0-c665-9d7bd9704177"
      },
      "execution_count": null,
      "outputs": [
        {
          "output_type": "stream",
          "name": "stdout",
          "text": [
            "[[0, 3], [0, 3]]\n"
          ]
        }
      ]
    },
    {
      "cell_type": "code",
      "source": [
        ""
      ],
      "metadata": {
        "id": "rlnZd9ODZspy"
      },
      "execution_count": null,
      "outputs": []
    },
    {
      "cell_type": "markdown",
      "source": [
        "_______________________________"
      ],
      "metadata": {
        "id": "LDXru1Ubv_Xh"
      }
    },
    {
      "cell_type": "markdown",
      "source": [
        "#Spliting By Features"
      ],
      "metadata": {
        "id": "rFxWofZuxCyU"
      }
    },
    {
      "cell_type": "code",
      "source": [
        "data=read_csv(\"/content/N1_N2_N3.csv\")"
      ],
      "metadata": {
        "id": "QnTEmOikxL2I"
      },
      "execution_count": 39,
      "outputs": []
    },
    {
      "cell_type": "code",
      "source": [
        "\n",
        "def split_fet(given_features,name):\n",
        "  fields=[data[0][0]]\n",
        "  for i in given_features:\n",
        "    fields.append(i)\n",
        "\n",
        "  final=[]\n",
        "  \n",
        "  for i in range(1,len(data)):\n",
        "    temp=[data[i][0]]\n",
        "    for feature in given_features:\n",
        "      temp.append(data[i][data[0].index(feature)])\n",
        "    final.append(temp)\n",
        "\n",
        "  write_csv(fields,final,name)"
      ],
      "metadata": {
        "id": "_Y6c3fDYM5Th"
      },
      "execution_count": 40,
      "outputs": []
    },
    {
      "cell_type": "code",
      "source": [
        "\n",
        "\n",
        "fet=['MedianF_Beta_F4','Spectral Edge_Beta_F4','Spectral Edge_Beta_C4','MedianF_Beta_C4','PeakF_Beta_F4','PeakF_Beta_C4','MeanF_Beta_F4','MeanF_Beta_C4','MedianF_Beta_O2','Spectral Edge_Alpha_F4']\n",
        "print(len(fet))\n",
        "\n",
        "\n"
      ],
      "metadata": {
        "id": "G0AV2dYy_GUx",
        "outputId": "f6745c7f-191f-4f0a-c572-b4c82d254a68",
        "colab": {
          "base_uri": "https://localhost:8080/"
        }
      },
      "execution_count": 41,
      "outputs": [
        {
          "output_type": "stream",
          "name": "stdout",
          "text": [
            "10\n"
          ]
        }
      ]
    },
    {
      "cell_type": "code",
      "source": [
        "split_fet(fet,\"N1_N2_N3_10f\")"
      ],
      "metadata": {
        "id": "3QJyR9uH_5SC"
      },
      "execution_count": 42,
      "outputs": []
    },
    {
      "cell_type": "code",
      "source": [
        ""
      ],
      "metadata": {
        "id": "FDIcT03y_92R"
      },
      "execution_count": null,
      "outputs": []
    }
  ]
}