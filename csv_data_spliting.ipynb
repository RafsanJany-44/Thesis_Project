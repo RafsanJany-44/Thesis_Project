{
  "nbformat": 4,
  "nbformat_minor": 0,
  "metadata": {
    "colab": {
      "name": "csv_data_spliting.ipynb",
      "provenance": [],
      "authorship_tag": "ABX9TyOBTgbrUt5om8iLdBEXb8Pw",
      "include_colab_link": true
    },
    "kernelspec": {
      "name": "python3",
      "display_name": "Python 3"
    },
    "language_info": {
      "name": "python"
    }
  },
  "cells": [
    {
      "cell_type": "markdown",
      "metadata": {
        "id": "view-in-github",
        "colab_type": "text"
      },
      "source": [
        "<a href=\"https://colab.research.google.com/github/RafsanJany-44/Thesis_Project/blob/main/csv_data_spliting.ipynb\" target=\"_parent\"><img src=\"https://colab.research.google.com/assets/colab-badge.svg\" alt=\"Open In Colab\"/></a>"
      ]
    },
    {
      "cell_type": "markdown",
      "metadata": {
        "id": "H-Vb_7ao8HtV"
      },
      "source": [
        "#combining Two CSV"
      ]
    },
    {
      "cell_type": "code",
      "metadata": {
        "id": "hbTuJbbs5N9x"
      },
      "source": [
        "file1 = open(\"/content/EEG_HMC_part1.csv\", \"a\")\n",
        "file2 = open(\"/content/EEG_HMC_part2.csv\", \"r\")\n",
        "\n",
        "for line in file2:\n",
        "   file1.write(line)\n",
        "\n",
        "file1.close()\n",
        "file2.close()"
      ],
      "execution_count": 5,
      "outputs": []
    },
    {
      "cell_type": "code",
      "metadata": {
        "id": "SVHdXZGzWe1O"
      },
      "source": [
        ""
      ],
      "execution_count": null,
      "outputs": []
    },
    {
      "cell_type": "markdown",
      "metadata": {
        "id": "VGIsUwI2XiAE"
      },
      "source": [
        "#Writing XLXS TO CSV"
      ]
    },
    {
      "cell_type": "code",
      "metadata": {
        "id": "JYEf7TqYxzsb"
      },
      "source": [
        "import pandas as pd\n",
        "  \n",
        "\n",
        "read_file = pd.read_excel (\"/content/EEG_HMC_FeatureExtraction_part2.xlsx\")\n",
        "\n",
        "\n",
        "read_file.to_csv (\"EEG_HMC_part2.csv\", \n",
        "                  index = None,\n",
        "                  header=True)\n",
        "    \n"
      ],
      "execution_count": 3,
      "outputs": []
    },
    {
      "cell_type": "code",
      "metadata": {
        "colab": {
          "base_uri": "https://localhost:8080/"
        },
        "id": "eXY4vKwvYCyY",
        "outputId": "78e7d407-bb90-4d63-e6a3-6ad1f3743ad7"
      },
      "source": [
        "\n",
        "df = pd.DataFrame(pd.read_csv(\"EEG_HMC_part1.csv\"))\n",
        "df.shape"
      ],
      "execution_count": 7,
      "outputs": [
        {
          "output_type": "stream",
          "name": "stderr",
          "text": [
            "/usr/local/lib/python3.7/dist-packages/IPython/core/interactiveshell.py:2718: DtypeWarning: Columns (1,2,3,4,5,6,7,8,9,10,11,12,13,14,15,16,17,18,19,20,21,22,23,24,25,26,27,28,29,30,31,32,33,34,35,36,37,38,39,40,41,42,43,44,45,46,47,48,49,50,51,52,53,54,55,56,57,58,59,60,61,62,63,64,65,66,67,68,69,70,71,72,73,74,75) have mixed types.Specify dtype option on import or set low_memory=False.\n",
            "  interactivity=interactivity, compiler=compiler, result=result)\n"
          ]
        },
        {
          "output_type": "execute_result",
          "data": {
            "text/plain": [
              "(109006, 76)"
            ]
          },
          "metadata": {},
          "execution_count": 7
        }
      ]
    },
    {
      "cell_type": "markdown",
      "metadata": {
        "id": "iZ_voqjgwPVP"
      },
      "source": [
        "#Reading CSV"
      ]
    },
    {
      "cell_type": "code",
      "metadata": {
        "id": "DEUwPbUSPJsM"
      },
      "source": [
        "\n",
        "def read_csv(file_name):\n",
        "  import csv \n",
        "      \n",
        "  # opening the CSV file \n",
        "  with open(file_name, mode ='r')as file: \n",
        "    csvFile = csv.reader(file) \n",
        "    fIrst_line=[]\n",
        "    data=[]\n",
        "    for lines in csvFile:\n",
        "        data.append(lines)\n",
        "    return data\n",
        "\n",
        "\n",
        "\n",
        "\n"
      ],
      "execution_count": 9,
      "outputs": []
    },
    {
      "cell_type": "markdown",
      "metadata": {
        "id": "2cfV9nfVwShn"
      },
      "source": [
        "#Wrriting CSV"
      ]
    },
    {
      "cell_type": "code",
      "metadata": {
        "id": "3LRTXX0UVges"
      },
      "source": [
        "\n",
        "def write_csv(fields,data,name):\n",
        "  import csv  \n",
        "  filename = name+\".csv\"\n",
        "  with open(filename, 'w') as csvfile:  \n",
        "      csvwriter = csv.writer(csvfile) \n",
        "      csvwriter.writerow(fields) \n",
        "      csvwriter.writerows(data)"
      ],
      "execution_count": 10,
      "outputs": []
    },
    {
      "cell_type": "markdown",
      "metadata": {
        "id": "C5cjRXb1wNA1"
      },
      "source": [
        "#Channel SPlit"
      ]
    },
    {
      "cell_type": "code",
      "metadata": {
        "id": "_iG7LgOK6vvg"
      },
      "source": [
        "\n",
        "def chnl_split(data,chanel):\n",
        "  dict={\n",
        "      \"F4\":[1,26],\n",
        "      \"C2\":[26,51],\n",
        "      \"O2\":[51,76]\n",
        "  }\n",
        "\n",
        "  refi=[]\n",
        "  fields=[data[0][0]]\n",
        "  for i in range(dict[chanel][0],dict[chanel][1]):\n",
        "    fields.append(data[0][i])\n",
        "\n",
        "  for i in range(1,len(data)):\n",
        "    t=[data[i][0]]\n",
        "    for j in range(dict[chanel][0],dict[chanel][1]):\n",
        "      t.append(data[i][j])\n",
        "    refi.append(t)\n",
        "\n",
        "  write_csv(fields,refi,chanel)"
      ],
      "execution_count": 15,
      "outputs": []
    },
    {
      "cell_type": "markdown",
      "metadata": {
        "id": "pHK2jbi-wdOV"
      },
      "source": [
        "#All Channel Split"
      ]
    },
    {
      "cell_type": "code",
      "metadata": {
        "id": "hZ1-l9rmv-hY"
      },
      "source": [
        "def all_chnl_split():\n",
        "  chnl_split(data,\"F4\")\n",
        "  chnl_split(data,\"C2\")\n",
        "  chnl_split(data,\"O2\")"
      ],
      "execution_count": 17,
      "outputs": []
    },
    {
      "cell_type": "code",
      "metadata": {
        "id": "92ptGWEeyxlt"
      },
      "source": [
        "all_chnl_split()"
      ],
      "execution_count": null,
      "outputs": []
    },
    {
      "cell_type": "markdown",
      "metadata": {
        "id": "ZNy2JnLSFh13"
      },
      "source": [
        "#NEW DATA CLASSIFICATION"
      ]
    },
    {
      "cell_type": "markdown",
      "metadata": {
        "id": "fO5RgxrH-78d"
      },
      "source": [
        "#SLEEP VS WEAK (S VS W)"
      ]
    },
    {
      "cell_type": "code",
      "metadata": {
        "id": "d21OwfDfFqnz"
      },
      "source": [
        "data=read_csv(\"/content/EEG_HMC_part1.csv\")"
      ],
      "execution_count": null,
      "outputs": []
    },
    {
      "cell_type": "code",
      "metadata": {
        "id": "xBo-G2z-Iop5"
      },
      "source": [
        "new_data=[]\n",
        "count=0\n",
        "for i in data:\n",
        "  if (count !=0):\n",
        "    if i[0]!=\"W\":\n",
        "      t=i\n",
        "      t[0]=\"S\"\n",
        "      new_data.append(t)\n",
        "    else:\n",
        "      new_data.append(i)\n",
        "  count=1\n",
        "len(new_data)\n",
        "write_csv(data[0],new_data,\"S_W\")"
      ],
      "execution_count": 12,
      "outputs": []
    },
    {
      "cell_type": "code",
      "metadata": {
        "id": "e-LKWzgUJeHj"
      },
      "source": [
        ""
      ],
      "execution_count": 14,
      "outputs": []
    },
    {
      "cell_type": "markdown",
      "metadata": {
        "id": "bk5z387P-yLl"
      },
      "source": [
        "#REM and NREM"
      ]
    },
    {
      "cell_type": "code",
      "metadata": {
        "id": "PJoLCU8eAFXO"
      },
      "source": [
        "data=read_csv(\"/content/EEG_HMC_part1.csv\")"
      ],
      "execution_count": 17,
      "outputs": []
    },
    {
      "cell_type": "code",
      "metadata": {
        "id": "9Hd0EfVJnLGb"
      },
      "source": [
        "new_data=[]\n",
        "count=0\n",
        "for i in data:\n",
        "  if (count !=0):\n",
        "    if i[0]==\"N1\" or i[0]==\"N2\" or i[0]==\"N3\":\n",
        "      t=i\n",
        "      t[0]=\"NREM\"\n",
        "      new_data.append(t)\n",
        "    elif i[0]==\"R\":\n",
        "      t=i\n",
        "      t[0]=\"REM\"\n",
        "      new_data.append(t)\n",
        "  count=1\n",
        "write_csv(data[0],new_data,\"REM_NREM\")"
      ],
      "execution_count": 18,
      "outputs": []
    },
    {
      "cell_type": "code",
      "metadata": {
        "colab": {
          "base_uri": "https://localhost:8080/"
        },
        "id": "bM-NPDB4_WZg",
        "outputId": "a37fd54a-316b-415b-f502-9688042422df"
      },
      "source": [
        "print(len(new_data))"
      ],
      "execution_count": 19,
      "outputs": [
        {
          "output_type": "stream",
          "name": "stdout",
          "text": [
            "89561\n"
          ]
        }
      ]
    },
    {
      "cell_type": "markdown",
      "metadata": {
        "id": "Pz77j1SiI1xb"
      },
      "source": [
        "#N1 N2 N3"
      ]
    },
    {
      "cell_type": "code",
      "metadata": {
        "id": "KNQm6HA-_Ypk"
      },
      "source": [
        "data=read_csv(\"/content/EEG_HMC_part1.csv\")"
      ],
      "execution_count": 20,
      "outputs": []
    },
    {
      "cell_type": "code",
      "metadata": {
        "id": "sAolHw3LJZ-o"
      },
      "source": [
        "new_data=[]\n",
        "count=0\n",
        "for i in data:\n",
        "  if (count !=0):\n",
        "    if i[0]==\"N1\":\n",
        "      new_data.append(i)\n",
        "    elif i[0]==\"N2\":\n",
        "      new_data.append(i)\n",
        "    elif i[0]==\"N3\":\n",
        "      new_data.append(i)\n",
        "  count=1\n",
        "write_csv(data[0],new_data,\"N1_N2_N3\")"
      ],
      "execution_count": 21,
      "outputs": []
    },
    {
      "cell_type": "code",
      "metadata": {
        "id": "vJ63T5OUKnmI"
      },
      "source": [
        ""
      ],
      "execution_count": null,
      "outputs": []
    },
    {
      "cell_type": "code",
      "metadata": {
        "id": "tkG0cilXJ64a",
        "outputId": "74ef0495-3342-449c-9c5a-dd3d9f4586ae",
        "colab": {
          "base_uri": "https://localhost:8080/"
        }
      },
      "source": [
        "print(len(new_data))"
      ],
      "execution_count": 22,
      "outputs": [
        {
          "output_type": "stream",
          "name": "stdout",
          "text": [
            "73005\n"
          ]
        }
      ]
    }
  ]
}