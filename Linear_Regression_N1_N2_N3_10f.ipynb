{
  "nbformat": 4,
  "nbformat_minor": 0,
  "metadata": {
    "colab": {
      "name": "Linear_Regression.ipynb",
      "provenance": [],
      "authorship_tag": "ABX9TyOSb9tUUXjdSPonG98IaZI8",
      "include_colab_link": true
    },
    "kernelspec": {
      "name": "python3",
      "display_name": "Python 3"
    },
    "language_info": {
      "name": "python"
    }
  },
  "cells": [
    {
      "cell_type": "markdown",
      "metadata": {
        "id": "view-in-github",
        "colab_type": "text"
      },
      "source": [
        "<a href=\"https://colab.research.google.com/github/RafsanJany-44/Thesis_Project/blob/main/Linear_Regression_N1_N2_N3_10f.ipynb\" target=\"_parent\"><img src=\"https://colab.research.google.com/assets/colab-badge.svg\" alt=\"Open In Colab\"/></a>"
      ]
    },
    {
      "cell_type": "code",
      "execution_count": 41,
      "metadata": {
        "id": "kgTBQIr7DOlc"
      },
      "outputs": [],
      "source": [
        "import numpy as np\n",
        "import pandas as pd\n",
        "import matplotlib.pyplot as plt\n"
      ]
    },
    {
      "cell_type": "code",
      "source": [
        "ds2=pd.read_csv(\"/content/N1_N2_N3_10f.csv\")\n",
        "print(ds2)"
      ],
      "metadata": {
        "colab": {
          "base_uri": "https://localhost:8080/"
        },
        "id": "wOs_Fc06DpPJ",
        "outputId": "a38b7010-42c0-4ec8-b244-15dcad834a2d"
      },
      "execution_count": 42,
      "outputs": [
        {
          "output_type": "stream",
          "name": "stdout",
          "text": [
            "      Sleep_Stage  MedianF_Beta_F4  ...  MedianF_Beta_O2  Spectral Edge_Alpha_F4\n",
            "0              N1         17.73268  ...         18.23220                17.48293\n",
            "1              N1         16.85854  ...         18.10732                17.10829\n",
            "2              N1         17.35805  ...         17.23317                16.98341\n",
            "3              N2         15.48488  ...         17.73268                15.85951\n",
            "4              N2         15.11024  ...         15.98439                15.48488\n",
            "...           ...              ...  ...              ...                     ...\n",
            "72626          N2         21.35415  ...         21.35415                19.35610\n",
            "72627          N1         19.85561  ...         19.85561                17.60780\n",
            "72628          N1         16.73366  ...         16.73366                16.85854\n",
            "72629          N1         15.73463  ...         15.73463                15.85951\n",
            "72630          N1         14.48585  ...         14.48585                14.98537\n",
            "\n",
            "[72631 rows x 11 columns]\n"
          ]
        }
      ]
    },
    {
      "cell_type": "code",
      "source": [
        "x=ds2.iloc[:,:-1].values\n",
        "y=ds2.iloc[:,1:].values"
      ],
      "metadata": {
        "id": "M4wYiYBZDpKj"
      },
      "execution_count": 43,
      "outputs": []
    },
    {
      "cell_type": "code",
      "source": [
        "print(x[:,0])"
      ],
      "metadata": {
        "colab": {
          "base_uri": "https://localhost:8080/"
        },
        "id": "YR4OIou1F2vp",
        "outputId": "0b5eaf76-575e-4ac7-b8fc-8734ca19adf5"
      },
      "execution_count": 44,
      "outputs": [
        {
          "output_type": "stream",
          "name": "stdout",
          "text": [
            "['N1' 'N1' 'N1' ... 'N1' 'N1' 'N1']\n"
          ]
        }
      ]
    },
    {
      "cell_type": "code",
      "source": [
        "from sklearn.preprocessing import LabelEncoder\n",
        "labelencoder_X=LabelEncoder()\n",
        "x[:,0]=labelencoder_X.fit_transform(x[:,0])"
      ],
      "metadata": {
        "id": "-1ClIEwdDpEC"
      },
      "execution_count": 45,
      "outputs": []
    },
    {
      "cell_type": "code",
      "source": [
        "print(x)"
      ],
      "metadata": {
        "colab": {
          "base_uri": "https://localhost:8080/"
        },
        "id": "2hHuezVxGVNM",
        "outputId": "ee8219bb-4259-402d-841a-16728deaae9a"
      },
      "execution_count": 46,
      "outputs": [
        {
          "output_type": "stream",
          "name": "stdout",
          "text": [
            "[[0 17.73268 27.47317 ... 25.35024 25.84976 18.2322]\n",
            " [0 16.858539999999998 26.97366 ... 25.22537 25.84976 18.10732]\n",
            " [0 17.35805 28.4722 ... 26.099510000000002 26.34927 17.23317]\n",
            " ...\n",
            " [0 16.73366 26.97366 ... 24.97561 25.10049 16.73366]\n",
            " [0 15.73463 26.47415 ... 24.85073 24.85073 15.73463]\n",
            " [0 14.48585 24.10146 ... 22.7278 22.85268 14.48585]]\n"
          ]
        }
      ]
    },
    {
      "cell_type": "code",
      "source": [
        "from sklearn.model_selection import train_test_split\n",
        "x_train,x_test,y_train,y_test=train_test_split(x,y,test_size=0.3,random_state=0)"
      ],
      "metadata": {
        "id": "cWix8LpMDpCS"
      },
      "execution_count": 47,
      "outputs": []
    },
    {
      "cell_type": "code",
      "source": [
        "from sklearn.linear_model import LinearRegression\n",
        "regressor=LinearRegression()\n",
        "regressor.fit(x_train,y_train)"
      ],
      "metadata": {
        "colab": {
          "base_uri": "https://localhost:8080/"
        },
        "id": "yPcjw62ZDo8s",
        "outputId": "d96be8c8-9174-4b1d-d982-68e76e603302"
      },
      "execution_count": 48,
      "outputs": [
        {
          "output_type": "execute_result",
          "data": {
            "text/plain": [
              "LinearRegression()"
            ]
          },
          "metadata": {},
          "execution_count": 48
        }
      ]
    },
    {
      "cell_type": "code",
      "source": [
        "y_pred=regressor.predict(x_test)"
      ],
      "metadata": {
        "id": "-snUqtYyDo48"
      },
      "execution_count": 49,
      "outputs": []
    },
    {
      "cell_type": "code",
      "source": [
        "print(y_pred)\n",
        "print(y_test)"
      ],
      "metadata": {
        "colab": {
          "base_uri": "https://localhost:8080/"
        },
        "id": "l8jOzOuYDoj7",
        "outputId": "4294f34c-4de5-4eee-e282-61c35355a8a1"
      },
      "execution_count": 50,
      "outputs": [
        {
          "output_type": "stream",
          "name": "stdout",
          "text": [
            "[[11.11415    22.10341    21.47902    ... 21.22927    11.61366\n",
            "  12.94593308]\n",
            " [16.60878    30.47024    28.59707    ... 25.97463    16.23415\n",
            "  15.0412629 ]\n",
            " [15.48488    26.22439    25.72488    ... 24.22634    15.48488\n",
            "  14.47743799]\n",
            " ...\n",
            " [13.48683    24.22634    23.10244    ... 22.35317    13.48683\n",
            "  13.04234101]\n",
            " [13.73659    26.47415    22.22829    ... 21.35415    15.11024\n",
            "  15.33333362]\n",
            " [18.60683    49.95122    49.95122    ... 49.82634    18.35707\n",
            "  11.207701  ]]\n",
            "[[11.11415 22.10341 21.47902 ... 21.22927 11.61366 11.86341]\n",
            " [16.60878 30.47024 28.59707 ... 25.97463 16.23415 15.48488]\n",
            " [15.48488 26.22439 25.72488 ... 24.22634 15.48488 14.73561]\n",
            " ...\n",
            " [13.48683 24.22634 23.10244 ... 22.35317 13.48683 13.23707]\n",
            " [13.73659 26.47415 22.22829 ... 21.35415 15.11024 13.98634]\n",
            " [18.60683 49.95122 49.95122 ... 49.82634 18.35707 14.61073]]\n"
          ]
        }
      ]
    },
    {
      "cell_type": "code",
      "source": [
        ""
      ],
      "metadata": {
        "id": "T2pexcL8Dogi"
      },
      "execution_count": 50,
      "outputs": []
    },
    {
      "cell_type": "code",
      "source": [
        "plt.scatter(y_pred,y_test)\n",
        "plt.title(\"Predict Vs Actual\")\n",
        "plt.xlabel(\"Actual\")\n",
        "plt.ylabel(\"Predict\")\n",
        "plt.show()"
      ],
      "metadata": {
        "colab": {
          "base_uri": "https://localhost:8080/",
          "height": 294
        },
        "id": "LoyvnvGhDoWs",
        "outputId": "4f06852a-1363-4e84-a641-7a87c9b29738"
      },
      "execution_count": 51,
      "outputs": [
        {
          "output_type": "display_data",
          "data": {
            "image/png": "[encoded data removed]",
            "text/plain": [
              "<Figure size 432x288 with 1 Axes>"
            ]
          },
          "metadata": {
            "needs_background": "light"
          }
        }
      ]
    },
    {
      "cell_type": "code",
      "source": [
        "from sklearn.metrics import r2_score\n",
        "score=r2_score(y_test,y_pred)\n",
        "print('r2 socre is' ,score)"
      ],
      "metadata": {
        "colab": {
          "base_uri": "https://localhost:8080/"
        },
        "id": "yOjoFWHLDoQ0",
        "outputId": "21ec6632-a699-4172-e86e-7afb31f50a5f"
      },
      "execution_count": 52,
      "outputs": [
        {
          "output_type": "stream",
          "name": "stdout",
          "text": [
            "r2 socre is 0.9100374811147738\n"
          ]
        }
      ]
    },
    {
      "cell_type": "code",
      "source": [
        ""
      ],
      "metadata": {
        "id": "FptCjC1PDoOt"
      },
      "execution_count": 52,
      "outputs": []
    },
    {
      "cell_type": "code",
      "source": [
        ""
      ],
      "metadata": {
        "id": "HIzLp145DoIE"
      },
      "execution_count": 52,
      "outputs": []
    },
    {
      "cell_type": "code",
      "source": [
        ""
      ],
      "metadata": {
        "id": "H20NB1uIDoFW"
      },
      "execution_count": 52,
      "outputs": []
    },
    {
      "cell_type": "code",
      "source": [
        ""
      ],
      "metadata": {
        "id": "u5q7wZApDoBv"
      },
      "execution_count": 52,
      "outputs": []
    },
    {
      "cell_type": "code",
      "source": [
        ""
      ],
      "metadata": {
        "id": "vGHuQj7PDn2R"
      },
      "execution_count": 52,
      "outputs": []
    },
    {
      "cell_type": "code",
      "source": [
        ""
      ],
      "metadata": {
        "id": "7be7xEGSDnqn"
      },
      "execution_count": 52,
      "outputs": []
    }
  ]
}